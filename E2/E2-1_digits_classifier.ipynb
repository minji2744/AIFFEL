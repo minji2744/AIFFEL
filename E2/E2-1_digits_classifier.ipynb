{
 "cells": [
  {
   "cell_type": "markdown",
   "id": "higher-princess",
   "metadata": {},
   "source": [
    "# E2-1. 손글씨 분류하기\n",
    "- AIFFEL 두번째 exploration 중 1번째 프로젝트.\n",
    "- scikitlearn의 toy datasets 중 손글씨 데이터셋을 분류해보기.\n",
    "- scikitlearn API에서 5가지 모델(decision tree, random forest, SVM, SGD Classifier, Logistic Regression)을 활용함."
   ]
  },
  {
   "cell_type": "markdown",
   "id": "accredited-envelope",
   "metadata": {},
   "source": [
    "## 1. 모델 훈련 전 데이터 준비하기"
   ]
  },
  {
   "cell_type": "code",
   "execution_count": 27,
   "id": "scientific-grounds",
   "metadata": {},
   "outputs": [],
   "source": [
    "# 모듈 import\n",
    "import sklearn\n",
    "from sklearn.datasets import load_digits\n",
    "from sklearn.model_selection import train_test_split\n",
    "from sklearn.metrics import classification_report\n",
    "import matplotlib.pyplot as plt\n",
    "from sklearn.tree import DecisionTreeClassifier\n",
    "from sklearn.ensemble import RandomForestClassifier\n",
    "from sklearn import svm\n",
    "from sklearn.linear_model import SGDClassifier\n",
    "from sklearn.linear_model import LogisticRegression\n",
    "from sklearn.metrics import confusion_matrix"
   ]
  },
  {
   "cell_type": "code",
   "execution_count": 28,
   "id": "corrected-cable",
   "metadata": {},
   "outputs": [
    {
     "data": {
      "text/plain": [
       "dict_keys(['data', 'target', 'frame', 'feature_names', 'target_names', 'images', 'DESCR'])"
      ]
     },
     "execution_count": 28,
     "metadata": {},
     "output_type": "execute_result"
    }
   ],
   "source": [
    "# digits 데이터 가져오기\n",
    "digits = load_digits()\n",
    "digits.keys()"
   ]
  },
  {
   "cell_type": "code",
   "execution_count": 29,
   "id": "apparent-distance",
   "metadata": {},
   "outputs": [
    {
     "name": "stdout",
     "output_type": "stream",
     "text": [
      "[0 1 2 3 4 5 6 7 8 9]\n"
     ]
    }
   ],
   "source": [
    "# X는 feature data, y는 label data\n",
    "X = digits.data\n",
    "y = digits.target\n",
    "\n",
    "# Target Names 출력\n",
    "print(digits.target_names)"
   ]
  },
  {
   "cell_type": "code",
   "execution_count": 30,
   "id": "speaking-shaft",
   "metadata": {
    "scrolled": true
   },
   "outputs": [
    {
     "name": "stdout",
     "output_type": "stream",
     "text": [
      "(1797, 64)\n",
      "(1797,)\n"
     ]
    }
   ],
   "source": [
    "# 데이터 describe (feature 데이터 X 와 label 데이터 y의 shape 알아보기)\n",
    "print(X.shape)\n",
    "print(y.shape)"
   ]
  },
  {
   "cell_type": "code",
   "execution_count": 31,
   "id": "closing-pointer",
   "metadata": {},
   "outputs": [
    {
     "name": "stdout",
     "output_type": "stream",
     "text": [
      ".. _digits_dataset:\n",
      "\n",
      "Optical recognition of handwritten digits dataset\n",
      "--------------------------------------------------\n",
      "\n",
      "**Data Set Characteristics:**\n",
      "\n",
      "    :Number of Instances: 5620\n",
      "    :Number of Attributes: 64\n",
      "    :Attribute Information: 8x8 image of integer pixels in the range 0..16.\n",
      "    :Missing Attribute Values: None\n",
      "    :Creator: E. Alpaydin (alpaydin '@' boun.edu.tr)\n",
      "    :Date: July; 1998\n",
      "\n",
      "This is a copy of the test set of the UCI ML hand-written digits datasets\n",
      "https://archive.ics.uci.edu/ml/datasets/Optical+Recognition+of+Handwritten+Digits\n",
      "\n",
      "The data set contains images of hand-written digits: 10 classes where\n",
      "each class refers to a digit.\n",
      "\n",
      "Preprocessing programs made available by NIST were used to extract\n",
      "normalized bitmaps of handwritten digits from a preprinted form. From a\n",
      "total of 43 people, 30 contributed to the training set and different 13\n",
      "to the test set. 32x32 bitmaps are divided into nonoverlapping blocks of\n",
      "4x4 and the number of on pixels are counted in each block. This generates\n",
      "an input matrix of 8x8 where each element is an integer in the range\n",
      "0..16. This reduces dimensionality and gives invariance to small\n",
      "distortions.\n",
      "\n",
      "For info on NIST preprocessing routines, see M. D. Garris, J. L. Blue, G.\n",
      "T. Candela, D. L. Dimmick, J. Geist, P. J. Grother, S. A. Janet, and C.\n",
      "L. Wilson, NIST Form-Based Handprint Recognition System, NISTIR 5469,\n",
      "1994.\n",
      "\n",
      ".. topic:: References\n",
      "\n",
      "  - C. Kaynak (1995) Methods of Combining Multiple Classifiers and Their\n",
      "    Applications to Handwritten Digit Recognition, MSc Thesis, Institute of\n",
      "    Graduate Studies in Science and Engineering, Bogazici University.\n",
      "  - E. Alpaydin, C. Kaynak (1998) Cascading Classifiers, Kybernetika.\n",
      "  - Ken Tang and Ponnuthurai N. Suganthan and Xi Yao and A. Kai Qin.\n",
      "    Linear dimensionalityreduction using relevance weighted LDA. School of\n",
      "    Electrical and Electronic Engineering Nanyang Technological University.\n",
      "    2005.\n",
      "  - Claudio Gentile. A New Approximate Maximal Margin Classification\n",
      "    Algorithm. NIPS. 2000.\n"
     ]
    }
   ],
   "source": [
    "print(digits.DESCR) # digits datasets에 대한 설명 프린트"
   ]
  },
  {
   "cell_type": "code",
   "execution_count": 32,
   "id": "iraqi-gospel",
   "metadata": {
    "scrolled": true
   },
   "outputs": [
    {
     "name": "stdout",
     "output_type": "stream",
     "text": [
      "라벨은  0 입니다.\n"
     ]
    },
    {
     "data": {
      "image/png": "[encoded data removed]",
      "text/plain": [
       "<Figure size 432x288 with 1 Axes>"
      ]
     },
     "metadata": {
      "needs_background": "light"
     },
     "output_type": "display_data"
    }
   ],
   "source": [
    "# feature 데이터와 label 데이터의 0번째 인덱스 확인\n",
    "plt.imshow(X[0].reshape(8, 8), cmap = 'gray')\n",
    "print(\"라벨은 \", y[0], \"입니다.\")\n",
    "plt.show()"
   ]
  },
  {
   "cell_type": "code",
   "execution_count": 33,
   "id": "further-seattle",
   "metadata": {},
   "outputs": [],
   "source": [
    "# train, test 데이터 분리\n",
    "X_train, X_test, y_train, y_test = train_test_split(X, y, test_size = 0.2, random_state = 21)"
   ]
  },
  {
   "cell_type": "markdown",
   "id": "social-authentication",
   "metadata": {},
   "source": [
    "## 2. scikit-learn 머신러닝 모델 학습, 예측, 평가\n",
    "- 각 모델의 분류 결과에 대해 평가할 때, precision, recall, f1-score과 accuracy를 살펴볼 수 있다.\n",
    "- 이 중 손글씨 분류기는 precision과 recall의 조화평균인 f1-score과 accuracy가 높은 모델일수록 좋다고 생각한다.  \n",
    "  왜냐하면, precision = TP / (TP + FP), recall = TP / (TP + FN) 인데, 손글씨 분류기에서는 맞는 걸 아니라고 하든 틀린걸 맞다고 하든 둘다 똑같이 잘못판단한 것이므로 두개 다 반영해야 한다. 덧붙이면, positive 혹은 negative 중 어떤걸 더 정확하게 맞춰야하는지가 문제되지 않기 때문에 f1-score 혹은 accuracy 두 지표로 모델을 평가해야 한다."
   ]
  },
  {
   "cell_type": "markdown",
   "id": "theoretical-register",
   "metadata": {},
   "source": [
    "### 1) Decision Tree Model"
   ]
  },
  {
   "cell_type": "code",
   "execution_count": 34,
   "id": "solid-chase",
   "metadata": {},
   "outputs": [
    {
     "name": "stdout",
     "output_type": "stream",
     "text": [
      "              precision    recall  f1-score   support\n",
      "\n",
      "           0       0.91      0.94      0.92        32\n",
      "           1       0.93      0.72      0.81        36\n",
      "           2       0.96      0.73      0.83        30\n",
      "           3       0.74      0.83      0.78        41\n",
      "           4       0.80      0.88      0.84        32\n",
      "           5       0.90      0.93      0.91        46\n",
      "           6       0.93      0.88      0.90        32\n",
      "           7       0.90      0.93      0.91        40\n",
      "           8       0.77      0.81      0.79        42\n",
      "           9       0.69      0.76      0.72        29\n",
      "\n",
      "    accuracy                           0.84       360\n",
      "   macro avg       0.85      0.84      0.84       360\n",
      "weighted avg       0.85      0.84      0.84       360\n",
      "\n",
      "[[30  0  0  1  1  0  0  0  0  0]\n",
      " [ 0 26  0  1  2  2  0  0  3  2]\n",
      " [ 0  1 22  3  1  1  0  1  1  0]\n",
      " [ 0  0  0 34  0  1  0  1  3  2]\n",
      " [ 0  0  0  1 28  0  1  1  0  1]\n",
      " [ 2  0  0  0  0 43  0  0  1  0]\n",
      " [ 0  0  0  1  1  1 28  0  1  0]\n",
      " [ 0  0  0  2  0  0  0 37  0  1]\n",
      " [ 0  1  1  1  0  0  0  1 34  4]\n",
      " [ 1  0  0  2  2  0  1  0  1 22]]\n"
     ]
    }
   ],
   "source": [
    "# Decision Tree 모델로 학습\n",
    "decision_tree = DecisionTreeClassifier(random_state=32)\n",
    "decision_tree.fit(X_train, y_train)\n",
    "y_pred=decision_tree.predict(X_test)\n",
    "\n",
    "print(classification_report(y_test, y_pred))\n",
    "print(confusion_matrix(y_test, y_pred))"
   ]
  },
  {
   "cell_type": "markdown",
   "id": "binary-alignment",
   "metadata": {},
   "source": [
    "### 2) Random Forest Model"
   ]
  },
  {
   "cell_type": "code",
   "execution_count": 35,
   "id": "bound-wages",
   "metadata": {},
   "outputs": [
    {
     "name": "stdout",
     "output_type": "stream",
     "text": [
      "              precision    recall  f1-score   support\n",
      "\n",
      "           0       0.97      0.94      0.95        32\n",
      "           1       0.97      1.00      0.99        36\n",
      "           2       1.00      1.00      1.00        30\n",
      "           3       0.98      0.98      0.98        41\n",
      "           4       0.94      0.97      0.95        32\n",
      "           5       1.00      0.98      0.99        46\n",
      "           6       1.00      0.97      0.98        32\n",
      "           7       0.98      1.00      0.99        40\n",
      "           8       0.93      0.98      0.95        42\n",
      "           9       1.00      0.93      0.96        29\n",
      "\n",
      "    accuracy                           0.97       360\n",
      "   macro avg       0.98      0.97      0.97       360\n",
      "weighted avg       0.98      0.97      0.98       360\n",
      "\n",
      "[[30  0  0  0  2  0  0  0  0  0]\n",
      " [ 0 36  0  0  0  0  0  0  0  0]\n",
      " [ 0  0 30  0  0  0  0  0  0  0]\n",
      " [ 0  0  0 40  0  0  0  0  1  0]\n",
      " [ 0  0  0  0 31  0  0  1  0  0]\n",
      " [ 0  0  0  0  0 45  0  0  1  0]\n",
      " [ 1  0  0  0  0  0 31  0  0  0]\n",
      " [ 0  0  0  0  0  0  0 40  0  0]\n",
      " [ 0  1  0  0  0  0  0  0 41  0]\n",
      " [ 0  0  0  1  0  0  0  0  1 27]]\n"
     ]
    }
   ],
   "source": [
    "# Random Forest 모델로 학습\n",
    "random_forest = RandomForestClassifier(random_state=32)\n",
    "random_forest.fit(X_train, y_train)\n",
    "y_pred=random_forest.predict(X_test)\n",
    "\n",
    "print(classification_report(y_test, y_pred))\n",
    "print(confusion_matrix(y_test, y_pred))"
   ]
  },
  {
   "cell_type": "markdown",
   "id": "ambient-learning",
   "metadata": {},
   "source": [
    "### 3) SVM (Support Vector Machine)"
   ]
  },
  {
   "cell_type": "code",
   "execution_count": 36,
   "id": "chief-pregnancy",
   "metadata": {},
   "outputs": [
    {
     "name": "stdout",
     "output_type": "stream",
     "text": [
      "              precision    recall  f1-score   support\n",
      "\n",
      "           0       1.00      0.97      0.98        32\n",
      "           1       0.95      1.00      0.97        36\n",
      "           2       1.00      1.00      1.00        30\n",
      "           3       1.00      1.00      1.00        41\n",
      "           4       0.97      1.00      0.98        32\n",
      "           5       0.98      1.00      0.99        46\n",
      "           6       1.00      1.00      1.00        32\n",
      "           7       1.00      1.00      1.00        40\n",
      "           8       0.98      0.95      0.96        42\n",
      "           9       1.00      0.93      0.96        29\n",
      "\n",
      "    accuracy                           0.99       360\n",
      "   macro avg       0.99      0.99      0.99       360\n",
      "weighted avg       0.99      0.99      0.99       360\n",
      "\n",
      "[[31  0  0  0  1  0  0  0  0  0]\n",
      " [ 0 36  0  0  0  0  0  0  0  0]\n",
      " [ 0  0 30  0  0  0  0  0  0  0]\n",
      " [ 0  0  0 41  0  0  0  0  0  0]\n",
      " [ 0  0  0  0 32  0  0  0  0  0]\n",
      " [ 0  0  0  0  0 46  0  0  0  0]\n",
      " [ 0  0  0  0  0  0 32  0  0  0]\n",
      " [ 0  0  0  0  0  0  0 40  0  0]\n",
      " [ 0  2  0  0  0  0  0  0 40  0]\n",
      " [ 0  0  0  0  0  1  0  0  1 27]]\n"
     ]
    }
   ],
   "source": [
    "# SVM 모델로 학습\n",
    "svm_model = svm.SVC()\n",
    "svm_model.fit(X_train, y_train)\n",
    "y_pred=svm_model.predict(X_test)\n",
    "\n",
    "print(classification_report(y_test, y_pred))\n",
    "print(confusion_matrix(y_test, y_pred))"
   ]
  },
  {
   "cell_type": "markdown",
   "id": "little-animal",
   "metadata": {},
   "source": [
    "### 4) SGD Classifier (Stochastic Gradient Descent Classifier)"
   ]
  },
  {
   "cell_type": "code",
   "execution_count": 37,
   "id": "heard-windows",
   "metadata": {},
   "outputs": [
    {
     "name": "stdout",
     "output_type": "stream",
     "text": [
      "              precision    recall  f1-score   support\n",
      "\n",
      "           0       1.00      1.00      1.00        32\n",
      "           1       0.90      1.00      0.95        36\n",
      "           2       0.97      1.00      0.98        30\n",
      "           3       1.00      0.95      0.97        41\n",
      "           4       1.00      1.00      1.00        32\n",
      "           5       0.95      0.91      0.93        46\n",
      "           6       1.00      1.00      1.00        32\n",
      "           7       1.00      0.97      0.99        40\n",
      "           8       0.95      0.95      0.95        42\n",
      "           9       0.93      0.93      0.93        29\n",
      "\n",
      "    accuracy                           0.97       360\n",
      "   macro avg       0.97      0.97      0.97       360\n",
      "weighted avg       0.97      0.97      0.97       360\n",
      "\n",
      "[[32  0  0  0  0  0  0  0  0  0]\n",
      " [ 0 36  0  0  0  0  0  0  0  0]\n",
      " [ 0  0 30  0  0  0  0  0  0  0]\n",
      " [ 0  0  0 39  0  1  0  0  1  0]\n",
      " [ 0  0  0  0 32  0  0  0  0  0]\n",
      " [ 0  2  1  0  0 42  0  0  0  1]\n",
      " [ 0  0  0  0  0  0 32  0  0  0]\n",
      " [ 0  0  0  0  0  0  0 39  0  1]\n",
      " [ 0  2  0  0  0  0  0  0 40  0]\n",
      " [ 0  0  0  0  0  1  0  0  1 27]]\n"
     ]
    }
   ],
   "source": [
    "# SGD Classifier 모델로 학습\n",
    "sgd_model = SGDClassifier()\n",
    "sgd_model.fit(X_train, y_train)\n",
    "y_pred=sgd_model.predict(X_test)\n",
    "\n",
    "print(classification_report(y_test, y_pred))\n",
    "print(confusion_matrix(y_test, y_pred))"
   ]
  },
  {
   "cell_type": "markdown",
   "id": "smoking-morocco",
   "metadata": {},
   "source": [
    "### 5) Logistic Regression"
   ]
  },
  {
   "cell_type": "code",
   "execution_count": 40,
   "id": "isolated-soldier",
   "metadata": {},
   "outputs": [
    {
     "name": "stdout",
     "output_type": "stream",
     "text": [
      "              precision    recall  f1-score   support\n",
      "\n",
      "           0       1.00      1.00      1.00        32\n",
      "           1       0.92      0.97      0.95        36\n",
      "           2       0.97      1.00      0.98        30\n",
      "           3       0.95      1.00      0.98        41\n",
      "           4       0.97      0.97      0.97        32\n",
      "           5       0.98      0.98      0.98        46\n",
      "           6       1.00      1.00      1.00        32\n",
      "           7       0.97      0.97      0.97        40\n",
      "           8       1.00      0.90      0.95        42\n",
      "           9       0.96      0.93      0.95        29\n",
      "\n",
      "    accuracy                           0.97       360\n",
      "   macro avg       0.97      0.97      0.97       360\n",
      "weighted avg       0.97      0.97      0.97       360\n",
      "\n",
      "[[32  0  0  0  0  0  0  0  0  0]\n",
      " [ 0 35  0  1  0  0  0  0  0  0]\n",
      " [ 0  0 30  0  0  0  0  0  0  0]\n",
      " [ 0  0  0 41  0  0  0  0  0  0]\n",
      " [ 0  0  0  0 31  0  0  1  0  0]\n",
      " [ 0  0  0  1  0 45  0  0  0  0]\n",
      " [ 0  0  0  0  0  0 32  0  0  0]\n",
      " [ 0  0  0  0  0  0  0 39  0  1]\n",
      " [ 0  2  1  0  1  0  0  0 38  0]\n",
      " [ 0  1  0  0  0  1  0  0  0 27]]\n"
     ]
    }
   ],
   "source": [
    "# Logistic Regression 모델로 학습\n",
    "logistic_model = LogisticRegression(solver='newton-cg')\n",
    "logistic_model.fit(X_train, y_train)\n",
    "y_pred=logistic_model.predict(X_test)\n",
    "\n",
    "print(classification_report(y_test, y_pred))\n",
    "print(confusion_matrix(y_test, y_pred))"
   ]
  },
  {
   "cell_type": "markdown",
   "id": "fifth-programming",
   "metadata": {},
   "source": [
    "## 3. 회고\n",
    "- 5가지 모델로 숫자 손글씨를 학습하고, 테스트해본 결과는 다음과 같다.\n",
    "- f1-score 및 accuracy 가 높은 순으로 순위를 매기면,  \n",
    "  SVM (f1-score: 99%, accuracy: 99%),  \n",
    "  Logistic Regression (f1-score: 97%, accuracy: 97%),  \n",
    "  SGD Classifier (f1-score: 97%, accuracy: 97%),  \n",
    "  Random Forest Classifier (f1-score: 97%, accuracy: 97%),  \n",
    "  Decision Tree Classifier (f1-score: 84%, accuracy: 84%)\n",
    "- SVM 모델이 숫자 손글씨를 가장 잘 분류하는 것으로 보인다."
   ]
  },
  {
   "cell_type": "code",
   "execution_count": null,
   "id": "rational-thousand",
   "metadata": {},
   "outputs": [],
   "source": []
  }
 ],
 "metadata": {
  "kernelspec": {
   "display_name": "Python 3",
   "language": "python",
   "name": "python3"
  },
  "language_info": {
   "codemirror_mode": {
    "name": "ipython",
    "version": 3
   },
   "file_extension": ".py",
   "mimetype": "text/x-python",
   "name": "python",
   "nbconvert_exporter": "python",
   "pygments_lexer": "ipython3",
   "version": "3.7.9"
  }
 },
 "nbformat": 4,
 "nbformat_minor": 5
}
