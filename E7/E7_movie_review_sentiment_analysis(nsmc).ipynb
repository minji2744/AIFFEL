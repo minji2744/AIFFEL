{
  "nbformat": 4,
  "nbformat_minor": 0,
  "metadata": {
    "kernelspec": {
      "display_name": "Python 3",
      "language": "python",
      "name": "python3"
    },
    "language_info": {
      "codemirror_mode": {
        "name": "ipython",
        "version": 3
      },
      "file_extension": ".py",
      "mimetype": "text/x-python",
      "name": "python",
      "nbconvert_exporter": "python",
      "pygments_lexer": "ipython3",
      "version": "3.7.6-final"
    },
    "colab": {
      "name": "E7_movie_review_sentiment_analysis(nsmc).ipynb",
      "provenance": []
    },
    "accelerator": "GPU",
    "widgets": {
      "application/vnd.jupyter.widget-state+json": {
        "9003d4a373b54771b836b8c0ea2fe22d": {
          "model_module": "@jupyter-widgets/controls",
          "model_name": "HBoxModel",
          "model_module_version": "1.5.0",
          "state": {
            "_view_name": "HBoxView",
            "_dom_classes": [],
            "_model_name": "HBoxModel",
            "_view_module": "@jupyter-widgets/controls",
            "_model_module_version": "1.5.0",
            "_view_count": null,
            "_view_module_version": "1.5.0",
            "box_style": "",
            "layout": "IPY_MODEL_a3fc38e67a9547bd8482b03d525cb40c",
            "_model_module": "@jupyter-widgets/controls",
            "children": [
              "IPY_MODEL_ef30dfef932a4ab5b5169b881490239b",
              "IPY_MODEL_7ed9ab59681848bf8aee6c2512972dbe"
            ]
          }
        },
        "a3fc38e67a9547bd8482b03d525cb40c": {
          "model_module": "@jupyter-widgets/base",
          "model_name": "LayoutModel",
          "model_module_version": "1.2.0",
          "state": {
            "_view_name": "LayoutView",
            "grid_template_rows": null,
            "right": null,
            "justify_content": null,
            "_view_module": "@jupyter-widgets/base",
            "overflow": null,
            "_model_module_version": "1.2.0",
            "_view_count": null,
            "flex_flow": null,
            "width": null,
            "min_width": null,
            "border": null,
            "align_items": null,
            "bottom": null,
            "_model_module": "@jupyter-widgets/base",
            "top": null,
            "grid_column": null,
            "overflow_y": null,
            "overflow_x": null,
            "grid_auto_flow": null,
            "grid_area": null,
            "grid_template_columns": null,
            "flex": null,
            "_model_name": "LayoutModel",
            "justify_items": null,
            "grid_row": null,
            "max_height": null,
            "align_content": null,
            "visibility": null,
            "align_self": null,
            "height": null,
            "min_height": null,
            "padding": null,
            "grid_auto_rows": null,
            "grid_gap": null,
            "max_width": null,
            "order": null,
            "_view_module_version": "1.2.0",
            "grid_template_areas": null,
            "object_position": null,
            "object_fit": null,
            "grid_auto_columns": null,
            "margin": null,
            "display": null,
            "left": null
          }
        },
        "ef30dfef932a4ab5b5169b881490239b": {
          "model_module": "@jupyter-widgets/controls",
          "model_name": "FloatProgressModel",
          "model_module_version": "1.5.0",
          "state": {
            "_view_name": "ProgressView",
            "style": "IPY_MODEL_1429387a1b70445182ea82827bd27295",
            "_dom_classes": [],
            "description": "100%",
            "_model_name": "FloatProgressModel",
            "bar_style": "success",
            "max": 2344,
            "_view_module": "@jupyter-widgets/controls",
            "_model_module_version": "1.5.0",
            "value": 2344,
            "_view_count": null,
            "_view_module_version": "1.5.0",
            "orientation": "horizontal",
            "min": 0,
            "description_tooltip": null,
            "_model_module": "@jupyter-widgets/controls",
            "layout": "IPY_MODEL_989d045f6e5a49deb3e1a6b8b0fa8f01"
          }
        },
        "7ed9ab59681848bf8aee6c2512972dbe": {
          "model_module": "@jupyter-widgets/controls",
          "model_name": "HTMLModel",
          "model_module_version": "1.5.0",
          "state": {
            "_view_name": "HTMLView",
            "style": "IPY_MODEL_c9c44ef3d6ed4f4a998903e7678601ed",
            "_dom_classes": [],
            "description": "",
            "_model_name": "HTMLModel",
            "placeholder": "​",
            "_view_module": "@jupyter-widgets/controls",
            "_model_module_version": "1.5.0",
            "value": " 2344/2344 [1:52:17&lt;00:00,  2.87s/it]",
            "_view_count": null,
            "_view_module_version": "1.5.0",
            "description_tooltip": null,
            "_model_module": "@jupyter-widgets/controls",
            "layout": "IPY_MODEL_367b8c1138714af48232057a6eee5187"
          }
        },
        "1429387a1b70445182ea82827bd27295": {
          "model_module": "@jupyter-widgets/controls",
          "model_name": "ProgressStyleModel",
          "model_module_version": "1.5.0",
          "state": {
            "_view_name": "StyleView",
            "_model_name": "ProgressStyleModel",
            "description_width": "initial",
            "_view_module": "@jupyter-widgets/base",
            "_model_module_version": "1.5.0",
            "_view_count": null,
            "_view_module_version": "1.2.0",
            "bar_color": null,
            "_model_module": "@jupyter-widgets/controls"
          }
        },
        "989d045f6e5a49deb3e1a6b8b0fa8f01": {
          "model_module": "@jupyter-widgets/base",
          "model_name": "LayoutModel",
          "model_module_version": "1.2.0",
          "state": {
            "_view_name": "LayoutView",
            "grid_template_rows": null,
            "right": null,
            "justify_content": null,
            "_view_module": "@jupyter-widgets/base",
            "overflow": null,
            "_model_module_version": "1.2.0",
            "_view_count": null,
            "flex_flow": null,
            "width": null,
            "min_width": null,
            "border": null,
            "align_items": null,
            "bottom": null,
            "_model_module": "@jupyter-widgets/base",
            "top": null,
            "grid_column": null,
            "overflow_y": null,
            "overflow_x": null,
            "grid_auto_flow": null,
            "grid_area": null,
            "grid_template_columns": null,
            "flex": null,
            "_model_name": "LayoutModel",
            "justify_items": null,
            "grid_row": null,
            "max_height": null,
            "align_content": null,
            "visibility": null,
            "align_self": null,
            "height": null,
            "min_height": null,
            "padding": null,
            "grid_auto_rows": null,
            "grid_gap": null,
            "max_width": null,
            "order": null,
            "_view_module_version": "1.2.0",
            "grid_template_areas": null,
            "object_position": null,
            "object_fit": null,
            "grid_auto_columns": null,
            "margin": null,
            "display": null,
            "left": null
          }
        },
        "c9c44ef3d6ed4f4a998903e7678601ed": {
          "model_module": "@jupyter-widgets/controls",
          "model_name": "DescriptionStyleModel",
          "model_module_version": "1.5.0",
          "state": {
            "_view_name": "StyleView",
            "_model_name": "DescriptionStyleModel",
            "description_width": "",
            "_view_module": "@jupyter-widgets/base",
            "_model_module_version": "1.5.0",
            "_view_count": null,
            "_view_module_version": "1.2.0",
            "_model_module": "@jupyter-widgets/controls"
          }
        },
        "367b8c1138714af48232057a6eee5187": {
          "model_module": "@jupyter-widgets/base",
          "model_name": "LayoutModel",
          "model_module_version": "1.2.0",
          "state": {
            "_view_name": "LayoutView",
            "grid_template_rows": null,
            "right": null,
            "justify_content": null,
            "_view_module": "@jupyter-widgets/base",
            "overflow": null,
            "_model_module_version": "1.2.0",
            "_view_count": null,
            "flex_flow": null,
            "width": null,
            "min_width": null,
            "border": null,
            "align_items": null,
            "bottom": null,
            "_model_module": "@jupyter-widgets/base",
            "top": null,
            "grid_column": null,
            "overflow_y": null,
            "overflow_x": null,
            "grid_auto_flow": null,
            "grid_area": null,
            "grid_template_columns": null,
            "flex": null,
            "_model_name": "LayoutModel",
            "justify_items": null,
            "grid_row": null,
            "max_height": null,
            "align_content": null,
            "visibility": null,
            "align_self": null,
            "height": null,
            "min_height": null,
            "padding": null,
            "grid_auto_rows": null,
            "grid_gap": null,
            "max_width": null,
            "order": null,
            "_view_module_version": "1.2.0",
            "grid_template_areas": null,
            "object_position": null,
            "object_fit": null,
            "grid_auto_columns": null,
            "margin": null,
            "display": null,
            "left": null
          }
        },
        "4bd0dcfab0c2484a82396aec3e61c9dc": {
          "model_module": "@jupyter-widgets/controls",
          "model_name": "HBoxModel",
          "model_module_version": "1.5.0",
          "state": {
            "_view_name": "HBoxView",
            "_dom_classes": [],
            "_model_name": "HBoxModel",
            "_view_module": "@jupyter-widgets/controls",
            "_model_module_version": "1.5.0",
            "_view_count": null,
            "_view_module_version": "1.5.0",
            "box_style": "",
            "layout": "IPY_MODEL_7212086f9810473ba7750a26b97c22ed",
            "_model_module": "@jupyter-widgets/controls",
            "children": [
              "IPY_MODEL_30023be0a0de4bc7b5b7bb74df9b9c21",
              "IPY_MODEL_34a45d9f24ba481b988b5387ddf39a17"
            ]
          }
        },
        "7212086f9810473ba7750a26b97c22ed": {
          "model_module": "@jupyter-widgets/base",
          "model_name": "LayoutModel",
          "model_module_version": "1.2.0",
          "state": {
            "_view_name": "LayoutView",
            "grid_template_rows": null,
            "right": null,
            "justify_content": null,
            "_view_module": "@jupyter-widgets/base",
            "overflow": null,
            "_model_module_version": "1.2.0",
            "_view_count": null,
            "flex_flow": null,
            "width": null,
            "min_width": null,
            "border": null,
            "align_items": null,
            "bottom": null,
            "_model_module": "@jupyter-widgets/base",
            "top": null,
            "grid_column": null,
            "overflow_y": null,
            "overflow_x": null,
            "grid_auto_flow": null,
            "grid_area": null,
            "grid_template_columns": null,
            "flex": null,
            "_model_name": "LayoutModel",
            "justify_items": null,
            "grid_row": null,
            "max_height": null,
            "align_content": null,
            "visibility": null,
            "align_self": null,
            "height": null,
            "min_height": null,
            "padding": null,
            "grid_auto_rows": null,
            "grid_gap": null,
            "max_width": null,
            "order": null,
            "_view_module_version": "1.2.0",
            "grid_template_areas": null,
            "object_position": null,
            "object_fit": null,
            "grid_auto_columns": null,
            "margin": null,
            "display": null,
            "left": null
          }
        },
        "30023be0a0de4bc7b5b7bb74df9b9c21": {
          "model_module": "@jupyter-widgets/controls",
          "model_name": "FloatProgressModel",
          "model_module_version": "1.5.0",
          "state": {
            "_view_name": "ProgressView",
            "style": "IPY_MODEL_38779c91c1ef473881680f5774d96bb5",
            "_dom_classes": [],
            "description": "100%",
            "_model_name": "FloatProgressModel",
            "bar_style": "success",
            "max": 782,
            "_view_module": "@jupyter-widgets/controls",
            "_model_module_version": "1.5.0",
            "value": 782,
            "_view_count": null,
            "_view_module_version": "1.5.0",
            "orientation": "horizontal",
            "min": 0,
            "description_tooltip": null,
            "_model_module": "@jupyter-widgets/controls",
            "layout": "IPY_MODEL_068aabf92c314ae6ba1aaa1cd3d48387"
          }
        },
        "34a45d9f24ba481b988b5387ddf39a17": {
          "model_module": "@jupyter-widgets/controls",
          "model_name": "HTMLModel",
          "model_module_version": "1.5.0",
          "state": {
            "_view_name": "HTMLView",
            "style": "IPY_MODEL_8b9a553e4ee64abc9b1ac4e7c8bbb135",
            "_dom_classes": [],
            "description": "",
            "_model_name": "HTMLModel",
            "placeholder": "​",
            "_view_module": "@jupyter-widgets/controls",
            "_model_module_version": "1.5.0",
            "value": " 782/782 [03:07&lt;00:00,  4.17it/s]",
            "_view_count": null,
            "_view_module_version": "1.5.0",
            "description_tooltip": null,
            "_model_module": "@jupyter-widgets/controls",
            "layout": "IPY_MODEL_a545a986a3654cb1bf99879ab6747803"
          }
        },
        "38779c91c1ef473881680f5774d96bb5": {
          "model_module": "@jupyter-widgets/controls",
          "model_name": "ProgressStyleModel",
          "model_module_version": "1.5.0",
          "state": {
            "_view_name": "StyleView",
            "_model_name": "ProgressStyleModel",
            "description_width": "initial",
            "_view_module": "@jupyter-widgets/base",
            "_model_module_version": "1.5.0",
            "_view_count": null,
            "_view_module_version": "1.2.0",
            "bar_color": null,
            "_model_module": "@jupyter-widgets/controls"
          }
        },
        "068aabf92c314ae6ba1aaa1cd3d48387": {
          "model_module": "@jupyter-widgets/base",
          "model_name": "LayoutModel",
          "model_module_version": "1.2.0",
          "state": {
            "_view_name": "LayoutView",
            "grid_template_rows": null,
            "right": null,
            "justify_content": null,
            "_view_module": "@jupyter-widgets/base",
            "overflow": null,
            "_model_module_version": "1.2.0",
            "_view_count": null,
            "flex_flow": null,
            "width": null,
            "min_width": null,
            "border": null,
            "align_items": null,
            "bottom": null,
            "_model_module": "@jupyter-widgets/base",
            "top": null,
            "grid_column": null,
            "overflow_y": null,
            "overflow_x": null,
            "grid_auto_flow": null,
            "grid_area": null,
            "grid_template_columns": null,
            "flex": null,
            "_model_name": "LayoutModel",
            "justify_items": null,
            "grid_row": null,
            "max_height": null,
            "align_content": null,
            "visibility": null,
            "align_self": null,
            "height": null,
            "min_height": null,
            "padding": null,
            "grid_auto_rows": null,
            "grid_gap": null,
            "max_width": null,
            "order": null,
            "_view_module_version": "1.2.0",
            "grid_template_areas": null,
            "object_position": null,
            "object_fit": null,
            "grid_auto_columns": null,
            "margin": null,
            "display": null,
            "left": null
          }
        },
        "8b9a553e4ee64abc9b1ac4e7c8bbb135": {
          "model_module": "@jupyter-widgets/controls",
          "model_name": "DescriptionStyleModel",
          "model_module_version": "1.5.0",
          "state": {
            "_view_name": "StyleView",
            "_model_name": "DescriptionStyleModel",
            "description_width": "",
            "_view_module": "@jupyter-widgets/base",
            "_model_module_version": "1.5.0",
            "_view_count": null,
            "_view_module_version": "1.2.0",
            "_model_module": "@jupyter-widgets/controls"
          }
        },
        "a545a986a3654cb1bf99879ab6747803": {
          "model_module": "@jupyter-widgets/base",
          "model_name": "LayoutModel",
          "model_module_version": "1.2.0",
          "state": {
            "_view_name": "LayoutView",
            "grid_template_rows": null,
            "right": null,
            "justify_content": null,
            "_view_module": "@jupyter-widgets/base",
            "overflow": null,
            "_model_module_version": "1.2.0",
            "_view_count": null,
            "flex_flow": null,
            "width": null,
            "min_width": null,
            "border": null,
            "align_items": null,
            "bottom": null,
            "_model_module": "@jupyter-widgets/base",
            "top": null,
            "grid_column": null,
            "overflow_y": null,
            "overflow_x": null,
            "grid_auto_flow": null,
            "grid_area": null,
            "grid_template_columns": null,
            "flex": null,
            "_model_name": "LayoutModel",
            "justify_items": null,
            "grid_row": null,
            "max_height": null,
            "align_content": null,
            "visibility": null,
            "align_self": null,
            "height": null,
            "min_height": null,
            "padding": null,
            "grid_auto_rows": null,
            "grid_gap": null,
            "max_width": null,
            "order": null,
            "_view_module_version": "1.2.0",
            "grid_template_areas": null,
            "object_position": null,
            "object_fit": null,
            "grid_auto_columns": null,
            "margin": null,
            "display": null,
            "left": null
          }
        },
        "0ba07b559c8741abbd41e33d4ce36b3c": {
          "model_module": "@jupyter-widgets/controls",
          "model_name": "HBoxModel",
          "model_module_version": "1.5.0",
          "state": {
            "_view_name": "HBoxView",
            "_dom_classes": [],
            "_model_name": "HBoxModel",
            "_view_module": "@jupyter-widgets/controls",
            "_model_module_version": "1.5.0",
            "_view_count": null,
            "_view_module_version": "1.5.0",
            "box_style": "",
            "layout": "IPY_MODEL_4378b68a4e5946fc816f61d33684e1ba",
            "_model_module": "@jupyter-widgets/controls",
            "children": [
              "IPY_MODEL_280b183f82dd4a699f62ca0b82bcd937",
              "IPY_MODEL_49a9fc4167c64eb193db0421c0df386e"
            ]
          }
        },
        "4378b68a4e5946fc816f61d33684e1ba": {
          "model_module": "@jupyter-widgets/base",
          "model_name": "LayoutModel",
          "model_module_version": "1.2.0",
          "state": {
            "_view_name": "LayoutView",
            "grid_template_rows": null,
            "right": null,
            "justify_content": null,
            "_view_module": "@jupyter-widgets/base",
            "overflow": null,
            "_model_module_version": "1.2.0",
            "_view_count": null,
            "flex_flow": null,
            "width": null,
            "min_width": null,
            "border": null,
            "align_items": null,
            "bottom": null,
            "_model_module": "@jupyter-widgets/base",
            "top": null,
            "grid_column": null,
            "overflow_y": null,
            "overflow_x": null,
            "grid_auto_flow": null,
            "grid_area": null,
            "grid_template_columns": null,
            "flex": null,
            "_model_name": "LayoutModel",
            "justify_items": null,
            "grid_row": null,
            "max_height": null,
            "align_content": null,
            "visibility": null,
            "align_self": null,
            "height": null,
            "min_height": null,
            "padding": null,
            "grid_auto_rows": null,
            "grid_gap": null,
            "max_width": null,
            "order": null,
            "_view_module_version": "1.2.0",
            "grid_template_areas": null,
            "object_position": null,
            "object_fit": null,
            "grid_auto_columns": null,
            "margin": null,
            "display": null,
            "left": null
          }
        },
        "280b183f82dd4a699f62ca0b82bcd937": {
          "model_module": "@jupyter-widgets/controls",
          "model_name": "FloatProgressModel",
          "model_module_version": "1.5.0",
          "state": {
            "_view_name": "ProgressView",
            "style": "IPY_MODEL_95d8db1f90684bf09d01ba358b3fc984",
            "_dom_classes": [],
            "description": "100%",
            "_model_name": "FloatProgressModel",
            "bar_style": "success",
            "max": 2344,
            "_view_module": "@jupyter-widgets/controls",
            "_model_module_version": "1.5.0",
            "value": 2344,
            "_view_count": null,
            "_view_module_version": "1.5.0",
            "orientation": "horizontal",
            "min": 0,
            "description_tooltip": null,
            "_model_module": "@jupyter-widgets/controls",
            "layout": "IPY_MODEL_bfbb3a3bf9da43f4a3a3eaa3e7c3d1d4"
          }
        },
        "49a9fc4167c64eb193db0421c0df386e": {
          "model_module": "@jupyter-widgets/controls",
          "model_name": "HTMLModel",
          "model_module_version": "1.5.0",
          "state": {
            "_view_name": "HTMLView",
            "style": "IPY_MODEL_77bee8e5c0994a7e9b901fe944d374ee",
            "_dom_classes": [],
            "description": "",
            "_model_name": "HTMLModel",
            "placeholder": "​",
            "_view_module": "@jupyter-widgets/controls",
            "_model_module_version": "1.5.0",
            "value": " 2344/2344 [1:31:02&lt;00:00,  2.33s/it]",
            "_view_count": null,
            "_view_module_version": "1.5.0",
            "description_tooltip": null,
            "_model_module": "@jupyter-widgets/controls",
            "layout": "IPY_MODEL_23f5ec2e120548f191c2c27839ca3440"
          }
        },
        "95d8db1f90684bf09d01ba358b3fc984": {
          "model_module": "@jupyter-widgets/controls",
          "model_name": "ProgressStyleModel",
          "model_module_version": "1.5.0",
          "state": {
            "_view_name": "StyleView",
            "_model_name": "ProgressStyleModel",
            "description_width": "initial",
            "_view_module": "@jupyter-widgets/base",
            "_model_module_version": "1.5.0",
            "_view_count": null,
            "_view_module_version": "1.2.0",
            "bar_color": null,
            "_model_module": "@jupyter-widgets/controls"
          }
        },
        "bfbb3a3bf9da43f4a3a3eaa3e7c3d1d4": {
          "model_module": "@jupyter-widgets/base",
          "model_name": "LayoutModel",
          "model_module_version": "1.2.0",
          "state": {
            "_view_name": "LayoutView",
            "grid_template_rows": null,
            "right": null,
            "justify_content": null,
            "_view_module": "@jupyter-widgets/base",
            "overflow": null,
            "_model_module_version": "1.2.0",
            "_view_count": null,
            "flex_flow": null,
            "width": null,
            "min_width": null,
            "border": null,
            "align_items": null,
            "bottom": null,
            "_model_module": "@jupyter-widgets/base",
            "top": null,
            "grid_column": null,
            "overflow_y": null,
            "overflow_x": null,
            "grid_auto_flow": null,
            "grid_area": null,
            "grid_template_columns": null,
            "flex": null,
            "_model_name": "LayoutModel",
            "justify_items": null,
            "grid_row": null,
            "max_height": null,
            "align_content": null,
            "visibility": null,
            "align_self": null,
            "height": null,
            "min_height": null,
            "padding": null,
            "grid_auto_rows": null,
            "grid_gap": null,
            "max_width": null,
            "order": null,
            "_view_module_version": "1.2.0",
            "grid_template_areas": null,
            "object_position": null,
            "object_fit": null,
            "grid_auto_columns": null,
            "margin": null,
            "display": null,
            "left": null
          }
        },
        "77bee8e5c0994a7e9b901fe944d374ee": {
          "model_module": "@jupyter-widgets/controls",
          "model_name": "DescriptionStyleModel",
          "model_module_version": "1.5.0",
          "state": {
            "_view_name": "StyleView",
            "_model_name": "DescriptionStyleModel",
            "description_width": "",
            "_view_module": "@jupyter-widgets/base",
            "_model_module_version": "1.5.0",
            "_view_count": null,
            "_view_module_version": "1.2.0",
            "_model_module": "@jupyter-widgets/controls"
          }
        },
        "23f5ec2e120548f191c2c27839ca3440": {
          "model_module": "@jupyter-widgets/base",
          "model_name": "LayoutModel",
          "model_module_version": "1.2.0",
          "state": {
            "_view_name": "LayoutView",
            "grid_template_rows": null,
            "right": null,
            "justify_content": null,
            "_view_module": "@jupyter-widgets/base",
            "overflow": null,
            "_model_module_version": "1.2.0",
            "_view_count": null,
            "flex_flow": null,
            "width": null,
            "min_width": null,
            "border": null,
            "align_items": null,
            "bottom": null,
            "_model_module": "@jupyter-widgets/base",
            "top": null,
            "grid_column": null,
            "overflow_y": null,
            "overflow_x": null,
            "grid_auto_flow": null,
            "grid_area": null,
            "grid_template_columns": null,
            "flex": null,
            "_model_name": "LayoutModel",
            "justify_items": null,
            "grid_row": null,
            "max_height": null,
            "align_content": null,
            "visibility": null,
            "align_self": null,
            "height": null,
            "min_height": null,
            "padding": null,
            "grid_auto_rows": null,
            "grid_gap": null,
            "max_width": null,
            "order": null,
            "_view_module_version": "1.2.0",
            "grid_template_areas": null,
            "object_position": null,
            "object_fit": null,
            "grid_auto_columns": null,
            "margin": null,
            "display": null,
            "left": null
          }
        },
        "e0c34ee7f32c48799cd4ad8bc4dce9e2": {
          "model_module": "@jupyter-widgets/controls",
          "model_name": "HBoxModel",
          "model_module_version": "1.5.0",
          "state": {
            "_view_name": "HBoxView",
            "_dom_classes": [],
            "_model_name": "HBoxModel",
            "_view_module": "@jupyter-widgets/controls",
            "_model_module_version": "1.5.0",
            "_view_count": null,
            "_view_module_version": "1.5.0",
            "box_style": "",
            "layout": "IPY_MODEL_9f2b4014e3844c85b86173486fb23929",
            "_model_module": "@jupyter-widgets/controls",
            "children": [
              "IPY_MODEL_43da055266b1404da7a63f338662348b",
              "IPY_MODEL_a80e93a8dc084a60bcbefd846896f14c"
            ]
          }
        },
        "9f2b4014e3844c85b86173486fb23929": {
          "model_module": "@jupyter-widgets/base",
          "model_name": "LayoutModel",
          "model_module_version": "1.2.0",
          "state": {
            "_view_name": "LayoutView",
            "grid_template_rows": null,
            "right": null,
            "justify_content": null,
            "_view_module": "@jupyter-widgets/base",
            "overflow": null,
            "_model_module_version": "1.2.0",
            "_view_count": null,
            "flex_flow": null,
            "width": null,
            "min_width": null,
            "border": null,
            "align_items": null,
            "bottom": null,
            "_model_module": "@jupyter-widgets/base",
            "top": null,
            "grid_column": null,
            "overflow_y": null,
            "overflow_x": null,
            "grid_auto_flow": null,
            "grid_area": null,
            "grid_template_columns": null,
            "flex": null,
            "_model_name": "LayoutModel",
            "justify_items": null,
            "grid_row": null,
            "max_height": null,
            "align_content": null,
            "visibility": null,
            "align_self": null,
            "height": null,
            "min_height": null,
            "padding": null,
            "grid_auto_rows": null,
            "grid_gap": null,
            "max_width": null,
            "order": null,
            "_view_module_version": "1.2.0",
            "grid_template_areas": null,
            "object_position": null,
            "object_fit": null,
            "grid_auto_columns": null,
            "margin": null,
            "display": null,
            "left": null
          }
        },
        "43da055266b1404da7a63f338662348b": {
          "model_module": "@jupyter-widgets/controls",
          "model_name": "FloatProgressModel",
          "model_module_version": "1.5.0",
          "state": {
            "_view_name": "ProgressView",
            "style": "IPY_MODEL_ea87a85e80b04677939c9c7a70c6d230",
            "_dom_classes": [],
            "description": "100%",
            "_model_name": "FloatProgressModel",
            "bar_style": "success",
            "max": 782,
            "_view_module": "@jupyter-widgets/controls",
            "_model_module_version": "1.5.0",
            "value": 782,
            "_view_count": null,
            "_view_module_version": "1.5.0",
            "orientation": "horizontal",
            "min": 0,
            "description_tooltip": null,
            "_model_module": "@jupyter-widgets/controls",
            "layout": "IPY_MODEL_5327b712ffb8451c80ab536aa5cb96e4"
          }
        },
        "a80e93a8dc084a60bcbefd846896f14c": {
          "model_module": "@jupyter-widgets/controls",
          "model_name": "HTMLModel",
          "model_module_version": "1.5.0",
          "state": {
            "_view_name": "HTMLView",
            "style": "IPY_MODEL_c929b2650e054b049c4958088b461a67",
            "_dom_classes": [],
            "description": "",
            "_model_name": "HTMLModel",
            "placeholder": "​",
            "_view_module": "@jupyter-widgets/controls",
            "_model_module_version": "1.5.0",
            "value": " 782/782 [06:27&lt;00:00,  2.02it/s]",
            "_view_count": null,
            "_view_module_version": "1.5.0",
            "description_tooltip": null,
            "_model_module": "@jupyter-widgets/controls",
            "layout": "IPY_MODEL_84dd5eff0aef478d94a626f1a8a0a6c0"
          }
        },
        "ea87a85e80b04677939c9c7a70c6d230": {
          "model_module": "@jupyter-widgets/controls",
          "model_name": "ProgressStyleModel",
          "model_module_version": "1.5.0",
          "state": {
            "_view_name": "StyleView",
            "_model_name": "ProgressStyleModel",
            "description_width": "initial",
            "_view_module": "@jupyter-widgets/base",
            "_model_module_version": "1.5.0",
            "_view_count": null,
            "_view_module_version": "1.2.0",
            "bar_color": null,
            "_model_module": "@jupyter-widgets/controls"
          }
        },
        "5327b712ffb8451c80ab536aa5cb96e4": {
          "model_module": "@jupyter-widgets/base",
          "model_name": "LayoutModel",
          "model_module_version": "1.2.0",
          "state": {
            "_view_name": "LayoutView",
            "grid_template_rows": null,
            "right": null,
            "justify_content": null,
            "_view_module": "@jupyter-widgets/base",
            "overflow": null,
            "_model_module_version": "1.2.0",
            "_view_count": null,
            "flex_flow": null,
            "width": null,
            "min_width": null,
            "border": null,
            "align_items": null,
            "bottom": null,
            "_model_module": "@jupyter-widgets/base",
            "top": null,
            "grid_column": null,
            "overflow_y": null,
            "overflow_x": null,
            "grid_auto_flow": null,
            "grid_area": null,
            "grid_template_columns": null,
            "flex": null,
            "_model_name": "LayoutModel",
            "justify_items": null,
            "grid_row": null,
            "max_height": null,
            "align_content": null,
            "visibility": null,
            "align_self": null,
            "height": null,
            "min_height": null,
            "padding": null,
            "grid_auto_rows": null,
            "grid_gap": null,
            "max_width": null,
            "order": null,
            "_view_module_version": "1.2.0",
            "grid_template_areas": null,
            "object_position": null,
            "object_fit": null,
            "grid_auto_columns": null,
            "margin": null,
            "display": null,
            "left": null
          }
        },
        "c929b2650e054b049c4958088b461a67": {
          "model_module": "@jupyter-widgets/controls",
          "model_name": "DescriptionStyleModel",
          "model_module_version": "1.5.0",
          "state": {
            "_view_name": "StyleView",
            "_model_name": "DescriptionStyleModel",
            "description_width": "",
            "_view_module": "@jupyter-widgets/base",
            "_model_module_version": "1.5.0",
            "_view_count": null,
            "_view_module_version": "1.2.0",
            "_model_module": "@jupyter-widgets/controls"
          }
        },
        "84dd5eff0aef478d94a626f1a8a0a6c0": {
          "model_module": "@jupyter-widgets/base",
          "model_name": "LayoutModel",
          "model_module_version": "1.2.0",
          "state": {
            "_view_name": "LayoutView",
            "grid_template_rows": null,
            "right": null,
            "justify_content": null,
            "_view_module": "@jupyter-widgets/base",
            "overflow": null,
            "_model_module_version": "1.2.0",
            "_view_count": null,
            "flex_flow": null,
            "width": null,
            "min_width": null,
            "border": null,
            "align_items": null,
            "bottom": null,
            "_model_module": "@jupyter-widgets/base",
            "top": null,
            "grid_column": null,
            "overflow_y": null,
            "overflow_x": null,
            "grid_auto_flow": null,
            "grid_area": null,
            "grid_template_columns": null,
            "flex": null,
            "_model_name": "LayoutModel",
            "justify_items": null,
            "grid_row": null,
            "max_height": null,
            "align_content": null,
            "visibility": null,
            "align_self": null,
            "height": null,
            "min_height": null,
            "padding": null,
            "grid_auto_rows": null,
            "grid_gap": null,
            "max_width": null,
            "order": null,
            "_view_module_version": "1.2.0",
            "grid_template_areas": null,
            "object_position": null,
            "object_fit": null,
            "grid_auto_columns": null,
            "margin": null,
            "display": null,
            "left": null
          }
        },
        "eb04b76018bc4d5a9017ef78c0e46337": {
          "model_module": "@jupyter-widgets/controls",
          "model_name": "HBoxModel",
          "model_module_version": "1.5.0",
          "state": {
            "_view_name": "HBoxView",
            "_dom_classes": [],
            "_model_name": "HBoxModel",
            "_view_module": "@jupyter-widgets/controls",
            "_model_module_version": "1.5.0",
            "_view_count": null,
            "_view_module_version": "1.5.0",
            "box_style": "",
            "layout": "IPY_MODEL_bc5ad3657e124dd4a7c1a7f37dfab7c7",
            "_model_module": "@jupyter-widgets/controls",
            "children": [
              "IPY_MODEL_e5dcad5a7b554db797dc2c9aa01308c9",
              "IPY_MODEL_cdb2b860404740fabef5dfa980c4c1e9"
            ]
          }
        },
        "bc5ad3657e124dd4a7c1a7f37dfab7c7": {
          "model_module": "@jupyter-widgets/base",
          "model_name": "LayoutModel",
          "model_module_version": "1.2.0",
          "state": {
            "_view_name": "LayoutView",
            "grid_template_rows": null,
            "right": null,
            "justify_content": null,
            "_view_module": "@jupyter-widgets/base",
            "overflow": null,
            "_model_module_version": "1.2.0",
            "_view_count": null,
            "flex_flow": null,
            "width": null,
            "min_width": null,
            "border": null,
            "align_items": null,
            "bottom": null,
            "_model_module": "@jupyter-widgets/base",
            "top": null,
            "grid_column": null,
            "overflow_y": null,
            "overflow_x": null,
            "grid_auto_flow": null,
            "grid_area": null,
            "grid_template_columns": null,
            "flex": null,
            "_model_name": "LayoutModel",
            "justify_items": null,
            "grid_row": null,
            "max_height": null,
            "align_content": null,
            "visibility": null,
            "align_self": null,
            "height": null,
            "min_height": null,
            "padding": null,
            "grid_auto_rows": null,
            "grid_gap": null,
            "max_width": null,
            "order": null,
            "_view_module_version": "1.2.0",
            "grid_template_areas": null,
            "object_position": null,
            "object_fit": null,
            "grid_auto_columns": null,
            "margin": null,
            "display": null,
            "left": null
          }
        },
        "e5dcad5a7b554db797dc2c9aa01308c9": {
          "model_module": "@jupyter-widgets/controls",
          "model_name": "FloatProgressModel",
          "model_module_version": "1.5.0",
          "state": {
            "_view_name": "ProgressView",
            "style": "IPY_MODEL_0c9c2b51c9a54cf0b8ad3bad5150562b",
            "_dom_classes": [],
            "description": "100%",
            "_model_name": "FloatProgressModel",
            "bar_style": "success",
            "max": 2344,
            "_view_module": "@jupyter-widgets/controls",
            "_model_module_version": "1.5.0",
            "value": 2344,
            "_view_count": null,
            "_view_module_version": "1.5.0",
            "orientation": "horizontal",
            "min": 0,
            "description_tooltip": null,
            "_model_module": "@jupyter-widgets/controls",
            "layout": "IPY_MODEL_307d11661d4a4f6fab89a8fa56b1746f"
          }
        },
        "cdb2b860404740fabef5dfa980c4c1e9": {
          "model_module": "@jupyter-widgets/controls",
          "model_name": "HTMLModel",
          "model_module_version": "1.5.0",
          "state": {
            "_view_name": "HTMLView",
            "style": "IPY_MODEL_52008fc74a794633bf04873bd2cb6fd1",
            "_dom_classes": [],
            "description": "",
            "_model_name": "HTMLModel",
            "placeholder": "​",
            "_view_module": "@jupyter-widgets/controls",
            "_model_module_version": "1.5.0",
            "value": " 2344/2344 [1:09:49&lt;00:00,  1.79s/it]",
            "_view_count": null,
            "_view_module_version": "1.5.0",
            "description_tooltip": null,
            "_model_module": "@jupyter-widgets/controls",
            "layout": "IPY_MODEL_664af306bc5d491ead09818c178f9d05"
          }
        },
        "0c9c2b51c9a54cf0b8ad3bad5150562b": {
          "model_module": "@jupyter-widgets/controls",
          "model_name": "ProgressStyleModel",
          "model_module_version": "1.5.0",
          "state": {
            "_view_name": "StyleView",
            "_model_name": "ProgressStyleModel",
            "description_width": "initial",
            "_view_module": "@jupyter-widgets/base",
            "_model_module_version": "1.5.0",
            "_view_count": null,
            "_view_module_version": "1.2.0",
            "bar_color": null,
            "_model_module": "@jupyter-widgets/controls"
          }
        },
        "307d11661d4a4f6fab89a8fa56b1746f": {
          "model_module": "@jupyter-widgets/base",
          "model_name": "LayoutModel",
          "model_module_version": "1.2.0",
          "state": {
            "_view_name": "LayoutView",
            "grid_template_rows": null,
            "right": null,
            "justify_content": null,
            "_view_module": "@jupyter-widgets/base",
            "overflow": null,
            "_model_module_version": "1.2.0",
            "_view_count": null,
            "flex_flow": null,
            "width": null,
            "min_width": null,
            "border": null,
            "align_items": null,
            "bottom": null,
            "_model_module": "@jupyter-widgets/base",
            "top": null,
            "grid_column": null,
            "overflow_y": null,
            "overflow_x": null,
            "grid_auto_flow": null,
            "grid_area": null,
            "grid_template_columns": null,
            "flex": null,
            "_model_name": "LayoutModel",
            "justify_items": null,
            "grid_row": null,
            "max_height": null,
            "align_content": null,
            "visibility": null,
            "align_self": null,
            "height": null,
            "min_height": null,
            "padding": null,
            "grid_auto_rows": null,
            "grid_gap": null,
            "max_width": null,
            "order": null,
            "_view_module_version": "1.2.0",
            "grid_template_areas": null,
            "object_position": null,
            "object_fit": null,
            "grid_auto_columns": null,
            "margin": null,
            "display": null,
            "left": null
          }
        },
        "52008fc74a794633bf04873bd2cb6fd1": {
          "model_module": "@jupyter-widgets/controls",
          "model_name": "DescriptionStyleModel",
          "model_module_version": "1.5.0",
          "state": {
            "_view_name": "StyleView",
            "_model_name": "DescriptionStyleModel",
            "description_width": "",
            "_view_module": "@jupyter-widgets/base",
            "_model_module_version": "1.5.0",
            "_view_count": null,
            "_view_module_version": "1.2.0",
            "_model_module": "@jupyter-widgets/controls"
          }
        },
        "664af306bc5d491ead09818c178f9d05": {
          "model_module": "@jupyter-widgets/base",
          "model_name": "LayoutModel",
          "model_module_version": "1.2.0",
          "state": {
            "_view_name": "LayoutView",
            "grid_template_rows": null,
            "right": null,
            "justify_content": null,
            "_view_module": "@jupyter-widgets/base",
            "overflow": null,
            "_model_module_version": "1.2.0",
            "_view_count": null,
            "flex_flow": null,
            "width": null,
            "min_width": null,
            "border": null,
            "align_items": null,
            "bottom": null,
            "_model_module": "@jupyter-widgets/base",
            "top": null,
            "grid_column": null,
            "overflow_y": null,
            "overflow_x": null,
            "grid_auto_flow": null,
            "grid_area": null,
            "grid_template_columns": null,
            "flex": null,
            "_model_name": "LayoutModel",
            "justify_items": null,
            "grid_row": null,
            "max_height": null,
            "align_content": null,
            "visibility": null,
            "align_self": null,
            "height": null,
            "min_height": null,
            "padding": null,
            "grid_auto_rows": null,
            "grid_gap": null,
            "max_width": null,
            "order": null,
            "_view_module_version": "1.2.0",
            "grid_template_areas": null,
            "object_position": null,
            "object_fit": null,
            "grid_auto_columns": null,
            "margin": null,
            "display": null,
            "left": null
          }
        },
        "6c8048bc232049808025c64a25054fa0": {
          "model_module": "@jupyter-widgets/controls",
          "model_name": "HBoxModel",
          "model_module_version": "1.5.0",
          "state": {
            "_view_name": "HBoxView",
            "_dom_classes": [],
            "_model_name": "HBoxModel",
            "_view_module": "@jupyter-widgets/controls",
            "_model_module_version": "1.5.0",
            "_view_count": null,
            "_view_module_version": "1.5.0",
            "box_style": "",
            "layout": "IPY_MODEL_67820e324b314401b01d4be8f5e9bcd3",
            "_model_module": "@jupyter-widgets/controls",
            "children": [
              "IPY_MODEL_23c229fad2e04d9cac69cde0770494d0",
              "IPY_MODEL_1fcef88dbde94ed697404ebe829e120c"
            ]
          }
        },
        "67820e324b314401b01d4be8f5e9bcd3": {
          "model_module": "@jupyter-widgets/base",
          "model_name": "LayoutModel",
          "model_module_version": "1.2.0",
          "state": {
            "_view_name": "LayoutView",
            "grid_template_rows": null,
            "right": null,
            "justify_content": null,
            "_view_module": "@jupyter-widgets/base",
            "overflow": null,
            "_model_module_version": "1.2.0",
            "_view_count": null,
            "flex_flow": null,
            "width": null,
            "min_width": null,
            "border": null,
            "align_items": null,
            "bottom": null,
            "_model_module": "@jupyter-widgets/base",
            "top": null,
            "grid_column": null,
            "overflow_y": null,
            "overflow_x": null,
            "grid_auto_flow": null,
            "grid_area": null,
            "grid_template_columns": null,
            "flex": null,
            "_model_name": "LayoutModel",
            "justify_items": null,
            "grid_row": null,
            "max_height": null,
            "align_content": null,
            "visibility": null,
            "align_self": null,
            "height": null,
            "min_height": null,
            "padding": null,
            "grid_auto_rows": null,
            "grid_gap": null,
            "max_width": null,
            "order": null,
            "_view_module_version": "1.2.0",
            "grid_template_areas": null,
            "object_position": null,
            "object_fit": null,
            "grid_auto_columns": null,
            "margin": null,
            "display": null,
            "left": null
          }
        },
        "23c229fad2e04d9cac69cde0770494d0": {
          "model_module": "@jupyter-widgets/controls",
          "model_name": "FloatProgressModel",
          "model_module_version": "1.5.0",
          "state": {
            "_view_name": "ProgressView",
            "style": "IPY_MODEL_1c0f646eaa83417dbcf7a98f3ad3941e",
            "_dom_classes": [],
            "description": "100%",
            "_model_name": "FloatProgressModel",
            "bar_style": "success",
            "max": 782,
            "_view_module": "@jupyter-widgets/controls",
            "_model_module_version": "1.5.0",
            "value": 782,
            "_view_count": null,
            "_view_module_version": "1.5.0",
            "orientation": "horizontal",
            "min": 0,
            "description_tooltip": null,
            "_model_module": "@jupyter-widgets/controls",
            "layout": "IPY_MODEL_1a7eab90245d443495a288e66f010223"
          }
        },
        "1fcef88dbde94ed697404ebe829e120c": {
          "model_module": "@jupyter-widgets/controls",
          "model_name": "HTMLModel",
          "model_module_version": "1.5.0",
          "state": {
            "_view_name": "HTMLView",
            "style": "IPY_MODEL_3870f3a10bfd4082872c4e8044a5bee6",
            "_dom_classes": [],
            "description": "",
            "_model_name": "HTMLModel",
            "placeholder": "​",
            "_view_module": "@jupyter-widgets/controls",
            "_model_module_version": "1.5.0",
            "value": " 782/782 [03:27&lt;00:00,  3.76it/s]",
            "_view_count": null,
            "_view_module_version": "1.5.0",
            "description_tooltip": null,
            "_model_module": "@jupyter-widgets/controls",
            "layout": "IPY_MODEL_3fd712e085a0488f93360b4cd0f8b6bf"
          }
        },
        "1c0f646eaa83417dbcf7a98f3ad3941e": {
          "model_module": "@jupyter-widgets/controls",
          "model_name": "ProgressStyleModel",
          "model_module_version": "1.5.0",
          "state": {
            "_view_name": "StyleView",
            "_model_name": "ProgressStyleModel",
            "description_width": "initial",
            "_view_module": "@jupyter-widgets/base",
            "_model_module_version": "1.5.0",
            "_view_count": null,
            "_view_module_version": "1.2.0",
            "bar_color": null,
            "_model_module": "@jupyter-widgets/controls"
          }
        },
        "1a7eab90245d443495a288e66f010223": {
          "model_module": "@jupyter-widgets/base",
          "model_name": "LayoutModel",
          "model_module_version": "1.2.0",
          "state": {
            "_view_name": "LayoutView",
            "grid_template_rows": null,
            "right": null,
            "justify_content": null,
            "_view_module": "@jupyter-widgets/base",
            "overflow": null,
            "_model_module_version": "1.2.0",
            "_view_count": null,
            "flex_flow": null,
            "width": null,
            "min_width": null,
            "border": null,
            "align_items": null,
            "bottom": null,
            "_model_module": "@jupyter-widgets/base",
            "top": null,
            "grid_column": null,
            "overflow_y": null,
            "overflow_x": null,
            "grid_auto_flow": null,
            "grid_area": null,
            "grid_template_columns": null,
            "flex": null,
            "_model_name": "LayoutModel",
            "justify_items": null,
            "grid_row": null,
            "max_height": null,
            "align_content": null,
            "visibility": null,
            "align_self": null,
            "height": null,
            "min_height": null,
            "padding": null,
            "grid_auto_rows": null,
            "grid_gap": null,
            "max_width": null,
            "order": null,
            "_view_module_version": "1.2.0",
            "grid_template_areas": null,
            "object_position": null,
            "object_fit": null,
            "grid_auto_columns": null,
            "margin": null,
            "display": null,
            "left": null
          }
        },
        "3870f3a10bfd4082872c4e8044a5bee6": {
          "model_module": "@jupyter-widgets/controls",
          "model_name": "DescriptionStyleModel",
          "model_module_version": "1.5.0",
          "state": {
            "_view_name": "StyleView",
            "_model_name": "DescriptionStyleModel",
            "description_width": "",
            "_view_module": "@jupyter-widgets/base",
            "_model_module_version": "1.5.0",
            "_view_count": null,
            "_view_module_version": "1.2.0",
            "_model_module": "@jupyter-widgets/controls"
          }
        },
        "3fd712e085a0488f93360b4cd0f8b6bf": {
          "model_module": "@jupyter-widgets/base",
          "model_name": "LayoutModel",
          "model_module_version": "1.2.0",
          "state": {
            "_view_name": "LayoutView",
            "grid_template_rows": null,
            "right": null,
            "justify_content": null,
            "_view_module": "@jupyter-widgets/base",
            "overflow": null,
            "_model_module_version": "1.2.0",
            "_view_count": null,
            "flex_flow": null,
            "width": null,
            "min_width": null,
            "border": null,
            "align_items": null,
            "bottom": null,
            "_model_module": "@jupyter-widgets/base",
            "top": null,
            "grid_column": null,
            "overflow_y": null,
            "overflow_x": null,
            "grid_auto_flow": null,
            "grid_area": null,
            "grid_template_columns": null,
            "flex": null,
            "_model_name": "LayoutModel",
            "justify_items": null,
            "grid_row": null,
            "max_height": null,
            "align_content": null,
            "visibility": null,
            "align_self": null,
            "height": null,
            "min_height": null,
            "padding": null,
            "grid_auto_rows": null,
            "grid_gap": null,
            "max_width": null,
            "order": null,
            "_view_module_version": "1.2.0",
            "grid_template_areas": null,
            "object_position": null,
            "object_fit": null,
            "grid_auto_columns": null,
            "margin": null,
            "display": null,
            "left": null
          }
        },
        "2da6b4f34f2f42a98409afcfdd623ca0": {
          "model_module": "@jupyter-widgets/controls",
          "model_name": "HBoxModel",
          "model_module_version": "1.5.0",
          "state": {
            "_view_name": "HBoxView",
            "_dom_classes": [],
            "_model_name": "HBoxModel",
            "_view_module": "@jupyter-widgets/controls",
            "_model_module_version": "1.5.0",
            "_view_count": null,
            "_view_module_version": "1.5.0",
            "box_style": "",
            "layout": "IPY_MODEL_054bb2ddbdff44b383f5cde5d15105bf",
            "_model_module": "@jupyter-widgets/controls",
            "children": [
              "IPY_MODEL_a4ddb2a3c77d47f7b6f0627e10879009",
              "IPY_MODEL_e2440ced38f14b6d93db8295cd50f50d"
            ]
          }
        },
        "054bb2ddbdff44b383f5cde5d15105bf": {
          "model_module": "@jupyter-widgets/base",
          "model_name": "LayoutModel",
          "model_module_version": "1.2.0",
          "state": {
            "_view_name": "LayoutView",
            "grid_template_rows": null,
            "right": null,
            "justify_content": null,
            "_view_module": "@jupyter-widgets/base",
            "overflow": null,
            "_model_module_version": "1.2.0",
            "_view_count": null,
            "flex_flow": null,
            "width": null,
            "min_width": null,
            "border": null,
            "align_items": null,
            "bottom": null,
            "_model_module": "@jupyter-widgets/base",
            "top": null,
            "grid_column": null,
            "overflow_y": null,
            "overflow_x": null,
            "grid_auto_flow": null,
            "grid_area": null,
            "grid_template_columns": null,
            "flex": null,
            "_model_name": "LayoutModel",
            "justify_items": null,
            "grid_row": null,
            "max_height": null,
            "align_content": null,
            "visibility": null,
            "align_self": null,
            "height": null,
            "min_height": null,
            "padding": null,
            "grid_auto_rows": null,
            "grid_gap": null,
            "max_width": null,
            "order": null,
            "_view_module_version": "1.2.0",
            "grid_template_areas": null,
            "object_position": null,
            "object_fit": null,
            "grid_auto_columns": null,
            "margin": null,
            "display": null,
            "left": null
          }
        },
        "a4ddb2a3c77d47f7b6f0627e10879009": {
          "model_module": "@jupyter-widgets/controls",
          "model_name": "FloatProgressModel",
          "model_module_version": "1.5.0",
          "state": {
            "_view_name": "ProgressView",
            "style": "IPY_MODEL_f697b40a57e54f59942b55ef99e7a876",
            "_dom_classes": [],
            "description": "100%",
            "_model_name": "FloatProgressModel",
            "bar_style": "success",
            "max": 2344,
            "_view_module": "@jupyter-widgets/controls",
            "_model_module_version": "1.5.0",
            "value": 2344,
            "_view_count": null,
            "_view_module_version": "1.5.0",
            "orientation": "horizontal",
            "min": 0,
            "description_tooltip": null,
            "_model_module": "@jupyter-widgets/controls",
            "layout": "IPY_MODEL_ea8d07849eb941ff875f95cc739f212d"
          }
        },
        "e2440ced38f14b6d93db8295cd50f50d": {
          "model_module": "@jupyter-widgets/controls",
          "model_name": "HTMLModel",
          "model_module_version": "1.5.0",
          "state": {
            "_view_name": "HTMLView",
            "style": "IPY_MODEL_70a1528e4fcd4d188ce07359a5084411",
            "_dom_classes": [],
            "description": "",
            "_model_name": "HTMLModel",
            "placeholder": "​",
            "_view_module": "@jupyter-widgets/controls",
            "_model_module_version": "1.5.0",
            "value": " 2344/2344 [48:37&lt;00:00,  1.24s/it]",
            "_view_count": null,
            "_view_module_version": "1.5.0",
            "description_tooltip": null,
            "_model_module": "@jupyter-widgets/controls",
            "layout": "IPY_MODEL_4767f642fb8b4cf88f80961845648c53"
          }
        },
        "f697b40a57e54f59942b55ef99e7a876": {
          "model_module": "@jupyter-widgets/controls",
          "model_name": "ProgressStyleModel",
          "model_module_version": "1.5.0",
          "state": {
            "_view_name": "StyleView",
            "_model_name": "ProgressStyleModel",
            "description_width": "initial",
            "_view_module": "@jupyter-widgets/base",
            "_model_module_version": "1.5.0",
            "_view_count": null,
            "_view_module_version": "1.2.0",
            "bar_color": null,
            "_model_module": "@jupyter-widgets/controls"
          }
        },
        "ea8d07849eb941ff875f95cc739f212d": {
          "model_module": "@jupyter-widgets/base",
          "model_name": "LayoutModel",
          "model_module_version": "1.2.0",
          "state": {
            "_view_name": "LayoutView",
            "grid_template_rows": null,
            "right": null,
            "justify_content": null,
            "_view_module": "@jupyter-widgets/base",
            "overflow": null,
            "_model_module_version": "1.2.0",
            "_view_count": null,
            "flex_flow": null,
            "width": null,
            "min_width": null,
            "border": null,
            "align_items": null,
            "bottom": null,
            "_model_module": "@jupyter-widgets/base",
            "top": null,
            "grid_column": null,
            "overflow_y": null,
            "overflow_x": null,
            "grid_auto_flow": null,
            "grid_area": null,
            "grid_template_columns": null,
            "flex": null,
            "_model_name": "LayoutModel",
            "justify_items": null,
            "grid_row": null,
            "max_height": null,
            "align_content": null,
            "visibility": null,
            "align_self": null,
            "height": null,
            "min_height": null,
            "padding": null,
            "grid_auto_rows": null,
            "grid_gap": null,
            "max_width": null,
            "order": null,
            "_view_module_version": "1.2.0",
            "grid_template_areas": null,
            "object_position": null,
            "object_fit": null,
            "grid_auto_columns": null,
            "margin": null,
            "display": null,
            "left": null
          }
        },
        "70a1528e4fcd4d188ce07359a5084411": {
          "model_module": "@jupyter-widgets/controls",
          "model_name": "DescriptionStyleModel",
          "model_module_version": "1.5.0",
          "state": {
            "_view_name": "StyleView",
            "_model_name": "DescriptionStyleModel",
            "description_width": "",
            "_view_module": "@jupyter-widgets/base",
            "_model_module_version": "1.5.0",
            "_view_count": null,
            "_view_module_version": "1.2.0",
            "_model_module": "@jupyter-widgets/controls"
          }
        },
        "4767f642fb8b4cf88f80961845648c53": {
          "model_module": "@jupyter-widgets/base",
          "model_name": "LayoutModel",
          "model_module_version": "1.2.0",
          "state": {
            "_view_name": "LayoutView",
            "grid_template_rows": null,
            "right": null,
            "justify_content": null,
            "_view_module": "@jupyter-widgets/base",
            "overflow": null,
            "_model_module_version": "1.2.0",
            "_view_count": null,
            "flex_flow": null,
            "width": null,
            "min_width": null,
            "border": null,
            "align_items": null,
            "bottom": null,
            "_model_module": "@jupyter-widgets/base",
            "top": null,
            "grid_column": null,
            "overflow_y": null,
            "overflow_x": null,
            "grid_auto_flow": null,
            "grid_area": null,
            "grid_template_columns": null,
            "flex": null,
            "_model_name": "LayoutModel",
            "justify_items": null,
            "grid_row": null,
            "max_height": null,
            "align_content": null,
            "visibility": null,
            "align_self": null,
            "height": null,
            "min_height": null,
            "padding": null,
            "grid_auto_rows": null,
            "grid_gap": null,
            "max_width": null,
            "order": null,
            "_view_module_version": "1.2.0",
            "grid_template_areas": null,
            "object_position": null,
            "object_fit": null,
            "grid_auto_columns": null,
            "margin": null,
            "display": null,
            "left": null
          }
        },
        "a93d37fb0ca94dd8987441e96dd170a9": {
          "model_module": "@jupyter-widgets/controls",
          "model_name": "HBoxModel",
          "model_module_version": "1.5.0",
          "state": {
            "_view_name": "HBoxView",
            "_dom_classes": [],
            "_model_name": "HBoxModel",
            "_view_module": "@jupyter-widgets/controls",
            "_model_module_version": "1.5.0",
            "_view_count": null,
            "_view_module_version": "1.5.0",
            "box_style": "",
            "layout": "IPY_MODEL_33f8a9f1c3cf4aef9716125ac7494069",
            "_model_module": "@jupyter-widgets/controls",
            "children": [
              "IPY_MODEL_8f8083a2a9c042e29bd03adbd08ccabd",
              "IPY_MODEL_896792e0f37747cbadf8bf3e973b11f2"
            ]
          }
        },
        "33f8a9f1c3cf4aef9716125ac7494069": {
          "model_module": "@jupyter-widgets/base",
          "model_name": "LayoutModel",
          "model_module_version": "1.2.0",
          "state": {
            "_view_name": "LayoutView",
            "grid_template_rows": null,
            "right": null,
            "justify_content": null,
            "_view_module": "@jupyter-widgets/base",
            "overflow": null,
            "_model_module_version": "1.2.0",
            "_view_count": null,
            "flex_flow": null,
            "width": null,
            "min_width": null,
            "border": null,
            "align_items": null,
            "bottom": null,
            "_model_module": "@jupyter-widgets/base",
            "top": null,
            "grid_column": null,
            "overflow_y": null,
            "overflow_x": null,
            "grid_auto_flow": null,
            "grid_area": null,
            "grid_template_columns": null,
            "flex": null,
            "_model_name": "LayoutModel",
            "justify_items": null,
            "grid_row": null,
            "max_height": null,
            "align_content": null,
            "visibility": null,
            "align_self": null,
            "height": null,
            "min_height": null,
            "padding": null,
            "grid_auto_rows": null,
            "grid_gap": null,
            "max_width": null,
            "order": null,
            "_view_module_version": "1.2.0",
            "grid_template_areas": null,
            "object_position": null,
            "object_fit": null,
            "grid_auto_columns": null,
            "margin": null,
            "display": null,
            "left": null
          }
        },
        "8f8083a2a9c042e29bd03adbd08ccabd": {
          "model_module": "@jupyter-widgets/controls",
          "model_name": "FloatProgressModel",
          "model_module_version": "1.5.0",
          "state": {
            "_view_name": "ProgressView",
            "style": "IPY_MODEL_a0069bbfc32a4cecae18b1949d54642a",
            "_dom_classes": [],
            "description": "100%",
            "_model_name": "FloatProgressModel",
            "bar_style": "success",
            "max": 782,
            "_view_module": "@jupyter-widgets/controls",
            "_model_module_version": "1.5.0",
            "value": 782,
            "_view_count": null,
            "_view_module_version": "1.5.0",
            "orientation": "horizontal",
            "min": 0,
            "description_tooltip": null,
            "_model_module": "@jupyter-widgets/controls",
            "layout": "IPY_MODEL_44fccd139e914a41a802d20c6e248da0"
          }
        },
        "896792e0f37747cbadf8bf3e973b11f2": {
          "model_module": "@jupyter-widgets/controls",
          "model_name": "HTMLModel",
          "model_module_version": "1.5.0",
          "state": {
            "_view_name": "HTMLView",
            "style": "IPY_MODEL_3022596f607f4033bbf56909636f3cc9",
            "_dom_classes": [],
            "description": "",
            "_model_name": "HTMLModel",
            "placeholder": "​",
            "_view_module": "@jupyter-widgets/controls",
            "_model_module_version": "1.5.0",
            "value": " 782/782 [06:49&lt;00:00,  1.91it/s]",
            "_view_count": null,
            "_view_module_version": "1.5.0",
            "description_tooltip": null,
            "_model_module": "@jupyter-widgets/controls",
            "layout": "IPY_MODEL_e5767ee7102745edbe51131baab06233"
          }
        },
        "a0069bbfc32a4cecae18b1949d54642a": {
          "model_module": "@jupyter-widgets/controls",
          "model_name": "ProgressStyleModel",
          "model_module_version": "1.5.0",
          "state": {
            "_view_name": "StyleView",
            "_model_name": "ProgressStyleModel",
            "description_width": "initial",
            "_view_module": "@jupyter-widgets/base",
            "_model_module_version": "1.5.0",
            "_view_count": null,
            "_view_module_version": "1.2.0",
            "bar_color": null,
            "_model_module": "@jupyter-widgets/controls"
          }
        },
        "44fccd139e914a41a802d20c6e248da0": {
          "model_module": "@jupyter-widgets/base",
          "model_name": "LayoutModel",
          "model_module_version": "1.2.0",
          "state": {
            "_view_name": "LayoutView",
            "grid_template_rows": null,
            "right": null,
            "justify_content": null,
            "_view_module": "@jupyter-widgets/base",
            "overflow": null,
            "_model_module_version": "1.2.0",
            "_view_count": null,
            "flex_flow": null,
            "width": null,
            "min_width": null,
            "border": null,
            "align_items": null,
            "bottom": null,
            "_model_module": "@jupyter-widgets/base",
            "top": null,
            "grid_column": null,
            "overflow_y": null,
            "overflow_x": null,
            "grid_auto_flow": null,
            "grid_area": null,
            "grid_template_columns": null,
            "flex": null,
            "_model_name": "LayoutModel",
            "justify_items": null,
            "grid_row": null,
            "max_height": null,
            "align_content": null,
            "visibility": null,
            "align_self": null,
            "height": null,
            "min_height": null,
            "padding": null,
            "grid_auto_rows": null,
            "grid_gap": null,
            "max_width": null,
            "order": null,
            "_view_module_version": "1.2.0",
            "grid_template_areas": null,
            "object_position": null,
            "object_fit": null,
            "grid_auto_columns": null,
            "margin": null,
            "display": null,
            "left": null
          }
        },
        "3022596f607f4033bbf56909636f3cc9": {
          "model_module": "@jupyter-widgets/controls",
          "model_name": "DescriptionStyleModel",
          "model_module_version": "1.5.0",
          "state": {
            "_view_name": "StyleView",
            "_model_name": "DescriptionStyleModel",
            "description_width": "",
            "_view_module": "@jupyter-widgets/base",
            "_model_module_version": "1.5.0",
            "_view_count": null,
            "_view_module_version": "1.2.0",
            "_model_module": "@jupyter-widgets/controls"
          }
        },
        "e5767ee7102745edbe51131baab06233": {
          "model_module": "@jupyter-widgets/base",
          "model_name": "LayoutModel",
          "model_module_version": "1.2.0",
          "state": {
            "_view_name": "LayoutView",
            "grid_template_rows": null,
            "right": null,
            "justify_content": null,
            "_view_module": "@jupyter-widgets/base",
            "overflow": null,
            "_model_module_version": "1.2.0",
            "_view_count": null,
            "flex_flow": null,
            "width": null,
            "min_width": null,
            "border": null,
            "align_items": null,
            "bottom": null,
            "_model_module": "@jupyter-widgets/base",
            "top": null,
            "grid_column": null,
            "overflow_y": null,
            "overflow_x": null,
            "grid_auto_flow": null,
            "grid_area": null,
            "grid_template_columns": null,
            "flex": null,
            "_model_name": "LayoutModel",
            "justify_items": null,
            "grid_row": null,
            "max_height": null,
            "align_content": null,
            "visibility": null,
            "align_self": null,
            "height": null,
            "min_height": null,
            "padding": null,
            "grid_auto_rows": null,
            "grid_gap": null,
            "max_width": null,
            "order": null,
            "_view_module_version": "1.2.0",
            "grid_template_areas": null,
            "object_position": null,
            "object_fit": null,
            "grid_auto_columns": null,
            "margin": null,
            "display": null,
            "left": null
          }
        },
        "5a6809c86d9c4dd7a712a9dc5de45d02": {
          "model_module": "@jupyter-widgets/controls",
          "model_name": "HBoxModel",
          "model_module_version": "1.5.0",
          "state": {
            "_view_name": "HBoxView",
            "_dom_classes": [],
            "_model_name": "HBoxModel",
            "_view_module": "@jupyter-widgets/controls",
            "_model_module_version": "1.5.0",
            "_view_count": null,
            "_view_module_version": "1.5.0",
            "box_style": "",
            "layout": "IPY_MODEL_4dd9ea5297d84501884d33ad8579b0e1",
            "_model_module": "@jupyter-widgets/controls",
            "children": [
              "IPY_MODEL_f76f2cd398d44424b1b1045e9332648e",
              "IPY_MODEL_7f5677bd91e0441c8a4120d49f64e799"
            ]
          }
        },
        "4dd9ea5297d84501884d33ad8579b0e1": {
          "model_module": "@jupyter-widgets/base",
          "model_name": "LayoutModel",
          "model_module_version": "1.2.0",
          "state": {
            "_view_name": "LayoutView",
            "grid_template_rows": null,
            "right": null,
            "justify_content": null,
            "_view_module": "@jupyter-widgets/base",
            "overflow": null,
            "_model_module_version": "1.2.0",
            "_view_count": null,
            "flex_flow": null,
            "width": null,
            "min_width": null,
            "border": null,
            "align_items": null,
            "bottom": null,
            "_model_module": "@jupyter-widgets/base",
            "top": null,
            "grid_column": null,
            "overflow_y": null,
            "overflow_x": null,
            "grid_auto_flow": null,
            "grid_area": null,
            "grid_template_columns": null,
            "flex": null,
            "_model_name": "LayoutModel",
            "justify_items": null,
            "grid_row": null,
            "max_height": null,
            "align_content": null,
            "visibility": null,
            "align_self": null,
            "height": null,
            "min_height": null,
            "padding": null,
            "grid_auto_rows": null,
            "grid_gap": null,
            "max_width": null,
            "order": null,
            "_view_module_version": "1.2.0",
            "grid_template_areas": null,
            "object_position": null,
            "object_fit": null,
            "grid_auto_columns": null,
            "margin": null,
            "display": null,
            "left": null
          }
        },
        "f76f2cd398d44424b1b1045e9332648e": {
          "model_module": "@jupyter-widgets/controls",
          "model_name": "FloatProgressModel",
          "model_module_version": "1.5.0",
          "state": {
            "_view_name": "ProgressView",
            "style": "IPY_MODEL_e03e21c85bbe4ce18e8fc06febdaaf98",
            "_dom_classes": [],
            "description": "100%",
            "_model_name": "FloatProgressModel",
            "bar_style": "success",
            "max": 2344,
            "_view_module": "@jupyter-widgets/controls",
            "_model_module_version": "1.5.0",
            "value": 2344,
            "_view_count": null,
            "_view_module_version": "1.5.0",
            "orientation": "horizontal",
            "min": 0,
            "description_tooltip": null,
            "_model_module": "@jupyter-widgets/controls",
            "layout": "IPY_MODEL_3f240a4930e84c1cb8b185a7b4a55c22"
          }
        },
        "7f5677bd91e0441c8a4120d49f64e799": {
          "model_module": "@jupyter-widgets/controls",
          "model_name": "HTMLModel",
          "model_module_version": "1.5.0",
          "state": {
            "_view_name": "HTMLView",
            "style": "IPY_MODEL_9aaa51c737864c1888fd65b78995fc2f",
            "_dom_classes": [],
            "description": "",
            "_model_name": "HTMLModel",
            "placeholder": "​",
            "_view_module": "@jupyter-widgets/controls",
            "_model_module_version": "1.5.0",
            "value": " 2344/2344 [27:25&lt;00:00,  1.42it/s]",
            "_view_count": null,
            "_view_module_version": "1.5.0",
            "description_tooltip": null,
            "_model_module": "@jupyter-widgets/controls",
            "layout": "IPY_MODEL_13f6024acaa94a729fd6dd3972d4549a"
          }
        },
        "e03e21c85bbe4ce18e8fc06febdaaf98": {
          "model_module": "@jupyter-widgets/controls",
          "model_name": "ProgressStyleModel",
          "model_module_version": "1.5.0",
          "state": {
            "_view_name": "StyleView",
            "_model_name": "ProgressStyleModel",
            "description_width": "initial",
            "_view_module": "@jupyter-widgets/base",
            "_model_module_version": "1.5.0",
            "_view_count": null,
            "_view_module_version": "1.2.0",
            "bar_color": null,
            "_model_module": "@jupyter-widgets/controls"
          }
        },
        "3f240a4930e84c1cb8b185a7b4a55c22": {
          "model_module": "@jupyter-widgets/base",
          "model_name": "LayoutModel",
          "model_module_version": "1.2.0",
          "state": {
            "_view_name": "LayoutView",
            "grid_template_rows": null,
            "right": null,
            "justify_content": null,
            "_view_module": "@jupyter-widgets/base",
            "overflow": null,
            "_model_module_version": "1.2.0",
            "_view_count": null,
            "flex_flow": null,
            "width": null,
            "min_width": null,
            "border": null,
            "align_items": null,
            "bottom": null,
            "_model_module": "@jupyter-widgets/base",
            "top": null,
            "grid_column": null,
            "overflow_y": null,
            "overflow_x": null,
            "grid_auto_flow": null,
            "grid_area": null,
            "grid_template_columns": null,
            "flex": null,
            "_model_name": "LayoutModel",
            "justify_items": null,
            "grid_row": null,
            "max_height": null,
            "align_content": null,
            "visibility": null,
            "align_self": null,
            "height": null,
            "min_height": null,
            "padding": null,
            "grid_auto_rows": null,
            "grid_gap": null,
            "max_width": null,
            "order": null,
            "_view_module_version": "1.2.0",
            "grid_template_areas": null,
            "object_position": null,
            "object_fit": null,
            "grid_auto_columns": null,
            "margin": null,
            "display": null,
            "left": null
          }
        },
        "9aaa51c737864c1888fd65b78995fc2f": {
          "model_module": "@jupyter-widgets/controls",
          "model_name": "DescriptionStyleModel",
          "model_module_version": "1.5.0",
          "state": {
            "_view_name": "StyleView",
            "_model_name": "DescriptionStyleModel",
            "description_width": "",
            "_view_module": "@jupyter-widgets/base",
            "_model_module_version": "1.5.0",
            "_view_count": null,
            "_view_module_version": "1.2.0",
            "_model_module": "@jupyter-widgets/controls"
          }
        },
        "13f6024acaa94a729fd6dd3972d4549a": {
          "model_module": "@jupyter-widgets/base",
          "model_name": "LayoutModel",
          "model_module_version": "1.2.0",
          "state": {
            "_view_name": "LayoutView",
            "grid_template_rows": null,
            "right": null,
            "justify_content": null,
            "_view_module": "@jupyter-widgets/base",
            "overflow": null,
            "_model_module_version": "1.2.0",
            "_view_count": null,
            "flex_flow": null,
            "width": null,
            "min_width": null,
            "border": null,
            "align_items": null,
            "bottom": null,
            "_model_module": "@jupyter-widgets/base",
            "top": null,
            "grid_column": null,
            "overflow_y": null,
            "overflow_x": null,
            "grid_auto_flow": null,
            "grid_area": null,
            "grid_template_columns": null,
            "flex": null,
            "_model_name": "LayoutModel",
            "justify_items": null,
            "grid_row": null,
            "max_height": null,
            "align_content": null,
            "visibility": null,
            "align_self": null,
            "height": null,
            "min_height": null,
            "padding": null,
            "grid_auto_rows": null,
            "grid_gap": null,
            "max_width": null,
            "order": null,
            "_view_module_version": "1.2.0",
            "grid_template_areas": null,
            "object_position": null,
            "object_fit": null,
            "grid_auto_columns": null,
            "margin": null,
            "display": null,
            "left": null
          }
        },
        "8ef4c6e0ebc748f082581fb2d5f208b1": {
          "model_module": "@jupyter-widgets/controls",
          "model_name": "HBoxModel",
          "model_module_version": "1.5.0",
          "state": {
            "_view_name": "HBoxView",
            "_dom_classes": [],
            "_model_name": "HBoxModel",
            "_view_module": "@jupyter-widgets/controls",
            "_model_module_version": "1.5.0",
            "_view_count": null,
            "_view_module_version": "1.5.0",
            "box_style": "",
            "layout": "IPY_MODEL_db67d6f1225c42babd22ba74237fb845",
            "_model_module": "@jupyter-widgets/controls",
            "children": [
              "IPY_MODEL_7856f40fa86f4624a1ccc9b1347a062c",
              "IPY_MODEL_295dff235033473a9ac1d9ae49aff0bb"
            ]
          }
        },
        "db67d6f1225c42babd22ba74237fb845": {
          "model_module": "@jupyter-widgets/base",
          "model_name": "LayoutModel",
          "model_module_version": "1.2.0",
          "state": {
            "_view_name": "LayoutView",
            "grid_template_rows": null,
            "right": null,
            "justify_content": null,
            "_view_module": "@jupyter-widgets/base",
            "overflow": null,
            "_model_module_version": "1.2.0",
            "_view_count": null,
            "flex_flow": null,
            "width": null,
            "min_width": null,
            "border": null,
            "align_items": null,
            "bottom": null,
            "_model_module": "@jupyter-widgets/base",
            "top": null,
            "grid_column": null,
            "overflow_y": null,
            "overflow_x": null,
            "grid_auto_flow": null,
            "grid_area": null,
            "grid_template_columns": null,
            "flex": null,
            "_model_name": "LayoutModel",
            "justify_items": null,
            "grid_row": null,
            "max_height": null,
            "align_content": null,
            "visibility": null,
            "align_self": null,
            "height": null,
            "min_height": null,
            "padding": null,
            "grid_auto_rows": null,
            "grid_gap": null,
            "max_width": null,
            "order": null,
            "_view_module_version": "1.2.0",
            "grid_template_areas": null,
            "object_position": null,
            "object_fit": null,
            "grid_auto_columns": null,
            "margin": null,
            "display": null,
            "left": null
          }
        },
        "7856f40fa86f4624a1ccc9b1347a062c": {
          "model_module": "@jupyter-widgets/controls",
          "model_name": "FloatProgressModel",
          "model_module_version": "1.5.0",
          "state": {
            "_view_name": "ProgressView",
            "style": "IPY_MODEL_d5a31e87b58c417591bc59bb4aabc447",
            "_dom_classes": [],
            "description": "100%",
            "_model_name": "FloatProgressModel",
            "bar_style": "success",
            "max": 782,
            "_view_module": "@jupyter-widgets/controls",
            "_model_module_version": "1.5.0",
            "value": 782,
            "_view_count": null,
            "_view_module_version": "1.5.0",
            "orientation": "horizontal",
            "min": 0,
            "description_tooltip": null,
            "_model_module": "@jupyter-widgets/controls",
            "layout": "IPY_MODEL_36781f96105a44e598c23c53eab1517c"
          }
        },
        "295dff235033473a9ac1d9ae49aff0bb": {
          "model_module": "@jupyter-widgets/controls",
          "model_name": "HTMLModel",
          "model_module_version": "1.5.0",
          "state": {
            "_view_name": "HTMLView",
            "style": "IPY_MODEL_8ec3fbf28c8b4847b4c6c64c4b7ca422",
            "_dom_classes": [],
            "description": "",
            "_model_name": "HTMLModel",
            "placeholder": "​",
            "_view_module": "@jupyter-widgets/controls",
            "_model_module_version": "1.5.0",
            "value": " 782/782 [08:23&lt;00:00,  1.55it/s]",
            "_view_count": null,
            "_view_module_version": "1.5.0",
            "description_tooltip": null,
            "_model_module": "@jupyter-widgets/controls",
            "layout": "IPY_MODEL_739e45977d034e33b4ea8760146bebfe"
          }
        },
        "d5a31e87b58c417591bc59bb4aabc447": {
          "model_module": "@jupyter-widgets/controls",
          "model_name": "ProgressStyleModel",
          "model_module_version": "1.5.0",
          "state": {
            "_view_name": "StyleView",
            "_model_name": "ProgressStyleModel",
            "description_width": "initial",
            "_view_module": "@jupyter-widgets/base",
            "_model_module_version": "1.5.0",
            "_view_count": null,
            "_view_module_version": "1.2.0",
            "bar_color": null,
            "_model_module": "@jupyter-widgets/controls"
          }
        },
        "36781f96105a44e598c23c53eab1517c": {
          "model_module": "@jupyter-widgets/base",
          "model_name": "LayoutModel",
          "model_module_version": "1.2.0",
          "state": {
            "_view_name": "LayoutView",
            "grid_template_rows": null,
            "right": null,
            "justify_content": null,
            "_view_module": "@jupyter-widgets/base",
            "overflow": null,
            "_model_module_version": "1.2.0",
            "_view_count": null,
            "flex_flow": null,
            "width": null,
            "min_width": null,
            "border": null,
            "align_items": null,
            "bottom": null,
            "_model_module": "@jupyter-widgets/base",
            "top": null,
            "grid_column": null,
            "overflow_y": null,
            "overflow_x": null,
            "grid_auto_flow": null,
            "grid_area": null,
            "grid_template_columns": null,
            "flex": null,
            "_model_name": "LayoutModel",
            "justify_items": null,
            "grid_row": null,
            "max_height": null,
            "align_content": null,
            "visibility": null,
            "align_self": null,
            "height": null,
            "min_height": null,
            "padding": null,
            "grid_auto_rows": null,
            "grid_gap": null,
            "max_width": null,
            "order": null,
            "_view_module_version": "1.2.0",
            "grid_template_areas": null,
            "object_position": null,
            "object_fit": null,
            "grid_auto_columns": null,
            "margin": null,
            "display": null,
            "left": null
          }
        },
        "8ec3fbf28c8b4847b4c6c64c4b7ca422": {
          "model_module": "@jupyter-widgets/controls",
          "model_name": "DescriptionStyleModel",
          "model_module_version": "1.5.0",
          "state": {
            "_view_name": "StyleView",
            "_model_name": "DescriptionStyleModel",
            "description_width": "",
            "_view_module": "@jupyter-widgets/base",
            "_model_module_version": "1.5.0",
            "_view_count": null,
            "_view_module_version": "1.2.0",
            "_model_module": "@jupyter-widgets/controls"
          }
        },
        "739e45977d034e33b4ea8760146bebfe": {
          "model_module": "@jupyter-widgets/base",
          "model_name": "LayoutModel",
          "model_module_version": "1.2.0",
          "state": {
            "_view_name": "LayoutView",
            "grid_template_rows": null,
            "right": null,
            "justify_content": null,
            "_view_module": "@jupyter-widgets/base",
            "overflow": null,
            "_model_module_version": "1.2.0",
            "_view_count": null,
            "flex_flow": null,
            "width": null,
            "min_width": null,
            "border": null,
            "align_items": null,
            "bottom": null,
            "_model_module": "@jupyter-widgets/base",
            "top": null,
            "grid_column": null,
            "overflow_y": null,
            "overflow_x": null,
            "grid_auto_flow": null,
            "grid_area": null,
            "grid_template_columns": null,
            "flex": null,
            "_model_name": "LayoutModel",
            "justify_items": null,
            "grid_row": null,
            "max_height": null,
            "align_content": null,
            "visibility": null,
            "align_self": null,
            "height": null,
            "min_height": null,
            "padding": null,
            "grid_auto_rows": null,
            "grid_gap": null,
            "max_width": null,
            "order": null,
            "_view_module_version": "1.2.0",
            "grid_template_areas": null,
            "object_position": null,
            "object_fit": null,
            "grid_auto_columns": null,
            "margin": null,
            "display": null,
            "left": null
          }
        }
      }
    }
  },
  "cells": [
    {
      "cell_type": "code",
      "metadata": {
        "id": "457IdHaDVaHV",
        "colab": {
          "base_uri": "https://localhost:8080/"
        },
        "outputId": "769f8cf0-cc2c-472e-dff4-0fa85c4cbedb"
      },
      "source": [
        "# 구글드라이브 mount\n",
        "from google.colab import drive\n",
        "drive.mount('/content/drive')"
      ],
      "execution_count": 1,
      "outputs": [
        {
          "output_type": "stream",
          "text": [
            "Drive already mounted at /content/drive; to attempt to forcibly remount, call drive.mount(\"/content/drive\", force_remount=True).\n"
          ],
          "name": "stdout"
        }
      ]
    },
    {
      "cell_type": "markdown",
      "metadata": {
        "id": "ISMvxFqChehh"
      },
      "source": [
        "# E7. Movie Review Sentiment Classification"
      ]
    },
    {
      "cell_type": "markdown",
      "metadata": {
        "id": "GM6kff7chqA0"
      },
      "source": [
        "**실습 목차**    \n",
        "1. NSMC(naver sentiment movie corpus) Data Load\n",
        "2. Text Preprocessing\n",
        "3. Model Training & Evaluation\n",
        "4. KoBERT Sentiment Classification\n",
        "5. Retrospective\n",
        "\n"
      ]
    },
    {
      "cell_type": "markdown",
      "metadata": {
        "id": "f9vvAmMFq6lx"
      },
      "source": [
        "**실습 목표**    \n",
        "> naver 영화 리뷰를 긍정적(1) 혹은 부정적(0) 두 가지로 분류해본다.    \n",
        "라벨이 붙여진 146,182개 텍스트를 훈련하고, 49,157개의 테스트 데이터에 대해 정확도 85% 이상을 달성해보고자 한다.\n",
        "\n",
        "<br>\n",
        "\n",
        "**실습 insight**    \n",
        "> Sentiment analysis is widely applied to voice of the customer(voc, 고객의 소리) materials such as reviews(리뷰) and survey responses(설문조사 반응), online and social media(SNS 글), and healthcare materials(건강관련) for applications that range from marketing(마케팅) to customer service to clinical medicine(의약품 서비스)."
      ]
    },
    {
      "cell_type": "markdown",
      "metadata": {
        "id": "6xHmxpoS4IQ8"
      },
      "source": [
        "## 1. NSMC Data Load"
      ]
    },
    {
      "cell_type": "code",
      "metadata": {
        "colab": {
          "base_uri": "https://localhost:8080/"
        },
        "id": "O5J5yxe3sXsh",
        "outputId": "0edd29b9-e88d-4ee0-fc84-ce2557ee1958"
      },
      "source": [
        "!ls"
      ],
      "execution_count": 2,
      "outputs": [
        {
          "output_type": "stream",
          "text": [
            "drive  sample_data\n"
          ],
          "name": "stdout"
        }
      ]
    },
    {
      "cell_type": "code",
      "metadata": {
        "id": "Af4fE1injcmx"
      },
      "source": [
        "!pip install konlpy"
      ],
      "execution_count": null,
      "outputs": []
    },
    {
      "cell_type": "code",
      "metadata": {
        "id": "PkU-Jo4fjcmx"
      },
      "source": [
        "!sudo apt-get install curl git\n",
        "!bash <(curl -s https://raw.githubusercontent.com/konlpy/konlpy/master/scripts/mecab.sh)"
      ],
      "execution_count": null,
      "outputs": []
    },
    {
      "cell_type": "code",
      "metadata": {
        "id": "BTExZ1hvjcmx"
      },
      "source": [
        "import os\n",
        "import pandas as pd\n",
        "import urllib.request\n",
        "%matplotlib inline\n",
        "import matplotlib.pyplot as plt\n",
        "import re\n",
        "from konlpy.tag import Okt\n",
        "import tensorflow as tf\n",
        "from tensorflow import keras\n",
        "from tensorflow.keras.preprocessing.text import Tokenizer\n",
        "import numpy as np\n",
        "from tensorflow.keras.preprocessing.sequence import pad_sequences\n",
        "from collections import Counter\n",
        "import sklearn\n",
        "from sklearn.model_selection import train_test_split"
      ],
      "execution_count": 5,
      "outputs": []
    },
    {
      "cell_type": "code",
      "metadata": {
        "colab": {
          "base_uri": "https://localhost:8080/",
          "height": 204
        },
        "id": "gSbsPXypjcmy",
        "outputId": "e112805d-5bac-46a4-f9a0-0b412b216c9f"
      },
      "source": [
        "data_dir = \"/content/drive/MyDrive/sentiment_classification\"\n",
        "\n",
        "# 데이터를 읽어봅시다. \n",
        "train_data = pd.read_table(os.path.join(data_dir,\"ratings_train.txt\"))\n",
        "test_data = pd.read_table(os.path.join(data_dir,\"ratings_test.txt\"))\n",
        "\n",
        "train_data.head()"
      ],
      "execution_count": 89,
      "outputs": [
        {
          "output_type": "execute_result",
          "data": {
            "text/html": [
              "<div>\n",
              "<style scoped>\n",
              "    .dataframe tbody tr th:only-of-type {\n",
              "        vertical-align: middle;\n",
              "    }\n",
              "\n",
              "    .dataframe tbody tr th {\n",
              "        vertical-align: top;\n",
              "    }\n",
              "\n",
              "    .dataframe thead th {\n",
              "        text-align: right;\n",
              "    }\n",
              "</style>\n",
              "<table border=\"1\" class=\"dataframe\">\n",
              "  <thead>\n",
              "    <tr style=\"text-align: right;\">\n",
              "      <th></th>\n",
              "      <th>id</th>\n",
              "      <th>document</th>\n",
              "      <th>label</th>\n",
              "    </tr>\n",
              "  </thead>\n",
              "  <tbody>\n",
              "    <tr>\n",
              "      <th>0</th>\n",
              "      <td>9976970</td>\n",
              "      <td>아 더빙.. 진짜 짜증나네요 목소리</td>\n",
              "      <td>0</td>\n",
              "    </tr>\n",
              "    <tr>\n",
              "      <th>1</th>\n",
              "      <td>3819312</td>\n",
              "      <td>흠...포스터보고 초딩영화줄....오버연기조차 가볍지 않구나</td>\n",
              "      <td>1</td>\n",
              "    </tr>\n",
              "    <tr>\n",
              "      <th>2</th>\n",
              "      <td>10265843</td>\n",
              "      <td>너무재밓었다그래서보는것을추천한다</td>\n",
              "      <td>0</td>\n",
              "    </tr>\n",
              "    <tr>\n",
              "      <th>3</th>\n",
              "      <td>9045019</td>\n",
              "      <td>교도소 이야기구먼 ..솔직히 재미는 없다..평점 조정</td>\n",
              "      <td>0</td>\n",
              "    </tr>\n",
              "    <tr>\n",
              "      <th>4</th>\n",
              "      <td>6483659</td>\n",
              "      <td>사이몬페그의 익살스런 연기가 돋보였던 영화!스파이더맨에서 늙어보이기만 했던 커스틴 ...</td>\n",
              "      <td>1</td>\n",
              "    </tr>\n",
              "  </tbody>\n",
              "</table>\n",
              "</div>"
            ],
            "text/plain": [
              "         id                                           document  label\n",
              "0   9976970                                아 더빙.. 진짜 짜증나네요 목소리      0\n",
              "1   3819312                  흠...포스터보고 초딩영화줄....오버연기조차 가볍지 않구나      1\n",
              "2  10265843                                  너무재밓었다그래서보는것을추천한다      0\n",
              "3   9045019                      교도소 이야기구먼 ..솔직히 재미는 없다..평점 조정      0\n",
              "4   6483659  사이몬페그의 익살스런 연기가 돋보였던 영화!스파이더맨에서 늙어보이기만 했던 커스틴 ...      1"
            ]
          },
          "metadata": {
            "tags": []
          },
          "execution_count": 89
        }
      ]
    },
    {
      "cell_type": "code",
      "metadata": {
        "colab": {
          "base_uri": "https://localhost:8080/"
        },
        "id": "TPrHEZivr7uR",
        "outputId": "2723f02a-4718-42ff-8b3e-da23046bfbad"
      },
      "source": [
        "print(train_data.shape)\n",
        "print(test_data.shape)"
      ],
      "execution_count": 90,
      "outputs": [
        {
          "output_type": "stream",
          "text": [
            "(150000, 3)\n",
            "(50000, 3)\n"
          ],
          "name": "stdout"
        }
      ]
    },
    {
      "cell_type": "code",
      "metadata": {
        "id": "J7adEFD39gKL",
        "colab": {
          "base_uri": "https://localhost:8080/"
        },
        "outputId": "0481e62a-3172-496e-9323-ff1fc3134152"
      },
      "source": [
        "from konlpy.tag import Mecab\n",
        "tokenizer = Mecab()\n",
        "stopwords = ['의','가','이','은','들','는','좀','잘','걍','과','도','를','으로','자','에','와','한','하다']\n",
        "\n",
        "# train, test 문장들을 konlpy Mecab으로 토큰화해주며, stopwords 단어들은 포함하지 않습니다.\n",
        "def load_data(train_data, test_data, num_words=15000):\n",
        "  train_data.drop_duplicates(subset=['document'],inplace=True)\n",
        "  test_data.drop_duplicates(subset=['document'],inplace=True)\n",
        "  train_data.dropna(how='any',inplace=True)\n",
        "  test_data.dropna(how='any',inplace=True)\n",
        "  \n",
        "  X_train = []\n",
        "  for sentence in train_data['document']:\n",
        "    temp_X = tokenizer.morphs(sentence)\n",
        "    temp_X = [word for word in temp_X if not word in stopwords]\n",
        "    X_train.append(temp_X)\n",
        "  \n",
        "  X_test = []\n",
        "  for sentence in test_data['document']:\n",
        "    temp_X = tokenizer.morphs(sentence)\n",
        "    temp_X = [word for word in temp_X if not word in stopwords]\n",
        "    X_test.append(temp_X)\n",
        "  \n",
        "  words = np.concatenate(X_train).tolist()\n",
        "  counter = Counter(words)\n",
        "  counter = counter.most_common(10000-4)\n",
        "  vocab = ['','','',''] + [key for key, _ in counter]\n",
        "  word_to_index = {word:index for index, word in enumerate(vocab)}\n",
        "\n",
        "  def wordlist_to_indexlist(wordlist):\n",
        "    return [word_to_index[word] if word in word_to_index else word_to_index[''] for word in wordlist]\n",
        "\n",
        "  X_train = list(map(wordlist_to_indexlist, X_train))\n",
        "  X_test = list(map(wordlist_to_indexlist, X_test))\n",
        "  y_train = np.array(list(train_data[\"label\"]))\n",
        "  y_test = np.array(list(test_data[\"label\"]))\n",
        "\n",
        "  return X_train, y_train, X_test, y_test, word_to_index\n",
        "\n",
        "X_train, y_train, X_test, y_test, word_to_index = load_data(train_data, test_data)\n",
        "print(\"훈련 샘플 개수: {}, 테스트 샘플 개수: {}\".format(len(X_train),len(X_test)))"
      ],
      "execution_count": 91,
      "outputs": [
        {
          "output_type": "stream",
          "text": [
            "훈련 샘플 개수: 146182, 테스트 샘플 개수: 49157\n"
          ],
          "name": "stdout"
        }
      ]
    },
    {
      "cell_type": "code",
      "metadata": {
        "colab": {
          "base_uri": "https://localhost:8080/"
        },
        "id": "RSkiuROur9qD",
        "outputId": "e53b79b8-227d-47b1-c551-3565c99545cd"
      },
      "source": [
        "len(word_to_index)"
      ],
      "execution_count": 92,
      "outputs": [
        {
          "output_type": "execute_result",
          "data": {
            "text/plain": [
              "9997"
            ]
          },
          "metadata": {
            "tags": []
          },
          "execution_count": 92
        }
      ]
    },
    {
      "cell_type": "code",
      "metadata": {
        "colab": {
          "base_uri": "https://localhost:8080/"
        },
        "id": "V7cbGib3o5UQ",
        "outputId": "f7a1bcc1-051f-4a1d-f053-f76a45a2d48d"
      },
      "source": [
        "# 위에서 word_to_index에 필요한 사전을 추가로 정의해줍니다.\n",
        "word_to_index['<PAD>'] = 0\n",
        "word_to_index['<BOS>'] = 1\n",
        "word_to_index['<UNK>'] = 2\n",
        "len(word_to_index)"
      ],
      "execution_count": 93,
      "outputs": [
        {
          "output_type": "execute_result",
          "data": {
            "text/plain": [
              "10000"
            ]
          },
          "metadata": {
            "tags": []
          },
          "execution_count": 93
        }
      ]
    },
    {
      "cell_type": "code",
      "metadata": {
        "id": "lSvsfTLE9gTM"
      },
      "source": [
        "index_to_word = {index:word for word, index in word_to_index.items()}"
      ],
      "execution_count": 94,
      "outputs": []
    },
    {
      "cell_type": "code",
      "metadata": {
        "id": "xKGXfzUL9gX1"
      },
      "source": [
        "# 문장 1개를 활용할 딕셔너리와 함께 주면, 단어 인덱스 리스트 벡터로 변환해 주는 함수입니다. \n",
        "# 단, 모든 문장은 <BOS>로 시작하는 것으로 합니다. \n",
        "def get_encoded_sentence(sentence, word_to_index):\n",
        "    return [word_to_index['<BOS>']]+[word_to_index[word] if word in word_to_index else word_to_index['<UNK>'] for word in sentence.split()]\n",
        "\n",
        "# 여러 개의 문장 리스트를 한꺼번에 단어 인덱스 리스트 벡터로 encode해 주는 함수입니다. \n",
        "def get_encoded_sentences(sentences, word_to_index):\n",
        "    return [get_encoded_sentence(sentence, word_to_index) for sentence in sentences]\n",
        "\n",
        "# 숫자 벡터로 encode된 문장을 원래대로 decode하는 함수입니다. \n",
        "def get_decoded_sentence(encoded_sentence, index_to_word):\n",
        "    return ' '.join(index_to_word[index] if index in index_to_word else '<UNK>' for index in encoded_sentence[1:])  #[1:]를 통해 <BOS>를 제외\n",
        "\n",
        "# 여러 개의 숫자 벡터로 encode된 문장을 한꺼번에 원래대로 decode하는 함수입니다. \n",
        "def get_decoded_sentences(encoded_sentences, index_to_word):\n",
        "    return [get_decoded_sentence(encoded_sentence, index_to_word) for encoded_sentence in encoded_sentences]"
      ],
      "execution_count": 15,
      "outputs": []
    },
    {
      "cell_type": "code",
      "metadata": {
        "colab": {
          "base_uri": "https://localhost:8080/"
        },
        "id": "CeOkUYivby0S",
        "outputId": "c8230536-c88c-4c2f-d2a2-802370ef6be6"
      },
      "source": [
        "print(X_train[0])  # 1번째 리뷰데이터 (word_to_index 인코딩 이미 되어있음)\n",
        "print('라벨: ', y_train[0])  # 1번째 리뷰데이터의 라벨"
      ],
      "execution_count": 129,
      "outputs": [
        {
          "output_type": "stream",
          "text": [
            "[32, 74, 919, 4, 4, 39, 228, 20, 33, 748]\n",
            "라벨:  0\n"
          ],
          "name": "stdout"
        }
      ]
    },
    {
      "cell_type": "code",
      "metadata": {
        "colab": {
          "base_uri": "https://localhost:8080/"
        },
        "id": "B_I5AoCMcSNq",
        "outputId": "725ab698-a62a-480f-8d99-d0d3c46d9dbf"
      },
      "source": [
        "print(get_decoded_sentence(X_train[0], index_to_word)) # index_to_word로 디코딩\n",
        "print('라벨: ', y_train[0])  # 1번째 리뷰데이터의 라벨"
      ],
      "execution_count": 130,
      "outputs": [
        {
          "output_type": "stream",
          "text": [
            "더 빙 . . 진짜 짜증 나 네요 목소리\n",
            "라벨:  0\n"
          ],
          "name": "stdout"
        }
      ]
    },
    {
      "cell_type": "markdown",
      "metadata": {
        "id": "ZHlhsAW_sTs4"
      },
      "source": [
        "- 부정적 리뷰가 출력된 것 확인"
      ]
    },
    {
      "cell_type": "markdown",
      "metadata": {
        "id": "N0coLGqm4RcT"
      },
      "source": [
        "## 2. Text Preprocessing"
      ]
    },
    {
      "cell_type": "code",
      "metadata": {
        "colab": {
          "base_uri": "https://localhost:8080/"
        },
        "id": "7tzz2Rs0eDy7",
        "outputId": "106aedc3-9c36-4846-a627-2b12aceff3ef"
      },
      "source": [
        "total_data_text = list(X_train) + list(X_test)\n",
        "# 텍스트데이터 문장길이의 리스트를 생성한 후\n",
        "num_tokens = [len(tokens) for tokens in total_data_text]\n",
        "num_tokens = np.array(num_tokens)\n",
        "\n",
        "# 문장길이의 평균값, 최대값, 표준편차를 계산해 본다. \n",
        "print('문장길이 평균 : ', np.mean(num_tokens))\n",
        "print('문장길이 최대 : ', np.max(num_tokens))\n",
        "print('문장길이 표준편차 : ', np.std(num_tokens))\n",
        "\n",
        "# 최대 길이를 (평균 + 2*표준편차)로 한다면,  \n",
        "max_tokens = np.mean(num_tokens) + 2 * np.std(num_tokens)\n",
        "maxlen = int(max_tokens)\n",
        "print('pad_sequences maxlen : ', maxlen)\n",
        "print('전체 문장의 {}%가 maxlen 설정값 이내에 포함됩니다. '.format(np.sum(num_tokens < max_tokens)*100 / len(num_tokens)))"
      ],
      "execution_count": 18,
      "outputs": [
        {
          "output_type": "stream",
          "text": [
            "문장길이 평균 :  15.969376315021577\n",
            "문장길이 최대 :  116\n",
            "문장길이 표준편차 :  12.843535456326455\n",
            "pad_sequences maxlen :  41\n",
            "전체 문장의 93.42988343341575%가 maxlen 설정값 이내에 포함됩니다. \n"
          ],
          "name": "stdout"
        }
      ]
    },
    {
      "cell_type": "code",
      "metadata": {
        "colab": {
          "base_uri": "https://localhost:8080/",
          "height": 265
        },
        "id": "e5T1sMyok8aB",
        "outputId": "1f7a81c2-0280-4aeb-f455-4b4e5d8109e5"
      },
      "source": [
        "# 문장길이의 분포를 시각화해본다.\n",
        "plt.hist(num_tokens)\n",
        "plt.show()"
      ],
      "execution_count": 19,
      "outputs": [
        {
          "output_type": "display_data",
          "data": {
            "image/png": "[encoded data removed]",
            "text/plain": [
              "<Figure size 432x288 with 1 Axes>"
            ]
          },
          "metadata": {
            "tags": [],
            "needs_background": "light"
          }
        }
      ]
    },
    {
      "cell_type": "code",
      "metadata": {
        "id": "NytnSUwg9gbC",
        "colab": {
          "base_uri": "https://localhost:8080/"
        },
        "outputId": "c2aecd1b-4800-438a-995a-083771b16e4d"
      },
      "source": [
        "x_train = np.array(X_train)\n",
        "x_test = np.array(X_test)"
      ],
      "execution_count": 20,
      "outputs": [
        {
          "output_type": "stream",
          "text": [
            "/usr/local/lib/python3.7/dist-packages/ipykernel_launcher.py:1: VisibleDeprecationWarning: Creating an ndarray from ragged nested sequences (which is a list-or-tuple of lists-or-tuples-or ndarrays with different lengths or shapes) is deprecated. If you meant to do this, you must specify 'dtype=object' when creating the ndarray\n",
            "  \"\"\"Entry point for launching an IPython kernel.\n",
            "/usr/local/lib/python3.7/dist-packages/ipykernel_launcher.py:2: VisibleDeprecationWarning: Creating an ndarray from ragged nested sequences (which is a list-or-tuple of lists-or-tuples-or ndarrays with different lengths or shapes) is deprecated. If you meant to do this, you must specify 'dtype=object' when creating the ndarray\n",
            "  \n"
          ],
          "name": "stderr"
        }
      ]
    },
    {
      "cell_type": "code",
      "metadata": {
        "colab": {
          "base_uri": "https://localhost:8080/"
        },
        "id": "2-eQAVkaej13",
        "outputId": "3dbbd851-c035-492d-a10f-55f16a33ac83"
      },
      "source": [
        "x_train = keras.preprocessing.sequence.pad_sequences(x_train,\n",
        "                                                        value=word_to_index[\"<PAD>\"],\n",
        "                                                        padding='pre',\n",
        "                                                        maxlen=maxlen)\n",
        "\n",
        "x_test = keras.preprocessing.sequence.pad_sequences(x_test,\n",
        "                                                       value=word_to_index[\"<PAD>\"],\n",
        "                                                       padding='pre',\n",
        "                                                       maxlen=maxlen)\n",
        "\n",
        "print(x_train.shape)\n",
        "print(x_test.shape)"
      ],
      "execution_count": 21,
      "outputs": [
        {
          "output_type": "stream",
          "text": [
            "(146182, 41)\n",
            "(49157, 41)\n"
          ],
          "name": "stdout"
        }
      ]
    },
    {
      "cell_type": "markdown",
      "metadata": {
        "id": "g8jB7vWv4ZCv"
      },
      "source": [
        "## 3. Model Training & Evaluation\n",
        "- 3가지 모델로 영화리뷰 데이터를 훈련 및 평가해봅니다.    \n",
        "(LSTM: RNN 계열로 nlp에 유용, CNN: 이미지 분석에 주로 사용되는 convolution layer이지만 텍스트 분류 모델에 사용 가능, GlobalMaxPooling: pooling layer로 임베딩벡터 분류)\n",
        "- gensim 으로 embedding layer의 weight가 벡터공간에 잘 구성되어있는지 평가해봅니다.\n",
        "- pretrained korean word2vec를 가져와서 모델의 embedding layer에 활용합니다."
      ]
    },
    {
      "cell_type": "code",
      "metadata": {
        "id": "TzNVpu5l2dCR"
      },
      "source": [
        "vocab_size = len(word_to_index)  # 10000개 단어사전\n",
        "word_vector_dim = 100    # 100차원 단어 벡터\n",
        "\n",
        "# 검증 데이터셋을 분리해줍니다.\n",
        "partial_x_train, x_val, partial_y_train, y_val = train_test_split(x_train, y_train, test_size=0.2)"
      ],
      "execution_count": 131,
      "outputs": []
    },
    {
      "cell_type": "code",
      "metadata": {
        "id": "EZEp9A_mgNqR"
      },
      "source": [
        "# 모델의 history를 시각화하는 함수를 정의합니다.\n",
        "def visualize(history_dict):\n",
        "  acc = history_dict['accuracy']\n",
        "  val_acc = history_dict['val_accuracy']\n",
        "  loss = history_dict['loss']\n",
        "  val_loss = history_dict['val_loss']\n",
        "\n",
        "  epochs = range(1, len(acc) + 1)\n",
        "  \n",
        "  fig = plt.figure(figsize=(8, 6))\n",
        "  ax1 = fig.add_subplot(211)\n",
        "  ax2 = fig.add_subplot(212)\n",
        "\n",
        "# \"bo\"는 \"파란색 점\"입니다\n",
        "  ax1.plot(epochs, loss, 'bo', label='Training loss')\n",
        "# b는 \"파란 실선\"입니다\n",
        "  ax1.plot(epochs, val_loss, 'b', label='Validation loss')\n",
        "  ax1.set_title('Training and validation loss')\n",
        "  ax1.set_xlabel('Epochs')\n",
        "  ax1.set_ylabel('Loss')\n",
        "  ax1.legend()\n",
        "\n",
        "  ax2.plot(epochs, acc, 'bo', label='Training acc')\n",
        "  ax2.plot(epochs, val_acc, 'b', label='Validation acc')\n",
        "  ax2.set_title('Training and validation accuracy')\n",
        "  ax2.set_xlabel('Epochs')\n",
        "  ax2.set_ylabel('Accuracy')\n",
        "  ax2.legend()\n",
        "  \n",
        "  plt.tight_layout()\n",
        "  plt.show()"
      ],
      "execution_count": 23,
      "outputs": []
    },
    {
      "cell_type": "markdown",
      "metadata": {
        "id": "BYspP5FdDfkg"
      },
      "source": [
        "**본격적인 모델 구성**\n",
        "> 아래 3개의 모델 구조는 노드를 참고했으며, 노드의 모델을 그대로 사용하면 테스트 정확도가 85%에 미치지 못했습니다.      \n",
        "이를 개선하고자, dense layer 전에 dropout layer(rate=0.3)를 추가해서 test accuracy를 올렸습니다."
      ]
    },
    {
      "cell_type": "code",
      "metadata": {
        "id": "lr49EmtI9giG",
        "colab": {
          "base_uri": "https://localhost:8080/"
        },
        "outputId": "52fcd99a-f04e-4c0a-d749-45e1eccd8c88"
      },
      "source": [
        "model = keras.Sequential()\n",
        "model.add(keras.layers.Embedding(vocab_size, word_vector_dim, input_shape=(None,)))\n",
        "model.add(keras.layers.LSTM(16))\n",
        "model.add(keras.layers.Dropout(0.3))   # dropout layer 추가\n",
        "model.add(keras.layers.Dense(16, activation='relu'))\n",
        "model.add(keras.layers.Dense(1, activation='sigmoid'))  # 최종 출력은 긍정/부정을 나타내는 1dim 입니다.\n",
        "\n",
        "model.summary()"
      ],
      "execution_count": 132,
      "outputs": [
        {
          "output_type": "stream",
          "text": [
            "Model: \"sequential_13\"\n",
            "_________________________________________________________________\n",
            "Layer (type)                 Output Shape              Param #   \n",
            "=================================================================\n",
            "embedding_13 (Embedding)     (None, None, 100)         1000000   \n",
            "_________________________________________________________________\n",
            "lstm_3 (LSTM)                (None, 16)                7488      \n",
            "_________________________________________________________________\n",
            "dropout_9 (Dropout)          (None, 16)                0         \n",
            "_________________________________________________________________\n",
            "dense_26 (Dense)             (None, 16)                272       \n",
            "_________________________________________________________________\n",
            "dense_27 (Dense)             (None, 1)                 17        \n",
            "=================================================================\n",
            "Total params: 1,007,777\n",
            "Trainable params: 1,007,777\n",
            "Non-trainable params: 0\n",
            "_________________________________________________________________\n"
          ],
          "name": "stdout"
        }
      ]
    },
    {
      "cell_type": "code",
      "metadata": {
        "colab": {
          "base_uri": "https://localhost:8080/"
        },
        "id": "R9wcLITGf6Ls",
        "outputId": "8699f275-6dde-474a-f971-04df9baaec13"
      },
      "source": [
        "model.compile(optimizer='adam',\n",
        "              loss='binary_crossentropy',\n",
        "              metrics=['accuracy'])\n",
        "              \n",
        "epochs=5 # epoch가 5를 넘어서면 val_accuracy가 떨어지는 것을 확인해서 5로 설정.\n",
        "\n",
        "history = model.fit(partial_x_train,\n",
        "                    partial_y_train,\n",
        "                    epochs=epochs,\n",
        "                    batch_size=512,\n",
        "                    validation_data=(x_val, y_val),\n",
        "                    verbose=1)"
      ],
      "execution_count": 133,
      "outputs": [
        {
          "output_type": "stream",
          "text": [
            "Epoch 1/5\n",
            "229/229 [==============================] - 6s 21ms/step - loss: 0.4416 - accuracy: 0.8026 - val_loss: 0.3569 - val_accuracy: 0.8454\n",
            "Epoch 2/5\n",
            "229/229 [==============================] - 5s 22ms/step - loss: 0.3278 - accuracy: 0.8629 - val_loss: 0.3430 - val_accuracy: 0.8498\n",
            "Epoch 3/5\n",
            "229/229 [==============================] - 5s 22ms/step - loss: 0.2992 - accuracy: 0.8759 - val_loss: 0.3412 - val_accuracy: 0.8530\n",
            "Epoch 4/5\n",
            "229/229 [==============================] - 5s 23ms/step - loss: 0.2754 - accuracy: 0.8876 - val_loss: 0.3409 - val_accuracy: 0.8546\n",
            "Epoch 5/5\n",
            "229/229 [==============================] - 5s 23ms/step - loss: 0.2539 - accuracy: 0.8970 - val_loss: 0.3475 - val_accuracy: 0.8530\n"
          ],
          "name": "stdout"
        }
      ]
    },
    {
      "cell_type": "code",
      "metadata": {
        "colab": {
          "base_uri": "https://localhost:8080/",
          "height": 492
        },
        "id": "JHAyV2sDjpE4",
        "outputId": "6232a222-bac4-4a0d-a015-71e4ba75479d"
      },
      "source": [
        "results = model.evaluate(x_test,  y_test, verbose=2)\n",
        "\n",
        "history_dict = history.history\n",
        "print(history_dict.keys()) # epoch에 따른 그래프를 그려볼 수 있는 항목들\n",
        "print(\"---------------------------\")\n",
        "visualize(history_dict)"
      ],
      "execution_count": 134,
      "outputs": [
        {
          "output_type": "stream",
          "text": [
            "1537/1537 - 4s - loss: 0.3540 - accuracy: 0.8499\n",
            "dict_keys(['loss', 'accuracy', 'val_loss', 'val_accuracy'])\n",
            "---------------------------\n"
          ],
          "name": "stdout"
        },
        {
          "output_type": "display_data",
          "data": {
            "image/png": "[encoded data removed]",
            "text/plain": [
              "<Figure size 576x432 with 2 Axes>"
            ]
          },
          "metadata": {
            "tags": [],
            "needs_background": "light"
          }
        }
      ]
    },
    {
      "cell_type": "code",
      "metadata": {
        "id": "HtqSPTlP9gls",
        "colab": {
          "base_uri": "https://localhost:8080/"
        },
        "outputId": "f7c6404f-0b45-49ee-e303-cfc11f5eac45"
      },
      "source": [
        "model = keras.Sequential()\n",
        "model.add(keras.layers.Embedding(vocab_size, word_vector_dim, input_shape=(None,)))\n",
        "model.add(keras.layers.Conv1D(32, 7, activation='relu'))\n",
        "model.add(keras.layers.MaxPooling1D(5))\n",
        "model.add(keras.layers.Conv1D(32, 7, activation='relu'))\n",
        "model.add(keras.layers.GlobalMaxPooling1D())\n",
        "model.add(keras.layers.Dropout(0.3))   # dropout layer 추가\n",
        "model.add(keras.layers.Dense(16, activation='relu'))\n",
        "model.add(keras.layers.Dense(1, activation='sigmoid'))  # 최종 출력은 긍정/부정을 나타내는 1dim 입니다.\n",
        "\n",
        "model.summary()"
      ],
      "execution_count": 137,
      "outputs": [
        {
          "output_type": "stream",
          "text": [
            "Model: \"sequential_15\"\n",
            "_________________________________________________________________\n",
            "Layer (type)                 Output Shape              Param #   \n",
            "=================================================================\n",
            "embedding_15 (Embedding)     (None, None, 100)         1000000   \n",
            "_________________________________________________________________\n",
            "conv1d_12 (Conv1D)           (None, None, 32)          22432     \n",
            "_________________________________________________________________\n",
            "max_pooling1d_6 (MaxPooling1 (None, None, 32)          0         \n",
            "_________________________________________________________________\n",
            "conv1d_13 (Conv1D)           (None, None, 32)          7200      \n",
            "_________________________________________________________________\n",
            "global_max_pooling1d_11 (Glo (None, 32)                0         \n",
            "_________________________________________________________________\n",
            "dropout_11 (Dropout)         (None, 32)                0         \n",
            "_________________________________________________________________\n",
            "dense_30 (Dense)             (None, 16)                528       \n",
            "_________________________________________________________________\n",
            "dense_31 (Dense)             (None, 1)                 17        \n",
            "=================================================================\n",
            "Total params: 1,030,177\n",
            "Trainable params: 1,030,177\n",
            "Non-trainable params: 0\n",
            "_________________________________________________________________\n"
          ],
          "name": "stdout"
        }
      ]
    },
    {
      "cell_type": "code",
      "metadata": {
        "colab": {
          "base_uri": "https://localhost:8080/"
        },
        "id": "TDDhV4GhnSD1",
        "outputId": "b2ae3d3b-f73c-4feb-f8b0-8363b64a5f2c"
      },
      "source": [
        "model.compile(optimizer='adam',\n",
        "              loss='binary_crossentropy',\n",
        "              metrics=['accuracy'])\n",
        "              \n",
        "epochs=3     # val_accuracy가 떨어지지 않는 epoch 수를 설정해줍니다.\n",
        "\n",
        "history = model.fit(partial_x_train,\n",
        "                    partial_y_train,\n",
        "                    epochs=epochs,\n",
        "                    batch_size=512,\n",
        "                    validation_data=(x_val, y_val),\n",
        "                    verbose=1)"
      ],
      "execution_count": 138,
      "outputs": [
        {
          "output_type": "stream",
          "text": [
            "Epoch 1/3\n",
            "229/229 [==============================] - 5s 21ms/step - loss: 0.4633 - accuracy: 0.7690 - val_loss: 0.3440 - val_accuracy: 0.8500\n",
            "Epoch 2/3\n",
            "229/229 [==============================] - 5s 22ms/step - loss: 0.3105 - accuracy: 0.8723 - val_loss: 0.3286 - val_accuracy: 0.8569\n",
            "Epoch 3/3\n",
            "229/229 [==============================] - 5s 24ms/step - loss: 0.2477 - accuracy: 0.9033 - val_loss: 0.3441 - val_accuracy: 0.8574\n"
          ],
          "name": "stdout"
        }
      ]
    },
    {
      "cell_type": "code",
      "metadata": {
        "colab": {
          "base_uri": "https://localhost:8080/",
          "height": 492
        },
        "id": "Dt2LzFFjnbkB",
        "outputId": "0234f69c-b0cf-4399-adf1-b1a3aadc1d4d"
      },
      "source": [
        "results = model.evaluate(x_test,  y_test, verbose=2)\n",
        "\n",
        "history_dict = history.history\n",
        "print(history_dict.keys()) # epoch에 따른 그래프를 그려볼 수 있는 항목들\n",
        "print(\"---------------------------\")\n",
        "visualize(history_dict)"
      ],
      "execution_count": 139,
      "outputs": [
        {
          "output_type": "stream",
          "text": [
            "1537/1537 - 3s - loss: 0.3534 - accuracy: 0.8542\n",
            "dict_keys(['loss', 'accuracy', 'val_loss', 'val_accuracy'])\n",
            "---------------------------\n"
          ],
          "name": "stdout"
        },
        {
          "output_type": "display_data",
          "data": {
            "image/png": "[encoded data removed]",
            "text/plain": [
              "<Figure size 576x432 with 2 Axes>"
            ]
          },
          "metadata": {
            "tags": [],
            "needs_background": "light"
          }
        }
      ]
    },
    {
      "cell_type": "code",
      "metadata": {
        "id": "p-T56Dxn9grK",
        "colab": {
          "base_uri": "https://localhost:8080/"
        },
        "outputId": "f10ced28-f3f6-4861-c4e8-3fba12c9a2d1"
      },
      "source": [
        "model = keras.Sequential()\n",
        "model.add(keras.layers.Embedding(vocab_size, word_vector_dim, input_shape=(None,)))\n",
        "model.add(keras.layers.GlobalMaxPooling1D())\n",
        "model.add(keras.layers.Dropout(0.3))   # dropout layer 추가\n",
        "model.add(keras.layers.Dense(16, activation='relu'))\n",
        "model.add(keras.layers.Dense(1, activation='sigmoid'))  # 최종 출력은 긍정/부정을 나타내는 1dim 입니다.\n",
        "\n",
        "model.summary()"
      ],
      "execution_count": 145,
      "outputs": [
        {
          "output_type": "stream",
          "text": [
            "Model: \"sequential_18\"\n",
            "_________________________________________________________________\n",
            "Layer (type)                 Output Shape              Param #   \n",
            "=================================================================\n",
            "embedding_18 (Embedding)     (None, None, 100)         1000000   \n",
            "_________________________________________________________________\n",
            "global_max_pooling1d_14 (Glo (None, 100)               0         \n",
            "_________________________________________________________________\n",
            "dropout_14 (Dropout)         (None, 100)               0         \n",
            "_________________________________________________________________\n",
            "dense_36 (Dense)             (None, 16)                1616      \n",
            "_________________________________________________________________\n",
            "dense_37 (Dense)             (None, 1)                 17        \n",
            "=================================================================\n",
            "Total params: 1,001,633\n",
            "Trainable params: 1,001,633\n",
            "Non-trainable params: 0\n",
            "_________________________________________________________________\n"
          ],
          "name": "stdout"
        }
      ]
    },
    {
      "cell_type": "code",
      "metadata": {
        "id": "6Ga6wpIt9guF",
        "colab": {
          "base_uri": "https://localhost:8080/"
        },
        "outputId": "3280b903-350e-4566-880a-bb89f7f080e6"
      },
      "source": [
        "model.compile(optimizer='adam',\n",
        "              loss='binary_crossentropy',\n",
        "              metrics=['accuracy'])\n",
        "              \n",
        "epochs=5\n",
        "\n",
        "history = model.fit(partial_x_train,\n",
        "                    partial_y_train,\n",
        "                    epochs=epochs,\n",
        "                    batch_size=512,\n",
        "                    validation_data=(x_val, y_val),\n",
        "                    verbose=1)"
      ],
      "execution_count": 146,
      "outputs": [
        {
          "output_type": "stream",
          "text": [
            "Epoch 1/5\n",
            "229/229 [==============================] - 4s 17ms/step - loss: 0.5050 - accuracy: 0.7598 - val_loss: 0.3628 - val_accuracy: 0.8402\n",
            "Epoch 2/5\n",
            "229/229 [==============================] - 4s 17ms/step - loss: 0.3450 - accuracy: 0.8514 - val_loss: 0.3416 - val_accuracy: 0.8507\n",
            "Epoch 3/5\n",
            "229/229 [==============================] - 4s 17ms/step - loss: 0.3107 - accuracy: 0.8689 - val_loss: 0.3391 - val_accuracy: 0.8533\n",
            "Epoch 4/5\n",
            "229/229 [==============================] - 4s 17ms/step - loss: 0.2870 - accuracy: 0.8804 - val_loss: 0.3421 - val_accuracy: 0.8521\n",
            "Epoch 5/5\n",
            "229/229 [==============================] - 4s 17ms/step - loss: 0.2699 - accuracy: 0.8885 - val_loss: 0.3446 - val_accuracy: 0.8517\n"
          ],
          "name": "stdout"
        }
      ]
    },
    {
      "cell_type": "code",
      "metadata": {
        "id": "1sWSdk1O9hDI",
        "colab": {
          "base_uri": "https://localhost:8080/",
          "height": 492
        },
        "outputId": "09f9cd3b-a81c-4dcb-d14e-9aff932c1930"
      },
      "source": [
        "results = model.evaluate(x_test,  y_test, verbose=2)\n",
        "\n",
        "history_dict = history.history\n",
        "print(history_dict.keys()) # epoch에 따른 그래프를 그려볼 수 있는 항목들\n",
        "print(\"---------------------------\")\n",
        "visualize(history_dict)"
      ],
      "execution_count": 147,
      "outputs": [
        {
          "output_type": "stream",
          "text": [
            "1537/1537 - 2s - loss: 0.3528 - accuracy: 0.8487\n",
            "dict_keys(['loss', 'accuracy', 'val_loss', 'val_accuracy'])\n",
            "---------------------------\n"
          ],
          "name": "stdout"
        },
        {
          "output_type": "display_data",
          "data": {
            "image/png": "[encoded data removed]",
            "text/plain": [
              "<Figure size 576x432 with 2 Axes>"
            ]
          },
          "metadata": {
            "tags": [],
            "needs_background": "light"
          }
        }
      ]
    },
    {
      "cell_type": "markdown",
      "metadata": {
        "id": "ZM-9SWfm9hGy"
      },
      "source": [
        "**모델 평가 정리** \n",
        "- 3개 모델 훈련 및 평가 결과, loss와 accuracy를 시각화한 그래프가 유사한 모습을 보입니다. training loss와 training accuracy는 각각 감소하고 증가하는데 validation loss와 validation accuracy는 개선되지 않고 변화가 없는 모양을 보입니다. 이는 3개 모델 모두 훈련 데이터셋에는 오버피팅되고 있으며, 테스트 데이터셋에 대한 정확도는 일정 수준을 벗어나지 못한다는 점을 보여줍니다.\n",
        "- (아래 그림) epoch가 5를 넘어가면 오히려 validation accuracy가 떨어지고, validation loss는 증가하는 현상이 발생하면서 오버피팅이 심해진다는 것을 알 수 있었습니다. training loss는 감소하고, training accuracy도 90%를 넘어섰음에도 불구하고 테스트 데이터셋을 맞추는 정확도가 점점 낮아지는 것입니다. 따라서 epoch는 5로 설정해주었습니다."
      ]
    },
    {
      "cell_type": "markdown",
      "metadata": {
        "id": "W4YANyy-HD1c"
      },
      "source": [
        "![Screen Shot 2021-08-12 at 3.43.17 PM.png](data:image/png;base64,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)"
      ]
    },
    {
      "cell_type": "markdown",
      "metadata": {
        "id": "CIt0xULWsoK7"
      },
      "source": [
        "**임베딩 레이어를 gensim으로 분석**"
      ]
    },
    {
      "cell_type": "code",
      "metadata": {
        "id": "rUq_ALDkjRLO",
        "colab": {
          "base_uri": "https://localhost:8080/"
        },
        "outputId": "707d0c10-61fd-475c-b1d2-d6dd783d6a77"
      },
      "source": [
        "%cd '/content/drive/MyDrive/sentiment_classification'"
      ],
      "execution_count": 116,
      "outputs": [
        {
          "output_type": "stream",
          "text": [
            "/content/drive/MyDrive/sentiment_classification\n"
          ],
          "name": "stdout"
        }
      ]
    },
    {
      "cell_type": "code",
      "metadata": {
        "id": "NRO7CcU56Lyj"
      },
      "source": [
        "!pip install gensim"
      ],
      "execution_count": null,
      "outputs": []
    },
    {
      "cell_type": "code",
      "metadata": {
        "colab": {
          "base_uri": "https://localhost:8080/"
        },
        "id": "lTsi8uVs6Oem",
        "outputId": "e3d284b6-4d1c-4728-8231-f5ab00cd0069"
      },
      "source": [
        "embedding_layer = model.layers[0]\n",
        "weights = embedding_layer.get_weights()[0]\n",
        "print(weights.shape)"
      ],
      "execution_count": 148,
      "outputs": [
        {
          "output_type": "stream",
          "text": [
            "(10000, 100)\n"
          ],
          "name": "stdout"
        }
      ]
    },
    {
      "cell_type": "code",
      "metadata": {
        "id": "gN5Z4ozj6WXA"
      },
      "source": [
        "# 학습한 Embedding 파라미터를 파일에 써서 저장합니다. \n",
        "word2vec_file_path = '/content/drive/MyDrive/sentiment_classification/word2vec.txt'\n",
        "f = open(word2vec_file_path, 'w')\n",
        "f.write('{} {}\\n'.format(vocab_size-4, word_vector_dim))  # 몇개의 벡터를 얼마 사이즈로 기재할지 타이틀을 씁니다.\n",
        "\n",
        "# 단어 개수(에서 특수문자 4개는 제외하고)만큼의 워드 벡터를 파일에 기록합니다. \n",
        "vectors = model.get_weights()[0]\n",
        "for i in range(4,vocab_size):\n",
        "    f.write('{} {}\\n'.format(index_to_word[i], ' '.join(map(str, list(vectors[i, :])))))\n",
        "f.close()"
      ],
      "execution_count": 149,
      "outputs": []
    },
    {
      "cell_type": "code",
      "metadata": {
        "colab": {
          "base_uri": "https://localhost:8080/"
        },
        "id": "Q-M73EFc7EO4",
        "outputId": "b5c5fbde-b11a-4d01-dc87-7e67588cfad6"
      },
      "source": [
        "from gensim.models.keyedvectors import Word2VecKeyedVectors\n",
        "\n",
        "word_vectors = Word2VecKeyedVectors.load_word2vec_format(word2vec_file_path, binary=False)\n",
        "vector = word_vectors['사랑']\n",
        "vector"
      ],
      "execution_count": 150,
      "outputs": [
        {
          "output_type": "execute_result",
          "data": {
            "text/plain": [
              "array([ 0.00172239, -0.01084039,  0.00132807, -0.08903574,  0.04152831,\n",
              "       -0.05667739, -0.00985014, -0.04297294, -0.01415298,  0.08794648,\n",
              "       -0.06421419, -0.01959124, -0.06625115,  0.00510448, -0.03424963,\n",
              "        0.05579205, -0.06685013, -0.00281378, -0.03225538,  0.09599168,\n",
              "        0.0201087 , -0.06189896,  0.02729306, -0.01471377,  0.06445993,\n",
              "        0.07424733, -0.04640458,  0.01865825,  0.05238771,  0.12805778,\n",
              "       -0.06521933, -0.10606438,  0.01831707, -0.03755601,  0.09216556,\n",
              "       -0.06085185, -0.06063149, -0.05415209, -0.01461059,  0.07124431,\n",
              "       -0.0342978 , -0.05036067,  0.0201979 , -0.02210656, -0.02262294,\n",
              "       -0.06431177, -0.10418733,  0.0129995 , -0.07979594, -0.10916485,\n",
              "        0.09096116, -0.05734424,  0.1005078 , -0.04958043,  0.02330215,\n",
              "       -0.02945049, -0.02139065, -0.01774319, -0.05153545,  0.00893199,\n",
              "       -0.07501499, -0.05113217, -0.09002002, -0.03096576, -0.06086092,\n",
              "       -0.02001741, -0.06084745, -0.05096696, -0.04302623, -0.00186617,\n",
              "        0.08536223, -0.00426896, -0.08075602,  0.02109964, -0.06694102,\n",
              "       -0.0521668 ,  0.01218504, -0.0559722 , -0.00839236,  0.07640401,\n",
              "       -0.05562977, -0.07836789, -0.09520861, -0.06543732, -0.0251576 ,\n",
              "        0.07154419, -0.08140566,  0.02581196,  0.02157402, -0.03604528,\n",
              "       -0.02285405, -0.00103476, -0.08184659,  0.06610065, -0.03903342,\n",
              "       -0.06564604, -0.06822681, -0.07584049, -0.02123534, -0.03360517],\n",
              "      dtype=float32)"
            ]
          },
          "metadata": {
            "tags": []
          },
          "execution_count": 150
        }
      ]
    },
    {
      "cell_type": "code",
      "metadata": {
        "colab": {
          "base_uri": "https://localhost:8080/"
        },
        "id": "zRYSUqec7LlZ",
        "outputId": "920d89c6-288d-4bed-f16d-e25b09ca8bab"
      },
      "source": [
        "word_vectors.similar_by_word(\"사랑\")"
      ],
      "execution_count": 151,
      "outputs": [
        {
          "output_type": "execute_result",
          "data": {
            "text/plain": [
              "[('눈물', 0.5531785488128662),\n",
              " ('아요', 0.5431814193725586),\n",
              " ('진수', 0.5403304100036621),\n",
              " ('퍼지', 0.5401608347892761),\n",
              " ('소지섭', 0.5344120264053345),\n",
              " ('장면', 0.5169563293457031),\n",
              " ('존경', 0.5154414176940918),\n",
              " ('~~', 0.5153906345367432),\n",
              " ('핫', 0.5091923475265503),\n",
              " ('자유', 0.5004719495773315)]"
            ]
          },
          "metadata": {
            "tags": []
          },
          "execution_count": 151
        }
      ]
    },
    {
      "cell_type": "markdown",
      "metadata": {
        "id": "WV5v2WnmkHjm"
      },
      "source": [
        "- 위에서 훈련한 모델의 임베딩레이어를 벡터로 가져온 word2vec 에서 '사랑'이란 단어와 거리가 가까운 단어들이 딱히 관련이 없어보입니다."
      ]
    },
    {
      "cell_type": "markdown",
      "metadata": {
        "id": "HJNfPf4j8xU2"
      },
      "source": [
        "**pretrained word2vec를 gensim으로 분석**"
      ]
    },
    {
      "cell_type": "code",
      "metadata": {
        "colab": {
          "base_uri": "https://localhost:8080/"
        },
        "id": "2_jUyDSL7PTf",
        "outputId": "8e2d869a-0a65-4f64-c368-3be01c0e74d0"
      },
      "source": [
        "# pretrained 한글 word2vec (https://github.com/Kyubyong/wordvectors)을 불러옵니다.\n",
        "word2vec_path = '/content/drive/MyDrive/sentiment_classification/ko.bin'\n",
        "\n",
        "from gensim.models import Word2Vec\n",
        "word2vec = Word2Vec.load(word2vec_path)\n",
        "vector = word2vec['사랑']\n",
        "vector"
      ],
      "execution_count": 152,
      "outputs": [
        {
          "output_type": "stream",
          "text": [
            "/usr/local/lib/python3.7/dist-packages/ipykernel_launcher.py:6: DeprecationWarning: Call to deprecated `__getitem__` (Method will be removed in 4.0.0, use self.wv.__getitem__() instead).\n",
            "  \n"
          ],
          "name": "stderr"
        },
        {
          "output_type": "execute_result",
          "data": {
            "text/plain": [
              "array([-1.3740246 , -1.7353463 ,  3.3915305 , -2.569253  , -1.4016607 ,\n",
              "        1.4556127 ,  0.9414557 ,  1.9207907 ,  0.16471806,  0.4838317 ,\n",
              "       -0.8547181 ,  2.0879807 ,  0.86741775,  0.87539405, -0.09962013,\n",
              "        0.22928311, -1.1858722 ,  0.00858838,  1.4999928 , -0.16196461,\n",
              "       -0.35184434, -0.92390764,  1.0849575 ,  0.3025011 ,  2.7021565 ,\n",
              "       -1.0263684 ,  0.32864776, -0.76589465, -2.510981  , -0.66225356,\n",
              "        2.8434615 ,  0.50130975, -1.021874  , -1.4366034 ,  1.1110784 ,\n",
              "        0.5812605 , -0.5830406 , -0.5785423 ,  1.3634988 ,  2.3074338 ,\n",
              "       -1.4314893 ,  0.45745876,  1.1073523 , -3.2135262 , -0.2898375 ,\n",
              "       -1.1622221 ,  1.2369208 , -0.7622987 , -0.37757635,  1.1376442 ,\n",
              "        0.01065568, -0.69105595,  1.5159112 ,  1.1534518 , -1.0119992 ,\n",
              "       -0.5757404 ,  1.1349088 , -1.1289831 ,  0.13004152,  2.0451715 ,\n",
              "       -0.23940353,  1.3604902 ,  0.72700524,  0.32545742,  1.0612459 ,\n",
              "        0.42252553,  1.1442151 ,  2.8774905 ,  2.4377263 , -1.340305  ,\n",
              "        0.12629706, -0.07772489, -0.59053177, -0.19007324,  0.1396541 ,\n",
              "       -1.8655105 ,  0.9401054 ,  0.5150856 ,  0.7795373 , -0.86505556,\n",
              "        0.11842118, -1.8303713 ,  1.337177  , -1.0102932 , -0.37180334,\n",
              "        0.00893255, -0.49141577, -1.05802   , -2.5987291 ,  0.9731856 ,\n",
              "        0.34080654, -2.5973568 ,  1.0046519 , -1.3914212 , -0.6504351 ,\n",
              "       -0.9010805 , -1.1341541 ,  0.75565654,  1.2941337 ,  0.0880572 ,\n",
              "       -1.0341461 , -0.1750075 , -0.01880708, -1.0835075 , -2.0333962 ,\n",
              "        1.1372623 ,  1.0626172 , -1.8369784 , -2.2662086 , -3.382057  ,\n",
              "        1.6751666 , -0.2988223 , -0.25563756, -1.5594274 ,  0.6313433 ,\n",
              "       -1.2667153 , -1.6857744 , -1.0949599 ,  0.7742313 , -0.6095523 ,\n",
              "        3.19503   ,  0.13200459,  1.7937473 , -2.8782516 ,  1.3821276 ,\n",
              "        2.2895143 ,  0.0741943 , -0.41046414,  1.438796  ,  0.19373988,\n",
              "        1.4294034 ,  1.5025262 ,  1.4849502 ,  1.5754777 ,  2.7793512 ,\n",
              "       -0.6885003 , -0.30154693, -1.708323  ,  1.1030879 , -2.2597387 ,\n",
              "        1.1909146 ,  2.4399316 ,  0.3990314 ,  0.904154  ,  0.5454401 ,\n",
              "       -1.3235748 , -0.64812386,  0.22390233,  0.9657619 , -0.47360668,\n",
              "       -0.10278235, -1.0679734 , -0.91414386,  0.92069   ,  0.3549338 ,\n",
              "        0.32858834,  0.84870636,  3.596926  , -1.6651102 ,  0.23658653,\n",
              "        1.0515738 ,  0.40531915, -0.773514  , -0.93460965, -0.3946274 ,\n",
              "       -1.5657727 ,  1.183652  ,  2.5277    ,  0.57700926,  1.7051374 ,\n",
              "       -1.8249958 , -2.0328498 ,  0.6617798 ,  0.85747904,  0.31782728,\n",
              "       -1.1660796 ,  0.32923874,  2.2055087 , -0.12782003,  2.0455444 ,\n",
              "       -0.1724252 ,  0.46001154,  1.559042  , -1.6152996 , -0.84242785,\n",
              "        0.7553168 ,  0.39734274,  0.07714175,  0.05610155,  0.32837135,\n",
              "        1.0220716 ,  1.3816743 ,  0.8049544 ,  0.28728685, -0.97610044,\n",
              "        0.8861181 , -0.01250968, -1.4845604 , -1.5236791 , -1.5451258 ],\n",
              "      dtype=float32)"
            ]
          },
          "metadata": {
            "tags": []
          },
          "execution_count": 152
        }
      ]
    },
    {
      "cell_type": "code",
      "metadata": {
        "colab": {
          "base_uri": "https://localhost:8080/"
        },
        "id": "gkrfXxsF7nT8",
        "outputId": "d213aad6-1b37-461c-f7fa-9619475bed2b"
      },
      "source": [
        "word2vec.similar_by_word(\"사랑\")"
      ],
      "execution_count": 153,
      "outputs": [
        {
          "output_type": "stream",
          "text": [
            "/usr/local/lib/python3.7/dist-packages/ipykernel_launcher.py:1: DeprecationWarning: Call to deprecated `similar_by_word` (Method will be removed in 4.0.0, use self.wv.similar_by_word() instead).\n",
            "  \"\"\"Entry point for launching an IPython kernel.\n"
          ],
          "name": "stderr"
        },
        {
          "output_type": "execute_result",
          "data": {
            "text/plain": [
              "[('슬픔', 0.7216662764549255),\n",
              " ('행복', 0.6759077310562134),\n",
              " ('절망', 0.6468985080718994),\n",
              " ('기쁨', 0.6458414196968079),\n",
              " ('이별', 0.6334798336029053),\n",
              " ('추억', 0.6320937275886536),\n",
              " ('인생', 0.6216273307800293),\n",
              " ('애정', 0.6206069588661194),\n",
              " ('연인', 0.6186063289642334),\n",
              " ('유혹', 0.5965287685394287)]"
            ]
          },
          "metadata": {
            "tags": []
          },
          "execution_count": 153
        }
      ]
    },
    {
      "cell_type": "markdown",
      "metadata": {
        "id": "HxcDL9uzkQb1"
      },
      "source": [
        "- pretrained 한글 word2vec을 가져왔더니, '사랑'과 거리가 가까운 유사한 단어들이 출력되었습니다."
      ]
    },
    {
      "cell_type": "markdown",
      "metadata": {
        "id": "FZsEM69m848a"
      },
      "source": [
        "**모델의 embedding layer에 pretrained word2vec 적용**"
      ]
    },
    {
      "cell_type": "code",
      "metadata": {
        "colab": {
          "base_uri": "https://localhost:8080/"
        },
        "id": "V1eDLG3V7rFF",
        "outputId": "ad150bda-60c0-4c13-edfe-824c9bc8cb13"
      },
      "source": [
        "# Embedding layer에 pretrained word2vec 을 활용해봅시다.\n",
        "vocab_size = 10000   \n",
        "word_vector_dim = 200  \n",
        "\n",
        "embedding_matrix = np.random.rand(vocab_size, word_vector_dim)\n",
        "\n",
        "# embedding_matrix에 Word2Vec 워드 벡터를 단어 하나씩마다 차례차례 카피한다.\n",
        "for i in range(4,vocab_size):\n",
        "    if index_to_word[i] in word2vec:\n",
        "        embedding_matrix[i] = word2vec[index_to_word[i]]"
      ],
      "execution_count": 154,
      "outputs": [
        {
          "output_type": "stream",
          "text": [
            "/usr/local/lib/python3.7/dist-packages/ipykernel_launcher.py:9: DeprecationWarning: Call to deprecated `__contains__` (Method will be removed in 4.0.0, use self.wv.__contains__() instead).\n",
            "  if __name__ == '__main__':\n",
            "/usr/local/lib/python3.7/dist-packages/ipykernel_launcher.py:10: DeprecationWarning: Call to deprecated `__getitem__` (Method will be removed in 4.0.0, use self.wv.__getitem__() instead).\n",
            "  # Remove the CWD from sys.path while we load stuff.\n"
          ],
          "name": "stderr"
        }
      ]
    },
    {
      "cell_type": "code",
      "metadata": {
        "colab": {
          "base_uri": "https://localhost:8080/"
        },
        "id": "m6tcKgK37zHB",
        "outputId": "9e421d24-2d10-49ad-c77a-9d9df892938d"
      },
      "source": [
        "from tensorflow.keras.initializers import Constant\n",
        "\n",
        "vocab_size = 10000    \n",
        "word_vector_dim = 200  \n",
        "\n",
        "# 모델 구성\n",
        "model = keras.Sequential()\n",
        "model.add(keras.layers.Embedding(vocab_size, \n",
        "                                 word_vector_dim, \n",
        "                                 embeddings_initializer=Constant(embedding_matrix),  # 카피한 임베딩을 여기서 활용\n",
        "                                 input_length=maxlen, \n",
        "                                 trainable=True))   # trainable을 True로 주면 Fine-tuning\n",
        "model.add(keras.layers.GlobalMaxPooling1D())\n",
        "model.add(keras.layers.Dropout(0.3))   # dropout layer 추가\n",
        "model.add(keras.layers.Dense(128, activation='relu'))\n",
        "model.add(keras.layers.Dense(1, activation='sigmoid'))  # 최종 출력은 긍정/부정을 나타내는 1dim 입니다.\n",
        "\n",
        "model.summary()"
      ],
      "execution_count": 167,
      "outputs": [
        {
          "output_type": "stream",
          "text": [
            "Model: \"sequential_25\"\n",
            "_________________________________________________________________\n",
            "Layer (type)                 Output Shape              Param #   \n",
            "=================================================================\n",
            "embedding_25 (Embedding)     (None, 41, 200)           2000000   \n",
            "_________________________________________________________________\n",
            "global_max_pooling1d_21 (Glo (None, 200)               0         \n",
            "_________________________________________________________________\n",
            "dropout_21 (Dropout)         (None, 200)               0         \n",
            "_________________________________________________________________\n",
            "dense_50 (Dense)             (None, 128)               25728     \n",
            "_________________________________________________________________\n",
            "dense_51 (Dense)             (None, 1)                 129       \n",
            "=================================================================\n",
            "Total params: 2,025,857\n",
            "Trainable params: 2,025,857\n",
            "Non-trainable params: 0\n",
            "_________________________________________________________________\n"
          ],
          "name": "stdout"
        }
      ]
    },
    {
      "cell_type": "code",
      "metadata": {
        "colab": {
          "base_uri": "https://localhost:8080/"
        },
        "id": "RoRGgAB1-X0u",
        "outputId": "222a8e8d-0255-43d5-bf29-6e59986cc485"
      },
      "source": [
        "model.compile(optimizer='adam',\n",
        "              loss='binary_crossentropy',\n",
        "              metrics=['accuracy'])\n",
        "              \n",
        "epochs=30\n",
        "\n",
        "history = model.fit(partial_x_train,\n",
        "                    partial_y_train,\n",
        "                    epochs=epochs,\n",
        "                    batch_size=512,\n",
        "                    validation_data=(x_val, y_val),\n",
        "                    verbose=1)"
      ],
      "execution_count": 168,
      "outputs": [
        {
          "output_type": "stream",
          "text": [
            "Epoch 1/30\n",
            "229/229 [==============================] - 7s 29ms/step - loss: 0.6900 - accuracy: 0.5899 - val_loss: 0.6181 - val_accuracy: 0.6767\n",
            "Epoch 2/30\n",
            "229/229 [==============================] - 6s 28ms/step - loss: 0.6410 - accuracy: 0.6351 - val_loss: 0.5852 - val_accuracy: 0.7108\n",
            "Epoch 3/30\n",
            "229/229 [==============================] - 7s 28ms/step - loss: 0.6121 - accuracy: 0.6662 - val_loss: 0.5533 - val_accuracy: 0.7337\n",
            "Epoch 4/30\n",
            "229/229 [==============================] - 7s 29ms/step - loss: 0.5825 - accuracy: 0.6928 - val_loss: 0.5223 - val_accuracy: 0.7559\n",
            "Epoch 5/30\n",
            "229/229 [==============================] - 7s 29ms/step - loss: 0.5578 - accuracy: 0.7143 - val_loss: 0.5108 - val_accuracy: 0.7523\n",
            "Epoch 6/30\n",
            "229/229 [==============================] - 7s 29ms/step - loss: 0.5342 - accuracy: 0.7311 - val_loss: 0.4763 - val_accuracy: 0.7826\n",
            "Epoch 7/30\n",
            "229/229 [==============================] - 7s 29ms/step - loss: 0.5137 - accuracy: 0.7445 - val_loss: 0.4594 - val_accuracy: 0.7925\n",
            "Epoch 8/30\n",
            "229/229 [==============================] - 6s 28ms/step - loss: 0.4935 - accuracy: 0.7596 - val_loss: 0.4470 - val_accuracy: 0.7992\n",
            "Epoch 9/30\n",
            "229/229 [==============================] - 7s 29ms/step - loss: 0.4801 - accuracy: 0.7687 - val_loss: 0.4388 - val_accuracy: 0.8020\n",
            "Epoch 10/30\n",
            "229/229 [==============================] - 7s 29ms/step - loss: 0.4634 - accuracy: 0.7784 - val_loss: 0.4387 - val_accuracy: 0.7948\n",
            "Epoch 11/30\n",
            "229/229 [==============================] - 7s 29ms/step - loss: 0.4539 - accuracy: 0.7847 - val_loss: 0.4202 - val_accuracy: 0.8107\n",
            "Epoch 12/30\n",
            "229/229 [==============================] - 7s 29ms/step - loss: 0.4420 - accuracy: 0.7914 - val_loss: 0.4125 - val_accuracy: 0.8137\n",
            "Epoch 13/30\n",
            "229/229 [==============================] - 6s 28ms/step - loss: 0.4340 - accuracy: 0.7971 - val_loss: 0.4109 - val_accuracy: 0.8128\n",
            "Epoch 14/30\n",
            "229/229 [==============================] - 6s 28ms/step - loss: 0.4250 - accuracy: 0.8022 - val_loss: 0.4127 - val_accuracy: 0.8101\n",
            "Epoch 15/30\n",
            "229/229 [==============================] - 6s 28ms/step - loss: 0.4163 - accuracy: 0.8078 - val_loss: 0.3928 - val_accuracy: 0.8240\n",
            "Epoch 16/30\n",
            "229/229 [==============================] - 6s 28ms/step - loss: 0.4093 - accuracy: 0.8129 - val_loss: 0.3886 - val_accuracy: 0.8273\n",
            "Epoch 17/30\n",
            "229/229 [==============================] - 6s 28ms/step - loss: 0.4039 - accuracy: 0.8153 - val_loss: 0.4105 - val_accuracy: 0.8079\n",
            "Epoch 18/30\n",
            "229/229 [==============================] - 6s 28ms/step - loss: 0.3966 - accuracy: 0.8195 - val_loss: 0.3815 - val_accuracy: 0.8308\n",
            "Epoch 19/30\n",
            "229/229 [==============================] - 7s 29ms/step - loss: 0.3883 - accuracy: 0.8242 - val_loss: 0.3771 - val_accuracy: 0.8322\n",
            "Epoch 20/30\n",
            "229/229 [==============================] - 7s 29ms/step - loss: 0.3838 - accuracy: 0.8256 - val_loss: 0.3735 - val_accuracy: 0.8353\n",
            "Epoch 21/30\n",
            "229/229 [==============================] - 7s 29ms/step - loss: 0.3786 - accuracy: 0.8288 - val_loss: 0.3696 - val_accuracy: 0.8364\n",
            "Epoch 22/30\n",
            "229/229 [==============================] - 7s 30ms/step - loss: 0.3724 - accuracy: 0.8332 - val_loss: 0.3685 - val_accuracy: 0.8369\n",
            "Epoch 23/30\n",
            "229/229 [==============================] - 6s 28ms/step - loss: 0.3685 - accuracy: 0.8350 - val_loss: 0.3676 - val_accuracy: 0.8383\n",
            "Epoch 24/30\n",
            "229/229 [==============================] - 6s 28ms/step - loss: 0.3633 - accuracy: 0.8384 - val_loss: 0.3678 - val_accuracy: 0.8364\n",
            "Epoch 25/30\n",
            "229/229 [==============================] - 6s 28ms/step - loss: 0.3581 - accuracy: 0.8410 - val_loss: 0.3700 - val_accuracy: 0.8361\n",
            "Epoch 26/30\n",
            "229/229 [==============================] - 6s 28ms/step - loss: 0.3548 - accuracy: 0.8436 - val_loss: 0.3615 - val_accuracy: 0.8411\n",
            "Epoch 27/30\n",
            "229/229 [==============================] - 6s 28ms/step - loss: 0.3500 - accuracy: 0.8451 - val_loss: 0.3609 - val_accuracy: 0.8415\n",
            "Epoch 28/30\n",
            "229/229 [==============================] - 7s 29ms/step - loss: 0.3467 - accuracy: 0.8473 - val_loss: 0.3586 - val_accuracy: 0.8433\n",
            "Epoch 29/30\n",
            "229/229 [==============================] - 7s 30ms/step - loss: 0.3420 - accuracy: 0.8486 - val_loss: 0.3578 - val_accuracy: 0.8416\n",
            "Epoch 30/30\n",
            "229/229 [==============================] - 7s 30ms/step - loss: 0.3380 - accuracy: 0.8520 - val_loss: 0.3557 - val_accuracy: 0.8433\n"
          ],
          "name": "stdout"
        }
      ]
    },
    {
      "cell_type": "code",
      "metadata": {
        "colab": {
          "base_uri": "https://localhost:8080/",
          "height": 492
        },
        "id": "y38RnXu7-VIT",
        "outputId": "2e8c47c7-9add-4a8b-f04e-c861740cf0bf"
      },
      "source": [
        "results = model.evaluate(x_test,  y_test, verbose=2)\n",
        "\n",
        "history_dict = history.history\n",
        "print(history_dict.keys()) # epoch에 따른 그래프를 그려볼 수 있는 항목들\n",
        "print(\"---------------------------\")\n",
        "visualize(history_dict)"
      ],
      "execution_count": 169,
      "outputs": [
        {
          "output_type": "stream",
          "text": [
            "1537/1537 - 2s - loss: 0.3595 - accuracy: 0.8428\n",
            "dict_keys(['loss', 'accuracy', 'val_loss', 'val_accuracy'])\n",
            "---------------------------\n"
          ],
          "name": "stdout"
        },
        {
          "output_type": "display_data",
          "data": {
            "image/png": "[encoded data removed]",
            "text/plain": [
              "<Figure size 576x432 with 2 Axes>"
            ]
          },
          "metadata": {
            "tags": [],
            "needs_background": "light"
          }
        }
      ]
    },
    {
      "cell_type": "markdown",
      "metadata": {
        "id": "gPNBWn36LeZM"
      },
      "source": [
        "- word2vec으로 임베딩을 하니 오버피팅 문제는 줄어들었지만, 오히려 성능은 정확도 84% 수준으로 다른 모델들과 비교하면 살짝 떨어지네요.\n",
        "- 다음으로 SKTBrain이 개발한 KoBert를 사용해서 훈련을 시켜보겠습니다."
      ]
    },
    {
      "cell_type": "markdown",
      "metadata": {
        "id": "D84LJlJkjDB_"
      },
      "source": [
        "## 4. KoBERT Sentiment Classification\n",
        "https://github.com/SKTBrain/KoBERT 위 링크에서 pytorch를 활용한 KoBert 모델의 코랩노트북을 가져와 제 구글 드라이브의 nsmc tsv 데이터를 학습하고 테스트했습니다."
      ]
    },
    {
      "cell_type": "markdown",
      "metadata": {
        "id": "q3pGLdGttRAf"
      },
      "source": [
        "> Bert 모델\n",
        "* 설명\n",
        "\n",
        "> KoBert 모델\n",
        "* 설명"
      ]
    },
    {
      "cell_type": "code",
      "metadata": {
        "id": "Xr-R3_83SJNI"
      },
      "source": [
        "!pip install mxnet\n",
        "!pip install gluonnlp pandas tqdm\n",
        "!pip install sentencepiece\n",
        "!pip install transformers==3\n",
        "!pip install torch"
      ],
      "execution_count": null,
      "outputs": []
    },
    {
      "cell_type": "code",
      "metadata": {
        "id": "76bO5ampSJNN",
        "colab": {
          "base_uri": "https://localhost:8080/"
        },
        "outputId": "a6de36e7-06d5-4fda-cbdc-264a201605bd"
      },
      "source": [
        "!pip install git+https://git@github.com/SKTBrain/KoBERT.git@master"
      ],
      "execution_count": 47,
      "outputs": [
        {
          "output_type": "stream",
          "text": [
            "Collecting git+https://****@github.com/SKTBrain/KoBERT.git@master\n",
            "  Cloning https://****@github.com/SKTBrain/KoBERT.git (to revision master) to /tmp/pip-req-build-blwlp_kp\n",
            "  Running command git clone -q 'https://****@github.com/SKTBrain/KoBERT.git' /tmp/pip-req-build-blwlp_kp\n"
          ],
          "name": "stdout"
        }
      ]
    },
    {
      "cell_type": "code",
      "metadata": {
        "id": "Ts3STcywSJNO"
      },
      "source": [
        "import torch\n",
        "from torch import nn\n",
        "import torch.nn.functional as F\n",
        "import torch.optim as optim\n",
        "from torch.utils.data import Dataset, DataLoader\n",
        "import gluonnlp as nlp\n",
        "import numpy as np\n",
        "from tqdm import tqdm, tqdm_notebook"
      ],
      "execution_count": 48,
      "outputs": []
    },
    {
      "cell_type": "code",
      "metadata": {
        "id": "h-RthfRoSJNO"
      },
      "source": [
        "from kobert.utils import get_tokenizer\n",
        "from kobert.pytorch_kobert import get_pytorch_kobert_model"
      ],
      "execution_count": 49,
      "outputs": []
    },
    {
      "cell_type": "code",
      "metadata": {
        "id": "uh9bmYIISJNP"
      },
      "source": [
        "from transformers import AdamW\n",
        "from transformers.optimization import get_cosine_schedule_with_warmup"
      ],
      "execution_count": 50,
      "outputs": []
    },
    {
      "cell_type": "code",
      "metadata": {
        "id": "qfftXk10SJNP"
      },
      "source": [
        "##GPU 사용 시\n",
        "device = torch.device(\"cuda:0\")"
      ],
      "execution_count": 51,
      "outputs": []
    },
    {
      "cell_type": "code",
      "metadata": {
        "id": "hct3SNVnSJNP",
        "colab": {
          "base_uri": "https://localhost:8080/"
        },
        "outputId": "f90c0dd1-f8cd-40af-991d-5cbc5e2ac432"
      },
      "source": [
        "bertmodel, vocab = get_pytorch_kobert_model()"
      ],
      "execution_count": 52,
      "outputs": [
        {
          "output_type": "stream",
          "text": [
            "using cached model\n",
            "using cached model\n"
          ],
          "name": "stdout"
        }
      ]
    },
    {
      "cell_type": "code",
      "metadata": {
        "id": "Y2ECXtVOSJNQ"
      },
      "source": [
        "# tsv 파일을 읽어옵니다.\n",
        "dataset_train = nlp.data.TSVDataset(\"/content/drive/MyDrive/sentiment_classification/ratings_train.tsv\", field_indices=[1,2], num_discard_samples=1)\n",
        "dataset_test = nlp.data.TSVDataset(\"/content/drive/MyDrive/sentiment_classification/ratings_test.tsv\", field_indices=[1,2], num_discard_samples=1)"
      ],
      "execution_count": 53,
      "outputs": []
    },
    {
      "cell_type": "code",
      "metadata": {
        "id": "Cfr7zRmySJNR",
        "colab": {
          "base_uri": "https://localhost:8080/"
        },
        "outputId": "b82081d6-2319-4400-ba2b-ae227c5855ee"
      },
      "source": [
        "tokenizer = get_tokenizer()\n",
        "tok = nlp.data.BERTSPTokenizer(tokenizer, vocab, lower=False)"
      ],
      "execution_count": 54,
      "outputs": [
        {
          "output_type": "stream",
          "text": [
            "using cached model\n"
          ],
          "name": "stdout"
        }
      ]
    },
    {
      "cell_type": "code",
      "metadata": {
        "id": "ryBvhdyCSJNR"
      },
      "source": [
        "class BERTDataset(Dataset):\n",
        "    def __init__(self, dataset, sent_idx, label_idx, bert_tokenizer, max_len,\n",
        "                 pad, pair):\n",
        "        transform = nlp.data.BERTSentenceTransform(\n",
        "            bert_tokenizer, max_seq_length=max_len, pad=pad, pair=pair)\n",
        "\n",
        "        self.sentences = [transform([i[sent_idx]]) for i in dataset]\n",
        "        self.labels = [np.int32(i[label_idx]) for i in dataset]\n",
        "\n",
        "    def __getitem__(self, i):\n",
        "        return (self.sentences[i] + (self.labels[i], ))\n",
        "\n",
        "    def __len__(self):\n",
        "        return (len(self.labels))\n"
      ],
      "execution_count": 55,
      "outputs": []
    },
    {
      "cell_type": "code",
      "metadata": {
        "id": "IjIB5uZzSJNS"
      },
      "source": [
        "## Setting parameters\n",
        "max_len = 41\n",
        "batch_size = 64\n",
        "warmup_ratio = 0.1\n",
        "num_epochs = 5\n",
        "max_grad_norm = 1\n",
        "log_interval = 200\n",
        "learning_rate =  5e-5"
      ],
      "execution_count": 67,
      "outputs": []
    },
    {
      "cell_type": "code",
      "metadata": {
        "id": "3SdtwIyoSJNS"
      },
      "source": [
        "data_train = BERTDataset(dataset_train, 0, 1, tok, max_len, True, False)\n",
        "data_test = BERTDataset(dataset_test, 0, 1, tok, max_len, True, False)"
      ],
      "execution_count": 68,
      "outputs": []
    },
    {
      "cell_type": "code",
      "metadata": {
        "id": "0OXl4nO2SJNT",
        "colab": {
          "base_uri": "https://localhost:8080/"
        },
        "outputId": "1d043890-5c52-4f85-f988-e2a5d0a930f7"
      },
      "source": [
        "train_dataloader = torch.utils.data.DataLoader(data_train, batch_size=batch_size, num_workers=5)\n",
        "test_dataloader = torch.utils.data.DataLoader(data_test, batch_size=batch_size, num_workers=5)"
      ],
      "execution_count": 69,
      "outputs": [
        {
          "output_type": "stream",
          "text": [
            "/usr/local/lib/python3.7/dist-packages/torch/utils/data/dataloader.py:481: UserWarning: This DataLoader will create 5 worker processes in total. Our suggested max number of worker in current system is 2, which is smaller than what this DataLoader is going to create. Please be aware that excessive worker creation might get DataLoader running slow or even freeze, lower the worker number to avoid potential slowness/freeze if necessary.\n",
            "  cpuset_checked))\n"
          ],
          "name": "stderr"
        }
      ]
    },
    {
      "cell_type": "code",
      "metadata": {
        "id": "VGD6wPNXSJNT"
      },
      "source": [
        "class BERTClassifier(nn.Module):\n",
        "    def __init__(self,\n",
        "                 bert,\n",
        "                 hidden_size = 768,\n",
        "                 num_classes=2,\n",
        "                 dr_rate=None,\n",
        "                 params=None):\n",
        "        super(BERTClassifier, self).__init__()\n",
        "        self.bert = bert\n",
        "        self.dr_rate = dr_rate\n",
        "                 \n",
        "        self.classifier = nn.Linear(hidden_size , num_classes)\n",
        "        if dr_rate:\n",
        "            self.dropout = nn.Dropout(p=dr_rate)\n",
        "    \n",
        "    def gen_attention_mask(self, token_ids, valid_length):\n",
        "        attention_mask = torch.zeros_like(token_ids)\n",
        "        for i, v in enumerate(valid_length):\n",
        "            attention_mask[i][:v] = 1\n",
        "        return attention_mask.float()\n",
        "\n",
        "    def forward(self, token_ids, valid_length, segment_ids):\n",
        "        attention_mask = self.gen_attention_mask(token_ids, valid_length)\n",
        "        \n",
        "        _, pooler = self.bert(input_ids = token_ids, token_type_ids = segment_ids.long(), attention_mask = attention_mask.float().to(token_ids.device))\n",
        "        if self.dr_rate:\n",
        "            out = self.dropout(pooler)\n",
        "        return self.classifier(out)"
      ],
      "execution_count": 70,
      "outputs": []
    },
    {
      "cell_type": "code",
      "metadata": {
        "id": "-DxYKF4VSJNT"
      },
      "source": [
        "model = BERTClassifier(bertmodel,  dr_rate=0.5).to(device)"
      ],
      "execution_count": 71,
      "outputs": []
    },
    {
      "cell_type": "code",
      "metadata": {
        "id": "06Pr-ImCSJNU"
      },
      "source": [
        "# Prepare optimizer and schedule (linear warmup and decay)\n",
        "no_decay = ['bias', 'LayerNorm.weight']\n",
        "optimizer_grouped_parameters = [\n",
        "    {'params': [p for n, p in model.named_parameters() if not any(nd in n for nd in no_decay)], 'weight_decay': 0.01},\n",
        "    {'params': [p for n, p in model.named_parameters() if any(nd in n for nd in no_decay)], 'weight_decay': 0.0}\n",
        "]"
      ],
      "execution_count": 72,
      "outputs": []
    },
    {
      "cell_type": "code",
      "metadata": {
        "id": "ugmLh9x1SJNU"
      },
      "source": [
        "optimizer = AdamW(optimizer_grouped_parameters, lr=learning_rate)\n",
        "loss_fn = nn.CrossEntropyLoss()"
      ],
      "execution_count": 73,
      "outputs": []
    },
    {
      "cell_type": "code",
      "metadata": {
        "id": "oY9LjrXaSJNU"
      },
      "source": [
        "t_total = len(train_dataloader) * num_epochs\n",
        "warmup_step = int(t_total * warmup_ratio)"
      ],
      "execution_count": 74,
      "outputs": []
    },
    {
      "cell_type": "code",
      "metadata": {
        "id": "qi69f6TISJNV"
      },
      "source": [
        "scheduler = get_cosine_schedule_with_warmup(optimizer, num_warmup_steps=warmup_step, num_training_steps=t_total)"
      ],
      "execution_count": 75,
      "outputs": []
    },
    {
      "cell_type": "code",
      "metadata": {
        "id": "igCXKZ6rSJNV"
      },
      "source": [
        "def calc_accuracy(X,Y):\n",
        "    max_vals, max_indices = torch.max(X, 1)\n",
        "    train_acc = (max_indices == Y).sum().data.cpu().numpy()/max_indices.size()[0]\n",
        "    return train_acc"
      ],
      "execution_count": 76,
      "outputs": []
    },
    {
      "cell_type": "code",
      "metadata": {
        "id": "Z8WVe5TzoTPt"
      },
      "source": [
        "# 메모리 용량이 부족하지 않도록\n",
        "import gc\n",
        "gc.collect()\n",
        "torch.cuda.empty_cache()"
      ],
      "execution_count": 81,
      "outputs": []
    },
    {
      "cell_type": "code",
      "metadata": {
        "id": "NPBqnvdCSJNV",
        "colab": {
          "base_uri": "https://localhost:8080/",
          "height": 1000,
          "referenced_widgets": [
            "9003d4a373b54771b836b8c0ea2fe22d",
            "a3fc38e67a9547bd8482b03d525cb40c",
            "ef30dfef932a4ab5b5169b881490239b",
            "7ed9ab59681848bf8aee6c2512972dbe",
            "1429387a1b70445182ea82827bd27295",
            "989d045f6e5a49deb3e1a6b8b0fa8f01",
            "c9c44ef3d6ed4f4a998903e7678601ed",
            "367b8c1138714af48232057a6eee5187",
            "4bd0dcfab0c2484a82396aec3e61c9dc",
            "7212086f9810473ba7750a26b97c22ed",
            "30023be0a0de4bc7b5b7bb74df9b9c21",
            "34a45d9f24ba481b988b5387ddf39a17",
            "38779c91c1ef473881680f5774d96bb5",
            "068aabf92c314ae6ba1aaa1cd3d48387",
            "8b9a553e4ee64abc9b1ac4e7c8bbb135",
            "a545a986a3654cb1bf99879ab6747803",
            "0ba07b559c8741abbd41e33d4ce36b3c",
            "4378b68a4e5946fc816f61d33684e1ba",
            "280b183f82dd4a699f62ca0b82bcd937",
            "49a9fc4167c64eb193db0421c0df386e",
            "95d8db1f90684bf09d01ba358b3fc984",
            "bfbb3a3bf9da43f4a3a3eaa3e7c3d1d4",
            "77bee8e5c0994a7e9b901fe944d374ee",
            "23f5ec2e120548f191c2c27839ca3440",
            "e0c34ee7f32c48799cd4ad8bc4dce9e2",
            "9f2b4014e3844c85b86173486fb23929",
            "43da055266b1404da7a63f338662348b",
            "a80e93a8dc084a60bcbefd846896f14c",
            "ea87a85e80b04677939c9c7a70c6d230",
            "5327b712ffb8451c80ab536aa5cb96e4",
            "c929b2650e054b049c4958088b461a67",
            "84dd5eff0aef478d94a626f1a8a0a6c0",
            "eb04b76018bc4d5a9017ef78c0e46337",
            "bc5ad3657e124dd4a7c1a7f37dfab7c7",
            "e5dcad5a7b554db797dc2c9aa01308c9",
            "cdb2b860404740fabef5dfa980c4c1e9",
            "0c9c2b51c9a54cf0b8ad3bad5150562b",
            "307d11661d4a4f6fab89a8fa56b1746f",
            "52008fc74a794633bf04873bd2cb6fd1",
            "664af306bc5d491ead09818c178f9d05",
            "6c8048bc232049808025c64a25054fa0",
            "67820e324b314401b01d4be8f5e9bcd3",
            "23c229fad2e04d9cac69cde0770494d0",
            "1fcef88dbde94ed697404ebe829e120c",
            "1c0f646eaa83417dbcf7a98f3ad3941e",
            "1a7eab90245d443495a288e66f010223",
            "3870f3a10bfd4082872c4e8044a5bee6",
            "3fd712e085a0488f93360b4cd0f8b6bf",
            "2da6b4f34f2f42a98409afcfdd623ca0",
            "054bb2ddbdff44b383f5cde5d15105bf",
            "a4ddb2a3c77d47f7b6f0627e10879009",
            "e2440ced38f14b6d93db8295cd50f50d",
            "f697b40a57e54f59942b55ef99e7a876",
            "ea8d07849eb941ff875f95cc739f212d",
            "70a1528e4fcd4d188ce07359a5084411",
            "4767f642fb8b4cf88f80961845648c53",
            "a93d37fb0ca94dd8987441e96dd170a9",
            "33f8a9f1c3cf4aef9716125ac7494069",
            "8f8083a2a9c042e29bd03adbd08ccabd",
            "896792e0f37747cbadf8bf3e973b11f2",
            "a0069bbfc32a4cecae18b1949d54642a",
            "44fccd139e914a41a802d20c6e248da0",
            "3022596f607f4033bbf56909636f3cc9",
            "e5767ee7102745edbe51131baab06233",
            "5a6809c86d9c4dd7a712a9dc5de45d02",
            "4dd9ea5297d84501884d33ad8579b0e1",
            "f76f2cd398d44424b1b1045e9332648e",
            "7f5677bd91e0441c8a4120d49f64e799",
            "e03e21c85bbe4ce18e8fc06febdaaf98",
            "3f240a4930e84c1cb8b185a7b4a55c22",
            "9aaa51c737864c1888fd65b78995fc2f",
            "13f6024acaa94a729fd6dd3972d4549a",
            "8ef4c6e0ebc748f082581fb2d5f208b1",
            "db67d6f1225c42babd22ba74237fb845",
            "7856f40fa86f4624a1ccc9b1347a062c",
            "295dff235033473a9ac1d9ae49aff0bb",
            "d5a31e87b58c417591bc59bb4aabc447",
            "36781f96105a44e598c23c53eab1517c",
            "8ec3fbf28c8b4847b4c6c64c4b7ca422",
            "739e45977d034e33b4ea8760146bebfe"
          ]
        },
        "outputId": "e7d10105-fa4f-4cba-dfb4-27b500260806"
      },
      "source": [
        "for e in range(num_epochs):\n",
        "    train_acc = 0.0\n",
        "    test_acc = 0.0\n",
        "    \n",
        "    # KoBert모델로 nsmc 데이터셋을 훈련합니다.\n",
        "    model.train()\n",
        "    for batch_id, (token_ids, valid_length, segment_ids, label) in enumerate(tqdm_notebook(train_dataloader)):\n",
        "        optimizer.zero_grad()\n",
        "        token_ids = token_ids.long().to(device)\n",
        "        segment_ids = segment_ids.long().to(device)\n",
        "        valid_length= valid_length\n",
        "        label = label.long().to(device)\n",
        "        out = model(token_ids, valid_length, segment_ids)\n",
        "        loss = loss_fn(out, label)\n",
        "        loss.backward()\n",
        "        torch.nn.utils.clip_grad_norm_(model.parameters(), max_grad_norm)\n",
        "        optimizer.step()\n",
        "        scheduler.step()  # Update learning rate schedule\n",
        "        train_acc += calc_accuracy(out, label)\n",
        "        if batch_id % log_interval == 0:\n",
        "            print(\"epoch {} batch id {} loss {} train acc {}\".format(e+1, batch_id+1, loss.data.cpu().numpy(), train_acc / (batch_id+1)))\n",
        "    print(\"epoch {} train acc {}\\n\".format(e+1, train_acc / (batch_id+1)))\n",
        "    \n",
        "    # KoBert로 학습한 모델을 평가해봅니다.\n",
        "    model.eval()\n",
        "    for batch_id, (token_ids, valid_length, segment_ids, label) in enumerate(tqdm_notebook(test_dataloader)):\n",
        "        token_ids = token_ids.long().to(device)\n",
        "        segment_ids = segment_ids.long().to(device)\n",
        "        valid_length= valid_length\n",
        "        label = label.long().to(device)\n",
        "        out = model(token_ids, valid_length, segment_ids)\n",
        "        test_acc += calc_accuracy(out, label)\n",
        "    print(\"epoch {} test acc {}\\n\".format(e+1, test_acc / (batch_id+1)))"
      ],
      "execution_count": 82,
      "outputs": [
        {
          "output_type": "stream",
          "text": [
            "/usr/local/lib/python3.7/dist-packages/ipykernel_launcher.py:7: TqdmDeprecationWarning: This function will be removed in tqdm==5.0.0\n",
            "Please use `tqdm.notebook.tqdm` instead of `tqdm.tqdm_notebook`\n",
            "  import sys\n"
          ],
          "name": "stderr"
        },
        {
          "output_type": "display_data",
          "data": {
            "application/vnd.jupyter.widget-view+json": {
              "model_id": "9003d4a373b54771b836b8c0ea2fe22d",
              "version_minor": 0,
              "version_major": 2
            },
            "text/plain": [
              "HBox(children=(FloatProgress(value=0.0, max=2344.0), HTML(value='')))"
            ]
          },
          "metadata": {
            "tags": []
          }
        },
        {
          "output_type": "stream",
          "text": [
            "/usr/local/lib/python3.7/dist-packages/torch/utils/data/dataloader.py:481: UserWarning: This DataLoader will create 5 worker processes in total. Our suggested max number of worker in current system is 2, which is smaller than what this DataLoader is going to create. Please be aware that excessive worker creation might get DataLoader running slow or even freeze, lower the worker number to avoid potential slowness/freeze if necessary.\n",
            "  cpuset_checked))\n"
          ],
          "name": "stderr"
        },
        {
          "output_type": "stream",
          "text": [
            "epoch 1 batch id 1 loss 0.7315358519554138 train acc 0.5\n",
            "epoch 1 batch id 201 loss 0.5255932807922363 train acc 0.5729166666666666\n",
            "epoch 1 batch id 401 loss 0.4665767550468445 train acc 0.6819279925187033\n",
            "epoch 1 batch id 601 loss 0.4113122820854187 train acc 0.7305272462562395\n",
            "epoch 1 batch id 801 loss 0.38248029351234436 train acc 0.7587975967540574\n",
            "epoch 1 batch id 1001 loss 0.31812894344329834 train acc 0.7757867132867133\n",
            "epoch 1 batch id 1201 loss 0.37508535385131836 train acc 0.7882623855120733\n",
            "epoch 1 batch id 1401 loss 0.3805949091911316 train acc 0.7973099571734475\n",
            "epoch 1 batch id 1601 loss 0.33365583419799805 train acc 0.8055414584634604\n",
            "epoch 1 batch id 1801 loss 0.27474451065063477 train acc 0.811962104386452\n",
            "epoch 1 batch id 2001 loss 0.34668394923210144 train acc 0.8178879310344828\n",
            "epoch 1 batch id 2201 loss 0.28414827585220337 train acc 0.8227936165379373\n",
            "\n",
            "epoch 1 train acc 0.8263651877133106\n"
          ],
          "name": "stdout"
        },
        {
          "output_type": "stream",
          "text": [
            "/usr/local/lib/python3.7/dist-packages/ipykernel_launcher.py:26: TqdmDeprecationWarning: This function will be removed in tqdm==5.0.0\n",
            "Please use `tqdm.notebook.tqdm` instead of `tqdm.tqdm_notebook`\n"
          ],
          "name": "stderr"
        },
        {
          "output_type": "display_data",
          "data": {
            "application/vnd.jupyter.widget-view+json": {
              "model_id": "4bd0dcfab0c2484a82396aec3e61c9dc",
              "version_minor": 0,
              "version_major": 2
            },
            "text/plain": [
              "HBox(children=(FloatProgress(value=0.0, max=782.0), HTML(value='')))"
            ]
          },
          "metadata": {
            "tags": []
          }
        },
        {
          "output_type": "stream",
          "text": [
            "\n",
            "epoch 1 test acc 0.8787963554987213\n"
          ],
          "name": "stdout"
        },
        {
          "output_type": "display_data",
          "data": {
            "application/vnd.jupyter.widget-view+json": {
              "model_id": "0ba07b559c8741abbd41e33d4ce36b3c",
              "version_minor": 0,
              "version_major": 2
            },
            "text/plain": [
              "HBox(children=(FloatProgress(value=0.0, max=2344.0), HTML(value='')))"
            ]
          },
          "metadata": {
            "tags": []
          }
        },
        {
          "output_type": "stream",
          "text": [
            "epoch 2 batch id 1 loss 0.5113121867179871 train acc 0.796875\n",
            "epoch 2 batch id 201 loss 0.26986435055732727 train acc 0.8709577114427861\n",
            "epoch 2 batch id 401 loss 0.28801819682121277 train acc 0.8746493142144638\n",
            "epoch 2 batch id 601 loss 0.3416409492492676 train acc 0.878457778702163\n",
            "epoch 2 batch id 801 loss 0.34399139881134033 train acc 0.8815738139825219\n",
            "epoch 2 batch id 1001 loss 0.3076629936695099 train acc 0.8842095404595405\n",
            "epoch 2 batch id 1201 loss 0.2450060397386551 train acc 0.8865008326394671\n",
            "epoch 2 batch id 1401 loss 0.2043527513742447 train acc 0.8889520877944326\n",
            "epoch 2 batch id 1601 loss 0.24303071200847626 train acc 0.8911617738913179\n",
            "epoch 2 batch id 1801 loss 0.18156291544437408 train acc 0.8932537479178234\n",
            "epoch 2 batch id 2001 loss 0.1940009593963623 train acc 0.8952789230384808\n",
            "epoch 2 batch id 2201 loss 0.26341482996940613 train acc 0.8971206269877329\n",
            "\n",
            "epoch 2 train acc 0.898495271615472\n"
          ],
          "name": "stdout"
        },
        {
          "output_type": "display_data",
          "data": {
            "application/vnd.jupyter.widget-view+json": {
              "model_id": "e0c34ee7f32c48799cd4ad8bc4dce9e2",
              "version_minor": 0,
              "version_major": 2
            },
            "text/plain": [
              "HBox(children=(FloatProgress(value=0.0, max=782.0), HTML(value='')))"
            ]
          },
          "metadata": {
            "tags": []
          }
        },
        {
          "output_type": "stream",
          "text": [
            "\n",
            "epoch 2 test acc 0.8881473785166241\n"
          ],
          "name": "stdout"
        },
        {
          "output_type": "display_data",
          "data": {
            "application/vnd.jupyter.widget-view+json": {
              "model_id": "eb04b76018bc4d5a9017ef78c0e46337",
              "version_minor": 0,
              "version_major": 2
            },
            "text/plain": [
              "HBox(children=(FloatProgress(value=0.0, max=2344.0), HTML(value='')))"
            ]
          },
          "metadata": {
            "tags": []
          }
        },
        {
          "output_type": "stream",
          "text": [
            "epoch 3 batch id 1 loss 0.3067297637462616 train acc 0.890625\n",
            "epoch 3 batch id 201 loss 0.17101456224918365 train acc 0.9188432835820896\n",
            "epoch 3 batch id 401 loss 0.15155529975891113 train acc 0.9215632793017456\n",
            "epoch 3 batch id 601 loss 0.20704147219657898 train acc 0.924110856905158\n",
            "epoch 3 batch id 801 loss 0.20859618484973907 train acc 0.9259324282147315\n",
            "epoch 3 batch id 1001 loss 0.23298631608486176 train acc 0.9275880369630369\n",
            "epoch 3 batch id 1201 loss 0.16633109748363495 train acc 0.9298501248959201\n",
            "epoch 3 batch id 1401 loss 0.09919023513793945 train acc 0.931845556745182\n",
            "epoch 3 batch id 1601 loss 0.22390523552894592 train acc 0.933381480324797\n",
            "epoch 3 batch id 1801 loss 0.13157182931900024 train acc 0.9349666851749028\n",
            "epoch 3 batch id 2001 loss 0.137247234582901 train acc 0.9360632183908046\n",
            "epoch 3 batch id 2201 loss 0.18700982630252838 train acc 0.9372160381644707\n",
            "\n",
            "epoch 3 train acc 0.9382976926905574\n"
          ],
          "name": "stdout"
        },
        {
          "output_type": "display_data",
          "data": {
            "application/vnd.jupyter.widget-view+json": {
              "model_id": "6c8048bc232049808025c64a25054fa0",
              "version_minor": 0,
              "version_major": 2
            },
            "text/plain": [
              "HBox(children=(FloatProgress(value=0.0, max=782.0), HTML(value='')))"
            ]
          },
          "metadata": {
            "tags": []
          }
        },
        {
          "output_type": "stream",
          "text": [
            "\n",
            "epoch 3 test acc 0.8918238491048593\n"
          ],
          "name": "stdout"
        },
        {
          "output_type": "display_data",
          "data": {
            "application/vnd.jupyter.widget-view+json": {
              "model_id": "2da6b4f34f2f42a98409afcfdd623ca0",
              "version_minor": 0,
              "version_major": 2
            },
            "text/plain": [
              "HBox(children=(FloatProgress(value=0.0, max=2344.0), HTML(value='')))"
            ]
          },
          "metadata": {
            "tags": []
          }
        },
        {
          "output_type": "stream",
          "text": [
            "epoch 4 batch id 1 loss 0.44631102681159973 train acc 0.859375\n",
            "epoch 4 batch id 201 loss 0.08748529851436615 train acc 0.9520366915422885\n",
            "epoch 4 batch id 401 loss 0.07323399186134338 train acc 0.9531639650872819\n",
            "epoch 4 batch id 601 loss 0.21331362426280975 train acc 0.9540609400998337\n",
            "epoch 4 batch id 801 loss 0.19086621701717377 train acc 0.9557389200998752\n",
            "epoch 4 batch id 1001 loss 0.15513309836387634 train acc 0.9571522227772228\n",
            "epoch 4 batch id 1201 loss 0.04071347042918205 train acc 0.9581598667776853\n",
            "epoch 4 batch id 1401 loss 0.031622644513845444 train acc 0.9596716630977873\n",
            "epoch 4 batch id 1601 loss 0.02521204762160778 train acc 0.9604836820737039\n",
            "epoch 4 batch id 1801 loss 0.07081553339958191 train acc 0.9614710577456969\n",
            "epoch 4 batch id 2001 loss 0.07078717648983002 train acc 0.9621283108445777\n",
            "epoch 4 batch id 2201 loss 0.08904679119586945 train acc 0.9628577919127669\n",
            "\n",
            "epoch 4 train acc 0.9635238907849829\n"
          ],
          "name": "stdout"
        },
        {
          "output_type": "display_data",
          "data": {
            "application/vnd.jupyter.widget-view+json": {
              "model_id": "a93d37fb0ca94dd8987441e96dd170a9",
              "version_minor": 0,
              "version_major": 2
            },
            "text/plain": [
              "HBox(children=(FloatProgress(value=0.0, max=782.0), HTML(value='')))"
            ]
          },
          "metadata": {
            "tags": []
          }
        },
        {
          "output_type": "stream",
          "text": [
            "\n",
            "epoch 4 test acc 0.8933423913043478\n"
          ],
          "name": "stdout"
        },
        {
          "output_type": "display_data",
          "data": {
            "application/vnd.jupyter.widget-view+json": {
              "model_id": "5a6809c86d9c4dd7a712a9dc5de45d02",
              "version_minor": 0,
              "version_major": 2
            },
            "text/plain": [
              "HBox(children=(FloatProgress(value=0.0, max=2344.0), HTML(value='')))"
            ]
          },
          "metadata": {
            "tags": []
          }
        },
        {
          "output_type": "stream",
          "text": [
            "epoch 5 batch id 1 loss 0.3439762592315674 train acc 0.890625\n",
            "epoch 5 batch id 201 loss 0.048349346965551376 train acc 0.9705379353233831\n",
            "epoch 5 batch id 401 loss 0.08267150074243546 train acc 0.9731920199501247\n",
            "epoch 5 batch id 601 loss 0.11665395647287369 train acc 0.9730917221297837\n",
            "epoch 5 batch id 801 loss 0.09708271920681 train acc 0.9741924157303371\n",
            "epoch 5 batch id 1001 loss 0.1635201871395111 train acc 0.9747127872127872\n",
            "epoch 5 batch id 1201 loss 0.06189863011240959 train acc 0.9753200457951707\n",
            "epoch 5 batch id 1401 loss 0.019361574202775955 train acc 0.9756312455389008\n",
            "epoch 5 batch id 1601 loss 0.014685545116662979 train acc 0.9759915677701436\n",
            "epoch 5 batch id 1801 loss 0.010109348222613335 train acc 0.9763933231538034\n",
            "epoch 5 batch id 2001 loss 0.06996173411607742 train acc 0.9764180409795102\n",
            "epoch 5 batch id 2201 loss 0.09637868404388428 train acc 0.9765447523852794\n",
            "\n",
            "epoch 5 train acc 0.9768158063139932\n"
          ],
          "name": "stdout"
        },
        {
          "output_type": "display_data",
          "data": {
            "application/vnd.jupyter.widget-view+json": {
              "model_id": "8ef4c6e0ebc748f082581fb2d5f208b1",
              "version_minor": 0,
              "version_major": 2
            },
            "text/plain": [
              "HBox(children=(FloatProgress(value=0.0, max=782.0), HTML(value='')))"
            ]
          },
          "metadata": {
            "tags": []
          }
        },
        {
          "output_type": "stream",
          "text": [
            "\n",
            "epoch 5 test acc 0.8938019501278772\n"
          ],
          "name": "stdout"
        }
      ]
    },
    {
      "cell_type": "markdown",
      "metadata": {
        "id": "u9W2rJQBbADJ"
      },
      "source": [
        "## 5. Retrospective\n",
        "- 역시나 텍스트 데이터를 다룰 때는 전처리 과정이 필수이며, 중요합니다. 먼저 토큰화와 임베딩으로 텍스트를 벡터 공간에 표현한 후 임베딩된 텍스트 데이터의 분류를 학습하고 테스트 데이터를 분류할 수 있습니다.\n",
        "- 노드에서 배운 3가지 모델(LSTM, CNN, GlobalMaxPooling)로 감성분류를 했을 때는 오버피팅의 문제가 있었습니다. 훈련 데이터셋에만 정확도가 높아지고, 검증 데이터셋에서는 정확도가 개선되지 않았습니다. 감성분석 정확도를 85% 위로 올리기가 쉽지 않았습니다.\n",
        "- 그래서 SKTBrain이 개발한 KoBert 를 가져와서 nsmc 감성분석을 실험해보았습니다. 아쉬웠던 점은 제가 모델 구조를 온전히 파악하지 못했고, 훈련시간이 지나치게 많이 걸렸습니다.(총 약 150분 가량 걸림. 1 에포크 당 훈련에는 20분 내외, 테스트에는 3분 내외) 그리고 이해하기 어려웠던 부분은, 1번째 에포크에서 훈련 정확도보다 테스트 정확도가 높다는 것입니다. 결과적으로는 테스트 정확도가 89% 가량으로 올라가며 성능이 좋아진 것 같습니다만, 코드를 거의 그대로 가져왔기 때문에 내부적으로 문제가 있을 수 있습니다.\n",
        "- 아직은 다른 모델이나 코드를 그대로 배껴와 내 데이터셋에 적용하는 수준이지만, 여러가지 실험을 해보면서 nlp에 대한 이해도를 기를 수 있었고, 더 다양한 모델들에 대한 이해도를 올리고 싶다는 생각이 들었습니다."
      ]
    },
    {
      "cell_type": "code",
      "metadata": {
        "id": "L_a0bnaavNLP"
      },
      "source": [
        ""
      ],
      "execution_count": null,
      "outputs": []
    }
  ]
}