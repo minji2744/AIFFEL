{
 "cells": [
  {
   "cell_type": "markdown",
   "id": "juvenile-boundary",
   "metadata": {},
   "source": [
    "# Exploration 1. 가위바위보 분류기 만들기\n",
    "\n",
    "- 첫번째 exploration 가위바위보 분류기를 jupyter notebook으로 구현했습니다."
   ]
  },
  {
   "cell_type": "markdown",
   "id": "personal-appliance",
   "metadata": {},
   "source": [
    "## 1) 가위바위보 이미지 데이터를 가져와서 사이즈를 28 * 28로 변경하기\n",
    "\n",
    "- Python Image Library, tensorflow, numpy, matplotlib 를 활용했습니다.\n",
    "- 이미지 사이즈를 28 * 28 로 조정하는 함수를 정의했습니다. (resize_images)"
   ]
  },
  {
   "cell_type": "code",
   "execution_count": 5,
   "id": "toxic-valuation",
   "metadata": {},
   "outputs": [
    {
     "name": "stdout",
     "output_type": "stream",
     "text": [
      "1527  images to be resized.\n",
      "1527  images resized.\n",
      "1532  images to be resized.\n",
      "1532  images resized.\n",
      "1527  images to be resized.\n",
      "1527  images resized.\n",
      "가위, 바위, 보 train 이미지 resize 완료!\n",
      "\n",
      "100  images to be resized.\n",
      "100  images resized.\n",
      "100  images to be resized.\n",
      "100  images resized.\n",
      "100  images to be resized.\n",
      "100  images resized.\n",
      "가위, 바위, 보 test 이미지 resize 완료!\n"
     ]
    }
   ],
   "source": [
    "from PIL import Image\n",
    "import os, glob\n",
    "import tensorflow as tf\n",
    "from tensorflow import keras\n",
    "import numpy as np\n",
    "import matplotlib.pyplot as plt\n",
    "\n",
    "# 이미지를 재조정하는 함수를 정의합니다.\n",
    "def resize_images(img_path):\n",
    "    images=glob.glob(img_path + \"/*.jpg\")  \n",
    "    \n",
    "    print(len(images), \" images to be resized.\")\n",
    "\n",
    "    # 파일마다 모두 28x28 사이즈로 바꾸어 저장합니다.\n",
    "    target_size=(28,28)\n",
    "    for img in images:\n",
    "        old_img=Image.open(img)\n",
    "        new_img=old_img.resize(target_size,Image.ANTIALIAS)\n",
    "        new_img.save(img, \"JPEG\")\n",
    "    \n",
    "    print(len(images), \" images resized.\")\n",
    "\n",
    "    \n",
    "# 가위, 바위, 보 이미지가 저장된 디렉토리 아래의 모든 jpg 파일을 읽어들여서 사이즈 변경\n",
    "scissor_path = os.getenv(\"HOME\") + \"/aiffel/etc/rock_scissor_paper/scissor\"\n",
    "resize_images(scissor_path)\n",
    "rock_path = os.getenv(\"HOME\") + \"/aiffel/etc/rock_scissor_paper/rock\"\n",
    "resize_images(rock_path)\n",
    "paper_path = os.getenv(\"HOME\") + \"/aiffel/etc/rock_scissor_paper/paper\"\n",
    "resize_images(paper_path)\n",
    "\n",
    "print(\"가위, 바위, 보 train 이미지 resize 완료!\\n\")\n",
    "\n",
    "image_dir_path = os.getenv(\"HOME\") + \"/aiffel/etc/rock_scissor_paper/test/rock\"\n",
    "resize_images(image_dir_path)\n",
    "image_dir_path = os.getenv(\"HOME\") + \"/aiffel/etc/rock_scissor_paper/test/paper\"\n",
    "resize_images(image_dir_path)\n",
    "image_dir_path = os.getenv(\"HOME\") + \"/aiffel/etc/rock_scissor_paper/test/scissor\"\n",
    "resize_images(image_dir_path)\n",
    "\n",
    "print(\"가위, 바위, 보 test 이미지 resize 완료!\")"
   ]
  },
  {
   "cell_type": "markdown",
   "id": "economic-pathology",
   "metadata": {},
   "source": [
    "## 2) 가위바위보 train 데이터를 변수에 저장\n",
    "\n",
    "- load_data 함수를 정의해서 train data 4586개를 불러옵니다."
   ]
  },
  {
   "cell_type": "code",
   "execution_count": 6,
   "id": "nervous-township",
   "metadata": {},
   "outputs": [
    {
     "name": "stdout",
     "output_type": "stream",
     "text": [
      "학습데이터(x_train)의 이미지 개수는 4586 입니다.\n",
      "x_train shape: (4586, 28, 28, 3)\n",
      "y_train shape: (4586,)\n"
     ]
    }
   ],
   "source": [
    "def load_data(img_path, number_of_data=4586): \n",
    "    # 가위 : 0, 바위 : 1, 보 : 2\n",
    "    img_size=28\n",
    "    color=3\n",
    "    #이미지 데이터와 라벨(가위 : 0, 바위 : 1, 보 : 2) 데이터를 담을 행렬(matrix) 영역을 생성합니다.\n",
    "    imgs=np.zeros(number_of_data*img_size*img_size*color,dtype=np.int32).reshape(number_of_data,img_size,img_size,color)\n",
    "    labels=np.zeros(number_of_data,dtype=np.int32)\n",
    "\n",
    "    idx=0\n",
    "    for file in glob.iglob(img_path+'/scissor/*.jpg'):\n",
    "        img = np.array(Image.open(file),dtype=np.int32)\n",
    "        imgs[idx,:,:,:]=img    # 데이터 영역에 이미지 행렬을 복사\n",
    "        labels[idx]=0   # 가위 : 0\n",
    "        idx=idx+1\n",
    "\n",
    "    for file in glob.iglob(img_path+'/rock/*.jpg'):\n",
    "        img = np.array(Image.open(file),dtype=np.int32)\n",
    "        imgs[idx,:,:,:]=img    # 데이터 영역에 이미지 행렬을 복사\n",
    "        labels[idx]=1   # 바위 : 1\n",
    "        idx=idx+1  \n",
    "    \n",
    "    for file in glob.iglob(img_path+'/paper/*.jpg'):\n",
    "        img = np.array(Image.open(file),dtype=np.int32)\n",
    "        imgs[idx,:,:,:]=img    # 데이터 영역에 이미지 행렬을 복사\n",
    "        labels[idx]=2   # 보 : 2\n",
    "        idx=idx+1\n",
    "        \n",
    "    print(\"학습데이터(x_train)의 이미지 개수는\", idx,\"입니다.\")\n",
    "    return imgs, labels\n",
    "\n",
    "image_dir_path = os.getenv(\"HOME\") + \"/aiffel/etc/rock_scissor_paper\"\n",
    "(x_train, y_train)=load_data(image_dir_path)\n",
    "x_train_norm = x_train/255.0   # 입력은 0~1 사이의 값으로 정규화\n",
    "\n",
    "print(\"x_train shape: {}\".format(x_train.shape))\n",
    "print(\"y_train shape: {}\".format(y_train.shape))"
   ]
  },
  {
   "cell_type": "code",
   "execution_count": 7,
   "id": "informative-cinema",
   "metadata": {},
   "outputs": [
    {
     "name": "stdout",
     "output_type": "stream",
     "text": [
      "라벨:  0\n"
     ]
    },
    {
     "data": {
      "image/png": "[encoded data removed]",
      "text/plain": [
       "<Figure size 432x288 with 1 Axes>"
      ]
     },
     "metadata": {
      "needs_background": "light"
     },
     "output_type": "display_data"
    }
   ],
   "source": [
    "# train data의 0번째 인덱스 확인\n",
    "plt.imshow(x_train[0])\n",
    "print('라벨: ', y_train[0])"
   ]
  },
  {
   "cell_type": "markdown",
   "id": "defined-twelve",
   "metadata": {},
   "source": [
    "## 3) 딥러닝 네트워크 설계 및 학습\n",
    "- tensorflow keras의 Sequential 구현"
   ]
  },
  {
   "cell_type": "code",
   "execution_count": 8,
   "id": "incredible-header",
   "metadata": {},
   "outputs": [
    {
     "name": "stdout",
     "output_type": "stream",
     "text": [
      "Model에 추가된 Layer 개수:  7\n",
      "Model: \"sequential\"\n",
      "_________________________________________________________________\n",
      "Layer (type)                 Output Shape              Param #   \n",
      "=================================================================\n",
      "conv2d (Conv2D)              (None, 26, 26, 32)        896       \n",
      "_________________________________________________________________\n",
      "max_pooling2d (MaxPooling2D) (None, 13, 13, 32)        0         \n",
      "_________________________________________________________________\n",
      "conv2d_1 (Conv2D)            (None, 11, 11, 64)        18496     \n",
      "_________________________________________________________________\n",
      "max_pooling2d_1 (MaxPooling2 (None, 5, 5, 64)          0         \n",
      "_________________________________________________________________\n",
      "flatten (Flatten)            (None, 1600)              0         \n",
      "_________________________________________________________________\n",
      "dense (Dense)                (None, 128)               204928    \n",
      "_________________________________________________________________\n",
      "dense_1 (Dense)              (None, 3)                 387       \n",
      "=================================================================\n",
      "Total params: 224,707\n",
      "Trainable params: 224,707\n",
      "Non-trainable params: 0\n",
      "_________________________________________________________________\n"
     ]
    }
   ],
   "source": [
    "# 딥러닝 네트워크 설계하기\n",
    "model=keras.models.Sequential()\n",
    "model.add(keras.layers.Conv2D(32, (3,3), activation='relu', input_shape=(28,28,3))) # input_shape에는 이미지 사이즈에 맞는 값을 넣어줘야 합니다.\n",
    "model.add(keras.layers.MaxPool2D(2,2))\n",
    "model.add(keras.layers.Conv2D(64, (3,3), activation='relu'))\n",
    "model.add(keras.layers.MaxPooling2D((2,2)))\n",
    "model.add(keras.layers.Flatten())\n",
    "model.add(keras.layers.Dense(128, activation='relu'))\n",
    "model.add(keras.layers.Dense(3, activation='softmax')) # 마지막 Dense 레이어에는 클래스 개수인 3을 넣어줘야 합니다.\n",
    "\n",
    "print('Model에 추가된 Layer 개수: ', len(model.layers))\n",
    "\n",
    "model.summary()"
   ]
  },
  {
   "cell_type": "code",
   "execution_count": 9,
   "id": "streaming-anime",
   "metadata": {},
   "outputs": [
    {
     "name": "stdout",
     "output_type": "stream",
     "text": [
      "Epoch 1/10\n",
      "144/144 [==============================] - 5s 14ms/step - loss: 1.0629 - accuracy: 0.4169\n",
      "Epoch 2/10\n",
      "144/144 [==============================] - 0s 3ms/step - loss: 0.5335 - accuracy: 0.7835\n",
      "Epoch 3/10\n",
      "144/144 [==============================] - 0s 3ms/step - loss: 0.2585 - accuracy: 0.9114\n",
      "Epoch 4/10\n",
      "144/144 [==============================] - 0s 3ms/step - loss: 0.1352 - accuracy: 0.9579\n",
      "Epoch 5/10\n",
      "144/144 [==============================] - 0s 3ms/step - loss: 0.0753 - accuracy: 0.9757\n",
      "Epoch 6/10\n",
      "144/144 [==============================] - 0s 3ms/step - loss: 0.0774 - accuracy: 0.9759\n",
      "Epoch 7/10\n",
      "144/144 [==============================] - 0s 3ms/step - loss: 0.0194 - accuracy: 0.9970\n",
      "Epoch 8/10\n",
      "144/144 [==============================] - 0s 3ms/step - loss: 0.0085 - accuracy: 0.9995\n",
      "Epoch 9/10\n",
      "144/144 [==============================] - 0s 3ms/step - loss: 0.0883 - accuracy: 0.9683\n",
      "Epoch 10/10\n",
      "144/144 [==============================] - 0s 3ms/step - loss: 0.0283 - accuracy: 0.9921\n"
     ]
    },
    {
     "data": {
      "text/plain": [
       "<tensorflow.python.keras.callbacks.History at 0x7f4e6c569250>"
      ]
     },
     "execution_count": 9,
     "metadata": {},
     "output_type": "execute_result"
    }
   ],
   "source": [
    "model.compile(optimizer='adam',\n",
    "             loss='sparse_categorical_crossentropy',\n",
    "             metrics=['accuracy'])\n",
    "\n",
    "#모델을 학습(훈련)합니다.\n",
    "model.fit(x_train_norm, y_train, epochs=10)"
   ]
  },
  {
   "cell_type": "markdown",
   "id": "eleven-reconstruction",
   "metadata": {},
   "source": [
    "## 4) 테스트 데이터 예측해보기\n",
    "- 훈련한 모델로 테스트 데이터를 예측해봅니다."
   ]
  },
  {
   "cell_type": "code",
   "execution_count": 10,
   "id": "biological-mayor",
   "metadata": {},
   "outputs": [
    {
     "name": "stdout",
     "output_type": "stream",
     "text": [
      "테스트용 데이터(x_test)의 이미지 개수는 300 입니다.\n",
      "x_train shape: (300, 28, 28, 3)\n",
      "y_train shape: (300,)\n"
     ]
    }
   ],
   "source": [
    "# 테스트 데이터를 불러오는 함수를 정의합니다.\n",
    "def load_test_data(img_path, number_of_data=300):  \n",
    "    # 가위 : 0, 바위 : 1, 보 : 2\n",
    "    img_size=28\n",
    "    color=3\n",
    "    #이미지 데이터와 라벨(가위 : 0, 바위 : 1, 보 : 2) 데이터를 담을 행렬(matrix) 영역을 생성합니다.\n",
    "    imgs=np.zeros(number_of_data*img_size*img_size*color,dtype=np.int32).reshape(number_of_data,img_size,img_size,color)\n",
    "    labels=np.zeros(number_of_data,dtype=np.int32)\n",
    "\n",
    "    idx=0\n",
    "    for file in glob.iglob(img_path+'/scissor/*.jpg'):\n",
    "        img = np.array(Image.open(file),dtype=np.int32)\n",
    "        imgs[idx,:,:,:]=img    # 데이터 영역에 이미지 행렬을 복사\n",
    "        labels[idx]=0   # 가위 : 0\n",
    "        idx=idx+1\n",
    "\n",
    "    for file in glob.iglob(img_path+'/rock/*.jpg'):\n",
    "        img = np.array(Image.open(file),dtype=np.int32)\n",
    "        imgs[idx,:,:,:]=img    # 데이터 영역에 이미지 행렬을 복사\n",
    "        labels[idx]=1   # 바위 : 1\n",
    "        idx=idx+1  \n",
    "    \n",
    "    for file in glob.iglob(img_path+'/paper/*.jpg'):\n",
    "        img = np.array(Image.open(file),dtype=np.int32)\n",
    "        imgs[idx,:,:,:]=img    # 데이터 영역에 이미지 행렬을 복사\n",
    "        labels[idx]=2   # 보 : 2\n",
    "        idx=idx+1\n",
    "        \n",
    "    print(\"테스트용 데이터(x_test)의 이미지 개수는\", idx,\"입니다.\")\n",
    "    return imgs, labels\n",
    "\n",
    "\n",
    "image_dir_path = os.getenv(\"HOME\") + \"/aiffel/etc/rock_scissor_paper/test\"\n",
    "(x_test, y_test)=load_test_data(image_dir_path)\n",
    "x_test_norm = x_test/255.0   # 입력은 0~1 사이의 값으로 정규화\n",
    "\n",
    "print(\"x_train shape: {}\".format(x_test.shape))\n",
    "print(\"y_train shape: {}\".format(y_test.shape))"
   ]
  },
  {
   "cell_type": "code",
   "execution_count": 11,
   "id": "egyptian-meaning",
   "metadata": {},
   "outputs": [
    {
     "name": "stdout",
     "output_type": "stream",
     "text": [
      "10/10 - 1s - loss: 0.3661 - accuracy: 0.8567\n",
      "test_loss: 0.36608797311782837 \n",
      "test_accuracy: 0.8566666841506958\n"
     ]
    }
   ],
   "source": [
    "test_loss, test_accuracy = model.evaluate(x_test_norm, y_test, verbose=2)\n",
    "print(\"test_loss: {} \".format(test_loss))\n",
    "print(\"test_accuracy: {}\".format(test_accuracy))"
   ]
  },
  {
   "cell_type": "markdown",
   "id": "expensive-given",
   "metadata": {},
   "source": [
    "## 5) 회고\n",
    "- 제가 직접 찍은 가위바위보 이미지 300장을 훈련하고, 다른 사람의 데이터를 받아서 테스트했을 때에는 accuracy가 낮게 나왔습니다.\n",
    "- 이를 개선하고자 AIFFEL 양재캠 노션 페이지에서 다른 사람들의 데이터를 가져와서 4586장을 훈련시켰고, 훈련 데이터셋에는 포함되지 않은 사람의 가위바위보 이미지 데이터 300장을 가져와서 테스트했습니다. 훈련했을 때의 정확도는 약 99%였지만, 테스트 정확도는 약 85%로 낮아졌습니다. 새로운 데이터를 예측하는 정확도가 낮아지긴 했지만, 어느 정도는 잘 맞추고\n",
    "- 정리: 데이터의 양과 질이 중요하다는 것을 느꼈습니다. 편향된 데이터를 학습하면 새로운 데이터를 예측하기 힘듭니다. 따라서 다양한 데이터 셋을 많이 학습하는 것이 좋습니다. 그리고 이미지 데이터의 경우 화질이나 주변 배경(noise)에 따라 품질이 저하될 수 있습니다. 품질이 저하된 데이터를 학습하는 것은 도움이 되지 않습니다. "
   ]
  }
 ],
 "metadata": {
  "kernelspec": {
   "display_name": "Python 3",
   "language": "python",
   "name": "python3"
  },
  "language_info": {
   "codemirror_mode": {
    "name": "ipython",
    "version": 3
   },
   "file_extension": ".py",
   "mimetype": "text/x-python",
   "name": "python",
   "nbconvert_exporter": "python",
   "pygments_lexer": "ipython3",
   "version": "3.7.9"
  }
 },
 "nbformat": 4,
 "nbformat_minor": 5
}
