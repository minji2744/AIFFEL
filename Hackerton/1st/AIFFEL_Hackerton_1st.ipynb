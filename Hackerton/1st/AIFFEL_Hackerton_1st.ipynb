{
  "nbformat": 4,
  "nbformat_minor": 0,
  "metadata": {
    "colab": {
      "name": "AIFFEL_Hackerton_1st.ipynb",
      "provenance": []
    },
    "kernelspec": {
      "name": "python3",
      "display_name": "Python 3"
    },
    "language_info": {
      "name": "python"
    }
  },
  "cells": [
    {
      "cell_type": "code",
      "metadata": {
        "id": "wOOvubLDLA1G"
      },
      "source": [
        "import numpy as np\n",
        "import pandas as pd\n",
        "from sklearn import preprocessing\n",
        "from sklearn.model_selection import GridSearchCV\n",
        "import lightgbm as lgb\n",
        "import matplotlib.pyplot as plt\n",
        "import seaborn as sns\n",
        "\n",
        "data_dir = '/content/drive/MyDrive/Colab_Notebooks/recruit-restaurant-visitor-forecasting'"
      ],
      "execution_count": 1,
      "outputs": []
    },
    {
      "cell_type": "code",
      "metadata": {
        "id": "Bl4ER-VdLN4q",
        "colab": {
          "base_uri": "https://localhost:8080/",
          "height": 578
        },
        "outputId": "348d846c-db0a-473d-ca2f-99792a0e2711"
      },
      "source": [
        "data = {\n",
        "    'tra':\n",
        "    pd.read_csv('/content/drive/MyDrive/Colab_Notebooks/recruit-restaurant-visitor-forecasting/air_visit_data.csv.zip'),\n",
        "    'as':\n",
        "    pd.read_csv('/content/drive/MyDrive/Colab_Notebooks/recruit-restaurant-visitor-forecasting/air_store_info.csv.zip'),\n",
        "    'hs':\n",
        "    pd.read_csv('/content/drive/MyDrive/Colab_Notebooks/recruit-restaurant-visitor-forecasting/hpg_store_info.csv.zip'),\n",
        "    'ar':\n",
        "    pd.read_csv('/content/drive/MyDrive/Colab_Notebooks/recruit-restaurant-visitor-forecasting/air_reserve.csv.zip'),\n",
        "    'hr':\n",
        "    pd.read_csv('/content/drive/MyDrive/Colab_Notebooks/recruit-restaurant-visitor-forecasting/hpg_reserve.csv.zip'),\n",
        "    'id':\n",
        "    pd.read_csv('/content/drive/MyDrive/Colab_Notebooks/recruit-restaurant-visitor-forecasting/store_id_relation.csv.zip'),\n",
        "    'tes':\n",
        "    pd.read_csv('/content/drive/MyDrive/Colab_Notebooks/recruit-restaurant-visitor-forecasting/sample_submission.csv.zip'),\n",
        "    'hol':\n",
        "    pd.read_csv('/content/drive/MyDrive/Colab_Notebooks/recruit-restaurant-visitor-forecasting/date_info.csv.zip').rename(columns={\n",
        "        'calendar_date': 'visit_date'\n",
        "    })\n",
        "}\n",
        "display(data['hr'].head())\n",
        "display(data['id'].head())\n",
        "display(data['ar'].head())"
      ],
      "execution_count": 2,
      "outputs": [
        {
          "output_type": "display_data",
          "data": {
            "text/html": [
              "<div>\n",
              "<style scoped>\n",
              "    .dataframe tbody tr th:only-of-type {\n",
              "        vertical-align: middle;\n",
              "    }\n",
              "\n",
              "    .dataframe tbody tr th {\n",
              "        vertical-align: top;\n",
              "    }\n",
              "\n",
              "    .dataframe thead th {\n",
              "        text-align: right;\n",
              "    }\n",
              "</style>\n",
              "<table border=\"1\" class=\"dataframe\">\n",
              "  <thead>\n",
              "    <tr style=\"text-align: right;\">\n",
              "      <th></th>\n",
              "      <th>hpg_store_id</th>\n",
              "      <th>visit_datetime</th>\n",
              "      <th>reserve_datetime</th>\n",
              "      <th>reserve_visitors</th>\n",
              "    </tr>\n",
              "  </thead>\n",
              "  <tbody>\n",
              "    <tr>\n",
              "      <th>0</th>\n",
              "      <td>hpg_c63f6f42e088e50f</td>\n",
              "      <td>2016-01-01 11:00:00</td>\n",
              "      <td>2016-01-01 09:00:00</td>\n",
              "      <td>1</td>\n",
              "    </tr>\n",
              "    <tr>\n",
              "      <th>1</th>\n",
              "      <td>hpg_dac72789163a3f47</td>\n",
              "      <td>2016-01-01 13:00:00</td>\n",
              "      <td>2016-01-01 06:00:00</td>\n",
              "      <td>3</td>\n",
              "    </tr>\n",
              "    <tr>\n",
              "      <th>2</th>\n",
              "      <td>hpg_c8e24dcf51ca1eb5</td>\n",
              "      <td>2016-01-01 16:00:00</td>\n",
              "      <td>2016-01-01 14:00:00</td>\n",
              "      <td>2</td>\n",
              "    </tr>\n",
              "    <tr>\n",
              "      <th>3</th>\n",
              "      <td>hpg_24bb207e5fd49d4a</td>\n",
              "      <td>2016-01-01 17:00:00</td>\n",
              "      <td>2016-01-01 11:00:00</td>\n",
              "      <td>5</td>\n",
              "    </tr>\n",
              "    <tr>\n",
              "      <th>4</th>\n",
              "      <td>hpg_25291c542ebb3bc2</td>\n",
              "      <td>2016-01-01 17:00:00</td>\n",
              "      <td>2016-01-01 03:00:00</td>\n",
              "      <td>13</td>\n",
              "    </tr>\n",
              "  </tbody>\n",
              "</table>\n",
              "</div>"
            ],
            "text/plain": [
              "           hpg_store_id  ... reserve_visitors\n",
              "0  hpg_c63f6f42e088e50f  ...                1\n",
              "1  hpg_dac72789163a3f47  ...                3\n",
              "2  hpg_c8e24dcf51ca1eb5  ...                2\n",
              "3  hpg_24bb207e5fd49d4a  ...                5\n",
              "4  hpg_25291c542ebb3bc2  ...               13\n",
              "\n",
              "[5 rows x 4 columns]"
            ]
          },
          "metadata": {
            "tags": []
          }
        },
        {
          "output_type": "display_data",
          "data": {
            "text/html": [
              "<div>\n",
              "<style scoped>\n",
              "    .dataframe tbody tr th:only-of-type {\n",
              "        vertical-align: middle;\n",
              "    }\n",
              "\n",
              "    .dataframe tbody tr th {\n",
              "        vertical-align: top;\n",
              "    }\n",
              "\n",
              "    .dataframe thead th {\n",
              "        text-align: right;\n",
              "    }\n",
              "</style>\n",
              "<table border=\"1\" class=\"dataframe\">\n",
              "  <thead>\n",
              "    <tr style=\"text-align: right;\">\n",
              "      <th></th>\n",
              "      <th>air_store_id</th>\n",
              "      <th>hpg_store_id</th>\n",
              "    </tr>\n",
              "  </thead>\n",
              "  <tbody>\n",
              "    <tr>\n",
              "      <th>0</th>\n",
              "      <td>air_63b13c56b7201bd9</td>\n",
              "      <td>hpg_4bc649e72e2a239a</td>\n",
              "    </tr>\n",
              "    <tr>\n",
              "      <th>1</th>\n",
              "      <td>air_a24bf50c3e90d583</td>\n",
              "      <td>hpg_c34b496d0305a809</td>\n",
              "    </tr>\n",
              "    <tr>\n",
              "      <th>2</th>\n",
              "      <td>air_c7f78b4f3cba33ff</td>\n",
              "      <td>hpg_cd8ae0d9bbd58ff9</td>\n",
              "    </tr>\n",
              "    <tr>\n",
              "      <th>3</th>\n",
              "      <td>air_947eb2cae4f3e8f2</td>\n",
              "      <td>hpg_de24ea49dc25d6b8</td>\n",
              "    </tr>\n",
              "    <tr>\n",
              "      <th>4</th>\n",
              "      <td>air_965b2e0cf4119003</td>\n",
              "      <td>hpg_653238a84804d8e7</td>\n",
              "    </tr>\n",
              "  </tbody>\n",
              "</table>\n",
              "</div>"
            ],
            "text/plain": [
              "           air_store_id          hpg_store_id\n",
              "0  air_63b13c56b7201bd9  hpg_4bc649e72e2a239a\n",
              "1  air_a24bf50c3e90d583  hpg_c34b496d0305a809\n",
              "2  air_c7f78b4f3cba33ff  hpg_cd8ae0d9bbd58ff9\n",
              "3  air_947eb2cae4f3e8f2  hpg_de24ea49dc25d6b8\n",
              "4  air_965b2e0cf4119003  hpg_653238a84804d8e7"
            ]
          },
          "metadata": {
            "tags": []
          }
        },
        {
          "output_type": "display_data",
          "data": {
            "text/html": [
              "<div>\n",
              "<style scoped>\n",
              "    .dataframe tbody tr th:only-of-type {\n",
              "        vertical-align: middle;\n",
              "    }\n",
              "\n",
              "    .dataframe tbody tr th {\n",
              "        vertical-align: top;\n",
              "    }\n",
              "\n",
              "    .dataframe thead th {\n",
              "        text-align: right;\n",
              "    }\n",
              "</style>\n",
              "<table border=\"1\" class=\"dataframe\">\n",
              "  <thead>\n",
              "    <tr style=\"text-align: right;\">\n",
              "      <th></th>\n",
              "      <th>air_store_id</th>\n",
              "      <th>visit_datetime</th>\n",
              "      <th>reserve_datetime</th>\n",
              "      <th>reserve_visitors</th>\n",
              "    </tr>\n",
              "  </thead>\n",
              "  <tbody>\n",
              "    <tr>\n",
              "      <th>0</th>\n",
              "      <td>air_877f79706adbfb06</td>\n",
              "      <td>2016-01-01 19:00:00</td>\n",
              "      <td>2016-01-01 16:00:00</td>\n",
              "      <td>1</td>\n",
              "    </tr>\n",
              "    <tr>\n",
              "      <th>1</th>\n",
              "      <td>air_db4b38ebe7a7ceff</td>\n",
              "      <td>2016-01-01 19:00:00</td>\n",
              "      <td>2016-01-01 19:00:00</td>\n",
              "      <td>3</td>\n",
              "    </tr>\n",
              "    <tr>\n",
              "      <th>2</th>\n",
              "      <td>air_db4b38ebe7a7ceff</td>\n",
              "      <td>2016-01-01 19:00:00</td>\n",
              "      <td>2016-01-01 19:00:00</td>\n",
              "      <td>6</td>\n",
              "    </tr>\n",
              "    <tr>\n",
              "      <th>3</th>\n",
              "      <td>air_877f79706adbfb06</td>\n",
              "      <td>2016-01-01 20:00:00</td>\n",
              "      <td>2016-01-01 16:00:00</td>\n",
              "      <td>2</td>\n",
              "    </tr>\n",
              "    <tr>\n",
              "      <th>4</th>\n",
              "      <td>air_db80363d35f10926</td>\n",
              "      <td>2016-01-01 20:00:00</td>\n",
              "      <td>2016-01-01 01:00:00</td>\n",
              "      <td>5</td>\n",
              "    </tr>\n",
              "  </tbody>\n",
              "</table>\n",
              "</div>"
            ],
            "text/plain": [
              "           air_store_id  ... reserve_visitors\n",
              "0  air_877f79706adbfb06  ...                1\n",
              "1  air_db4b38ebe7a7ceff  ...                3\n",
              "2  air_db4b38ebe7a7ceff  ...                6\n",
              "3  air_877f79706adbfb06  ...                2\n",
              "4  air_db80363d35f10926  ...                5\n",
              "\n",
              "[5 rows x 4 columns]"
            ]
          },
          "metadata": {
            "tags": []
          }
        }
      ]
    },
    {
      "cell_type": "code",
      "metadata": {
        "colab": {
          "base_uri": "https://localhost:8080/",
          "height": 609
        },
        "id": "MVU0oSwfOZWZ",
        "outputId": "32457e02-5a4a-42f8-e925-dede456c39bf"
      },
      "source": [
        "air = pd.merge(data[\"ar\"],data[\"as\"],on='air_store_id')\n",
        "hpg = pd.merge(data[\"hr\"], data[\"hs\"],on=\"hpg_store_id\")\n",
        "rel = data[\"id\"]\n",
        "airrel = pd.merge(air, rel, how='left',on='air_store_id')\n",
        "hpgrel = pd.merge(hpg, rel, how='left',on='hpg_store_id')\n",
        "full = pd.merge(airrel, hpgrel, how = \"outer\")\n",
        "full"
      ],
      "execution_count": 3,
      "outputs": [
        {
          "output_type": "execute_result",
          "data": {
            "text/html": [
              "<div>\n",
              "<style scoped>\n",
              "    .dataframe tbody tr th:only-of-type {\n",
              "        vertical-align: middle;\n",
              "    }\n",
              "\n",
              "    .dataframe tbody tr th {\n",
              "        vertical-align: top;\n",
              "    }\n",
              "\n",
              "    .dataframe thead th {\n",
              "        text-align: right;\n",
              "    }\n",
              "</style>\n",
              "<table border=\"1\" class=\"dataframe\">\n",
              "  <thead>\n",
              "    <tr style=\"text-align: right;\">\n",
              "      <th></th>\n",
              "      <th>air_store_id</th>\n",
              "      <th>visit_datetime</th>\n",
              "      <th>reserve_datetime</th>\n",
              "      <th>reserve_visitors</th>\n",
              "      <th>air_genre_name</th>\n",
              "      <th>air_area_name</th>\n",
              "      <th>latitude</th>\n",
              "      <th>longitude</th>\n",
              "      <th>hpg_store_id</th>\n",
              "      <th>hpg_genre_name</th>\n",
              "      <th>hpg_area_name</th>\n",
              "    </tr>\n",
              "  </thead>\n",
              "  <tbody>\n",
              "    <tr>\n",
              "      <th>0</th>\n",
              "      <td>air_877f79706adbfb06</td>\n",
              "      <td>2016-01-01 19:00:00</td>\n",
              "      <td>2016-01-01 16:00:00</td>\n",
              "      <td>1</td>\n",
              "      <td>Japanese food</td>\n",
              "      <td>Tōkyō-to Minato-ku Shibakōen</td>\n",
              "      <td>35.658068</td>\n",
              "      <td>139.751599</td>\n",
              "      <td>NaN</td>\n",
              "      <td>NaN</td>\n",
              "      <td>NaN</td>\n",
              "    </tr>\n",
              "    <tr>\n",
              "      <th>1</th>\n",
              "      <td>air_877f79706adbfb06</td>\n",
              "      <td>2016-01-01 20:00:00</td>\n",
              "      <td>2016-01-01 16:00:00</td>\n",
              "      <td>2</td>\n",
              "      <td>Japanese food</td>\n",
              "      <td>Tōkyō-to Minato-ku Shibakōen</td>\n",
              "      <td>35.658068</td>\n",
              "      <td>139.751599</td>\n",
              "      <td>NaN</td>\n",
              "      <td>NaN</td>\n",
              "      <td>NaN</td>\n",
              "    </tr>\n",
              "    <tr>\n",
              "      <th>2</th>\n",
              "      <td>air_877f79706adbfb06</td>\n",
              "      <td>2016-01-02 18:00:00</td>\n",
              "      <td>2016-01-01 16:00:00</td>\n",
              "      <td>2</td>\n",
              "      <td>Japanese food</td>\n",
              "      <td>Tōkyō-to Minato-ku Shibakōen</td>\n",
              "      <td>35.658068</td>\n",
              "      <td>139.751599</td>\n",
              "      <td>NaN</td>\n",
              "      <td>NaN</td>\n",
              "      <td>NaN</td>\n",
              "    </tr>\n",
              "    <tr>\n",
              "      <th>3</th>\n",
              "      <td>air_877f79706adbfb06</td>\n",
              "      <td>2016-01-02 21:00:00</td>\n",
              "      <td>2016-01-01 16:00:00</td>\n",
              "      <td>2</td>\n",
              "      <td>Japanese food</td>\n",
              "      <td>Tōkyō-to Minato-ku Shibakōen</td>\n",
              "      <td>35.658068</td>\n",
              "      <td>139.751599</td>\n",
              "      <td>NaN</td>\n",
              "      <td>NaN</td>\n",
              "      <td>NaN</td>\n",
              "    </tr>\n",
              "    <tr>\n",
              "      <th>4</th>\n",
              "      <td>air_877f79706adbfb06</td>\n",
              "      <td>2016-01-08 21:00:00</td>\n",
              "      <td>2016-01-04 20:00:00</td>\n",
              "      <td>2</td>\n",
              "      <td>Japanese food</td>\n",
              "      <td>Tōkyō-to Minato-ku Shibakōen</td>\n",
              "      <td>35.658068</td>\n",
              "      <td>139.751599</td>\n",
              "      <td>NaN</td>\n",
              "      <td>NaN</td>\n",
              "      <td>NaN</td>\n",
              "    </tr>\n",
              "    <tr>\n",
              "      <th>...</th>\n",
              "      <td>...</td>\n",
              "      <td>...</td>\n",
              "      <td>...</td>\n",
              "      <td>...</td>\n",
              "      <td>...</td>\n",
              "      <td>...</td>\n",
              "      <td>...</td>\n",
              "      <td>...</td>\n",
              "      <td>...</td>\n",
              "      <td>...</td>\n",
              "      <td>...</td>\n",
              "    </tr>\n",
              "    <tr>\n",
              "      <th>963681</th>\n",
              "      <td>NaN</td>\n",
              "      <td>2017-04-24 18:00:00</td>\n",
              "      <td>2017-04-20 14:00:00</td>\n",
              "      <td>8</td>\n",
              "      <td>NaN</td>\n",
              "      <td>NaN</td>\n",
              "      <td>35.682504</td>\n",
              "      <td>139.773619</td>\n",
              "      <td>hpg_e106ddef2b137959</td>\n",
              "      <td>Japanese style</td>\n",
              "      <td>Tōkyō-to Chūō-ku None</td>\n",
              "    </tr>\n",
              "    <tr>\n",
              "      <th>963682</th>\n",
              "      <td>NaN</td>\n",
              "      <td>2017-04-24 19:00:00</td>\n",
              "      <td>2017-04-22 14:00:00</td>\n",
              "      <td>14</td>\n",
              "      <td>NaN</td>\n",
              "      <td>NaN</td>\n",
              "      <td>35.682504</td>\n",
              "      <td>139.773619</td>\n",
              "      <td>hpg_e106ddef2b137959</td>\n",
              "      <td>Japanese style</td>\n",
              "      <td>Tōkyō-to Chūō-ku None</td>\n",
              "    </tr>\n",
              "    <tr>\n",
              "      <th>963683</th>\n",
              "      <td>NaN</td>\n",
              "      <td>2017-04-24 19:00:00</td>\n",
              "      <td>2017-04-22 14:00:00</td>\n",
              "      <td>15</td>\n",
              "      <td>NaN</td>\n",
              "      <td>NaN</td>\n",
              "      <td>35.682504</td>\n",
              "      <td>139.773619</td>\n",
              "      <td>hpg_e106ddef2b137959</td>\n",
              "      <td>Japanese style</td>\n",
              "      <td>Tōkyō-to Chūō-ku None</td>\n",
              "    </tr>\n",
              "    <tr>\n",
              "      <th>963684</th>\n",
              "      <td>NaN</td>\n",
              "      <td>2017-04-24 19:00:00</td>\n",
              "      <td>2017-04-10 17:00:00</td>\n",
              "      <td>18</td>\n",
              "      <td>NaN</td>\n",
              "      <td>NaN</td>\n",
              "      <td>35.682504</td>\n",
              "      <td>139.773619</td>\n",
              "      <td>hpg_e106ddef2b137959</td>\n",
              "      <td>Japanese style</td>\n",
              "      <td>Tōkyō-to Chūō-ku None</td>\n",
              "    </tr>\n",
              "    <tr>\n",
              "      <th>963685</th>\n",
              "      <td>NaN</td>\n",
              "      <td>2017-04-28 18:00:00</td>\n",
              "      <td>2017-04-10 17:00:00</td>\n",
              "      <td>22</td>\n",
              "      <td>NaN</td>\n",
              "      <td>NaN</td>\n",
              "      <td>35.682504</td>\n",
              "      <td>139.773619</td>\n",
              "      <td>hpg_e106ddef2b137959</td>\n",
              "      <td>Japanese style</td>\n",
              "      <td>Tōkyō-to Chūō-ku None</td>\n",
              "    </tr>\n",
              "  </tbody>\n",
              "</table>\n",
              "<p>963686 rows × 11 columns</p>\n",
              "</div>"
            ],
            "text/plain": [
              "                air_store_id  ...          hpg_area_name\n",
              "0       air_877f79706adbfb06  ...                    NaN\n",
              "1       air_877f79706adbfb06  ...                    NaN\n",
              "2       air_877f79706adbfb06  ...                    NaN\n",
              "3       air_877f79706adbfb06  ...                    NaN\n",
              "4       air_877f79706adbfb06  ...                    NaN\n",
              "...                      ...  ...                    ...\n",
              "963681                   NaN  ...  Tōkyō-to Chūō-ku None\n",
              "963682                   NaN  ...  Tōkyō-to Chūō-ku None\n",
              "963683                   NaN  ...  Tōkyō-to Chūō-ku None\n",
              "963684                   NaN  ...  Tōkyō-to Chūō-ku None\n",
              "963685                   NaN  ...  Tōkyō-to Chūō-ku None\n",
              "\n",
              "[963686 rows x 11 columns]"
            ]
          },
          "metadata": {
            "tags": []
          },
          "execution_count": 3
        }
      ]
    },
    {
      "cell_type": "code",
      "metadata": {
        "colab": {
          "base_uri": "https://localhost:8080/",
          "height": 391
        },
        "id": "r4tAexkreT8W",
        "outputId": "39ee923f-bb35-484e-9c2e-82a5e025d619"
      },
      "source": [
        "data['hr'] = pd.merge(data['hr'], data['id'], how='inner', on=['hpg_store_id'])\n",
        "\n",
        "for df in ['ar', 'hr']:\n",
        "    data[df]['visit_datetime'] = pd.to_datetime(data[df]['visit_datetime'])\n",
        "    data[df]['visit_datetime'] = data[df]['visit_datetime'].dt.date\n",
        "    data[df]['reserve_datetime'] = pd.to_datetime(data[df]['reserve_datetime'])\n",
        "    data[df]['reserve_datetime'] = data[df]['reserve_datetime'].dt.date\n",
        "    \n",
        "    data[df]['reserve_datetime_diff'] = data[df].apply(\n",
        "        lambda r: (r['visit_datetime'] - r['reserve_datetime']).days, axis=1)\n",
        "    data[df] = data[df].groupby(\n",
        "        ['air_store_id', 'visit_datetime'], as_index=False)[[\n",
        "            'reserve_datetime_diff', 'reserve_visitors'\n",
        "        ]].sum().rename(columns={\n",
        "            'visit_datetime': 'visit_date'\n",
        "        })\n",
        "    display(data[df].head())"
      ],
      "execution_count": 15,
      "outputs": [
        {
          "output_type": "display_data",
          "data": {
            "text/html": [
              "<div>\n",
              "<style scoped>\n",
              "    .dataframe tbody tr th:only-of-type {\n",
              "        vertical-align: middle;\n",
              "    }\n",
              "\n",
              "    .dataframe tbody tr th {\n",
              "        vertical-align: top;\n",
              "    }\n",
              "\n",
              "    .dataframe thead th {\n",
              "        text-align: right;\n",
              "    }\n",
              "</style>\n",
              "<table border=\"1\" class=\"dataframe\">\n",
              "  <thead>\n",
              "    <tr style=\"text-align: right;\">\n",
              "      <th></th>\n",
              "      <th>air_store_id</th>\n",
              "      <th>visit_date</th>\n",
              "      <th>reserve_datetime_diff</th>\n",
              "      <th>reserve_visitors</th>\n",
              "    </tr>\n",
              "  </thead>\n",
              "  <tbody>\n",
              "    <tr>\n",
              "      <th>0</th>\n",
              "      <td>air_00a91d42b08b08d9</td>\n",
              "      <td>2016-10-31</td>\n",
              "      <td>0</td>\n",
              "      <td>2</td>\n",
              "    </tr>\n",
              "    <tr>\n",
              "      <th>1</th>\n",
              "      <td>air_00a91d42b08b08d9</td>\n",
              "      <td>2016-12-05</td>\n",
              "      <td>4</td>\n",
              "      <td>9</td>\n",
              "    </tr>\n",
              "    <tr>\n",
              "      <th>2</th>\n",
              "      <td>air_00a91d42b08b08d9</td>\n",
              "      <td>2016-12-14</td>\n",
              "      <td>6</td>\n",
              "      <td>18</td>\n",
              "    </tr>\n",
              "    <tr>\n",
              "      <th>3</th>\n",
              "      <td>air_00a91d42b08b08d9</td>\n",
              "      <td>2016-12-17</td>\n",
              "      <td>6</td>\n",
              "      <td>2</td>\n",
              "    </tr>\n",
              "    <tr>\n",
              "      <th>4</th>\n",
              "      <td>air_00a91d42b08b08d9</td>\n",
              "      <td>2016-12-20</td>\n",
              "      <td>2</td>\n",
              "      <td>4</td>\n",
              "    </tr>\n",
              "  </tbody>\n",
              "</table>\n",
              "</div>"
            ],
            "text/plain": [
              "           air_store_id  visit_date  reserve_datetime_diff  reserve_visitors\n",
              "0  air_00a91d42b08b08d9  2016-10-31                      0                 2\n",
              "1  air_00a91d42b08b08d9  2016-12-05                      4                 9\n",
              "2  air_00a91d42b08b08d9  2016-12-14                      6                18\n",
              "3  air_00a91d42b08b08d9  2016-12-17                      6                 2\n",
              "4  air_00a91d42b08b08d9  2016-12-20                      2                 4"
            ]
          },
          "metadata": {
            "tags": []
          }
        },
        {
          "output_type": "display_data",
          "data": {
            "text/html": [
              "<div>\n",
              "<style scoped>\n",
              "    .dataframe tbody tr th:only-of-type {\n",
              "        vertical-align: middle;\n",
              "    }\n",
              "\n",
              "    .dataframe tbody tr th {\n",
              "        vertical-align: top;\n",
              "    }\n",
              "\n",
              "    .dataframe thead th {\n",
              "        text-align: right;\n",
              "    }\n",
              "</style>\n",
              "<table border=\"1\" class=\"dataframe\">\n",
              "  <thead>\n",
              "    <tr style=\"text-align: right;\">\n",
              "      <th></th>\n",
              "      <th>air_store_id</th>\n",
              "      <th>visit_date</th>\n",
              "      <th>reserve_datetime_diff</th>\n",
              "      <th>reserve_visitors</th>\n",
              "    </tr>\n",
              "  </thead>\n",
              "  <tbody>\n",
              "    <tr>\n",
              "      <th>0</th>\n",
              "      <td>air_00a91d42b08b08d9</td>\n",
              "      <td>2016-01-14</td>\n",
              "      <td>3</td>\n",
              "      <td>2</td>\n",
              "    </tr>\n",
              "    <tr>\n",
              "      <th>1</th>\n",
              "      <td>air_00a91d42b08b08d9</td>\n",
              "      <td>2016-01-15</td>\n",
              "      <td>6</td>\n",
              "      <td>4</td>\n",
              "    </tr>\n",
              "    <tr>\n",
              "      <th>2</th>\n",
              "      <td>air_00a91d42b08b08d9</td>\n",
              "      <td>2016-01-16</td>\n",
              "      <td>3</td>\n",
              "      <td>2</td>\n",
              "    </tr>\n",
              "    <tr>\n",
              "      <th>3</th>\n",
              "      <td>air_00a91d42b08b08d9</td>\n",
              "      <td>2016-01-22</td>\n",
              "      <td>3</td>\n",
              "      <td>2</td>\n",
              "    </tr>\n",
              "    <tr>\n",
              "      <th>4</th>\n",
              "      <td>air_00a91d42b08b08d9</td>\n",
              "      <td>2016-01-29</td>\n",
              "      <td>6</td>\n",
              "      <td>5</td>\n",
              "    </tr>\n",
              "  </tbody>\n",
              "</table>\n",
              "</div>"
            ],
            "text/plain": [
              "           air_store_id  visit_date  reserve_datetime_diff  reserve_visitors\n",
              "0  air_00a91d42b08b08d9  2016-01-14                      3                 2\n",
              "1  air_00a91d42b08b08d9  2016-01-15                      6                 4\n",
              "2  air_00a91d42b08b08d9  2016-01-16                      3                 2\n",
              "3  air_00a91d42b08b08d9  2016-01-22                      3                 2\n",
              "4  air_00a91d42b08b08d9  2016-01-29                      6                 5"
            ]
          },
          "metadata": {
            "tags": []
          }
        }
      ]
    },
    {
      "cell_type": "code",
      "metadata": {
        "id": "0tMXqn4ge38N"
      },
      "source": [
        "data['tra']['visit_date'] = pd.to_datetime(data['tra']['visit_date'])"
      ],
      "execution_count": 16,
      "outputs": []
    },
    {
      "cell_type": "code",
      "metadata": {
        "id": "vRfzUAFJeyr5",
        "colab": {
          "base_uri": "https://localhost:8080/",
          "height": 204
        },
        "outputId": "2ac7f873-9fb6-46a0-edff-76debe9cd8f6"
      },
      "source": [
        "data['tra']['dow'] = data['tra']['visit_date'].dt.dayofweek\n",
        "data['tra']['year'] = data['tra']['visit_date'].dt.year\n",
        "data['tra']['month'] = data['tra']['visit_date'].dt.month\n",
        "data['tra']['visit_date'] = data['tra']['visit_date'].dt.date\n",
        "data['tra'].head()"
      ],
      "execution_count": 17,
      "outputs": [
        {
          "output_type": "execute_result",
          "data": {
            "text/html": [
              "<div>\n",
              "<style scoped>\n",
              "    .dataframe tbody tr th:only-of-type {\n",
              "        vertical-align: middle;\n",
              "    }\n",
              "\n",
              "    .dataframe tbody tr th {\n",
              "        vertical-align: top;\n",
              "    }\n",
              "\n",
              "    .dataframe thead th {\n",
              "        text-align: right;\n",
              "    }\n",
              "</style>\n",
              "<table border=\"1\" class=\"dataframe\">\n",
              "  <thead>\n",
              "    <tr style=\"text-align: right;\">\n",
              "      <th></th>\n",
              "      <th>air_store_id</th>\n",
              "      <th>visit_date</th>\n",
              "      <th>visitors</th>\n",
              "      <th>dow</th>\n",
              "      <th>year</th>\n",
              "      <th>month</th>\n",
              "    </tr>\n",
              "  </thead>\n",
              "  <tbody>\n",
              "    <tr>\n",
              "      <th>0</th>\n",
              "      <td>air_ba937bf13d40fb24</td>\n",
              "      <td>2016-01-13</td>\n",
              "      <td>25</td>\n",
              "      <td>2</td>\n",
              "      <td>2016</td>\n",
              "      <td>1</td>\n",
              "    </tr>\n",
              "    <tr>\n",
              "      <th>1</th>\n",
              "      <td>air_ba937bf13d40fb24</td>\n",
              "      <td>2016-01-14</td>\n",
              "      <td>32</td>\n",
              "      <td>3</td>\n",
              "      <td>2016</td>\n",
              "      <td>1</td>\n",
              "    </tr>\n",
              "    <tr>\n",
              "      <th>2</th>\n",
              "      <td>air_ba937bf13d40fb24</td>\n",
              "      <td>2016-01-15</td>\n",
              "      <td>29</td>\n",
              "      <td>4</td>\n",
              "      <td>2016</td>\n",
              "      <td>1</td>\n",
              "    </tr>\n",
              "    <tr>\n",
              "      <th>3</th>\n",
              "      <td>air_ba937bf13d40fb24</td>\n",
              "      <td>2016-01-16</td>\n",
              "      <td>22</td>\n",
              "      <td>5</td>\n",
              "      <td>2016</td>\n",
              "      <td>1</td>\n",
              "    </tr>\n",
              "    <tr>\n",
              "      <th>4</th>\n",
              "      <td>air_ba937bf13d40fb24</td>\n",
              "      <td>2016-01-18</td>\n",
              "      <td>6</td>\n",
              "      <td>0</td>\n",
              "      <td>2016</td>\n",
              "      <td>1</td>\n",
              "    </tr>\n",
              "  </tbody>\n",
              "</table>\n",
              "</div>"
            ],
            "text/plain": [
              "           air_store_id  visit_date  visitors  dow  year  month\n",
              "0  air_ba937bf13d40fb24  2016-01-13        25    2  2016      1\n",
              "1  air_ba937bf13d40fb24  2016-01-14        32    3  2016      1\n",
              "2  air_ba937bf13d40fb24  2016-01-15        29    4  2016      1\n",
              "3  air_ba937bf13d40fb24  2016-01-16        22    5  2016      1\n",
              "4  air_ba937bf13d40fb24  2016-01-18         6    0  2016      1"
            ]
          },
          "metadata": {
            "tags": []
          },
          "execution_count": 17
        }
      ]
    },
    {
      "cell_type": "code",
      "metadata": {
        "colab": {
          "base_uri": "https://localhost:8080/",
          "height": 369
        },
        "id": "pbWOPgloE9xw",
        "outputId": "42a75dd6-81aa-4da1-d987-8a6d836d9baf"
      },
      "source": [
        "data['tra']['visit_date'] = pd.to_datetime(data['tra']['visit_date'])\n",
        "copy_tra = data[\"tra\"]\n",
        "\n",
        "copy_tra_1 = copy_tra.groupby(\n",
        "        ['visit_date'], as_index=False)[[\n",
        "            'visitors'\n",
        "        ]].sum()\n",
        "\n",
        "plt.figure(figsize=(10,5))\n",
        "plt.title(\"air system visitors\", fontsize=15)\n",
        "plt.plot(copy_tra_1[\"visit_date\"].dt.date, copy_tra_1[\"visitors\"], color='black')\n",
        "plt.grid()\n",
        "plt.xticks(rotation=90)\n",
        "plt.show()"
      ],
      "execution_count": 27,
      "outputs": [
        {
          "output_type": "display_data",
          "data": {
            "image/png": "[encoded data removed]",
            "text/plain": [
              "<Figure size 720x360 with 1 Axes>"
            ]
          },
          "metadata": {
            "tags": [],
            "needs_background": "light"
          }
        }
      ]
    },
    {
      "cell_type": "code",
      "metadata": {
        "colab": {
          "base_uri": "https://localhost:8080/",
          "height": 300
        },
        "id": "5Z47J9pbKzbD",
        "outputId": "ad1ca078-9ea8-41bd-8023-c6b95b13f538"
      },
      "source": [
        "sns.histplot(\n",
        "    data[\"tra\"],\n",
        "    x=\"visitors\",\n",
        "    multiple=\"stack\",\n",
        "    palette=\"light:m_r\",\n",
        "    edgecolor=\".3\",\n",
        "    linewidth=.5,\n",
        "    log_scale=True\n",
        ")"
      ],
      "execution_count": 32,
      "outputs": [
        {
          "output_type": "execute_result",
          "data": {
            "text/plain": [
              "<matplotlib.axes._subplots.AxesSubplot at 0x7f659530f310>"
            ]
          },
          "metadata": {
            "tags": []
          },
          "execution_count": 32
        },
        {
          "output_type": "display_data",
          "data": {
            "image/png": "[encoded data removed]",
            "text/plain": [
              "<Figure size 432x288 with 1 Axes>"
            ]
          },
          "metadata": {
            "tags": [],
            "needs_background": "light"
          }
        }
      ]
    },
    {
      "cell_type": "code",
      "metadata": {
        "colab": {
          "base_uri": "https://localhost:8080/",
          "height": 282
        },
        "id": "FYawdE1RWO0L",
        "outputId": "7033d82a-fc84-48e8-9065-05034ba5acd1"
      },
      "source": [
        "copy_tra_2 = copy_tra.groupby(\n",
        "        ['dow'], as_index=False)[[\n",
        "            'visitors'\n",
        "        ]].median()\n",
        "\n",
        "plt.bar(copy_tra_2[\"dow\"],copy_tra_2[\"visitors\"])"
      ],
      "execution_count": 34,
      "outputs": [
        {
          "output_type": "execute_result",
          "data": {
            "text/plain": [
              "<BarContainer object of 7 artists>"
            ]
          },
          "metadata": {
            "tags": []
          },
          "execution_count": 34
        },
        {
          "output_type": "display_data",
          "data": {
            "image/png": "[encoded data removed]",
            "text/plain": [
              "<Figure size 432x288 with 1 Axes>"
            ]
          },
          "metadata": {
            "tags": [],
            "needs_background": "light"
          }
        }
      ]
    },
    {
      "cell_type": "code",
      "metadata": {
        "id": "pPnLg3l66euI"
      },
      "source": [
        "data[\"ar\"][\"visit_date\"]=pd.to_datetime(data[\"ar\"][\"visit_date\"])"
      ],
      "execution_count": 9,
      "outputs": []
    },
    {
      "cell_type": "code",
      "metadata": {
        "colab": {
          "base_uri": "https://localhost:8080/",
          "height": 369
        },
        "id": "RrqSO8sa6yZH",
        "outputId": "876d3bd9-c7c7-46c1-9f5a-c1adf16bbe81"
      },
      "source": [
        "copy_ar = data[\"ar\"]\n",
        "copy_ar_1 = copy_ar.groupby(\n",
        "        ['visit_date'], as_index=False)[[\n",
        "            'reserve_visitors'\n",
        "        ]].sum()\n",
        "\n",
        "plt.figure(figsize=(10,5))\n",
        "plt.title(\"air reserve visitors\", fontsize=15)\n",
        "plt.plot(copy_ar_1[\"visit_date\"].dt.date, copy_ar_1[\"reserve_visitors\"], color='black')\n",
        "plt.grid()\n",
        "plt.xticks(rotation=90)\n",
        "plt.show()"
      ],
      "execution_count": 11,
      "outputs": [
        {
          "output_type": "display_data",
          "data": {
            "image/png": "[encoded data removed]",
            "text/plain": [
              "<Figure size 720x360 with 1 Axes>"
            ]
          },
          "metadata": {
            "tags": [],
            "needs_background": "light"
          }
        }
      ]
    },
    {
      "cell_type": "code",
      "metadata": {
        "colab": {
          "base_uri": "https://localhost:8080/",
          "height": 419
        },
        "id": "lHg7Kwg2_uRF",
        "outputId": "c82e401e-28c5-4d63-b2bd-e87a31cab042"
      },
      "source": [
        "copy_ar_2 = copy_ar.groupby(\n",
        "        ['reserve_datetime_diff'], as_index=False)[[\n",
        "            'reserve_visitors'\n",
        "        ]].sum()\n",
        "copy_ar_2"
      ],
      "execution_count": 15,
      "outputs": [
        {
          "output_type": "execute_result",
          "data": {
            "text/html": [
              "<div>\n",
              "<style scoped>\n",
              "    .dataframe tbody tr th:only-of-type {\n",
              "        vertical-align: middle;\n",
              "    }\n",
              "\n",
              "    .dataframe tbody tr th {\n",
              "        vertical-align: top;\n",
              "    }\n",
              "\n",
              "    .dataframe thead th {\n",
              "        text-align: right;\n",
              "    }\n",
              "</style>\n",
              "<table border=\"1\" class=\"dataframe\">\n",
              "  <thead>\n",
              "    <tr style=\"text-align: right;\">\n",
              "      <th></th>\n",
              "      <th>reserve_datetime_diff</th>\n",
              "      <th>reserve_visitors</th>\n",
              "    </tr>\n",
              "  </thead>\n",
              "  <tbody>\n",
              "    <tr>\n",
              "      <th>0</th>\n",
              "      <td>0</td>\n",
              "      <td>33715</td>\n",
              "    </tr>\n",
              "    <tr>\n",
              "      <th>1</th>\n",
              "      <td>1</td>\n",
              "      <td>11953</td>\n",
              "    </tr>\n",
              "    <tr>\n",
              "      <th>2</th>\n",
              "      <td>2</td>\n",
              "      <td>11718</td>\n",
              "    </tr>\n",
              "    <tr>\n",
              "      <th>3</th>\n",
              "      <td>3</td>\n",
              "      <td>10292</td>\n",
              "    </tr>\n",
              "    <tr>\n",
              "      <th>4</th>\n",
              "      <td>4</td>\n",
              "      <td>10269</td>\n",
              "    </tr>\n",
              "    <tr>\n",
              "      <th>...</th>\n",
              "      <td>...</td>\n",
              "      <td>...</td>\n",
              "    </tr>\n",
              "    <tr>\n",
              "      <th>252</th>\n",
              "      <td>25530</td>\n",
              "      <td>550</td>\n",
              "    </tr>\n",
              "    <tr>\n",
              "      <th>253</th>\n",
              "      <td>32874</td>\n",
              "      <td>1575</td>\n",
              "    </tr>\n",
              "    <tr>\n",
              "      <th>254</th>\n",
              "      <td>35813</td>\n",
              "      <td>557</td>\n",
              "    </tr>\n",
              "    <tr>\n",
              "      <th>255</th>\n",
              "      <td>49833</td>\n",
              "      <td>2241</td>\n",
              "    </tr>\n",
              "    <tr>\n",
              "      <th>256</th>\n",
              "      <td>67801</td>\n",
              "      <td>1633</td>\n",
              "    </tr>\n",
              "  </tbody>\n",
              "</table>\n",
              "<p>257 rows × 2 columns</p>\n",
              "</div>"
            ],
            "text/plain": [
              "     reserve_datetime_diff  reserve_visitors\n",
              "0                        0             33715\n",
              "1                        1             11953\n",
              "2                        2             11718\n",
              "3                        3             10292\n",
              "4                        4             10269\n",
              "..                     ...               ...\n",
              "252                  25530               550\n",
              "253                  32874              1575\n",
              "254                  35813               557\n",
              "255                  49833              2241\n",
              "256                  67801              1633\n",
              "\n",
              "[257 rows x 2 columns]"
            ]
          },
          "metadata": {
            "tags": []
          },
          "execution_count": 15
        }
      ]
    },
    {
      "cell_type": "code",
      "metadata": {
        "colab": {
          "base_uri": "https://localhost:8080/",
          "height": 299
        },
        "id": "H3ZG-ZbYG5gW",
        "outputId": "42d81fd9-894f-4f0f-efb8-f6ea696af172"
      },
      "source": [
        "sns.barplot(x=copy_ar_2[\"reserve_datetime_diff\"], y=copy_ar_2[\"reserve_visitors\"])"
      ],
      "execution_count": 17,
      "outputs": [
        {
          "output_type": "execute_result",
          "data": {
            "text/plain": [
              "<matplotlib.axes._subplots.AxesSubplot at 0x7f3021c15bd0>"
            ]
          },
          "metadata": {
            "tags": []
          },
          "execution_count": 17
        },
        {
          "output_type": "display_data",
          "data": {
            "image/png": "[encoded data removed]",
            "text/plain": [
              "<Figure size 432x288 with 1 Axes>"
            ]
          },
          "metadata": {
            "tags": [],
            "needs_background": "light"
          }
        }
      ]
    },
    {
      "cell_type": "code",
      "metadata": {
        "colab": {
          "base_uri": "https://localhost:8080/"
        },
        "id": "yPrIPobZPHRN",
        "outputId": "1c5b7f49-23af-40bd-ea73-a0b392121a88"
      },
      "source": [
        "!pip install geos"
      ],
      "execution_count": 30,
      "outputs": [
        {
          "output_type": "stream",
          "text": [
            "Collecting geos\n",
            "  Downloading geos-0.2.3-py3-none-any.whl (400 kB)\n",
            "\u001b[?25l\r\u001b[K     |▉                               | 10 kB 26.9 MB/s eta 0:00:01\r\u001b[K     |█▋                              | 20 kB 26.2 MB/s eta 0:00:01\r\u001b[K     |██▌                             | 30 kB 17.9 MB/s eta 0:00:01\r\u001b[K     |███▎                            | 40 kB 15.2 MB/s eta 0:00:01\r\u001b[K     |████                            | 51 kB 6.7 MB/s eta 0:00:01\r\u001b[K     |█████                           | 61 kB 7.2 MB/s eta 0:00:01\r\u001b[K     |█████▊                          | 71 kB 7.5 MB/s eta 0:00:01\r\u001b[K     |██████▌                         | 81 kB 8.4 MB/s eta 0:00:01\r\u001b[K     |███████▍                        | 92 kB 8.4 MB/s eta 0:00:01\r\u001b[K     |████████▏                       | 102 kB 6.6 MB/s eta 0:00:01\r\u001b[K     |█████████                       | 112 kB 6.6 MB/s eta 0:00:01\r\u001b[K     |█████████▉                      | 122 kB 6.6 MB/s eta 0:00:01\r\u001b[K     |██████████▋                     | 133 kB 6.6 MB/s eta 0:00:01\r\u001b[K     |███████████▌                    | 143 kB 6.6 MB/s eta 0:00:01\r\u001b[K     |████████████▎                   | 153 kB 6.6 MB/s eta 0:00:01\r\u001b[K     |█████████████                   | 163 kB 6.6 MB/s eta 0:00:01\r\u001b[K     |██████████████                  | 174 kB 6.6 MB/s eta 0:00:01\r\u001b[K     |██████████████▊                 | 184 kB 6.6 MB/s eta 0:00:01\r\u001b[K     |███████████████▌                | 194 kB 6.6 MB/s eta 0:00:01\r\u001b[K     |████████████████▍               | 204 kB 6.6 MB/s eta 0:00:01\r\u001b[K     |█████████████████▏              | 215 kB 6.6 MB/s eta 0:00:01\r\u001b[K     |██████████████████              | 225 kB 6.6 MB/s eta 0:00:01\r\u001b[K     |██████████████████▉             | 235 kB 6.6 MB/s eta 0:00:01\r\u001b[K     |███████████████████▋            | 245 kB 6.6 MB/s eta 0:00:01\r\u001b[K     |████████████████████▌           | 256 kB 6.6 MB/s eta 0:00:01\r\u001b[K     |█████████████████████▎          | 266 kB 6.6 MB/s eta 0:00:01\r\u001b[K     |██████████████████████          | 276 kB 6.6 MB/s eta 0:00:01\r\u001b[K     |███████████████████████         | 286 kB 6.6 MB/s eta 0:00:01\r\u001b[K     |███████████████████████▊        | 296 kB 6.6 MB/s eta 0:00:01\r\u001b[K     |████████████████████████▋       | 307 kB 6.6 MB/s eta 0:00:01\r\u001b[K     |█████████████████████████▍      | 317 kB 6.6 MB/s eta 0:00:01\r\u001b[K     |██████████████████████████▏     | 327 kB 6.6 MB/s eta 0:00:01\r\u001b[K     |███████████████████████████     | 337 kB 6.6 MB/s eta 0:00:01\r\u001b[K     |███████████████████████████▉    | 348 kB 6.6 MB/s eta 0:00:01\r\u001b[K     |████████████████████████████▋   | 358 kB 6.6 MB/s eta 0:00:01\r\u001b[K     |█████████████████████████████▌  | 368 kB 6.6 MB/s eta 0:00:01\r\u001b[K     |██████████████████████████████▎ | 378 kB 6.6 MB/s eta 0:00:01\r\u001b[K     |███████████████████████████████ | 389 kB 6.6 MB/s eta 0:00:01\r\u001b[K     |████████████████████████████████| 399 kB 6.6 MB/s eta 0:00:01\r\u001b[K     |████████████████████████████████| 400 kB 6.6 MB/s \n",
            "\u001b[?25hRequirement already satisfied: lxml in /usr/local/lib/python3.7/dist-packages (from geos) (4.2.6)\n",
            "Requirement already satisfied: flask in /usr/local/lib/python3.7/dist-packages (from geos) (1.1.4)\n",
            "Requirement already satisfied: pillow in /usr/local/lib/python3.7/dist-packages (from geos) (7.1.2)\n",
            "Requirement already satisfied: itsdangerous<2.0,>=0.24 in /usr/local/lib/python3.7/dist-packages (from flask->geos) (1.1.0)\n",
            "Requirement already satisfied: Werkzeug<2.0,>=0.15 in /usr/local/lib/python3.7/dist-packages (from flask->geos) (1.0.1)\n",
            "Requirement already satisfied: click<8.0,>=5.1 in /usr/local/lib/python3.7/dist-packages (from flask->geos) (7.1.2)\n",
            "Requirement already satisfied: Jinja2<3.0,>=2.10.1 in /usr/local/lib/python3.7/dist-packages (from flask->geos) (2.11.3)\n",
            "Requirement already satisfied: MarkupSafe>=0.23 in /usr/local/lib/python3.7/dist-packages (from Jinja2<3.0,>=2.10.1->flask->geos) (2.0.1)\n",
            "Installing collected packages: geos\n",
            "Successfully installed geos-0.2.3\n"
          ],
          "name": "stdout"
        }
      ]
    },
    {
      "cell_type": "code",
      "metadata": {
        "colab": {
          "base_uri": "https://localhost:8080/",
          "height": 786
        },
        "id": "OHG6tzACQS30",
        "outputId": "efe21680-c64e-4859-bc5f-79597f5a43b2"
      },
      "source": [
        "!apt-get install libgeos-3.5.0\n",
        "!apt-get install libgeos-dev\n",
        "!pip install https://github.com/matplotlib/basemap/archive/master.zip"
      ],
      "execution_count": 31,
      "outputs": [
        {
          "output_type": "stream",
          "text": [
            "Reading package lists... Done\n",
            "Building dependency tree       \n",
            "Reading state information... Done\n",
            "E: Unable to locate package libgeos-3.5.0\n",
            "E: Couldn't find any package by glob 'libgeos-3.5.0'\n",
            "E: Couldn't find any package by regex 'libgeos-3.5.0'\n",
            "Reading package lists... Done\n",
            "Building dependency tree       \n",
            "Reading state information... Done\n",
            "libgeos-dev is already the newest version (3.6.2-1build2).\n",
            "libgeos-dev set to manually installed.\n",
            "0 upgraded, 0 newly installed, 0 to remove and 40 not upgraded.\n",
            "Collecting https://github.com/matplotlib/basemap/archive/master.zip\n",
            "  Downloading https://github.com/matplotlib/basemap/archive/master.zip\n",
            "\u001b[K     | 133.1 MB 4.7 MB/s\n",
            "\u001b[?25hRequirement already satisfied: matplotlib!=3.0.1,>=1.0.0 in /usr/local/lib/python3.7/dist-packages (from basemap==1.2.2+dev) (3.2.2)\n",
            "Requirement already satisfied: numpy>=1.2.1 in /usr/local/lib/python3.7/dist-packages (from basemap==1.2.2+dev) (1.19.5)\n",
            "Collecting pyproj>=1.9.3\n",
            "  Downloading pyproj-3.1.0-cp37-cp37m-manylinux2010_x86_64.whl (6.6 MB)\n",
            "\u001b[K     |████████████████████████████████| 6.6 MB 7.6 MB/s \n",
            "\u001b[?25hCollecting pyshp>=1.2.0\n",
            "  Downloading pyshp-2.1.3.tar.gz (219 kB)\n",
            "\u001b[K     |████████████████████████████████| 219 kB 54.8 MB/s \n",
            "\u001b[?25hRequirement already satisfied: six in /usr/local/lib/python3.7/dist-packages (from basemap==1.2.2+dev) (1.15.0)\n",
            "Requirement already satisfied: kiwisolver>=1.0.1 in /usr/local/lib/python3.7/dist-packages (from matplotlib!=3.0.1,>=1.0.0->basemap==1.2.2+dev) (1.3.1)\n",
            "Requirement already satisfied: python-dateutil>=2.1 in /usr/local/lib/python3.7/dist-packages (from matplotlib!=3.0.1,>=1.0.0->basemap==1.2.2+dev) (2.8.1)\n",
            "Requirement already satisfied: pyparsing!=2.0.4,!=2.1.2,!=2.1.6,>=2.0.1 in /usr/local/lib/python3.7/dist-packages (from matplotlib!=3.0.1,>=1.0.0->basemap==1.2.2+dev) (2.4.7)\n",
            "Requirement already satisfied: cycler>=0.10 in /usr/local/lib/python3.7/dist-packages (from matplotlib!=3.0.1,>=1.0.0->basemap==1.2.2+dev) (0.10.0)\n",
            "Requirement already satisfied: certifi in /usr/local/lib/python3.7/dist-packages (from pyproj>=1.9.3->basemap==1.2.2+dev) (2021.5.30)\n",
            "Building wheels for collected packages: basemap, pyshp\n",
            "  Building wheel for basemap (setup.py) ... \u001b[?25l\u001b[?25hdone\n",
            "  Created wheel for basemap: filename=basemap-1.2.2+dev-cp37-cp37m-linux_x86_64.whl size=121759598 sha256=25b5ef95786c6d01651442b959f9dd214080ed5de1a77c729366fdd7d23b9607\n",
            "  Stored in directory: /tmp/pip-ephem-wheel-cache-a6u3_tlw/wheels/98/1a/9d/de6aa4dee52d726996be77bb4a65cf03865288bfc35e5b24d8\n",
            "  Building wheel for pyshp (setup.py) ... \u001b[?25l\u001b[?25hdone\n",
            "  Created wheel for pyshp: filename=pyshp-2.1.3-py3-none-any.whl size=37324 sha256=43effb9f44082e2b32c060ce6ca7f3592ad3482e376807bfef24c0be821ba28e\n",
            "  Stored in directory: /root/.cache/pip/wheels/43/f8/87/53c8cd41545ba20e536ea29a8fcb5431b5f477ca50d5dffbbe\n",
            "Successfully built basemap pyshp\n",
            "Installing collected packages: pyshp, pyproj, basemap\n",
            "Successfully installed basemap-1.2.2+dev pyproj-3.1.0 pyshp-2.1.3\n"
          ],
          "name": "stdout"
        },
        {
          "output_type": "display_data",
          "data": {
            "application/vnd.colab-display-data+json": {
              "pip_warning": {
                "packages": [
                  "mpl_toolkits"
                ]
              }
            }
          },
          "metadata": {
            "tags": []
          }
        }
      ]
    },
    {
      "cell_type": "code",
      "metadata": {
        "id": "e7WIZMY9NI_s"
      },
      "source": [
        "from sklearn.cluster import KMeans\n",
        "kmeans = KMeans(n_clusters=10, random_state=0).fit(full[['longitude','latitude']])\n",
        "full['cluster'] = kmeans.predict(full[['longitude','latitude']])"
      ],
      "execution_count": 4,
      "outputs": []
    },
    {
      "cell_type": "code",
      "metadata": {
        "colab": {
          "base_uri": "https://localhost:8080/",
          "height": 891
        },
        "id": "XiSnCLV_NJDK",
        "outputId": "e44844d3-5adf-40f9-b341-ebca0120f8d9"
      },
      "source": [
        "from mpl_toolkits.basemap import Basemap\n",
        "import matplotlib.pyplot as plt\n",
        "m = Basemap(projection='aeqd',width=2000000,height=2000000, lat_0=37.5, lon_0=138.2)\n",
        "\n",
        "cx = [c[0] for c in kmeans.cluster_centers_]\n",
        "cy = [c[1] for c in kmeans.cluster_centers_]\n",
        "cm = plt.get_cmap('gist_rainbow')\n",
        "colors = [cm(2.*i/10) for i in range(10)]\n",
        "colored = [colors[k] for k in full['cluster']]\n",
        "f,axa = plt.subplots(1,1,figsize=(15,16))\n",
        "m.drawcoastlines()\n",
        "m.fillcontinents(color='lightgray',lake_color='aqua',zorder=1)\n",
        "m.scatter(full.longitude.values,full.latitude.values,color=colored,s=20,alpha=1,zorder=999,latlon=True)\n",
        "m.scatter(cx,cy,color='Black',s=50,alpha=1,latlon=True,zorder=9999)\n",
        "plt.setp(axa.get_yticklabels(), visible=True)\n",
        "plt.annotate('Fukuoka', xy=(0.04, 0.32), xycoords='axes fraction',fontsize=20)\n",
        "plt.annotate('Shikoku', xy=(0.25, 0.25), xycoords='axes fraction',fontsize=20)\n",
        "plt.annotate('Hiroshima', xy=(0.2, 0.36), xycoords='axes fraction',fontsize=20)\n",
        "plt.annotate('Osaka', xy=(0.40, 0.30), xycoords='axes fraction',fontsize=20)\n",
        "\n",
        "plt.annotate('Tokyo', xy=(0.60, 0.4), xycoords='axes fraction',fontsize=20)\n",
        "plt.annotate('Shizuoka', xy=(0.50, 0.32), xycoords='axes fraction',fontsize=20)\n",
        "plt.annotate('Niigata', xy=(0.48, 0.54), xycoords='axes fraction',fontsize=20)\n",
        "plt.annotate('Fukushima', xy=(0.62, 0.54), xycoords='axes fraction',fontsize=20)\n",
        "plt.annotate('Hokkaido', xy=(0.7, 0.74), xycoords='axes fraction',fontsize=20)\n",
        "\n",
        "\n",
        "for i in range(len(cx)):\n",
        "    xpt,ypt = m(cx[i],cy[i])\n",
        "    plt.annotate(i, (xpt+500,ypt+500),zorder=99999,fontsize=16)\n",
        "plt.show()"
      ],
      "execution_count": 6,
      "outputs": [
        {
          "output_type": "display_data",
          "data": {
            "image/png": "[encoded data removed]",
            "text/plain": [
              "<Figure size 1080x1152 with 1 Axes>"
            ]
          },
          "metadata": {
            "tags": []
          }
        }
      ]
    },
    {
      "cell_type": "code",
      "metadata": {
        "colab": {
          "base_uri": "https://localhost:8080/",
          "height": 413
        },
        "id": "rUgVIB5iNJGj",
        "outputId": "05b334e6-12b7-4fb1-98b6-de9ccc2d6a7b"
      },
      "source": [
        "plt.hist(data[\"as\"][\"air_genre_name\"])\n",
        "plt.xticks(rotation='vertical')\n",
        "plt.show()"
      ],
      "execution_count": 13,
      "outputs": [
        {
          "output_type": "display_data",
          "data": {
            "image/png": "[encoded data removed]",
            "text/plain": [
              "<Figure size 432x288 with 1 Axes>"
            ]
          },
          "metadata": {
            "tags": [],
            "needs_background": "light"
          }
        }
      ]
    },
    {
      "cell_type": "code",
      "metadata": {
        "id": "2CjjfWajNJJp"
      },
      "source": [
        ""
      ],
      "execution_count": null,
      "outputs": []
    },
    {
      "cell_type": "code",
      "metadata": {
        "id": "4ZlR7wb3NJL3"
      },
      "source": [
        ""
      ],
      "execution_count": null,
      "outputs": []
    },
    {
      "cell_type": "code",
      "metadata": {
        "id": "1SFJWiRRNJO2"
      },
      "source": [
        ""
      ],
      "execution_count": null,
      "outputs": []
    },
    {
      "cell_type": "code",
      "metadata": {
        "id": "2tctr3YKhoFr"
      },
      "source": [
        "data['tes']['visit_date'] = data['tes']['id'].map(\n",
        "    lambda x: str(x).split('_')[2])"
      ],
      "execution_count": null,
      "outputs": []
    },
    {
      "cell_type": "code",
      "metadata": {
        "colab": {
          "base_uri": "https://localhost:8080/",
          "height": 419
        },
        "id": "QyhETijGhx1v",
        "outputId": "928128bf-c0db-4e65-a44b-9e91dfd3f31e"
      },
      "source": [
        "display(data['tes'])"
      ],
      "execution_count": null,
      "outputs": [
        {
          "output_type": "display_data",
          "data": {
            "text/html": [
              "<div>\n",
              "<style scoped>\n",
              "    .dataframe tbody tr th:only-of-type {\n",
              "        vertical-align: middle;\n",
              "    }\n",
              "\n",
              "    .dataframe tbody tr th {\n",
              "        vertical-align: top;\n",
              "    }\n",
              "\n",
              "    .dataframe thead th {\n",
              "        text-align: right;\n",
              "    }\n",
              "</style>\n",
              "<table border=\"1\" class=\"dataframe\">\n",
              "  <thead>\n",
              "    <tr style=\"text-align: right;\">\n",
              "      <th></th>\n",
              "      <th>id</th>\n",
              "      <th>visitors</th>\n",
              "      <th>visit_date</th>\n",
              "    </tr>\n",
              "  </thead>\n",
              "  <tbody>\n",
              "    <tr>\n",
              "      <th>0</th>\n",
              "      <td>air_00a91d42b08b08d9_2017-04-23</td>\n",
              "      <td>0</td>\n",
              "      <td>2017-04-23</td>\n",
              "    </tr>\n",
              "    <tr>\n",
              "      <th>1</th>\n",
              "      <td>air_00a91d42b08b08d9_2017-04-24</td>\n",
              "      <td>0</td>\n",
              "      <td>2017-04-24</td>\n",
              "    </tr>\n",
              "    <tr>\n",
              "      <th>2</th>\n",
              "      <td>air_00a91d42b08b08d9_2017-04-25</td>\n",
              "      <td>0</td>\n",
              "      <td>2017-04-25</td>\n",
              "    </tr>\n",
              "    <tr>\n",
              "      <th>3</th>\n",
              "      <td>air_00a91d42b08b08d9_2017-04-26</td>\n",
              "      <td>0</td>\n",
              "      <td>2017-04-26</td>\n",
              "    </tr>\n",
              "    <tr>\n",
              "      <th>4</th>\n",
              "      <td>air_00a91d42b08b08d9_2017-04-27</td>\n",
              "      <td>0</td>\n",
              "      <td>2017-04-27</td>\n",
              "    </tr>\n",
              "    <tr>\n",
              "      <th>...</th>\n",
              "      <td>...</td>\n",
              "      <td>...</td>\n",
              "      <td>...</td>\n",
              "    </tr>\n",
              "    <tr>\n",
              "      <th>32014</th>\n",
              "      <td>air_fff68b929994bfbd_2017-05-27</td>\n",
              "      <td>0</td>\n",
              "      <td>2017-05-27</td>\n",
              "    </tr>\n",
              "    <tr>\n",
              "      <th>32015</th>\n",
              "      <td>air_fff68b929994bfbd_2017-05-28</td>\n",
              "      <td>0</td>\n",
              "      <td>2017-05-28</td>\n",
              "    </tr>\n",
              "    <tr>\n",
              "      <th>32016</th>\n",
              "      <td>air_fff68b929994bfbd_2017-05-29</td>\n",
              "      <td>0</td>\n",
              "      <td>2017-05-29</td>\n",
              "    </tr>\n",
              "    <tr>\n",
              "      <th>32017</th>\n",
              "      <td>air_fff68b929994bfbd_2017-05-30</td>\n",
              "      <td>0</td>\n",
              "      <td>2017-05-30</td>\n",
              "    </tr>\n",
              "    <tr>\n",
              "      <th>32018</th>\n",
              "      <td>air_fff68b929994bfbd_2017-05-31</td>\n",
              "      <td>0</td>\n",
              "      <td>2017-05-31</td>\n",
              "    </tr>\n",
              "  </tbody>\n",
              "</table>\n",
              "<p>32019 rows × 3 columns</p>\n",
              "</div>"
            ],
            "text/plain": [
              "                                    id  visitors  visit_date\n",
              "0      air_00a91d42b08b08d9_2017-04-23         0  2017-04-23\n",
              "1      air_00a91d42b08b08d9_2017-04-24         0  2017-04-24\n",
              "2      air_00a91d42b08b08d9_2017-04-25         0  2017-04-25\n",
              "3      air_00a91d42b08b08d9_2017-04-26         0  2017-04-26\n",
              "4      air_00a91d42b08b08d9_2017-04-27         0  2017-04-27\n",
              "...                                ...       ...         ...\n",
              "32014  air_fff68b929994bfbd_2017-05-27         0  2017-05-27\n",
              "32015  air_fff68b929994bfbd_2017-05-28         0  2017-05-28\n",
              "32016  air_fff68b929994bfbd_2017-05-29         0  2017-05-29\n",
              "32017  air_fff68b929994bfbd_2017-05-30         0  2017-05-30\n",
              "32018  air_fff68b929994bfbd_2017-05-31         0  2017-05-31\n",
              "\n",
              "[32019 rows x 3 columns]"
            ]
          },
          "metadata": {
            "tags": []
          }
        }
      ]
    },
    {
      "cell_type": "code",
      "metadata": {
        "id": "5RrnZhq9h5WI"
      },
      "source": [
        "data['tes']['visit_date'] = pd.to_datetime(data['tes']['visit_date'])"
      ],
      "execution_count": null,
      "outputs": []
    },
    {
      "cell_type": "code",
      "metadata": {
        "id": "q-AW46H-iczI"
      },
      "source": [
        "data['tes']['air_store_id'] = data['tes']['id'].map(\n",
        "    lambda x: '_'.join(x.split('_')[:2]))"
      ],
      "execution_count": null,
      "outputs": []
    },
    {
      "cell_type": "code",
      "metadata": {
        "id": "KstuuL2hij67"
      },
      "source": [
        "data['tes']['dow'] = data['tes']['visit_date'].dt.dayofweek\n",
        "data['tes']['year'] = data['tes']['visit_date'].dt.year\n",
        "data['tes']['month'] = data['tes']['visit_date'].dt.month\n",
        "data['tes']['visit_date'] = data['tes']['visit_date'].dt.date"
      ],
      "execution_count": null,
      "outputs": []
    },
    {
      "cell_type": "code",
      "metadata": {
        "colab": {
          "base_uri": "https://localhost:8080/",
          "height": 289
        },
        "id": "lH2_UBaFio1O",
        "outputId": "908041b2-caaf-4335-cd8f-e7248a39e716"
      },
      "source": [
        "data['tes'].head()"
      ],
      "execution_count": null,
      "outputs": [
        {
          "output_type": "execute_result",
          "data": {
            "text/html": [
              "<div>\n",
              "<style scoped>\n",
              "    .dataframe tbody tr th:only-of-type {\n",
              "        vertical-align: middle;\n",
              "    }\n",
              "\n",
              "    .dataframe tbody tr th {\n",
              "        vertical-align: top;\n",
              "    }\n",
              "\n",
              "    .dataframe thead th {\n",
              "        text-align: right;\n",
              "    }\n",
              "</style>\n",
              "<table border=\"1\" class=\"dataframe\">\n",
              "  <thead>\n",
              "    <tr style=\"text-align: right;\">\n",
              "      <th></th>\n",
              "      <th>id</th>\n",
              "      <th>visitors</th>\n",
              "      <th>visit_date</th>\n",
              "      <th>air_store_id</th>\n",
              "      <th>dow</th>\n",
              "      <th>year</th>\n",
              "      <th>month</th>\n",
              "    </tr>\n",
              "  </thead>\n",
              "  <tbody>\n",
              "    <tr>\n",
              "      <th>0</th>\n",
              "      <td>air_00a91d42b08b08d9_2017-04-23</td>\n",
              "      <td>0</td>\n",
              "      <td>2017-04-23</td>\n",
              "      <td>air_00a91d42b08b08d9</td>\n",
              "      <td>6</td>\n",
              "      <td>2017</td>\n",
              "      <td>4</td>\n",
              "    </tr>\n",
              "    <tr>\n",
              "      <th>1</th>\n",
              "      <td>air_00a91d42b08b08d9_2017-04-24</td>\n",
              "      <td>0</td>\n",
              "      <td>2017-04-24</td>\n",
              "      <td>air_00a91d42b08b08d9</td>\n",
              "      <td>0</td>\n",
              "      <td>2017</td>\n",
              "      <td>4</td>\n",
              "    </tr>\n",
              "    <tr>\n",
              "      <th>2</th>\n",
              "      <td>air_00a91d42b08b08d9_2017-04-25</td>\n",
              "      <td>0</td>\n",
              "      <td>2017-04-25</td>\n",
              "      <td>air_00a91d42b08b08d9</td>\n",
              "      <td>1</td>\n",
              "      <td>2017</td>\n",
              "      <td>4</td>\n",
              "    </tr>\n",
              "    <tr>\n",
              "      <th>3</th>\n",
              "      <td>air_00a91d42b08b08d9_2017-04-26</td>\n",
              "      <td>0</td>\n",
              "      <td>2017-04-26</td>\n",
              "      <td>air_00a91d42b08b08d9</td>\n",
              "      <td>2</td>\n",
              "      <td>2017</td>\n",
              "      <td>4</td>\n",
              "    </tr>\n",
              "    <tr>\n",
              "      <th>4</th>\n",
              "      <td>air_00a91d42b08b08d9_2017-04-27</td>\n",
              "      <td>0</td>\n",
              "      <td>2017-04-27</td>\n",
              "      <td>air_00a91d42b08b08d9</td>\n",
              "      <td>3</td>\n",
              "      <td>2017</td>\n",
              "      <td>4</td>\n",
              "    </tr>\n",
              "  </tbody>\n",
              "</table>\n",
              "</div>"
            ],
            "text/plain": [
              "                                id  visitors  visit_date  ... dow  year  month\n",
              "0  air_00a91d42b08b08d9_2017-04-23         0  2017-04-23  ...   6  2017      4\n",
              "1  air_00a91d42b08b08d9_2017-04-24         0  2017-04-24  ...   0  2017      4\n",
              "2  air_00a91d42b08b08d9_2017-04-25         0  2017-04-25  ...   1  2017      4\n",
              "3  air_00a91d42b08b08d9_2017-04-26         0  2017-04-26  ...   2  2017      4\n",
              "4  air_00a91d42b08b08d9_2017-04-27         0  2017-04-27  ...   3  2017      4\n",
              "\n",
              "[5 rows x 7 columns]"
            ]
          },
          "metadata": {
            "tags": []
          },
          "execution_count": 13
        }
      ]
    },
    {
      "cell_type": "code",
      "metadata": {
        "id": "uaHjwfnei8ue"
      },
      "source": [
        "unique_stores = data['tes']['air_store_id'].unique()"
      ],
      "execution_count": null,
      "outputs": []
    },
    {
      "cell_type": "code",
      "metadata": {
        "colab": {
          "base_uri": "https://localhost:8080/"
        },
        "id": "NHcr7Ex6jh5a",
        "outputId": "13e2e57e-0901-4834-8361-1a471859db16"
      },
      "source": [
        "len(unique_stores)"
      ],
      "execution_count": null,
      "outputs": [
        {
          "output_type": "execute_result",
          "data": {
            "text/plain": [
              "821"
            ]
          },
          "metadata": {
            "tags": []
          },
          "execution_count": 16
        }
      ]
    },
    {
      "cell_type": "code",
      "metadata": {
        "id": "HhX16AjGjGUN"
      },
      "source": [
        "stores = pd.concat(\n",
        "    [\n",
        "        pd.DataFrame({\n",
        "            'air_store_id': unique_stores,\n",
        "            'dow': [i] * len(unique_stores)\n",
        "        }) for i in range(7)\n",
        "    ],\n",
        "    axis=0,\n",
        "    ignore_index=True).reset_index(drop=True)"
      ],
      "execution_count": null,
      "outputs": []
    },
    {
      "cell_type": "code",
      "metadata": {
        "colab": {
          "base_uri": "https://localhost:8080/",
          "height": 204
        },
        "id": "wVsqAo4OjRD-",
        "outputId": "14739947-bc51-4ee3-8be8-d08bf6154c2b"
      },
      "source": [
        "stores.head()"
      ],
      "execution_count": null,
      "outputs": [
        {
          "output_type": "execute_result",
          "data": {
            "text/html": [
              "<div>\n",
              "<style scoped>\n",
              "    .dataframe tbody tr th:only-of-type {\n",
              "        vertical-align: middle;\n",
              "    }\n",
              "\n",
              "    .dataframe tbody tr th {\n",
              "        vertical-align: top;\n",
              "    }\n",
              "\n",
              "    .dataframe thead th {\n",
              "        text-align: right;\n",
              "    }\n",
              "</style>\n",
              "<table border=\"1\" class=\"dataframe\">\n",
              "  <thead>\n",
              "    <tr style=\"text-align: right;\">\n",
              "      <th></th>\n",
              "      <th>air_store_id</th>\n",
              "      <th>dow</th>\n",
              "    </tr>\n",
              "  </thead>\n",
              "  <tbody>\n",
              "    <tr>\n",
              "      <th>0</th>\n",
              "      <td>air_00a91d42b08b08d9</td>\n",
              "      <td>0</td>\n",
              "    </tr>\n",
              "    <tr>\n",
              "      <th>1</th>\n",
              "      <td>air_0164b9927d20bcc3</td>\n",
              "      <td>0</td>\n",
              "    </tr>\n",
              "    <tr>\n",
              "      <th>2</th>\n",
              "      <td>air_0241aa3964b7f861</td>\n",
              "      <td>0</td>\n",
              "    </tr>\n",
              "    <tr>\n",
              "      <th>3</th>\n",
              "      <td>air_0328696196e46f18</td>\n",
              "      <td>0</td>\n",
              "    </tr>\n",
              "    <tr>\n",
              "      <th>4</th>\n",
              "      <td>air_034a3d5b40d5b1b1</td>\n",
              "      <td>0</td>\n",
              "    </tr>\n",
              "  </tbody>\n",
              "</table>\n",
              "</div>"
            ],
            "text/plain": [
              "           air_store_id  dow\n",
              "0  air_00a91d42b08b08d9    0\n",
              "1  air_0164b9927d20bcc3    0\n",
              "2  air_0241aa3964b7f861    0\n",
              "3  air_0328696196e46f18    0\n",
              "4  air_034a3d5b40d5b1b1    0"
            ]
          },
          "metadata": {
            "tags": []
          },
          "execution_count": 18
        }
      ]
    },
    {
      "cell_type": "code",
      "metadata": {
        "colab": {
          "base_uri": "https://localhost:8080/",
          "height": 296
        },
        "id": "lGYDiJnIjSnp",
        "outputId": "84aa6714-e1c7-4bc9-d8c3-369357611e1f"
      },
      "source": [
        "import seaborn as sns\n",
        "sns.countplot(x='dow', data=stores)"
      ],
      "execution_count": null,
      "outputs": [
        {
          "output_type": "execute_result",
          "data": {
            "text/plain": [
              "<matplotlib.axes._subplots.AxesSubplot at 0x7f5ff2702650>"
            ]
          },
          "metadata": {
            "tags": []
          },
          "execution_count": 19
        },
        {
          "output_type": "display_data",
          "data": {
            "image/png": "[encoded data removed]",
            "text/plain": [
              "<Figure size 432x288 with 1 Axes>"
            ]
          },
          "metadata": {
            "tags": [],
            "needs_background": "light"
          }
        }
      ]
    },
    {
      "cell_type": "code",
      "metadata": {
        "colab": {
          "base_uri": "https://localhost:8080/"
        },
        "id": "3Y0HYoxLjzld",
        "outputId": "4a82cda4-e251-4c4e-cb4a-d11f899c0e61"
      },
      "source": [
        "stores['dow'].value_counts"
      ],
      "execution_count": null,
      "outputs": [
        {
          "output_type": "execute_result",
          "data": {
            "text/plain": [
              "<bound method IndexOpsMixin.value_counts of 0       0\n",
              "1       0\n",
              "2       0\n",
              "3       0\n",
              "4       0\n",
              "       ..\n",
              "5742    6\n",
              "5743    6\n",
              "5744    6\n",
              "5745    6\n",
              "5746    6\n",
              "Name: dow, Length: 5747, dtype: int64>"
            ]
          },
          "metadata": {
            "tags": []
          },
          "execution_count": 20
        }
      ]
    },
    {
      "cell_type": "code",
      "metadata": {
        "id": "sjiis1a3j9m9"
      },
      "source": [
        "tmp = data['tra'].groupby(\n",
        "    ['air_store_id', 'dow'],\n",
        "    as_index=False)['visitors'].min().rename(columns={\n",
        "        'visitors': 'min_visitors'\n",
        "    })"
      ],
      "execution_count": null,
      "outputs": []
    },
    {
      "cell_type": "code",
      "metadata": {
        "id": "2x9KzMbykLbl"
      },
      "source": [
        "stores = pd.merge(stores, tmp, how='left', on=['air_store_id', 'dow'])"
      ],
      "execution_count": null,
      "outputs": []
    },
    {
      "cell_type": "code",
      "metadata": {
        "id": "WKyjTz2xkmmT"
      },
      "source": [
        "tmp = data['tra'].groupby(\n",
        "    ['air_store_id', 'dow'],\n",
        "    as_index=False)['visitors'].mean().rename(columns={\n",
        "        'visitors': 'mean_visitors'\n",
        "    })\n",
        "stores = pd.merge(stores, tmp, how='left', on=['air_store_id', 'dow'])\n",
        "\n",
        "tmp = data['tra'].groupby(\n",
        "    ['air_store_id', 'dow'],\n",
        "    as_index=False)['visitors'].median().rename(columns={\n",
        "        'visitors': 'median_visitors'\n",
        "    })\n",
        "stores = pd.merge(stores, tmp, how='left', on=['air_store_id', 'dow'])\n",
        "\n",
        "tmp = data['tra'].groupby(\n",
        "    ['air_store_id', 'dow'],\n",
        "    as_index=False)['visitors'].max().rename(columns={\n",
        "        'visitors': 'max_visitors'\n",
        "    })\n",
        "stores = pd.merge(stores, tmp, how='left', on=['air_store_id', 'dow'])"
      ],
      "execution_count": null,
      "outputs": []
    },
    {
      "cell_type": "code",
      "metadata": {
        "colab": {
          "base_uri": "https://localhost:8080/",
          "height": 224
        },
        "id": "xw-cbjpKlHVc",
        "outputId": "c19e9d38-0264-4e38-d575-6b2bc1a2a94b"
      },
      "source": [
        "tmp = data['tra'].groupby(\n",
        "    ['air_store_id', 'dow'],\n",
        "    as_index=False)['visitors'].count().rename(columns={\n",
        "        'visitors': 'count_observations'\n",
        "    })\n",
        "stores = pd.merge(stores, tmp, how='left', on=['air_store_id', 'dow'])\n",
        "stores.head()"
      ],
      "execution_count": null,
      "outputs": [
        {
          "output_type": "execute_result",
          "data": {
            "text/html": [
              "<div>\n",
              "<style scoped>\n",
              "    .dataframe tbody tr th:only-of-type {\n",
              "        vertical-align: middle;\n",
              "    }\n",
              "\n",
              "    .dataframe tbody tr th {\n",
              "        vertical-align: top;\n",
              "    }\n",
              "\n",
              "    .dataframe thead th {\n",
              "        text-align: right;\n",
              "    }\n",
              "</style>\n",
              "<table border=\"1\" class=\"dataframe\">\n",
              "  <thead>\n",
              "    <tr style=\"text-align: right;\">\n",
              "      <th></th>\n",
              "      <th>air_store_id</th>\n",
              "      <th>dow</th>\n",
              "      <th>min_visitors</th>\n",
              "      <th>mean_visitors</th>\n",
              "      <th>median_visitors</th>\n",
              "      <th>max_visitors</th>\n",
              "      <th>count_observations</th>\n",
              "    </tr>\n",
              "  </thead>\n",
              "  <tbody>\n",
              "    <tr>\n",
              "      <th>0</th>\n",
              "      <td>air_00a91d42b08b08d9</td>\n",
              "      <td>0</td>\n",
              "      <td>1.0</td>\n",
              "      <td>22.457143</td>\n",
              "      <td>19.0</td>\n",
              "      <td>47.0</td>\n",
              "      <td>35.0</td>\n",
              "    </tr>\n",
              "    <tr>\n",
              "      <th>1</th>\n",
              "      <td>air_0164b9927d20bcc3</td>\n",
              "      <td>0</td>\n",
              "      <td>2.0</td>\n",
              "      <td>7.500000</td>\n",
              "      <td>6.0</td>\n",
              "      <td>19.0</td>\n",
              "      <td>20.0</td>\n",
              "    </tr>\n",
              "    <tr>\n",
              "      <th>2</th>\n",
              "      <td>air_0241aa3964b7f861</td>\n",
              "      <td>0</td>\n",
              "      <td>2.0</td>\n",
              "      <td>8.920635</td>\n",
              "      <td>8.0</td>\n",
              "      <td>23.0</td>\n",
              "      <td>63.0</td>\n",
              "    </tr>\n",
              "    <tr>\n",
              "      <th>3</th>\n",
              "      <td>air_0328696196e46f18</td>\n",
              "      <td>0</td>\n",
              "      <td>2.0</td>\n",
              "      <td>6.416667</td>\n",
              "      <td>4.0</td>\n",
              "      <td>27.0</td>\n",
              "      <td>12.0</td>\n",
              "    </tr>\n",
              "    <tr>\n",
              "      <th>4</th>\n",
              "      <td>air_034a3d5b40d5b1b1</td>\n",
              "      <td>0</td>\n",
              "      <td>1.0</td>\n",
              "      <td>11.864865</td>\n",
              "      <td>10.0</td>\n",
              "      <td>66.0</td>\n",
              "      <td>37.0</td>\n",
              "    </tr>\n",
              "  </tbody>\n",
              "</table>\n",
              "</div>"
            ],
            "text/plain": [
              "           air_store_id  dow  ...  max_visitors  count_observations\n",
              "0  air_00a91d42b08b08d9    0  ...          47.0                35.0\n",
              "1  air_0164b9927d20bcc3    0  ...          19.0                20.0\n",
              "2  air_0241aa3964b7f861    0  ...          23.0                63.0\n",
              "3  air_0328696196e46f18    0  ...          27.0                12.0\n",
              "4  air_034a3d5b40d5b1b1    0  ...          66.0                37.0\n",
              "\n",
              "[5 rows x 7 columns]"
            ]
          },
          "metadata": {
            "tags": []
          },
          "execution_count": 24
        }
      ]
    },
    {
      "cell_type": "code",
      "metadata": {
        "id": "eEcF4XwDlOWH"
      },
      "source": [
        "stores = pd.merge(stores, data['as'], how='left', on=['air_store_id'])"
      ],
      "execution_count": null,
      "outputs": []
    },
    {
      "cell_type": "code",
      "metadata": {
        "id": "bpeGPwailfml"
      },
      "source": [
        "lbl = preprocessing.LabelEncoder() # 왜 label encoder를 해야하나? 수치형 데이터처럼 인식이 되는거라서\n",
        "# 수치 관계가 없는데 label encoder를 쓰면 문제가 될 수도 있음.\n",
        "# one hot encoding하면 열이 많아짐"
      ],
      "execution_count": null,
      "outputs": []
    },
    {
      "cell_type": "code",
      "metadata": {
        "id": "0rdAIzRFl4n0"
      },
      "source": [
        "stores['air_genre_name'] = lbl.fit_transform(stores['air_genre_name'])"
      ],
      "execution_count": null,
      "outputs": []
    },
    {
      "cell_type": "code",
      "metadata": {
        "id": "qSbpAOAYl-Vx"
      },
      "source": [
        "stores['air_area_name'] = lbl.fit_transform(stores['air_area_name'])"
      ],
      "execution_count": null,
      "outputs": []
    },
    {
      "cell_type": "code",
      "metadata": {
        "colab": {
          "base_uri": "https://localhost:8080/",
          "height": 224
        },
        "id": "SnNTy0LPmAy3",
        "outputId": "77f038f6-5d9e-42c4-e03a-50979eedc508"
      },
      "source": [
        "stores.head()"
      ],
      "execution_count": null,
      "outputs": [
        {
          "output_type": "execute_result",
          "data": {
            "text/html": [
              "<div>\n",
              "<style scoped>\n",
              "    .dataframe tbody tr th:only-of-type {\n",
              "        vertical-align: middle;\n",
              "    }\n",
              "\n",
              "    .dataframe tbody tr th {\n",
              "        vertical-align: top;\n",
              "    }\n",
              "\n",
              "    .dataframe thead th {\n",
              "        text-align: right;\n",
              "    }\n",
              "</style>\n",
              "<table border=\"1\" class=\"dataframe\">\n",
              "  <thead>\n",
              "    <tr style=\"text-align: right;\">\n",
              "      <th></th>\n",
              "      <th>air_store_id</th>\n",
              "      <th>dow</th>\n",
              "      <th>min_visitors</th>\n",
              "      <th>mean_visitors</th>\n",
              "      <th>median_visitors</th>\n",
              "      <th>max_visitors</th>\n",
              "      <th>count_observations</th>\n",
              "      <th>air_genre_name</th>\n",
              "      <th>air_area_name</th>\n",
              "      <th>latitude</th>\n",
              "      <th>longitude</th>\n",
              "    </tr>\n",
              "  </thead>\n",
              "  <tbody>\n",
              "    <tr>\n",
              "      <th>0</th>\n",
              "      <td>air_00a91d42b08b08d9</td>\n",
              "      <td>0</td>\n",
              "      <td>1.0</td>\n",
              "      <td>22.457143</td>\n",
              "      <td>19.0</td>\n",
              "      <td>47.0</td>\n",
              "      <td>35.0</td>\n",
              "      <td>6</td>\n",
              "      <td>44</td>\n",
              "      <td>35.694003</td>\n",
              "      <td>139.753595</td>\n",
              "    </tr>\n",
              "    <tr>\n",
              "      <th>1</th>\n",
              "      <td>air_0164b9927d20bcc3</td>\n",
              "      <td>0</td>\n",
              "      <td>2.0</td>\n",
              "      <td>7.500000</td>\n",
              "      <td>6.0</td>\n",
              "      <td>19.0</td>\n",
              "      <td>20.0</td>\n",
              "      <td>6</td>\n",
              "      <td>62</td>\n",
              "      <td>35.658068</td>\n",
              "      <td>139.751599</td>\n",
              "    </tr>\n",
              "    <tr>\n",
              "      <th>2</th>\n",
              "      <td>air_0241aa3964b7f861</td>\n",
              "      <td>0</td>\n",
              "      <td>2.0</td>\n",
              "      <td>8.920635</td>\n",
              "      <td>8.0</td>\n",
              "      <td>23.0</td>\n",
              "      <td>63.0</td>\n",
              "      <td>7</td>\n",
              "      <td>82</td>\n",
              "      <td>35.712607</td>\n",
              "      <td>139.779996</td>\n",
              "    </tr>\n",
              "    <tr>\n",
              "      <th>3</th>\n",
              "      <td>air_0328696196e46f18</td>\n",
              "      <td>0</td>\n",
              "      <td>2.0</td>\n",
              "      <td>6.416667</td>\n",
              "      <td>4.0</td>\n",
              "      <td>27.0</td>\n",
              "      <td>12.0</td>\n",
              "      <td>4</td>\n",
              "      <td>98</td>\n",
              "      <td>34.701279</td>\n",
              "      <td>135.528090</td>\n",
              "    </tr>\n",
              "    <tr>\n",
              "      <th>4</th>\n",
              "      <td>air_034a3d5b40d5b1b1</td>\n",
              "      <td>0</td>\n",
              "      <td>1.0</td>\n",
              "      <td>11.864865</td>\n",
              "      <td>10.0</td>\n",
              "      <td>66.0</td>\n",
              "      <td>37.0</td>\n",
              "      <td>2</td>\n",
              "      <td>102</td>\n",
              "      <td>34.692337</td>\n",
              "      <td>135.472229</td>\n",
              "    </tr>\n",
              "  </tbody>\n",
              "</table>\n",
              "</div>"
            ],
            "text/plain": [
              "           air_store_id  dow  ...   latitude   longitude\n",
              "0  air_00a91d42b08b08d9    0  ...  35.694003  139.753595\n",
              "1  air_0164b9927d20bcc3    0  ...  35.658068  139.751599\n",
              "2  air_0241aa3964b7f861    0  ...  35.712607  139.779996\n",
              "3  air_0328696196e46f18    0  ...  34.701279  135.528090\n",
              "4  air_034a3d5b40d5b1b1    0  ...  34.692337  135.472229\n",
              "\n",
              "[5 rows x 11 columns]"
            ]
          },
          "metadata": {
            "tags": []
          },
          "execution_count": 29
        }
      ]
    },
    {
      "cell_type": "code",
      "metadata": {
        "id": "Z1YcUNU7mChZ"
      },
      "source": [
        "data['hol']['visit_date'] =pd.to_datetime(data['hol']['visit_date'])"
      ],
      "execution_count": null,
      "outputs": []
    },
    {
      "cell_type": "code",
      "metadata": {
        "id": "Qk1e4-Gpmfks"
      },
      "source": [
        "data['hol']['day_of_week'] = lbl.fit_transform(data['hol']['day_of_week'])"
      ],
      "execution_count": null,
      "outputs": []
    },
    {
      "cell_type": "code",
      "metadata": {
        "colab": {
          "base_uri": "https://localhost:8080/",
          "height": 204
        },
        "id": "MvFv4pjBmv0j",
        "outputId": "0b5f6431-8534-4ffb-ad55-f4a8d099efdb"
      },
      "source": [
        "data['hol']['visit_date'] = data['hol']['visit_date'].dt.date\n",
        "data['hol'].head()"
      ],
      "execution_count": null,
      "outputs": [
        {
          "output_type": "execute_result",
          "data": {
            "text/html": [
              "<div>\n",
              "<style scoped>\n",
              "    .dataframe tbody tr th:only-of-type {\n",
              "        vertical-align: middle;\n",
              "    }\n",
              "\n",
              "    .dataframe tbody tr th {\n",
              "        vertical-align: top;\n",
              "    }\n",
              "\n",
              "    .dataframe thead th {\n",
              "        text-align: right;\n",
              "    }\n",
              "</style>\n",
              "<table border=\"1\" class=\"dataframe\">\n",
              "  <thead>\n",
              "    <tr style=\"text-align: right;\">\n",
              "      <th></th>\n",
              "      <th>visit_date</th>\n",
              "      <th>day_of_week</th>\n",
              "      <th>holiday_flg</th>\n",
              "    </tr>\n",
              "  </thead>\n",
              "  <tbody>\n",
              "    <tr>\n",
              "      <th>0</th>\n",
              "      <td>2016-01-01</td>\n",
              "      <td>0</td>\n",
              "      <td>1</td>\n",
              "    </tr>\n",
              "    <tr>\n",
              "      <th>1</th>\n",
              "      <td>2016-01-02</td>\n",
              "      <td>2</td>\n",
              "      <td>1</td>\n",
              "    </tr>\n",
              "    <tr>\n",
              "      <th>2</th>\n",
              "      <td>2016-01-03</td>\n",
              "      <td>3</td>\n",
              "      <td>1</td>\n",
              "    </tr>\n",
              "    <tr>\n",
              "      <th>3</th>\n",
              "      <td>2016-01-04</td>\n",
              "      <td>1</td>\n",
              "      <td>0</td>\n",
              "    </tr>\n",
              "    <tr>\n",
              "      <th>4</th>\n",
              "      <td>2016-01-05</td>\n",
              "      <td>5</td>\n",
              "      <td>0</td>\n",
              "    </tr>\n",
              "  </tbody>\n",
              "</table>\n",
              "</div>"
            ],
            "text/plain": [
              "   visit_date  day_of_week  holiday_flg\n",
              "0  2016-01-01            0            1\n",
              "1  2016-01-02            2            1\n",
              "2  2016-01-03            3            1\n",
              "3  2016-01-04            1            0\n",
              "4  2016-01-05            5            0"
            ]
          },
          "metadata": {
            "tags": []
          },
          "execution_count": 32
        }
      ]
    },
    {
      "cell_type": "code",
      "metadata": {
        "colab": {
          "base_uri": "https://localhost:8080/"
        },
        "id": "bAoOV6FJmy2r",
        "outputId": "973b7d7e-a120-4ec1-ea3d-aaae66dd0dd3"
      },
      "source": [
        "pd.merge(data['tra'], data['hol'], how='left', on=['visit_date']).columns"
      ],
      "execution_count": null,
      "outputs": [
        {
          "output_type": "execute_result",
          "data": {
            "text/plain": [
              "Index(['air_store_id', 'visit_date', 'visitors', 'dow', 'year', 'month',\n",
              "       'day_of_week', 'holiday_flg'],\n",
              "      dtype='object')"
            ]
          },
          "metadata": {
            "tags": []
          },
          "execution_count": 33
        }
      ]
    },
    {
      "cell_type": "code",
      "metadata": {
        "colab": {
          "base_uri": "https://localhost:8080/"
        },
        "id": "4CfiSLamm3tv",
        "outputId": "cdc33cda-1837-49e0-d7c0-9fea41ea6ee1"
      },
      "source": [
        "data['tra'].columns"
      ],
      "execution_count": null,
      "outputs": [
        {
          "output_type": "execute_result",
          "data": {
            "text/plain": [
              "Index(['air_store_id', 'visit_date', 'visitors', 'dow', 'year', 'month'], dtype='object')"
            ]
          },
          "metadata": {
            "tags": []
          },
          "execution_count": 34
        }
      ]
    },
    {
      "cell_type": "code",
      "metadata": {
        "id": "TM2wcE5vm9yg"
      },
      "source": [
        "train = pd.merge(data['tra'], data['hol'], how='left', on=['visit_date'])\n",
        "test = pd.merge(data['tes'], data['hol'], how='left', on=['visit_date'])"
      ],
      "execution_count": null,
      "outputs": []
    },
    {
      "cell_type": "code",
      "metadata": {
        "id": "OEUh5My7nMNN"
      },
      "source": [
        "train = pd.merge(data['tra'], stores, how='left', on=['air_store_id', 'dow'])\n",
        "test = pd.merge(data['tes'], stores, how='left', on=['air_store_id', 'dow'])"
      ],
      "execution_count": null,
      "outputs": []
    },
    {
      "cell_type": "code",
      "metadata": {
        "colab": {
          "base_uri": "https://localhost:8080/"
        },
        "id": "6TTpXkAunTie",
        "outputId": "75ffb61b-e53f-4f9b-e32a-2e27e8097967"
      },
      "source": [
        "train.columns"
      ],
      "execution_count": null,
      "outputs": [
        {
          "output_type": "execute_result",
          "data": {
            "text/plain": [
              "Index(['air_store_id', 'visit_date', 'visitors', 'dow', 'year', 'month',\n",
              "       'min_visitors', 'mean_visitors', 'median_visitors', 'max_visitors',\n",
              "       'count_observations', 'air_genre_name', 'air_area_name', 'latitude',\n",
              "       'longitude'],\n",
              "      dtype='object')"
            ]
          },
          "metadata": {
            "tags": []
          },
          "execution_count": 37
        }
      ]
    },
    {
      "cell_type": "code",
      "metadata": {
        "id": "nkdAvCeXnjtU"
      },
      "source": [
        "for df in ['ar', 'hr']:\n",
        "    train = pd.merge(\n",
        "        train, data[df], how='left', on=['air_store_id', 'visit_date'])\n",
        "    test = pd.merge(\n",
        "        test, data[df], how='left', on=['air_store_id', 'visit_date'])"
      ],
      "execution_count": null,
      "outputs": []
    },
    {
      "cell_type": "code",
      "metadata": {
        "id": "YAEtBSNQodSH"
      },
      "source": [
        "col = [\n",
        "    c for c in train\n",
        "    if c not in ['id', 'air_store_id', 'visit_date', 'visitors']\n",
        "]"
      ],
      "execution_count": null,
      "outputs": []
    },
    {
      "cell_type": "code",
      "metadata": {
        "colab": {
          "base_uri": "https://localhost:8080/"
        },
        "id": "r6HWjh3ypIFa",
        "outputId": "e50612d6-272b-41ad-98bd-5364261d829d"
      },
      "source": [
        "print(col)"
      ],
      "execution_count": null,
      "outputs": [
        {
          "output_type": "stream",
          "text": [
            "['dow', 'year', 'month', 'min_visitors', 'mean_visitors', 'median_visitors', 'max_visitors', 'count_observations', 'air_genre_name', 'air_area_name', 'latitude', 'longitude', 'reserve_datetime_diff_x', 'reserve_visitors_x', 'reserve_datetime_diff_y', 'reserve_visitors_y']\n"
          ],
          "name": "stdout"
        }
      ]
    },
    {
      "cell_type": "code",
      "metadata": {
        "colab": {
          "base_uri": "https://localhost:8080/"
        },
        "id": "cztf2d7HpVcz",
        "outputId": "f50cb246-6e3c-4652-ac35-faff81dc6529"
      },
      "source": [
        "train.isnull().sum()"
      ],
      "execution_count": null,
      "outputs": [
        {
          "output_type": "execute_result",
          "data": {
            "text/plain": [
              "air_store_id               0\n",
              "visit_date                 0\n",
              "visitors                   0\n",
              "dow                        0\n",
              "year                       0\n",
              "month                      0\n",
              "min_visitors               0\n",
              "mean_visitors              0\n",
              "median_visitors            0\n",
              "max_visitors               0\n",
              "count_observations         0\n",
              "air_genre_name             0\n",
              "air_area_name              0\n",
              "latitude                   0\n",
              "longitude                  0\n",
              "reserve_datetime_diff_x    0\n",
              "reserve_visitors_x         0\n",
              "reserve_datetime_diff_y    0\n",
              "reserve_visitors_y         0\n",
              "dtype: int64"
            ]
          },
          "metadata": {
            "tags": []
          },
          "execution_count": 44
        }
      ]
    },
    {
      "cell_type": "code",
      "metadata": {
        "id": "hI_M-lSMpJPC"
      },
      "source": [
        "# 결측값 ??\n",
        "train = train.fillna(-1)\n",
        "test = test.fillna(-1)"
      ],
      "execution_count": null,
      "outputs": []
    },
    {
      "cell_type": "code",
      "metadata": {
        "colab": {
          "base_uri": "https://localhost:8080/"
        },
        "id": "3_UB9zbFpdg6",
        "outputId": "7b159c41-66b9-49f1-bc04-09d1612d7047"
      },
      "source": [
        "print('Binding to float32')\n"
      ],
      "execution_count": null,
      "outputs": [
        {
          "output_type": "stream",
          "text": [
            "Binding to float32\n"
          ],
          "name": "stdout"
        }
      ]
    },
    {
      "cell_type": "code",
      "metadata": {
        "id": "bhKqZ0LRpn49"
      },
      "source": [
        "for c, dtype in zip(train.columns, train.dtypes):\n",
        "    if dtype == np.float64:\n",
        "        train[c] = train[c].astype(np.float32)\n",
        "\n",
        "for c, dtype in zip(test.columns, test.dtypes):\n",
        "    if dtype == np.float64:\n",
        "        test[c] = test[c].astype(np.float32)"
      ],
      "execution_count": null,
      "outputs": []
    },
    {
      "cell_type": "code",
      "metadata": {
        "colab": {
          "base_uri": "https://localhost:8080/",
          "height": 513
        },
        "id": "Cv23XXGzpv04",
        "outputId": "e60fd02d-55c0-46c6-dabd-394a214984ac"
      },
      "source": [
        "print(train.shape, test.shape)\n",
        "display(train.head())\n",
        "display(test.head())"
      ],
      "execution_count": null,
      "outputs": [
        {
          "output_type": "stream",
          "text": [
            "(252108, 19) (32019, 20)\n"
          ],
          "name": "stdout"
        },
        {
          "output_type": "display_data",
          "data": {
            "text/html": [
              "<div>\n",
              "<style scoped>\n",
              "    .dataframe tbody tr th:only-of-type {\n",
              "        vertical-align: middle;\n",
              "    }\n",
              "\n",
              "    .dataframe tbody tr th {\n",
              "        vertical-align: top;\n",
              "    }\n",
              "\n",
              "    .dataframe thead th {\n",
              "        text-align: right;\n",
              "    }\n",
              "</style>\n",
              "<table border=\"1\" class=\"dataframe\">\n",
              "  <thead>\n",
              "    <tr style=\"text-align: right;\">\n",
              "      <th></th>\n",
              "      <th>air_store_id</th>\n",
              "      <th>visit_date</th>\n",
              "      <th>visitors</th>\n",
              "      <th>dow</th>\n",
              "      <th>year</th>\n",
              "      <th>month</th>\n",
              "      <th>min_visitors</th>\n",
              "      <th>mean_visitors</th>\n",
              "      <th>median_visitors</th>\n",
              "      <th>max_visitors</th>\n",
              "      <th>count_observations</th>\n",
              "      <th>air_genre_name</th>\n",
              "      <th>air_area_name</th>\n",
              "      <th>latitude</th>\n",
              "      <th>longitude</th>\n",
              "      <th>reserve_datetime_diff_x</th>\n",
              "      <th>reserve_visitors_x</th>\n",
              "      <th>reserve_datetime_diff_y</th>\n",
              "      <th>reserve_visitors_y</th>\n",
              "    </tr>\n",
              "  </thead>\n",
              "  <tbody>\n",
              "    <tr>\n",
              "      <th>0</th>\n",
              "      <td>air_ba937bf13d40fb24</td>\n",
              "      <td>2016-01-13</td>\n",
              "      <td>25</td>\n",
              "      <td>2</td>\n",
              "      <td>2016</td>\n",
              "      <td>1</td>\n",
              "      <td>7.0</td>\n",
              "      <td>23.843750</td>\n",
              "      <td>25.0</td>\n",
              "      <td>57.0</td>\n",
              "      <td>64.0</td>\n",
              "      <td>4.0</td>\n",
              "      <td>62.0</td>\n",
              "      <td>35.65807</td>\n",
              "      <td>139.751602</td>\n",
              "      <td>-1.0</td>\n",
              "      <td>-1.0</td>\n",
              "      <td>-1.0</td>\n",
              "      <td>-1.0</td>\n",
              "    </tr>\n",
              "    <tr>\n",
              "      <th>1</th>\n",
              "      <td>air_ba937bf13d40fb24</td>\n",
              "      <td>2016-01-14</td>\n",
              "      <td>32</td>\n",
              "      <td>3</td>\n",
              "      <td>2016</td>\n",
              "      <td>1</td>\n",
              "      <td>2.0</td>\n",
              "      <td>20.292307</td>\n",
              "      <td>21.0</td>\n",
              "      <td>54.0</td>\n",
              "      <td>65.0</td>\n",
              "      <td>4.0</td>\n",
              "      <td>62.0</td>\n",
              "      <td>35.65807</td>\n",
              "      <td>139.751602</td>\n",
              "      <td>-1.0</td>\n",
              "      <td>-1.0</td>\n",
              "      <td>-1.0</td>\n",
              "      <td>-1.0</td>\n",
              "    </tr>\n",
              "    <tr>\n",
              "      <th>2</th>\n",
              "      <td>air_ba937bf13d40fb24</td>\n",
              "      <td>2016-01-15</td>\n",
              "      <td>29</td>\n",
              "      <td>4</td>\n",
              "      <td>2016</td>\n",
              "      <td>1</td>\n",
              "      <td>4.0</td>\n",
              "      <td>34.738461</td>\n",
              "      <td>35.0</td>\n",
              "      <td>61.0</td>\n",
              "      <td>65.0</td>\n",
              "      <td>4.0</td>\n",
              "      <td>62.0</td>\n",
              "      <td>35.65807</td>\n",
              "      <td>139.751602</td>\n",
              "      <td>-1.0</td>\n",
              "      <td>-1.0</td>\n",
              "      <td>-1.0</td>\n",
              "      <td>-1.0</td>\n",
              "    </tr>\n",
              "    <tr>\n",
              "      <th>3</th>\n",
              "      <td>air_ba937bf13d40fb24</td>\n",
              "      <td>2016-01-16</td>\n",
              "      <td>22</td>\n",
              "      <td>5</td>\n",
              "      <td>2016</td>\n",
              "      <td>1</td>\n",
              "      <td>6.0</td>\n",
              "      <td>27.651516</td>\n",
              "      <td>27.0</td>\n",
              "      <td>53.0</td>\n",
              "      <td>66.0</td>\n",
              "      <td>4.0</td>\n",
              "      <td>62.0</td>\n",
              "      <td>35.65807</td>\n",
              "      <td>139.751602</td>\n",
              "      <td>-1.0</td>\n",
              "      <td>-1.0</td>\n",
              "      <td>-1.0</td>\n",
              "      <td>-1.0</td>\n",
              "    </tr>\n",
              "    <tr>\n",
              "      <th>4</th>\n",
              "      <td>air_ba937bf13d40fb24</td>\n",
              "      <td>2016-01-18</td>\n",
              "      <td>6</td>\n",
              "      <td>0</td>\n",
              "      <td>2016</td>\n",
              "      <td>1</td>\n",
              "      <td>2.0</td>\n",
              "      <td>13.754386</td>\n",
              "      <td>12.0</td>\n",
              "      <td>34.0</td>\n",
              "      <td>57.0</td>\n",
              "      <td>4.0</td>\n",
              "      <td>62.0</td>\n",
              "      <td>35.65807</td>\n",
              "      <td>139.751602</td>\n",
              "      <td>-1.0</td>\n",
              "      <td>-1.0</td>\n",
              "      <td>-1.0</td>\n",
              "      <td>-1.0</td>\n",
              "    </tr>\n",
              "  </tbody>\n",
              "</table>\n",
              "</div>"
            ],
            "text/plain": [
              "           air_store_id  ... reserve_visitors_y\n",
              "0  air_ba937bf13d40fb24  ...               -1.0\n",
              "1  air_ba937bf13d40fb24  ...               -1.0\n",
              "2  air_ba937bf13d40fb24  ...               -1.0\n",
              "3  air_ba937bf13d40fb24  ...               -1.0\n",
              "4  air_ba937bf13d40fb24  ...               -1.0\n",
              "\n",
              "[5 rows x 19 columns]"
            ]
          },
          "metadata": {
            "tags": []
          }
        },
        {
          "output_type": "display_data",
          "data": {
            "text/html": [
              "<div>\n",
              "<style scoped>\n",
              "    .dataframe tbody tr th:only-of-type {\n",
              "        vertical-align: middle;\n",
              "    }\n",
              "\n",
              "    .dataframe tbody tr th {\n",
              "        vertical-align: top;\n",
              "    }\n",
              "\n",
              "    .dataframe thead th {\n",
              "        text-align: right;\n",
              "    }\n",
              "</style>\n",
              "<table border=\"1\" class=\"dataframe\">\n",
              "  <thead>\n",
              "    <tr style=\"text-align: right;\">\n",
              "      <th></th>\n",
              "      <th>id</th>\n",
              "      <th>visitors</th>\n",
              "      <th>visit_date</th>\n",
              "      <th>air_store_id</th>\n",
              "      <th>dow</th>\n",
              "      <th>year</th>\n",
              "      <th>month</th>\n",
              "      <th>min_visitors</th>\n",
              "      <th>mean_visitors</th>\n",
              "      <th>median_visitors</th>\n",
              "      <th>max_visitors</th>\n",
              "      <th>count_observations</th>\n",
              "      <th>air_genre_name</th>\n",
              "      <th>air_area_name</th>\n",
              "      <th>latitude</th>\n",
              "      <th>longitude</th>\n",
              "      <th>reserve_datetime_diff_x</th>\n",
              "      <th>reserve_visitors_x</th>\n",
              "      <th>reserve_datetime_diff_y</th>\n",
              "      <th>reserve_visitors_y</th>\n",
              "    </tr>\n",
              "  </thead>\n",
              "  <tbody>\n",
              "    <tr>\n",
              "      <th>0</th>\n",
              "      <td>air_00a91d42b08b08d9_2017-04-23</td>\n",
              "      <td>0</td>\n",
              "      <td>2017-04-23</td>\n",
              "      <td>air_00a91d42b08b08d9</td>\n",
              "      <td>6</td>\n",
              "      <td>2017</td>\n",
              "      <td>4</td>\n",
              "      <td>2.0</td>\n",
              "      <td>2.000000</td>\n",
              "      <td>2.0</td>\n",
              "      <td>2.0</td>\n",
              "      <td>1.0</td>\n",
              "      <td>6</td>\n",
              "      <td>44</td>\n",
              "      <td>35.694004</td>\n",
              "      <td>139.753601</td>\n",
              "      <td>-1.0</td>\n",
              "      <td>-1.0</td>\n",
              "      <td>-1.0</td>\n",
              "      <td>-1.0</td>\n",
              "    </tr>\n",
              "    <tr>\n",
              "      <th>1</th>\n",
              "      <td>air_00a91d42b08b08d9_2017-04-24</td>\n",
              "      <td>0</td>\n",
              "      <td>2017-04-24</td>\n",
              "      <td>air_00a91d42b08b08d9</td>\n",
              "      <td>0</td>\n",
              "      <td>2017</td>\n",
              "      <td>4</td>\n",
              "      <td>1.0</td>\n",
              "      <td>22.457144</td>\n",
              "      <td>19.0</td>\n",
              "      <td>47.0</td>\n",
              "      <td>35.0</td>\n",
              "      <td>6</td>\n",
              "      <td>44</td>\n",
              "      <td>35.694004</td>\n",
              "      <td>139.753601</td>\n",
              "      <td>-1.0</td>\n",
              "      <td>-1.0</td>\n",
              "      <td>-1.0</td>\n",
              "      <td>-1.0</td>\n",
              "    </tr>\n",
              "    <tr>\n",
              "      <th>2</th>\n",
              "      <td>air_00a91d42b08b08d9_2017-04-25</td>\n",
              "      <td>0</td>\n",
              "      <td>2017-04-25</td>\n",
              "      <td>air_00a91d42b08b08d9</td>\n",
              "      <td>1</td>\n",
              "      <td>2017</td>\n",
              "      <td>4</td>\n",
              "      <td>1.0</td>\n",
              "      <td>24.350000</td>\n",
              "      <td>24.5</td>\n",
              "      <td>43.0</td>\n",
              "      <td>40.0</td>\n",
              "      <td>6</td>\n",
              "      <td>44</td>\n",
              "      <td>35.694004</td>\n",
              "      <td>139.753601</td>\n",
              "      <td>-1.0</td>\n",
              "      <td>-1.0</td>\n",
              "      <td>-1.0</td>\n",
              "      <td>-1.0</td>\n",
              "    </tr>\n",
              "    <tr>\n",
              "      <th>3</th>\n",
              "      <td>air_00a91d42b08b08d9_2017-04-26</td>\n",
              "      <td>0</td>\n",
              "      <td>2017-04-26</td>\n",
              "      <td>air_00a91d42b08b08d9</td>\n",
              "      <td>2</td>\n",
              "      <td>2017</td>\n",
              "      <td>4</td>\n",
              "      <td>15.0</td>\n",
              "      <td>28.125000</td>\n",
              "      <td>28.0</td>\n",
              "      <td>52.0</td>\n",
              "      <td>40.0</td>\n",
              "      <td>6</td>\n",
              "      <td>44</td>\n",
              "      <td>35.694004</td>\n",
              "      <td>139.753601</td>\n",
              "      <td>-1.0</td>\n",
              "      <td>-1.0</td>\n",
              "      <td>-1.0</td>\n",
              "      <td>-1.0</td>\n",
              "    </tr>\n",
              "    <tr>\n",
              "      <th>4</th>\n",
              "      <td>air_00a91d42b08b08d9_2017-04-27</td>\n",
              "      <td>0</td>\n",
              "      <td>2017-04-27</td>\n",
              "      <td>air_00a91d42b08b08d9</td>\n",
              "      <td>3</td>\n",
              "      <td>2017</td>\n",
              "      <td>4</td>\n",
              "      <td>15.0</td>\n",
              "      <td>29.868422</td>\n",
              "      <td>30.0</td>\n",
              "      <td>47.0</td>\n",
              "      <td>38.0</td>\n",
              "      <td>6</td>\n",
              "      <td>44</td>\n",
              "      <td>35.694004</td>\n",
              "      <td>139.753601</td>\n",
              "      <td>-1.0</td>\n",
              "      <td>-1.0</td>\n",
              "      <td>-1.0</td>\n",
              "      <td>-1.0</td>\n",
              "    </tr>\n",
              "  </tbody>\n",
              "</table>\n",
              "</div>"
            ],
            "text/plain": [
              "                                id  ...  reserve_visitors_y\n",
              "0  air_00a91d42b08b08d9_2017-04-23  ...                -1.0\n",
              "1  air_00a91d42b08b08d9_2017-04-24  ...                -1.0\n",
              "2  air_00a91d42b08b08d9_2017-04-25  ...                -1.0\n",
              "3  air_00a91d42b08b08d9_2017-04-26  ...                -1.0\n",
              "4  air_00a91d42b08b08d9_2017-04-27  ...                -1.0\n",
              "\n",
              "[5 rows x 20 columns]"
            ]
          },
          "metadata": {
            "tags": []
          }
        }
      ]
    },
    {
      "cell_type": "code",
      "metadata": {
        "colab": {
          "base_uri": "https://localhost:8080/"
        },
        "id": "iBTBYyZ9pyl0",
        "outputId": "94b49be5-6141-4a62-a8f8-749cefa07987"
      },
      "source": [
        "train_ids = list(train['air_store_id'])\n",
        "test_ids = list(test['air_store_id'])\n",
        "common_ids = sorted(list(set(train_ids).intersection(test_ids)))\n",
        "print(len(train_ids), len(test_ids), len(common_ids))"
      ],
      "execution_count": null,
      "outputs": [
        {
          "output_type": "stream",
          "text": [
            "252108 32019 821\n"
          ],
          "name": "stdout"
        }
      ]
    },
    {
      "cell_type": "code",
      "metadata": {
        "colab": {
          "base_uri": "https://localhost:8080/",
          "height": 368
        },
        "id": "2-_L5LFWqdBc",
        "outputId": "2e55a6a8-3a43-42f2-b803-cfebf616b4ba"
      },
      "source": [
        "store_id = common_ids[0]\n",
        "plt.figure(figsize=(15,7))\n",
        "plt.plot(train.loc[train['air_store_id'] == store_id, 'visit_date'], train.loc[train['air_store_id'] == store_id, 'visitors'])\n",
        "plt.title(\"Visitors for = {}\".format(store_id))\n",
        "plt.xlabel(\"date\")\n",
        "plt.ylabel(\"visitors\")\n",
        "plt.show()"
      ],
      "execution_count": null,
      "outputs": [
        {
          "output_type": "display_data",
          "data": {
            "image/png": "[encoded data removed]",
            "text/plain": [
              "<Figure size 1080x504 with 1 Axes>"
            ]
          },
          "metadata": {
            "tags": [],
            "needs_background": "light"
          }
        }
      ]
    },
    {
      "cell_type": "code",
      "metadata": {
        "colab": {
          "base_uri": "https://localhost:8080/"
        },
        "id": "EBxtN80oqn1H",
        "outputId": "16df22a3-92fb-42c7-e701-fcef7164072f"
      },
      "source": [
        "train_x = train.drop(['air_store_id', 'visit_date', 'visitors'], axis=1)\n",
        "train_y = np.log1p(train['visitors'].values)\n",
        "test_x = test.drop(['id', 'air_store_id', 'visit_date', 'visitors'], axis=1)\n",
        "print(train_x.shape, train_y.shape, test_x.shape)"
      ],
      "execution_count": null,
      "outputs": [
        {
          "output_type": "stream",
          "text": [
            "(252108, 16) (252108,) (32019, 16)\n"
          ],
          "name": "stdout"
        }
      ]
    },
    {
      "cell_type": "code",
      "metadata": {
        "colab": {
          "base_uri": "https://localhost:8080/"
        },
        "id": "xjyDBQhwqxgg",
        "outputId": "658dd080-e979-4bbe-ccc1-0b742fe6d5e6"
      },
      "source": [
        "%%time\n",
        "# fitting the model\n",
        "gbm0 = lgb.LGBMRegressor(\n",
        "    objective='regression',\n",
        "    num_leaves=60,\n",
        "    learning_rate=0.01,\n",
        "    n_estimators=10000)\n",
        "\n",
        "gbm0.fit(train_x, train_y, eval_metric='rmse', verbose=100)"
      ],
      "execution_count": null,
      "outputs": [
        {
          "output_type": "stream",
          "text": [
            "CPU times: user 5min 15s, sys: 2.84 s, total: 5min 18s\n",
            "Wall time: 2min 42s\n"
          ],
          "name": "stdout"
        }
      ]
    },
    {
      "cell_type": "code",
      "metadata": {
        "colab": {
          "base_uri": "https://localhost:8080/",
          "height": 309
        },
        "id": "dlIypUp4q779",
        "outputId": "77b9d022-739d-455a-f3b1-bbb7caeea936"
      },
      "source": [
        "predict_y = gbm0.predict(test_x)\n",
        "test['visitors'] = np.expm1(predict_y)\n",
        "test.head()"
      ],
      "execution_count": null,
      "outputs": [
        {
          "output_type": "execute_result",
          "data": {
            "text/html": [
              "<div>\n",
              "<style scoped>\n",
              "    .dataframe tbody tr th:only-of-type {\n",
              "        vertical-align: middle;\n",
              "    }\n",
              "\n",
              "    .dataframe tbody tr th {\n",
              "        vertical-align: top;\n",
              "    }\n",
              "\n",
              "    .dataframe thead th {\n",
              "        text-align: right;\n",
              "    }\n",
              "</style>\n",
              "<table border=\"1\" class=\"dataframe\">\n",
              "  <thead>\n",
              "    <tr style=\"text-align: right;\">\n",
              "      <th></th>\n",
              "      <th>id</th>\n",
              "      <th>visitors</th>\n",
              "      <th>visit_date</th>\n",
              "      <th>air_store_id</th>\n",
              "      <th>dow</th>\n",
              "      <th>year</th>\n",
              "      <th>month</th>\n",
              "      <th>min_visitors</th>\n",
              "      <th>mean_visitors</th>\n",
              "      <th>median_visitors</th>\n",
              "      <th>max_visitors</th>\n",
              "      <th>count_observations</th>\n",
              "      <th>air_genre_name</th>\n",
              "      <th>air_area_name</th>\n",
              "      <th>latitude</th>\n",
              "      <th>longitude</th>\n",
              "      <th>reserve_datetime_diff_x</th>\n",
              "      <th>reserve_visitors_x</th>\n",
              "      <th>reserve_datetime_diff_y</th>\n",
              "      <th>reserve_visitors_y</th>\n",
              "    </tr>\n",
              "  </thead>\n",
              "  <tbody>\n",
              "    <tr>\n",
              "      <th>0</th>\n",
              "      <td>air_00a91d42b08b08d9_2017-04-23</td>\n",
              "      <td>1.949772</td>\n",
              "      <td>2017-04-23</td>\n",
              "      <td>air_00a91d42b08b08d9</td>\n",
              "      <td>6</td>\n",
              "      <td>2017</td>\n",
              "      <td>4</td>\n",
              "      <td>2.0</td>\n",
              "      <td>2.000000</td>\n",
              "      <td>2.0</td>\n",
              "      <td>2.0</td>\n",
              "      <td>1.0</td>\n",
              "      <td>6</td>\n",
              "      <td>44</td>\n",
              "      <td>35.694004</td>\n",
              "      <td>139.753601</td>\n",
              "      <td>-1.0</td>\n",
              "      <td>-1.0</td>\n",
              "      <td>-1.0</td>\n",
              "      <td>-1.0</td>\n",
              "    </tr>\n",
              "    <tr>\n",
              "      <th>1</th>\n",
              "      <td>air_00a91d42b08b08d9_2017-04-24</td>\n",
              "      <td>18.949070</td>\n",
              "      <td>2017-04-24</td>\n",
              "      <td>air_00a91d42b08b08d9</td>\n",
              "      <td>0</td>\n",
              "      <td>2017</td>\n",
              "      <td>4</td>\n",
              "      <td>1.0</td>\n",
              "      <td>22.457144</td>\n",
              "      <td>19.0</td>\n",
              "      <td>47.0</td>\n",
              "      <td>35.0</td>\n",
              "      <td>6</td>\n",
              "      <td>44</td>\n",
              "      <td>35.694004</td>\n",
              "      <td>139.753601</td>\n",
              "      <td>-1.0</td>\n",
              "      <td>-1.0</td>\n",
              "      <td>-1.0</td>\n",
              "      <td>-1.0</td>\n",
              "    </tr>\n",
              "    <tr>\n",
              "      <th>2</th>\n",
              "      <td>air_00a91d42b08b08d9_2017-04-25</td>\n",
              "      <td>23.865264</td>\n",
              "      <td>2017-04-25</td>\n",
              "      <td>air_00a91d42b08b08d9</td>\n",
              "      <td>1</td>\n",
              "      <td>2017</td>\n",
              "      <td>4</td>\n",
              "      <td>1.0</td>\n",
              "      <td>24.350000</td>\n",
              "      <td>24.5</td>\n",
              "      <td>43.0</td>\n",
              "      <td>40.0</td>\n",
              "      <td>6</td>\n",
              "      <td>44</td>\n",
              "      <td>35.694004</td>\n",
              "      <td>139.753601</td>\n",
              "      <td>-1.0</td>\n",
              "      <td>-1.0</td>\n",
              "      <td>-1.0</td>\n",
              "      <td>-1.0</td>\n",
              "    </tr>\n",
              "    <tr>\n",
              "      <th>3</th>\n",
              "      <td>air_00a91d42b08b08d9_2017-04-26</td>\n",
              "      <td>27.781386</td>\n",
              "      <td>2017-04-26</td>\n",
              "      <td>air_00a91d42b08b08d9</td>\n",
              "      <td>2</td>\n",
              "      <td>2017</td>\n",
              "      <td>4</td>\n",
              "      <td>15.0</td>\n",
              "      <td>28.125000</td>\n",
              "      <td>28.0</td>\n",
              "      <td>52.0</td>\n",
              "      <td>40.0</td>\n",
              "      <td>6</td>\n",
              "      <td>44</td>\n",
              "      <td>35.694004</td>\n",
              "      <td>139.753601</td>\n",
              "      <td>-1.0</td>\n",
              "      <td>-1.0</td>\n",
              "      <td>-1.0</td>\n",
              "      <td>-1.0</td>\n",
              "    </tr>\n",
              "    <tr>\n",
              "      <th>4</th>\n",
              "      <td>air_00a91d42b08b08d9_2017-04-27</td>\n",
              "      <td>29.641800</td>\n",
              "      <td>2017-04-27</td>\n",
              "      <td>air_00a91d42b08b08d9</td>\n",
              "      <td>3</td>\n",
              "      <td>2017</td>\n",
              "      <td>4</td>\n",
              "      <td>15.0</td>\n",
              "      <td>29.868422</td>\n",
              "      <td>30.0</td>\n",
              "      <td>47.0</td>\n",
              "      <td>38.0</td>\n",
              "      <td>6</td>\n",
              "      <td>44</td>\n",
              "      <td>35.694004</td>\n",
              "      <td>139.753601</td>\n",
              "      <td>-1.0</td>\n",
              "      <td>-1.0</td>\n",
              "      <td>-1.0</td>\n",
              "      <td>-1.0</td>\n",
              "    </tr>\n",
              "  </tbody>\n",
              "</table>\n",
              "</div>"
            ],
            "text/plain": [
              "                                id  ...  reserve_visitors_y\n",
              "0  air_00a91d42b08b08d9_2017-04-23  ...                -1.0\n",
              "1  air_00a91d42b08b08d9_2017-04-24  ...                -1.0\n",
              "2  air_00a91d42b08b08d9_2017-04-25  ...                -1.0\n",
              "3  air_00a91d42b08b08d9_2017-04-26  ...                -1.0\n",
              "4  air_00a91d42b08b08d9_2017-04-27  ...                -1.0\n",
              "\n",
              "[5 rows x 20 columns]"
            ]
          },
          "metadata": {
            "tags": []
          },
          "execution_count": 52
        }
      ]
    },
    {
      "cell_type": "code",
      "metadata": {
        "colab": {
          "base_uri": "https://localhost:8080/",
          "height": 1000
        },
        "id": "Ab5SoBL6r4Nt",
        "outputId": "1b39e28f-a1f8-41c1-b7e8-7b938bf3a6cf"
      },
      "source": [
        "store_id = common_ids[41]\n",
        "plt.figure(figsize=(15,7))\n",
        "plt.plot(train.loc[train['air_store_id'] == store_id, 'visit_date'], train.loc[train['air_store_id'] == store_id, 'visitors'], label='train')\n",
        "plt.plot(test.loc[test['air_store_id'] == store_id, 'visit_date'], test.loc[test['air_store_id'] == store_id, 'visitors'], label='forecast')\n",
        "plt.title(\"Visitors for = {}\".format(store_id))\n",
        "plt.xlabel(\"date\")\n",
        "plt.ylabel(\"visitors\")\n",
        "plt.legend()\n",
        "plt.show()\n",
        "\n",
        "print(\"For store = {}\".format(store_id))\n",
        "display(train.loc[train['air_store_id'] == store_id, ['visit_date', 'visitors']].tail(10))\n",
        "print(\"Forecast for future dates\")\n",
        "display(test.loc[test['air_store_id'] == store_id, ['visit_date', 'visitors']].head(10))"
      ],
      "execution_count": null,
      "outputs": [
        {
          "output_type": "display_data",
          "data": {
            "image/png": "[encoded data removed]",
            "text/plain": [
              "<Figure size 1080x504 with 1 Axes>"
            ]
          },
          "metadata": {
            "tags": [],
            "needs_background": "light"
          }
        },
        {
          "output_type": "stream",
          "text": [
            "For store = air_0f0cdeee6c9bf3d7\n"
          ],
          "name": "stdout"
        },
        {
          "output_type": "display_data",
          "data": {
            "text/html": [
              "<div>\n",
              "<style scoped>\n",
              "    .dataframe tbody tr th:only-of-type {\n",
              "        vertical-align: middle;\n",
              "    }\n",
              "\n",
              "    .dataframe tbody tr th {\n",
              "        vertical-align: top;\n",
              "    }\n",
              "\n",
              "    .dataframe thead th {\n",
              "        text-align: right;\n",
              "    }\n",
              "</style>\n",
              "<table border=\"1\" class=\"dataframe\">\n",
              "  <thead>\n",
              "    <tr style=\"text-align: right;\">\n",
              "      <th></th>\n",
              "      <th>visit_date</th>\n",
              "      <th>visitors</th>\n",
              "    </tr>\n",
              "  </thead>\n",
              "  <tbody>\n",
              "    <tr>\n",
              "      <th>36696</th>\n",
              "      <td>2017-04-12</td>\n",
              "      <td>27</td>\n",
              "    </tr>\n",
              "    <tr>\n",
              "      <th>36697</th>\n",
              "      <td>2017-04-13</td>\n",
              "      <td>19</td>\n",
              "    </tr>\n",
              "    <tr>\n",
              "      <th>36698</th>\n",
              "      <td>2017-04-14</td>\n",
              "      <td>20</td>\n",
              "    </tr>\n",
              "    <tr>\n",
              "      <th>36699</th>\n",
              "      <td>2017-04-15</td>\n",
              "      <td>43</td>\n",
              "    </tr>\n",
              "    <tr>\n",
              "      <th>36700</th>\n",
              "      <td>2017-04-16</td>\n",
              "      <td>10</td>\n",
              "    </tr>\n",
              "    <tr>\n",
              "      <th>36701</th>\n",
              "      <td>2017-04-17</td>\n",
              "      <td>5</td>\n",
              "    </tr>\n",
              "    <tr>\n",
              "      <th>36702</th>\n",
              "      <td>2017-04-19</td>\n",
              "      <td>18</td>\n",
              "    </tr>\n",
              "    <tr>\n",
              "      <th>36703</th>\n",
              "      <td>2017-04-20</td>\n",
              "      <td>18</td>\n",
              "    </tr>\n",
              "    <tr>\n",
              "      <th>36704</th>\n",
              "      <td>2017-04-21</td>\n",
              "      <td>26</td>\n",
              "    </tr>\n",
              "    <tr>\n",
              "      <th>36705</th>\n",
              "      <td>2017-04-22</td>\n",
              "      <td>59</td>\n",
              "    </tr>\n",
              "  </tbody>\n",
              "</table>\n",
              "</div>"
            ],
            "text/plain": [
              "       visit_date  visitors\n",
              "36696  2017-04-12        27\n",
              "36697  2017-04-13        19\n",
              "36698  2017-04-14        20\n",
              "36699  2017-04-15        43\n",
              "36700  2017-04-16        10\n",
              "36701  2017-04-17         5\n",
              "36702  2017-04-19        18\n",
              "36703  2017-04-20        18\n",
              "36704  2017-04-21        26\n",
              "36705  2017-04-22        59"
            ]
          },
          "metadata": {
            "tags": []
          }
        },
        {
          "output_type": "stream",
          "text": [
            "Forecast for future dates\n"
          ],
          "name": "stdout"
        },
        {
          "output_type": "display_data",
          "data": {
            "text/html": [
              "<div>\n",
              "<style scoped>\n",
              "    .dataframe tbody tr th:only-of-type {\n",
              "        vertical-align: middle;\n",
              "    }\n",
              "\n",
              "    .dataframe tbody tr th {\n",
              "        vertical-align: top;\n",
              "    }\n",
              "\n",
              "    .dataframe thead th {\n",
              "        text-align: right;\n",
              "    }\n",
              "</style>\n",
              "<table border=\"1\" class=\"dataframe\">\n",
              "  <thead>\n",
              "    <tr style=\"text-align: right;\">\n",
              "      <th></th>\n",
              "      <th>visit_date</th>\n",
              "      <th>visitors</th>\n",
              "    </tr>\n",
              "  </thead>\n",
              "  <tbody>\n",
              "    <tr>\n",
              "      <th>1599</th>\n",
              "      <td>2017-04-23</td>\n",
              "      <td>40.637753</td>\n",
              "    </tr>\n",
              "    <tr>\n",
              "      <th>1600</th>\n",
              "      <td>2017-04-24</td>\n",
              "      <td>30.631283</td>\n",
              "    </tr>\n",
              "    <tr>\n",
              "      <th>1601</th>\n",
              "      <td>2017-04-25</td>\n",
              "      <td>9.924194</td>\n",
              "    </tr>\n",
              "    <tr>\n",
              "      <th>1602</th>\n",
              "      <td>2017-04-26</td>\n",
              "      <td>28.176028</td>\n",
              "    </tr>\n",
              "    <tr>\n",
              "      <th>1603</th>\n",
              "      <td>2017-04-27</td>\n",
              "      <td>19.902324</td>\n",
              "    </tr>\n",
              "    <tr>\n",
              "      <th>1604</th>\n",
              "      <td>2017-04-28</td>\n",
              "      <td>34.082850</td>\n",
              "    </tr>\n",
              "    <tr>\n",
              "      <th>1605</th>\n",
              "      <td>2017-04-29</td>\n",
              "      <td>41.073400</td>\n",
              "    </tr>\n",
              "    <tr>\n",
              "      <th>1606</th>\n",
              "      <td>2017-04-30</td>\n",
              "      <td>26.795974</td>\n",
              "    </tr>\n",
              "    <tr>\n",
              "      <th>1607</th>\n",
              "      <td>2017-05-01</td>\n",
              "      <td>10.659379</td>\n",
              "    </tr>\n",
              "    <tr>\n",
              "      <th>1608</th>\n",
              "      <td>2017-05-02</td>\n",
              "      <td>10.968624</td>\n",
              "    </tr>\n",
              "  </tbody>\n",
              "</table>\n",
              "</div>"
            ],
            "text/plain": [
              "      visit_date   visitors\n",
              "1599  2017-04-23  40.637753\n",
              "1600  2017-04-24  30.631283\n",
              "1601  2017-04-25   9.924194\n",
              "1602  2017-04-26  28.176028\n",
              "1603  2017-04-27  19.902324\n",
              "1604  2017-04-28  34.082850\n",
              "1605  2017-04-29  41.073400\n",
              "1606  2017-04-30  26.795974\n",
              "1607  2017-05-01  10.659379\n",
              "1608  2017-05-02  10.968624"
            ]
          },
          "metadata": {
            "tags": []
          }
        }
      ]
    },
    {
      "cell_type": "code",
      "metadata": {
        "id": "xYJIxAYpsHdF"
      },
      "source": [
        ""
      ],
      "execution_count": null,
      "outputs": []
    }
  ]
}