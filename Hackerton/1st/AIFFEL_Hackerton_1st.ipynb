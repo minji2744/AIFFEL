{
  "nbformat": 4,
  "nbformat_minor": 0,
  "metadata": {
    "colab": {
      "name": "AIFFEL_Hackerton_1st.ipynb",
      "provenance": []
    },
    "kernelspec": {
      "name": "python3",
      "display_name": "Python 3"
    },
    "language_info": {
      "name": "python"
    }
  },
  "cells": [
    {
      "cell_type": "code",
      "metadata": {
        "id": "wOOvubLDLA1G"
      },
      "source": [
        "import numpy as np\n",
        "import pandas as pd\n",
        "from sklearn import preprocessing\n",
        "from sklearn.model_selection import GridSearchCV\n",
        "import lightgbm as lgb\n",
        "import matplotlib.pyplot as plt\n",
        "import seaborn as sns\n",
        "\n",
        "data_dir = '/content/drive/MyDrive/Colab_Notebooks/recruit-restaurant-visitor-forecasting'"
      ],
      "execution_count": 35,
      "outputs": []
    },
    {
      "cell_type": "code",
      "metadata": {
        "id": "Bl4ER-VdLN4q",
        "colab": {
          "base_uri": "https://localhost:8080/",
          "height": 578
        },
        "outputId": "46e676cf-0cb2-4ed0-d370-1f1f8976380a"
      },
      "source": [
        "data = {\n",
        "    'tra':\n",
        "    pd.read_csv('/content/drive/MyDrive/Colab_Notebooks/recruit-restaurant-visitor-forecasting/air_visit_data.csv.zip'),\n",
        "    'as':\n",
        "    pd.read_csv('/content/drive/MyDrive/Colab_Notebooks/recruit-restaurant-visitor-forecasting/air_store_info.csv.zip'),\n",
        "    'hs':\n",
        "    pd.read_csv('/content/drive/MyDrive/Colab_Notebooks/recruit-restaurant-visitor-forecasting/hpg_store_info.csv.zip'),\n",
        "    'ar':\n",
        "    pd.read_csv('/content/drive/MyDrive/Colab_Notebooks/recruit-restaurant-visitor-forecasting/air_reserve.csv.zip'),\n",
        "    'hr':\n",
        "    pd.read_csv('/content/drive/MyDrive/Colab_Notebooks/recruit-restaurant-visitor-forecasting/hpg_reserve.csv.zip'),\n",
        "    'id':\n",
        "    pd.read_csv('/content/drive/MyDrive/Colab_Notebooks/recruit-restaurant-visitor-forecasting/store_id_relation.csv.zip'),\n",
        "    'tes':\n",
        "    pd.read_csv('/content/drive/MyDrive/Colab_Notebooks/recruit-restaurant-visitor-forecasting/sample_submission.csv.zip'),\n",
        "    'hol':\n",
        "    pd.read_csv('/content/drive/MyDrive/Colab_Notebooks/recruit-restaurant-visitor-forecasting/date_info.csv.zip').rename(columns={\n",
        "        'calendar_date': 'visit_date'\n",
        "    })\n",
        "}\n",
        "display(data['hr'].head())\n",
        "display(data['id'].head())\n",
        "display(data['ar'].head())"
      ],
      "execution_count": 36,
      "outputs": [
        {
          "output_type": "display_data",
          "data": {
            "text/html": [
              "<div>\n",
              "<style scoped>\n",
              "    .dataframe tbody tr th:only-of-type {\n",
              "        vertical-align: middle;\n",
              "    }\n",
              "\n",
              "    .dataframe tbody tr th {\n",
              "        vertical-align: top;\n",
              "    }\n",
              "\n",
              "    .dataframe thead th {\n",
              "        text-align: right;\n",
              "    }\n",
              "</style>\n",
              "<table border=\"1\" class=\"dataframe\">\n",
              "  <thead>\n",
              "    <tr style=\"text-align: right;\">\n",
              "      <th></th>\n",
              "      <th>hpg_store_id</th>\n",
              "      <th>visit_datetime</th>\n",
              "      <th>reserve_datetime</th>\n",
              "      <th>reserve_visitors</th>\n",
              "    </tr>\n",
              "  </thead>\n",
              "  <tbody>\n",
              "    <tr>\n",
              "      <th>0</th>\n",
              "      <td>hpg_c63f6f42e088e50f</td>\n",
              "      <td>2016-01-01 11:00:00</td>\n",
              "      <td>2016-01-01 09:00:00</td>\n",
              "      <td>1</td>\n",
              "    </tr>\n",
              "    <tr>\n",
              "      <th>1</th>\n",
              "      <td>hpg_dac72789163a3f47</td>\n",
              "      <td>2016-01-01 13:00:00</td>\n",
              "      <td>2016-01-01 06:00:00</td>\n",
              "      <td>3</td>\n",
              "    </tr>\n",
              "    <tr>\n",
              "      <th>2</th>\n",
              "      <td>hpg_c8e24dcf51ca1eb5</td>\n",
              "      <td>2016-01-01 16:00:00</td>\n",
              "      <td>2016-01-01 14:00:00</td>\n",
              "      <td>2</td>\n",
              "    </tr>\n",
              "    <tr>\n",
              "      <th>3</th>\n",
              "      <td>hpg_24bb207e5fd49d4a</td>\n",
              "      <td>2016-01-01 17:00:00</td>\n",
              "      <td>2016-01-01 11:00:00</td>\n",
              "      <td>5</td>\n",
              "    </tr>\n",
              "    <tr>\n",
              "      <th>4</th>\n",
              "      <td>hpg_25291c542ebb3bc2</td>\n",
              "      <td>2016-01-01 17:00:00</td>\n",
              "      <td>2016-01-01 03:00:00</td>\n",
              "      <td>13</td>\n",
              "    </tr>\n",
              "  </tbody>\n",
              "</table>\n",
              "</div>"
            ],
            "text/plain": [
              "           hpg_store_id  ... reserve_visitors\n",
              "0  hpg_c63f6f42e088e50f  ...                1\n",
              "1  hpg_dac72789163a3f47  ...                3\n",
              "2  hpg_c8e24dcf51ca1eb5  ...                2\n",
              "3  hpg_24bb207e5fd49d4a  ...                5\n",
              "4  hpg_25291c542ebb3bc2  ...               13\n",
              "\n",
              "[5 rows x 4 columns]"
            ]
          },
          "metadata": {
            "tags": []
          }
        },
        {
          "output_type": "display_data",
          "data": {
            "text/html": [
              "<div>\n",
              "<style scoped>\n",
              "    .dataframe tbody tr th:only-of-type {\n",
              "        vertical-align: middle;\n",
              "    }\n",
              "\n",
              "    .dataframe tbody tr th {\n",
              "        vertical-align: top;\n",
              "    }\n",
              "\n",
              "    .dataframe thead th {\n",
              "        text-align: right;\n",
              "    }\n",
              "</style>\n",
              "<table border=\"1\" class=\"dataframe\">\n",
              "  <thead>\n",
              "    <tr style=\"text-align: right;\">\n",
              "      <th></th>\n",
              "      <th>air_store_id</th>\n",
              "      <th>hpg_store_id</th>\n",
              "    </tr>\n",
              "  </thead>\n",
              "  <tbody>\n",
              "    <tr>\n",
              "      <th>0</th>\n",
              "      <td>air_63b13c56b7201bd9</td>\n",
              "      <td>hpg_4bc649e72e2a239a</td>\n",
              "    </tr>\n",
              "    <tr>\n",
              "      <th>1</th>\n",
              "      <td>air_a24bf50c3e90d583</td>\n",
              "      <td>hpg_c34b496d0305a809</td>\n",
              "    </tr>\n",
              "    <tr>\n",
              "      <th>2</th>\n",
              "      <td>air_c7f78b4f3cba33ff</td>\n",
              "      <td>hpg_cd8ae0d9bbd58ff9</td>\n",
              "    </tr>\n",
              "    <tr>\n",
              "      <th>3</th>\n",
              "      <td>air_947eb2cae4f3e8f2</td>\n",
              "      <td>hpg_de24ea49dc25d6b8</td>\n",
              "    </tr>\n",
              "    <tr>\n",
              "      <th>4</th>\n",
              "      <td>air_965b2e0cf4119003</td>\n",
              "      <td>hpg_653238a84804d8e7</td>\n",
              "    </tr>\n",
              "  </tbody>\n",
              "</table>\n",
              "</div>"
            ],
            "text/plain": [
              "           air_store_id          hpg_store_id\n",
              "0  air_63b13c56b7201bd9  hpg_4bc649e72e2a239a\n",
              "1  air_a24bf50c3e90d583  hpg_c34b496d0305a809\n",
              "2  air_c7f78b4f3cba33ff  hpg_cd8ae0d9bbd58ff9\n",
              "3  air_947eb2cae4f3e8f2  hpg_de24ea49dc25d6b8\n",
              "4  air_965b2e0cf4119003  hpg_653238a84804d8e7"
            ]
          },
          "metadata": {
            "tags": []
          }
        },
        {
          "output_type": "display_data",
          "data": {
            "text/html": [
              "<div>\n",
              "<style scoped>\n",
              "    .dataframe tbody tr th:only-of-type {\n",
              "        vertical-align: middle;\n",
              "    }\n",
              "\n",
              "    .dataframe tbody tr th {\n",
              "        vertical-align: top;\n",
              "    }\n",
              "\n",
              "    .dataframe thead th {\n",
              "        text-align: right;\n",
              "    }\n",
              "</style>\n",
              "<table border=\"1\" class=\"dataframe\">\n",
              "  <thead>\n",
              "    <tr style=\"text-align: right;\">\n",
              "      <th></th>\n",
              "      <th>air_store_id</th>\n",
              "      <th>visit_datetime</th>\n",
              "      <th>reserve_datetime</th>\n",
              "      <th>reserve_visitors</th>\n",
              "    </tr>\n",
              "  </thead>\n",
              "  <tbody>\n",
              "    <tr>\n",
              "      <th>0</th>\n",
              "      <td>air_877f79706adbfb06</td>\n",
              "      <td>2016-01-01 19:00:00</td>\n",
              "      <td>2016-01-01 16:00:00</td>\n",
              "      <td>1</td>\n",
              "    </tr>\n",
              "    <tr>\n",
              "      <th>1</th>\n",
              "      <td>air_db4b38ebe7a7ceff</td>\n",
              "      <td>2016-01-01 19:00:00</td>\n",
              "      <td>2016-01-01 19:00:00</td>\n",
              "      <td>3</td>\n",
              "    </tr>\n",
              "    <tr>\n",
              "      <th>2</th>\n",
              "      <td>air_db4b38ebe7a7ceff</td>\n",
              "      <td>2016-01-01 19:00:00</td>\n",
              "      <td>2016-01-01 19:00:00</td>\n",
              "      <td>6</td>\n",
              "    </tr>\n",
              "    <tr>\n",
              "      <th>3</th>\n",
              "      <td>air_877f79706adbfb06</td>\n",
              "      <td>2016-01-01 20:00:00</td>\n",
              "      <td>2016-01-01 16:00:00</td>\n",
              "      <td>2</td>\n",
              "    </tr>\n",
              "    <tr>\n",
              "      <th>4</th>\n",
              "      <td>air_db80363d35f10926</td>\n",
              "      <td>2016-01-01 20:00:00</td>\n",
              "      <td>2016-01-01 01:00:00</td>\n",
              "      <td>5</td>\n",
              "    </tr>\n",
              "  </tbody>\n",
              "</table>\n",
              "</div>"
            ],
            "text/plain": [
              "           air_store_id  ... reserve_visitors\n",
              "0  air_877f79706adbfb06  ...                1\n",
              "1  air_db4b38ebe7a7ceff  ...                3\n",
              "2  air_db4b38ebe7a7ceff  ...                6\n",
              "3  air_877f79706adbfb06  ...                2\n",
              "4  air_db80363d35f10926  ...                5\n",
              "\n",
              "[5 rows x 4 columns]"
            ]
          },
          "metadata": {
            "tags": []
          }
        }
      ]
    },
    {
      "cell_type": "code",
      "metadata": {
        "colab": {
          "base_uri": "https://localhost:8080/",
          "height": 391
        },
        "id": "r4tAexkreT8W",
        "outputId": "f629d6d3-25ee-414f-8443-89ca56abfa08"
      },
      "source": [
        "data['hr'] = pd.merge(data['hr'], data['id'], how='inner', on=['hpg_store_id'])\n",
        "\n",
        "for df in ['ar', 'hr']:\n",
        "    data[df]['visit_datetime'] = pd.to_datetime(data[df]['visit_datetime'])\n",
        "    data[df]['visit_datetime'] = data[df]['visit_datetime'].dt.date\n",
        "    data[df]['reserve_datetime'] = pd.to_datetime(data[df]['reserve_datetime'])\n",
        "    data[df]['reserve_datetime'] = data[df]['reserve_datetime'].dt.date\n",
        "    \n",
        "    data[df]['reserve_datetime_diff'] = data[df].apply(\n",
        "        lambda r: (r['visit_datetime'] - r['reserve_datetime']).days, axis=1)\n",
        "    data[df] = data[df].groupby(\n",
        "        ['air_store_id', 'visit_datetime'], as_index=False)[[\n",
        "            'reserve_datetime_diff', 'reserve_visitors'\n",
        "        ]].sum().rename(columns={\n",
        "            'visit_datetime': 'visit_date'\n",
        "        })\n",
        "    display(data[df].head())"
      ],
      "execution_count": 37,
      "outputs": [
        {
          "output_type": "display_data",
          "data": {
            "text/html": [
              "<div>\n",
              "<style scoped>\n",
              "    .dataframe tbody tr th:only-of-type {\n",
              "        vertical-align: middle;\n",
              "    }\n",
              "\n",
              "    .dataframe tbody tr th {\n",
              "        vertical-align: top;\n",
              "    }\n",
              "\n",
              "    .dataframe thead th {\n",
              "        text-align: right;\n",
              "    }\n",
              "</style>\n",
              "<table border=\"1\" class=\"dataframe\">\n",
              "  <thead>\n",
              "    <tr style=\"text-align: right;\">\n",
              "      <th></th>\n",
              "      <th>air_store_id</th>\n",
              "      <th>visit_date</th>\n",
              "      <th>reserve_datetime_diff</th>\n",
              "      <th>reserve_visitors</th>\n",
              "    </tr>\n",
              "  </thead>\n",
              "  <tbody>\n",
              "    <tr>\n",
              "      <th>0</th>\n",
              "      <td>air_00a91d42b08b08d9</td>\n",
              "      <td>2016-10-31</td>\n",
              "      <td>0</td>\n",
              "      <td>2</td>\n",
              "    </tr>\n",
              "    <tr>\n",
              "      <th>1</th>\n",
              "      <td>air_00a91d42b08b08d9</td>\n",
              "      <td>2016-12-05</td>\n",
              "      <td>4</td>\n",
              "      <td>9</td>\n",
              "    </tr>\n",
              "    <tr>\n",
              "      <th>2</th>\n",
              "      <td>air_00a91d42b08b08d9</td>\n",
              "      <td>2016-12-14</td>\n",
              "      <td>6</td>\n",
              "      <td>18</td>\n",
              "    </tr>\n",
              "    <tr>\n",
              "      <th>3</th>\n",
              "      <td>air_00a91d42b08b08d9</td>\n",
              "      <td>2016-12-17</td>\n",
              "      <td>6</td>\n",
              "      <td>2</td>\n",
              "    </tr>\n",
              "    <tr>\n",
              "      <th>4</th>\n",
              "      <td>air_00a91d42b08b08d9</td>\n",
              "      <td>2016-12-20</td>\n",
              "      <td>2</td>\n",
              "      <td>4</td>\n",
              "    </tr>\n",
              "  </tbody>\n",
              "</table>\n",
              "</div>"
            ],
            "text/plain": [
              "           air_store_id  visit_date  reserve_datetime_diff  reserve_visitors\n",
              "0  air_00a91d42b08b08d9  2016-10-31                      0                 2\n",
              "1  air_00a91d42b08b08d9  2016-12-05                      4                 9\n",
              "2  air_00a91d42b08b08d9  2016-12-14                      6                18\n",
              "3  air_00a91d42b08b08d9  2016-12-17                      6                 2\n",
              "4  air_00a91d42b08b08d9  2016-12-20                      2                 4"
            ]
          },
          "metadata": {
            "tags": []
          }
        },
        {
          "output_type": "display_data",
          "data": {
            "text/html": [
              "<div>\n",
              "<style scoped>\n",
              "    .dataframe tbody tr th:only-of-type {\n",
              "        vertical-align: middle;\n",
              "    }\n",
              "\n",
              "    .dataframe tbody tr th {\n",
              "        vertical-align: top;\n",
              "    }\n",
              "\n",
              "    .dataframe thead th {\n",
              "        text-align: right;\n",
              "    }\n",
              "</style>\n",
              "<table border=\"1\" class=\"dataframe\">\n",
              "  <thead>\n",
              "    <tr style=\"text-align: right;\">\n",
              "      <th></th>\n",
              "      <th>air_store_id</th>\n",
              "      <th>visit_date</th>\n",
              "      <th>reserve_datetime_diff</th>\n",
              "      <th>reserve_visitors</th>\n",
              "    </tr>\n",
              "  </thead>\n",
              "  <tbody>\n",
              "    <tr>\n",
              "      <th>0</th>\n",
              "      <td>air_00a91d42b08b08d9</td>\n",
              "      <td>2016-01-14</td>\n",
              "      <td>3</td>\n",
              "      <td>2</td>\n",
              "    </tr>\n",
              "    <tr>\n",
              "      <th>1</th>\n",
              "      <td>air_00a91d42b08b08d9</td>\n",
              "      <td>2016-01-15</td>\n",
              "      <td>6</td>\n",
              "      <td>4</td>\n",
              "    </tr>\n",
              "    <tr>\n",
              "      <th>2</th>\n",
              "      <td>air_00a91d42b08b08d9</td>\n",
              "      <td>2016-01-16</td>\n",
              "      <td>3</td>\n",
              "      <td>2</td>\n",
              "    </tr>\n",
              "    <tr>\n",
              "      <th>3</th>\n",
              "      <td>air_00a91d42b08b08d9</td>\n",
              "      <td>2016-01-22</td>\n",
              "      <td>3</td>\n",
              "      <td>2</td>\n",
              "    </tr>\n",
              "    <tr>\n",
              "      <th>4</th>\n",
              "      <td>air_00a91d42b08b08d9</td>\n",
              "      <td>2016-01-29</td>\n",
              "      <td>6</td>\n",
              "      <td>5</td>\n",
              "    </tr>\n",
              "  </tbody>\n",
              "</table>\n",
              "</div>"
            ],
            "text/plain": [
              "           air_store_id  visit_date  reserve_datetime_diff  reserve_visitors\n",
              "0  air_00a91d42b08b08d9  2016-01-14                      3                 2\n",
              "1  air_00a91d42b08b08d9  2016-01-15                      6                 4\n",
              "2  air_00a91d42b08b08d9  2016-01-16                      3                 2\n",
              "3  air_00a91d42b08b08d9  2016-01-22                      3                 2\n",
              "4  air_00a91d42b08b08d9  2016-01-29                      6                 5"
            ]
          },
          "metadata": {
            "tags": []
          }
        }
      ]
    },
    {
      "cell_type": "code",
      "metadata": {
        "id": "0tMXqn4ge38N"
      },
      "source": [
        "data['tra']['visit_date'] = pd.to_datetime(data['tra']['visit_date'])"
      ],
      "execution_count": 13,
      "outputs": []
    },
    {
      "cell_type": "code",
      "metadata": {
        "id": "vRfzUAFJeyr5",
        "colab": {
          "base_uri": "https://localhost:8080/",
          "height": 204
        },
        "outputId": "26eee28a-5b6f-4ac4-da05-9ca38051fc8b"
      },
      "source": [
        "data['tra']['dow'] = data['tra']['visit_date'].dt.dayofweek\n",
        "data['tra']['year'] = data['tra']['visit_date'].dt.year\n",
        "data['tra']['month'] = data['tra']['visit_date'].dt.month\n",
        "data['tra']['visit_date'] = data['tra']['visit_date'].dt.date\n",
        "data['tra'].head()"
      ],
      "execution_count": 14,
      "outputs": [
        {
          "output_type": "execute_result",
          "data": {
            "text/html": [
              "<div>\n",
              "<style scoped>\n",
              "    .dataframe tbody tr th:only-of-type {\n",
              "        vertical-align: middle;\n",
              "    }\n",
              "\n",
              "    .dataframe tbody tr th {\n",
              "        vertical-align: top;\n",
              "    }\n",
              "\n",
              "    .dataframe thead th {\n",
              "        text-align: right;\n",
              "    }\n",
              "</style>\n",
              "<table border=\"1\" class=\"dataframe\">\n",
              "  <thead>\n",
              "    <tr style=\"text-align: right;\">\n",
              "      <th></th>\n",
              "      <th>air_store_id</th>\n",
              "      <th>visit_date</th>\n",
              "      <th>visitors</th>\n",
              "      <th>dow</th>\n",
              "      <th>year</th>\n",
              "      <th>month</th>\n",
              "    </tr>\n",
              "  </thead>\n",
              "  <tbody>\n",
              "    <tr>\n",
              "      <th>0</th>\n",
              "      <td>air_ba937bf13d40fb24</td>\n",
              "      <td>2016-01-13</td>\n",
              "      <td>25</td>\n",
              "      <td>2</td>\n",
              "      <td>2016</td>\n",
              "      <td>1</td>\n",
              "    </tr>\n",
              "    <tr>\n",
              "      <th>1</th>\n",
              "      <td>air_ba937bf13d40fb24</td>\n",
              "      <td>2016-01-14</td>\n",
              "      <td>32</td>\n",
              "      <td>3</td>\n",
              "      <td>2016</td>\n",
              "      <td>1</td>\n",
              "    </tr>\n",
              "    <tr>\n",
              "      <th>2</th>\n",
              "      <td>air_ba937bf13d40fb24</td>\n",
              "      <td>2016-01-15</td>\n",
              "      <td>29</td>\n",
              "      <td>4</td>\n",
              "      <td>2016</td>\n",
              "      <td>1</td>\n",
              "    </tr>\n",
              "    <tr>\n",
              "      <th>3</th>\n",
              "      <td>air_ba937bf13d40fb24</td>\n",
              "      <td>2016-01-16</td>\n",
              "      <td>22</td>\n",
              "      <td>5</td>\n",
              "      <td>2016</td>\n",
              "      <td>1</td>\n",
              "    </tr>\n",
              "    <tr>\n",
              "      <th>4</th>\n",
              "      <td>air_ba937bf13d40fb24</td>\n",
              "      <td>2016-01-18</td>\n",
              "      <td>6</td>\n",
              "      <td>0</td>\n",
              "      <td>2016</td>\n",
              "      <td>1</td>\n",
              "    </tr>\n",
              "  </tbody>\n",
              "</table>\n",
              "</div>"
            ],
            "text/plain": [
              "           air_store_id  visit_date  visitors  dow  year  month\n",
              "0  air_ba937bf13d40fb24  2016-01-13        25    2  2016      1\n",
              "1  air_ba937bf13d40fb24  2016-01-14        32    3  2016      1\n",
              "2  air_ba937bf13d40fb24  2016-01-15        29    4  2016      1\n",
              "3  air_ba937bf13d40fb24  2016-01-16        22    5  2016      1\n",
              "4  air_ba937bf13d40fb24  2016-01-18         6    0  2016      1"
            ]
          },
          "metadata": {
            "tags": []
          },
          "execution_count": 14
        }
      ]
    },
    {
      "cell_type": "code",
      "metadata": {
        "colab": {
          "base_uri": "https://localhost:8080/",
          "height": 369
        },
        "id": "pbWOPgloE9xw",
        "outputId": "248923fc-c53a-4f03-ffe3-43dd2c3d6b70"
      },
      "source": [
        "copy_tra = data[\"tra\"]\n",
        "\n",
        "copy_tra = copy_tra.groupby(\n",
        "        ['visit_date'], as_index=False)[[\n",
        "            'visitors'\n",
        "        ]].sum()\n",
        "\n",
        "plt.figure(figsize=(10,5))\n",
        "plt.title(\"air system visitors\", fontsize=15)\n",
        "plt.plot(copy_tra[\"visit_date\"].dt.date, copy_tra[\"visitors\"], color='black')\n",
        "plt.grid()\n",
        "plt.xticks(rotation=90)\n",
        "plt.show()"
      ],
      "execution_count": 14,
      "outputs": [
        {
          "output_type": "display_data",
          "data": {
            "image/png": "[encoded data removed]",
            "text/plain": [
              "<Figure size 720x360 with 1 Axes>"
            ]
          },
          "metadata": {
            "tags": [],
            "needs_background": "light"
          }
        }
      ]
    },
    {
      "cell_type": "code",
      "metadata": {
        "colab": {
          "base_uri": "https://localhost:8080/",
          "height": 300
        },
        "id": "5Z47J9pbKzbD",
        "outputId": "de708563-7a1a-4154-dedd-d52ce4ce3025"
      },
      "source": [
        "sns.histplot(\n",
        "    data['tra'],\n",
        "    x=\"visitors\",\n",
        "    multiple=\"stack\",\n",
        "    palette=\"light:m_r\",\n",
        "    edgecolor=\".3\",\n",
        "    linewidth=.5,\n",
        "    log_scale=True,\n",
        ")"
      ],
      "execution_count": 18,
      "outputs": [
        {
          "output_type": "execute_result",
          "data": {
            "text/plain": [
              "<matplotlib.axes._subplots.AxesSubplot at 0x7fed7cafadd0>"
            ]
          },
          "metadata": {
            "tags": []
          },
          "execution_count": 18
        },
        {
          "output_type": "display_data",
          "data": {
            "image/png": "[encoded data removed]",
            "text/plain": [
              "<Figure size 432x288 with 1 Axes>"
            ]
          },
          "metadata": {
            "tags": [],
            "needs_background": "light"
          }
        }
      ]
    },
    {
      "cell_type": "code",
      "metadata": {
        "colab": {
          "base_uri": "https://localhost:8080/",
          "height": 419
        },
        "id": "peQ1wezv4wtj",
        "outputId": "4da2b58f-43b4-4ca9-a075-9a7f5835cca3"
      },
      "source": [
        "data['hr']"
      ],
      "execution_count": 5,
      "outputs": [
        {
          "output_type": "execute_result",
          "data": {
            "text/html": [
              "<div>\n",
              "<style scoped>\n",
              "    .dataframe tbody tr th:only-of-type {\n",
              "        vertical-align: middle;\n",
              "    }\n",
              "\n",
              "    .dataframe tbody tr th {\n",
              "        vertical-align: top;\n",
              "    }\n",
              "\n",
              "    .dataframe thead th {\n",
              "        text-align: right;\n",
              "    }\n",
              "</style>\n",
              "<table border=\"1\" class=\"dataframe\">\n",
              "  <thead>\n",
              "    <tr style=\"text-align: right;\">\n",
              "      <th></th>\n",
              "      <th>air_store_id</th>\n",
              "      <th>visit_date</th>\n",
              "      <th>reserve_datetime_diff</th>\n",
              "      <th>reserve_visitors</th>\n",
              "    </tr>\n",
              "  </thead>\n",
              "  <tbody>\n",
              "    <tr>\n",
              "      <th>0</th>\n",
              "      <td>air_00a91d42b08b08d9</td>\n",
              "      <td>2016-01-14</td>\n",
              "      <td>3</td>\n",
              "      <td>2</td>\n",
              "    </tr>\n",
              "    <tr>\n",
              "      <th>1</th>\n",
              "      <td>air_00a91d42b08b08d9</td>\n",
              "      <td>2016-01-15</td>\n",
              "      <td>6</td>\n",
              "      <td>4</td>\n",
              "    </tr>\n",
              "    <tr>\n",
              "      <th>2</th>\n",
              "      <td>air_00a91d42b08b08d9</td>\n",
              "      <td>2016-01-16</td>\n",
              "      <td>3</td>\n",
              "      <td>2</td>\n",
              "    </tr>\n",
              "    <tr>\n",
              "      <th>3</th>\n",
              "      <td>air_00a91d42b08b08d9</td>\n",
              "      <td>2016-01-22</td>\n",
              "      <td>3</td>\n",
              "      <td>2</td>\n",
              "    </tr>\n",
              "    <tr>\n",
              "      <th>4</th>\n",
              "      <td>air_00a91d42b08b08d9</td>\n",
              "      <td>2016-01-29</td>\n",
              "      <td>6</td>\n",
              "      <td>5</td>\n",
              "    </tr>\n",
              "    <tr>\n",
              "      <th>...</th>\n",
              "      <td>...</td>\n",
              "      <td>...</td>\n",
              "      <td>...</td>\n",
              "      <td>...</td>\n",
              "    </tr>\n",
              "    <tr>\n",
              "      <th>18615</th>\n",
              "      <td>air_fea5dc9594450608</td>\n",
              "      <td>2017-04-21</td>\n",
              "      <td>2</td>\n",
              "      <td>2</td>\n",
              "    </tr>\n",
              "    <tr>\n",
              "      <th>18616</th>\n",
              "      <td>air_fea5dc9594450608</td>\n",
              "      <td>2017-04-22</td>\n",
              "      <td>0</td>\n",
              "      <td>2</td>\n",
              "    </tr>\n",
              "    <tr>\n",
              "      <th>18617</th>\n",
              "      <td>air_fea5dc9594450608</td>\n",
              "      <td>2017-04-25</td>\n",
              "      <td>9</td>\n",
              "      <td>2</td>\n",
              "    </tr>\n",
              "    <tr>\n",
              "      <th>18618</th>\n",
              "      <td>air_fea5dc9594450608</td>\n",
              "      <td>2017-04-28</td>\n",
              "      <td>29</td>\n",
              "      <td>3</td>\n",
              "    </tr>\n",
              "    <tr>\n",
              "      <th>18619</th>\n",
              "      <td>air_fea5dc9594450608</td>\n",
              "      <td>2017-05-20</td>\n",
              "      <td>34</td>\n",
              "      <td>6</td>\n",
              "    </tr>\n",
              "  </tbody>\n",
              "</table>\n",
              "<p>18620 rows × 4 columns</p>\n",
              "</div>"
            ],
            "text/plain": [
              "               air_store_id  ... reserve_visitors\n",
              "0      air_00a91d42b08b08d9  ...                2\n",
              "1      air_00a91d42b08b08d9  ...                4\n",
              "2      air_00a91d42b08b08d9  ...                2\n",
              "3      air_00a91d42b08b08d9  ...                2\n",
              "4      air_00a91d42b08b08d9  ...                5\n",
              "...                     ...  ...              ...\n",
              "18615  air_fea5dc9594450608  ...                2\n",
              "18616  air_fea5dc9594450608  ...                2\n",
              "18617  air_fea5dc9594450608  ...                2\n",
              "18618  air_fea5dc9594450608  ...                3\n",
              "18619  air_fea5dc9594450608  ...                6\n",
              "\n",
              "[18620 rows x 4 columns]"
            ]
          },
          "metadata": {
            "tags": []
          },
          "execution_count": 5
        }
      ]
    },
    {
      "cell_type": "code",
      "metadata": {
        "id": "pPnLg3l66euI"
      },
      "source": [
        "data[\"ar\"][\"visit_date\"]=pd.to_datetime(data[\"ar\"][\"visit_date\"])"
      ],
      "execution_count": 38,
      "outputs": []
    },
    {
      "cell_type": "code",
      "metadata": {
        "colab": {
          "base_uri": "https://localhost:8080/",
          "height": 369
        },
        "id": "RrqSO8sa6yZH",
        "outputId": "2fb81f62-4028-4142-d0a5-9c51fab77748"
      },
      "source": [
        "copy_ar = data[\"ar\"]\n",
        "copy_ar_1 = copy_ar.groupby(\n",
        "        ['visit_date'], as_index=False)[[\n",
        "            'reserve_visitors'\n",
        "        ]].sum()\n",
        "\n",
        "plt.figure(figsize=(10,5))\n",
        "plt.title(\"air reserve visitors\", fontsize=15)\n",
        "plt.plot(copy_ar[\"visit_date\"].dt.date, copy_ar[\"reserve_visitors\"], color='black')\n",
        "plt.grid()\n",
        "plt.xticks(rotation=90)\n",
        "plt.show()"
      ],
      "execution_count": 39,
      "outputs": [
        {
          "output_type": "display_data",
          "data": {
            "image/png": "[encoded data removed]",
            "text/plain": [
              "<Figure size 720x360 with 1 Axes>"
            ]
          },
          "metadata": {
            "tags": [],
            "needs_background": "light"
          }
        }
      ]
    },
    {
      "cell_type": "code",
      "metadata": {
        "colab": {
          "base_uri": "https://localhost:8080/",
          "height": 386
        },
        "id": "3NkwxqPb7eu5",
        "outputId": "7fd38462-de95-42d0-f634-e13665fcbcdc"
      },
      "source": [
        "sns.displot(data[\"ar\"], x = data[\"ar\"][\"visit_date\"], y = data[\"ar\"][\"reserve_visitors\"], kind=\"hist\")"
      ],
      "execution_count": 40,
      "outputs": [
        {
          "output_type": "execute_result",
          "data": {
            "text/plain": [
              "<seaborn.axisgrid.FacetGrid at 0x7fed8bd31950>"
            ]
          },
          "metadata": {
            "tags": []
          },
          "execution_count": 40
        },
        {
          "output_type": "display_data",
          "data": {
            "image/png": "[encoded data removed]",
            "text/plain": [
              "<Figure size 360x360 with 1 Axes>"
            ]
          },
          "metadata": {
            "tags": [],
            "needs_background": "light"
          }
        }
      ]
    },
    {
      "cell_type": "code",
      "metadata": {
        "colab": {
          "base_uri": "https://localhost:8080/",
          "height": 386
        },
        "id": "lHg7Kwg2_uRF",
        "outputId": "c0e2cab9-c9ea-42a3-cd96-90afcf2799bd"
      },
      "source": [
        "copy_ar_2 = copy_ar.groupby(\n",
        "        ['reserve_datetime_diff'], as_index=False)[[\n",
        "            'reserve_visitors'\n",
        "        ]].sum()\n",
        "sns.displot(copy_ar_2, x = copy_ar_2[\"reserve_datetime_diff\"], y = copy_ar_2[\"reserve_visitors\"], kind=\"hist\")"
      ],
      "execution_count": 42,
      "outputs": [
        {
          "output_type": "execute_result",
          "data": {
            "text/plain": [
              "<seaborn.axisgrid.FacetGrid at 0x7fed79538310>"
            ]
          },
          "metadata": {
            "tags": []
          },
          "execution_count": 42
        },
        {
          "output_type": "display_data",
          "data": {
            "image/png": "[encoded data removed]",
            "text/plain": [
              "<Figure size 360x360 with 1 Axes>"
            ]
          },
          "metadata": {
            "tags": [],
            "needs_background": "light"
          }
        }
      ]
    },
    {
      "cell_type": "code",
      "metadata": {
        "id": "2tctr3YKhoFr"
      },
      "source": [
        "data['tes']['visit_date'] = data['tes']['id'].map(\n",
        "    lambda x: str(x).split('_')[2])"
      ],
      "execution_count": null,
      "outputs": []
    },
    {
      "cell_type": "code",
      "metadata": {
        "colab": {
          "base_uri": "https://localhost:8080/",
          "height": 419
        },
        "id": "QyhETijGhx1v",
        "outputId": "928128bf-c0db-4e65-a44b-9e91dfd3f31e"
      },
      "source": [
        "display(data['tes'])"
      ],
      "execution_count": null,
      "outputs": [
        {
          "output_type": "display_data",
          "data": {
            "text/html": [
              "<div>\n",
              "<style scoped>\n",
              "    .dataframe tbody tr th:only-of-type {\n",
              "        vertical-align: middle;\n",
              "    }\n",
              "\n",
              "    .dataframe tbody tr th {\n",
              "        vertical-align: top;\n",
              "    }\n",
              "\n",
              "    .dataframe thead th {\n",
              "        text-align: right;\n",
              "    }\n",
              "</style>\n",
              "<table border=\"1\" class=\"dataframe\">\n",
              "  <thead>\n",
              "    <tr style=\"text-align: right;\">\n",
              "      <th></th>\n",
              "      <th>id</th>\n",
              "      <th>visitors</th>\n",
              "      <th>visit_date</th>\n",
              "    </tr>\n",
              "  </thead>\n",
              "  <tbody>\n",
              "    <tr>\n",
              "      <th>0</th>\n",
              "      <td>air_00a91d42b08b08d9_2017-04-23</td>\n",
              "      <td>0</td>\n",
              "      <td>2017-04-23</td>\n",
              "    </tr>\n",
              "    <tr>\n",
              "      <th>1</th>\n",
              "      <td>air_00a91d42b08b08d9_2017-04-24</td>\n",
              "      <td>0</td>\n",
              "      <td>2017-04-24</td>\n",
              "    </tr>\n",
              "    <tr>\n",
              "      <th>2</th>\n",
              "      <td>air_00a91d42b08b08d9_2017-04-25</td>\n",
              "      <td>0</td>\n",
              "      <td>2017-04-25</td>\n",
              "    </tr>\n",
              "    <tr>\n",
              "      <th>3</th>\n",
              "      <td>air_00a91d42b08b08d9_2017-04-26</td>\n",
              "      <td>0</td>\n",
              "      <td>2017-04-26</td>\n",
              "    </tr>\n",
              "    <tr>\n",
              "      <th>4</th>\n",
              "      <td>air_00a91d42b08b08d9_2017-04-27</td>\n",
              "      <td>0</td>\n",
              "      <td>2017-04-27</td>\n",
              "    </tr>\n",
              "    <tr>\n",
              "      <th>...</th>\n",
              "      <td>...</td>\n",
              "      <td>...</td>\n",
              "      <td>...</td>\n",
              "    </tr>\n",
              "    <tr>\n",
              "      <th>32014</th>\n",
              "      <td>air_fff68b929994bfbd_2017-05-27</td>\n",
              "      <td>0</td>\n",
              "      <td>2017-05-27</td>\n",
              "    </tr>\n",
              "    <tr>\n",
              "      <th>32015</th>\n",
              "      <td>air_fff68b929994bfbd_2017-05-28</td>\n",
              "      <td>0</td>\n",
              "      <td>2017-05-28</td>\n",
              "    </tr>\n",
              "    <tr>\n",
              "      <th>32016</th>\n",
              "      <td>air_fff68b929994bfbd_2017-05-29</td>\n",
              "      <td>0</td>\n",
              "      <td>2017-05-29</td>\n",
              "    </tr>\n",
              "    <tr>\n",
              "      <th>32017</th>\n",
              "      <td>air_fff68b929994bfbd_2017-05-30</td>\n",
              "      <td>0</td>\n",
              "      <td>2017-05-30</td>\n",
              "    </tr>\n",
              "    <tr>\n",
              "      <th>32018</th>\n",
              "      <td>air_fff68b929994bfbd_2017-05-31</td>\n",
              "      <td>0</td>\n",
              "      <td>2017-05-31</td>\n",
              "    </tr>\n",
              "  </tbody>\n",
              "</table>\n",
              "<p>32019 rows × 3 columns</p>\n",
              "</div>"
            ],
            "text/plain": [
              "                                    id  visitors  visit_date\n",
              "0      air_00a91d42b08b08d9_2017-04-23         0  2017-04-23\n",
              "1      air_00a91d42b08b08d9_2017-04-24         0  2017-04-24\n",
              "2      air_00a91d42b08b08d9_2017-04-25         0  2017-04-25\n",
              "3      air_00a91d42b08b08d9_2017-04-26         0  2017-04-26\n",
              "4      air_00a91d42b08b08d9_2017-04-27         0  2017-04-27\n",
              "...                                ...       ...         ...\n",
              "32014  air_fff68b929994bfbd_2017-05-27         0  2017-05-27\n",
              "32015  air_fff68b929994bfbd_2017-05-28         0  2017-05-28\n",
              "32016  air_fff68b929994bfbd_2017-05-29         0  2017-05-29\n",
              "32017  air_fff68b929994bfbd_2017-05-30         0  2017-05-30\n",
              "32018  air_fff68b929994bfbd_2017-05-31         0  2017-05-31\n",
              "\n",
              "[32019 rows x 3 columns]"
            ]
          },
          "metadata": {
            "tags": []
          }
        }
      ]
    },
    {
      "cell_type": "code",
      "metadata": {
        "id": "5RrnZhq9h5WI"
      },
      "source": [
        "data['tes']['visit_date'] = pd.to_datetime(data['tes']['visit_date'])"
      ],
      "execution_count": null,
      "outputs": []
    },
    {
      "cell_type": "code",
      "metadata": {
        "id": "q-AW46H-iczI"
      },
      "source": [
        "data['tes']['air_store_id'] = data['tes']['id'].map(\n",
        "    lambda x: '_'.join(x.split('_')[:2]))"
      ],
      "execution_count": null,
      "outputs": []
    },
    {
      "cell_type": "code",
      "metadata": {
        "id": "KstuuL2hij67"
      },
      "source": [
        "data['tes']['dow'] = data['tes']['visit_date'].dt.dayofweek\n",
        "data['tes']['year'] = data['tes']['visit_date'].dt.year\n",
        "data['tes']['month'] = data['tes']['visit_date'].dt.month\n",
        "data['tes']['visit_date'] = data['tes']['visit_date'].dt.date"
      ],
      "execution_count": null,
      "outputs": []
    },
    {
      "cell_type": "code",
      "metadata": {
        "colab": {
          "base_uri": "https://localhost:8080/",
          "height": 289
        },
        "id": "lH2_UBaFio1O",
        "outputId": "908041b2-caaf-4335-cd8f-e7248a39e716"
      },
      "source": [
        "data['tes'].head()"
      ],
      "execution_count": null,
      "outputs": [
        {
          "output_type": "execute_result",
          "data": {
            "text/html": [
              "<div>\n",
              "<style scoped>\n",
              "    .dataframe tbody tr th:only-of-type {\n",
              "        vertical-align: middle;\n",
              "    }\n",
              "\n",
              "    .dataframe tbody tr th {\n",
              "        vertical-align: top;\n",
              "    }\n",
              "\n",
              "    .dataframe thead th {\n",
              "        text-align: right;\n",
              "    }\n",
              "</style>\n",
              "<table border=\"1\" class=\"dataframe\">\n",
              "  <thead>\n",
              "    <tr style=\"text-align: right;\">\n",
              "      <th></th>\n",
              "      <th>id</th>\n",
              "      <th>visitors</th>\n",
              "      <th>visit_date</th>\n",
              "      <th>air_store_id</th>\n",
              "      <th>dow</th>\n",
              "      <th>year</th>\n",
              "      <th>month</th>\n",
              "    </tr>\n",
              "  </thead>\n",
              "  <tbody>\n",
              "    <tr>\n",
              "      <th>0</th>\n",
              "      <td>air_00a91d42b08b08d9_2017-04-23</td>\n",
              "      <td>0</td>\n",
              "      <td>2017-04-23</td>\n",
              "      <td>air_00a91d42b08b08d9</td>\n",
              "      <td>6</td>\n",
              "      <td>2017</td>\n",
              "      <td>4</td>\n",
              "    </tr>\n",
              "    <tr>\n",
              "      <th>1</th>\n",
              "      <td>air_00a91d42b08b08d9_2017-04-24</td>\n",
              "      <td>0</td>\n",
              "      <td>2017-04-24</td>\n",
              "      <td>air_00a91d42b08b08d9</td>\n",
              "      <td>0</td>\n",
              "      <td>2017</td>\n",
              "      <td>4</td>\n",
              "    </tr>\n",
              "    <tr>\n",
              "      <th>2</th>\n",
              "      <td>air_00a91d42b08b08d9_2017-04-25</td>\n",
              "      <td>0</td>\n",
              "      <td>2017-04-25</td>\n",
              "      <td>air_00a91d42b08b08d9</td>\n",
              "      <td>1</td>\n",
              "      <td>2017</td>\n",
              "      <td>4</td>\n",
              "    </tr>\n",
              "    <tr>\n",
              "      <th>3</th>\n",
              "      <td>air_00a91d42b08b08d9_2017-04-26</td>\n",
              "      <td>0</td>\n",
              "      <td>2017-04-26</td>\n",
              "      <td>air_00a91d42b08b08d9</td>\n",
              "      <td>2</td>\n",
              "      <td>2017</td>\n",
              "      <td>4</td>\n",
              "    </tr>\n",
              "    <tr>\n",
              "      <th>4</th>\n",
              "      <td>air_00a91d42b08b08d9_2017-04-27</td>\n",
              "      <td>0</td>\n",
              "      <td>2017-04-27</td>\n",
              "      <td>air_00a91d42b08b08d9</td>\n",
              "      <td>3</td>\n",
              "      <td>2017</td>\n",
              "      <td>4</td>\n",
              "    </tr>\n",
              "  </tbody>\n",
              "</table>\n",
              "</div>"
            ],
            "text/plain": [
              "                                id  visitors  visit_date  ... dow  year  month\n",
              "0  air_00a91d42b08b08d9_2017-04-23         0  2017-04-23  ...   6  2017      4\n",
              "1  air_00a91d42b08b08d9_2017-04-24         0  2017-04-24  ...   0  2017      4\n",
              "2  air_00a91d42b08b08d9_2017-04-25         0  2017-04-25  ...   1  2017      4\n",
              "3  air_00a91d42b08b08d9_2017-04-26         0  2017-04-26  ...   2  2017      4\n",
              "4  air_00a91d42b08b08d9_2017-04-27         0  2017-04-27  ...   3  2017      4\n",
              "\n",
              "[5 rows x 7 columns]"
            ]
          },
          "metadata": {
            "tags": []
          },
          "execution_count": 13
        }
      ]
    },
    {
      "cell_type": "code",
      "metadata": {
        "colab": {
          "base_uri": "https://localhost:8080/"
        },
        "id": "1kKBNRM_irVh",
        "outputId": "c2c63fe1-355f-4770-825f-0c8dbeb604ef"
      },
      "source": [
        "data['tes']['air_store_id'].unique()"
      ],
      "execution_count": null,
      "outputs": [
        {
          "output_type": "execute_result",
          "data": {
            "text/plain": [
              "array(['air_00a91d42b08b08d9', 'air_0164b9927d20bcc3',\n",
              "       'air_0241aa3964b7f861', 'air_0328696196e46f18',\n",
              "       'air_034a3d5b40d5b1b1', 'air_036d4f1ee7285390',\n",
              "       'air_0382c794b73b51ad', 'air_03963426c9312048',\n",
              "       'air_04341b588bde96cd', 'air_049f6d5b402a31b2',\n",
              "       'air_04cae7c1bc9b2a0b', 'air_0585011fa179bcce',\n",
              "       'air_05c325d315cc17f5', 'air_0647f17b4dc041c8',\n",
              "       'air_064e203265ee5753', 'air_066f0221b8a4d533',\n",
              "       'air_06f95ac5c33aca10', 'air_0728814bd98f7367',\n",
              "       'air_0768ab3910f7967f', 'air_07b314d83059c4d2',\n",
              "       'air_07bb665f9cdfbdfb', 'air_082908692355165e',\n",
              "       'air_083ddc520ea47e1e', 'air_0845d8395f30c6bb',\n",
              "       'air_084d98859256acf0', 'air_0867f7bebad6a649',\n",
              "       'air_08ba8cd01b3ba010', 'air_08cb3c4ee6cd6a22',\n",
              "       'air_08ef81d5b7a0d13f', 'air_08f994758a1e76d4',\n",
              "       'air_09040f6df960ddb8', 'air_0919d54f0c9a24b8',\n",
              "       'air_09661c0f3259cc04', 'air_09a845d5b5944b01',\n",
              "       'air_09fd1f5c58583141', 'air_0a74a5408a0b8642',\n",
              "       'air_0b184ec04c741a6a', 'air_0b1e72d2d4422b20',\n",
              "       'air_0b9038300f8b2b50', 'air_0e1eae99b8723bc1',\n",
              "       'air_0e7c11b9abc50163', 'air_0f0cdeee6c9bf3d7',\n",
              "       'air_0f2f96335f274801', 'air_0f60e1576a7d397d',\n",
              "       'air_1033310359ceeac1', 'air_10393f12e9069760',\n",
              "       'air_105a7954e32dba9b', 'air_10713fbf3071c361',\n",
              "       'air_10bbe8acd943d8f6', 'air_12c4fb7a423df20d',\n",
              "       'air_138ee734ac79ff90', 'air_138ff410757b845f',\n",
              "       'air_1408dd53f31a8a65', 'air_142e78ba7001da9c',\n",
              "       'air_1509881b22965b34', 'air_152c1f08d7d20e07',\n",
              "       'air_15ae33469e9ea2dd', 'air_15e6e15c7ea2c162',\n",
              "       'air_16179d43b6ee5fd8', 'air_1653a6c513865af3',\n",
              "       'air_168441ada3e878e1', 'air_16c4cfddeb2cf69b',\n",
              "       'air_16cf0a73233896de', 'air_1707a3f18bb0da07',\n",
              "       'air_17a6ab40f97fd4d8', 'air_17bed6dbf7c8b0fc',\n",
              "       'air_1979eaff8189d086', 'air_1ab60ce33bfed8a8',\n",
              "       'air_1ae94f514a0bce13', 'air_1ba4e87ef7422183',\n",
              "       'air_1c0b150f9e696a5f', 'air_1c95a84924d72500',\n",
              "       'air_1d1e8860ae04f8e9', 'air_1d25ca6c76df48b4',\n",
              "       'air_1d3f797dd1f7cf1c', 'air_1dd8f6f47480d1a2',\n",
              "       'air_1dea9815ccd36620', 'air_1e23210b584540e7',\n",
              "       'air_1e665503b8474c55', 'air_1eeff462acb24fb7',\n",
              "       'air_1f1390a8be2272b3', 'air_1f34e9beded2231a',\n",
              "       'air_1f7f8fa557bc0d55', 'air_2009041dbf9264de',\n",
              "       'air_20619d21192aa571', 'air_20add8092c9bb51d',\n",
              "       'air_2195cd5025a98033', 'air_21f5052d5330528d',\n",
              "       'air_220cba70c890b119', 'air_22682e965418936f',\n",
              "       'air_228f10bec0bda9c8', 'air_232dcee6f7c51d37',\n",
              "       'air_234d3dbf7f3d5a50', 'air_23e1b11aee2a1407',\n",
              "       'air_23ee674e91469086', 'air_24b9b2a020826ede',\n",
              "       'air_24e8414b9b07decb', 'air_2545dd3a00f265e2',\n",
              "       'air_256be208a979e023', 'air_2570ccb93badde68',\n",
              "       'air_258ad2619d7bff9a', 'air_258dc112912fc458',\n",
              "       'air_25c583983246b7b0', 'air_25d8e5cc57dd87d9',\n",
              "       'air_25e9888d30b386df', 'air_2634e41551e9807d',\n",
              "       'air_26c5bbeb7bb82bf1', 'air_26f10355d9b4d82a',\n",
              "       'air_275732a5db46f4d3', 'air_27e991812b0d9c92',\n",
              "       'air_28064154614b2e6c', 'air_287d2de7d3c93406',\n",
              "       'air_28a9fa1ec0839375', 'air_28dbe91c4c9656be',\n",
              "       'air_290e7a57b390f78e', 'air_298513175efdf261',\n",
              "       'air_2a184c1745274b2b', 'air_2a24aec099333f39',\n",
              "       'air_2a3743e37aab04b4', 'air_2a485b92210c98b5',\n",
              "       'air_2a7f14da7fe0f699', 'air_2aab19554f91ff82',\n",
              "       'air_2ac361b97630e2df', 'air_2b8b29ddfd35018e',\n",
              "       'air_2b9bc9f5f5168ea1', 'air_2bffb19a24d11729',\n",
              "       'air_2c505f9ad67d4635', 'air_2c6c79d597e48096',\n",
              "       'air_2c6fef1ce0e13a5a', 'air_2c989829acbd1c6b',\n",
              "       'air_2cee51fa6fdf6c0d', 'air_2d3afcb91762fe01',\n",
              "       'air_2d78d9a1f4dd02ca', 'air_2e7cb1f1a2a9cd6a',\n",
              "       'air_2f8ced25216df926', 'air_2fc149abe33adcb4',\n",
              "       'air_2fc478dc9f0a6b31', 'air_2fed81034f8834e5',\n",
              "       'air_303bac187b53083a', 'air_310e467e6e625004',\n",
              "       'air_3155ee23d92202da', 'air_31c753b48a657b6c',\n",
              "       'air_32460819c7600037', 'air_324f7c39a8410e7c',\n",
              "       'air_326ca454ef3558bc', 'air_32b02ba5dc2027f4',\n",
              "       'air_32c61b620a766138', 'air_32f5d7cd696e3c4a',\n",
              "       'air_33b01025210d6007', 'air_3440e0ea1b70a99b',\n",
              "       'air_346ade7d29230634', 'air_347be2c4feeb408b',\n",
              "       'air_349278fa964bb12f', 'air_3525f11ef0bf0c35',\n",
              "       'air_35512c42db0868da', 'air_3561fd1c0bce6a95',\n",
              "       'air_35c4732dcbfe31be', 'air_36429b5ca4407b3e',\n",
              "       'air_36bcf77d3382d36e', 'air_37189c92b6c761ec',\n",
              "       'air_375a5241615b5e22', 'air_382f5ace4e2247b8',\n",
              "       'air_383f5b2f8d345a49', 'air_38746ffe9aa20c7e',\n",
              "       'air_396166d47733d5c9', 'air_396942e6423a2145',\n",
              "       'air_397d3f32a7196aa2', 'air_3980af67be35afdb',\n",
              "       'air_3982a2c4ea2ed431', 'air_399904bdb7685ca0',\n",
              "       'air_39dccf7df20b1c6a', 'air_3a8a3f8fb5cd7f88',\n",
              "       'air_3aa839e8e0cb6c87', 'air_3ac24136722e2291',\n",
              "       'air_3b20733899b5287f', 'air_3b6438b125086430',\n",
              "       'air_3bb99a1fe0583897', 'air_3bd49f98ab7f36ab',\n",
              "       'air_3c05c8f26c611eb9', 'air_3c938075889fc059',\n",
              "       'air_3cad29d1a23209d2', 'air_3caef3f76b8f26c5',\n",
              "       'air_3d3a2b509180e798', 'air_3e6cea17a9d2c0f1',\n",
              "       'air_3e93f3c81008696d', 'air_3f91d592acd6cc0b',\n",
              "       'air_401b39f97e56b939', 'air_4043b7ccfbffa732',\n",
              "       'air_4092cfbd95a3ac1b', 'air_40953e2d8b4f2857',\n",
              "       'air_40f6193ea3ed1b91', 'air_414ff459ed18fa48',\n",
              "       'air_41bbf6e1d9814c4b', 'air_421670f21da5ba31',\n",
              "       'air_4254c3fc3ad078bd', 'air_42c9aa6d617c5057',\n",
              "       'air_42d41eb58cad170e', 'air_43b65e4b05bff2d3',\n",
              "       'air_43d577e0c9460e64', 'air_4433ab8e9999915f',\n",
              "       'air_4481a87c1d7c9896', 'air_452100f5305dde64',\n",
              "       'air_45326ebb8dc72cfb', 'air_4570f52104fe0982',\n",
              "       'air_4579cb0669fd411b', 'air_457efe8c3a30ea17',\n",
              "       'air_464a62de0d57be1e', 'air_465bddfed3353b23',\n",
              "       'air_47070be6093f123e', 'air_472b19e3b5bffa41',\n",
              "       'air_473cf23b9e7c0a37', 'air_473f98b212d37b4a',\n",
              "       'air_47beaffd3806c979', 'air_483eba479dc9910d',\n",
              "       'air_48e9fc98b62495a7', 'air_48f4da6223571da4',\n",
              "       'air_48ffd31594bc3263', 'air_49211568cab5fdee',\n",
              "       'air_4974785f48853db9', 'air_4b251b9f8373f1ae',\n",
              "       'air_4b380b4db9d37883', 'air_4b55d8aea1d2b395',\n",
              "       'air_4b9085d0d46a6211', 'air_4beac252540f865e',\n",
              "       'air_4c2ed28f3f19ca52', 'air_4c665a2bfff0da3b',\n",
              "       'air_4c727b55acdee495', 'air_4cab15ad29c0ffbc',\n",
              "       'air_4cab91146e3d1897', 'air_4cca5666eaf5c709',\n",
              "       'air_4ce7b17062a1bf73', 'air_4d21676ed11f0bac',\n",
              "       'air_4d71826793c09b22', 'air_4d90a22572fa1ec9',\n",
              "       'air_4de6d887a7b1c1fc', 'air_4dea8d17f6f59c56',\n",
              "       'air_4e1c38f68f435596', 'air_4f762e840b3996e1',\n",
              "       'air_4feeb8600f131e43', 'air_500641aca4cf673c',\n",
              "       'air_506fe758114df773', 'air_51281cd059d7b89b',\n",
              "       'air_51319e7acf0438cf', 'air_52a08ef3efdb4bb0',\n",
              "       'air_52e2a1fd42bc917a', 'air_536043fcf1a4f8a4',\n",
              "       'air_539d693f7317c62d', 'air_546b353cbea4a45b',\n",
              "       'air_5485912b44f976de', 'air_54d6c25d33f5260e',\n",
              "       'air_54ed43163b7596c4', 'air_55390f784018349a',\n",
              "       'air_55c3627912b9c849', 'air_55e11c33d4758131',\n",
              "       'air_56cd12f31a0afc04', 'air_56cebcbd6906e04c',\n",
              "       'air_56ea46c14b2dd967', 'air_57013002b912772b',\n",
              "       'air_573ecdf81b157d22', 'air_57c9eea1a2b66e65',\n",
              "       'air_57ed725a1930a5b9', 'air_5878b6f2a9da12c1',\n",
              "       'air_59cc9b2b209c6331', 'air_5a9a6cbeeb434c08',\n",
              "       'air_5acc13d655a6e8b2', 'air_5afb1cca48ceaa19',\n",
              "       'air_5b6d18c470bbfaf9', 'air_5b704df317ed1962',\n",
              "       'air_5bd22f9cc1426a90', 'air_5c65468938c07fa5',\n",
              "       'air_5c7489c9ec755e2d', 'air_5c817ef28f236bdf',\n",
              "       'air_5cb030b9f0b91537', 'air_5cfc537125d97f16',\n",
              "       'air_5d7c744c3a2ef624', 'air_5d945ade487cdf4d',\n",
              "       'air_5dea8a7a5bf5eb71', 'air_5e339a1f364cdb00',\n",
              "       'air_5e34c6fe6fabd10e', 'air_5e70fe82f9e4fab6',\n",
              "       'air_5e939e005bd34633', 'air_5ed3198e4a5eed0f',\n",
              "       'air_5f3a3ef4cba110a4', 'air_5f6fa1b897fe80d5',\n",
              "       'air_5fbda8e9302f7c13', 'air_602ca92c0db34f8f',\n",
              "       'air_609050e4e4f79ae1', 'air_60a7057184ec7ec7',\n",
              "       'air_60aa54ecbc602348', 'air_6108821ffafa9b72',\n",
              "       'air_614e2f7e76dff854', 'air_61668cc2b0778898',\n",
              "       'air_61b8d37c33617f21', 'air_61de73b097513f58',\n",
              "       'air_622375b4815cf5cb', 'air_627cabe2fe53f33f',\n",
              "       'air_629d9935273c82ae', 'air_629edf21ea38ac2d',\n",
              "       'air_632ba66e1f75aa28', 'air_638c35eb25e53eea',\n",
              "       'air_63a750d8b4b6a976', 'air_63a88d81295195ed',\n",
              "       'air_63b13c56b7201bd9', 'air_63e28ee0b0c955a7',\n",
              "       'air_640cf4835f0d9ba3', 'air_6411203a47b5ec77',\n",
              "       'air_645cb18b33f938cf', 'air_646b93e336f0dded',\n",
              "       'air_64a5d5c1381837af', 'air_64d4491ad8cdb1c6',\n",
              "       'air_650f9b9de0c5542c', 'air_657a0748462f85de',\n",
              "       'air_65e294f1ae6df9c3', 'air_6607fe3671242ce3',\n",
              "       'air_670a0c1c4108bcea', 'air_671b4bea84dafb67',\n",
              "       'air_673acd9fa5e0dd78', 'air_67483104fa38ef6c',\n",
              "       'air_675aa35cba456fd1', 'air_67f87c159d9e2ee2',\n",
              "       'air_68147db09287bf74', 'air_681b0c56328dd2af',\n",
              "       'air_681f96e6a6595f82', 'air_68301bcb11e2f389',\n",
              "       'air_683371d9baabf410', 'air_6836438b543ba698',\n",
              "       'air_6873982b9e19c7ad', 'air_68c1de82037d87e6',\n",
              "       'air_68cc910e7b307b09', 'air_68d075113f368946',\n",
              "       'air_6902e4ec305b3d08', 'air_694571ea13fb9e0e',\n",
              "       'air_6a15e4eae523189d', 'air_6b15edd1b4fbb96a',\n",
              "       'air_6b2268863b14a2af', 'air_6b65745d432fd77f',\n",
              "       'air_6b7678aae65d2d59', 'air_6b942d5ebbc759c2',\n",
              "       'air_6b9fa44a9cf504a1', 'air_6c1128955c58b690',\n",
              "       'air_6c91a28278a16f64', 'air_6c952e3c6e590945',\n",
              "       'air_6ca1d941c8199a67', 'air_6cbe54f0aa30b615',\n",
              "       'air_6ced51c24fb54262', 'air_6d64dba2edd4fc0c',\n",
              "       'air_6d65542aa43b598b', 'air_6d65dd11d96e00fb',\n",
              "       'air_6e06824d0934dd81', 'air_6e3fd96320d24324',\n",
              "       'air_6e64fb5821402cd2', 'air_6ff5fca957798daa',\n",
              "       'air_707d4b6328f2c2df', 'air_709262d948dd0b6e',\n",
              "       'air_70e9e8cd55879414', 'air_70f834596eb99fee',\n",
              "       'air_710d6537cb7623df', 'air_712dd258f7f91b4b',\n",
              "       'air_71903025d39a4571', 'air_722297e7f26db91d',\n",
              "       'air_728ff578acc6ac6e', 'air_72f5146cf0c49beb',\n",
              "       'air_735bcbe1763d6e98', 'air_73f316e6a18d8aa9',\n",
              "       'air_7420042ff75f9aca', 'air_746211c0b532e8aa',\n",
              "       'air_747f375eb3900e1e', 'air_74cf22153214064c',\n",
              "       'air_7514d90009613cd6', 'air_754ae581ad80cc9f',\n",
              "       'air_75864c80d2fb334a', 'air_75bd5d1b6dc6670d',\n",
              "       'air_764f71040a413d4d', 'air_77488fa378cf98c3',\n",
              "       'air_77dfc83450cbc89c', 'air_7831b00996701c0f',\n",
              "       'air_789103bf53b8096b', 'air_789466e488705c93',\n",
              "       'air_78df4dc6a7e83e41', 'air_79afb3f52b4d062c',\n",
              "       'air_79f528087f49df06', 'air_7a81bd7fadcbf3d8',\n",
              "       'air_7a946aada80376a4', 'air_7bacc4d36fb094c9',\n",
              "       'air_7bc6ca04d7b0f3b8', 'air_7bda6048a4a78837',\n",
              "       'air_7c7774c66fb237f7', 'air_7cc17a324ae5c7dc',\n",
              "       'air_7cf5a02c0e01b647', 'air_7d65049f9d275c0d',\n",
              "       'air_7dacea2f22afccfb', 'air_7db266904cb0d72a',\n",
              "       'air_7e12c5d27f44a8de', 'air_7ef9a5ea5c8fe39f',\n",
              "       'air_7f3dc18494bce98b', 'air_7f9e15afafcf4c75',\n",
              "       'air_7fbf7649eb13ad9b', 'air_800c02226e2e0288',\n",
              "       'air_8093d0b565e9dbdf', 'air_8110d68cc869b85e',\n",
              "       'air_81546875de9c8e78', 'air_81a12d67c22e012f',\n",
              "       'air_81bd68142db76f58', 'air_81c2600146d07d16',\n",
              "       'air_81c5dff692063446', 'air_820d1919cbecaa0a',\n",
              "       'air_82a6ae14151953ba', 'air_831658500aa7c846',\n",
              "       'air_832f9dbe9ee4ebd3', 'air_83db5aff8f50478e',\n",
              "       'air_84060403939d8216', 'air_848616680ef061bd',\n",
              "       'air_84f6876ff7e83ae7', 'air_8523d6a70de49e6c',\n",
              "       'air_859feab8e3c9f98d', 'air_85bd13a49370c392',\n",
              "       'air_86cfbf2624576fad', 'air_86f7b2109e4abd65',\n",
              "       'air_87059630ab6fe47f', 'air_87078cf7903a648c',\n",
              "       'air_87467487d21891dd', 'air_8764b3473ddcceaf',\n",
              "       'air_876d7a23c47811cb', 'air_877f79706adbfb06',\n",
              "       'air_87ca98aa7664de94', 'air_87f9e1024b951f01',\n",
              "       'air_883ca28ef0ed3d55', 'air_88c8e34baa79217b',\n",
              "       'air_88ca84051ba95339', 'air_88f31db64991768a',\n",
              "       'air_890d7e28e8eaaa11', 'air_89e7328af22efe74',\n",
              "       'air_8a1d21fad48374e8', 'air_8a59bb0c497b771e',\n",
              "       'air_8a906e5801eac81c', 'air_8b4a46dc521bfcfe',\n",
              "       'air_8c119d1f16049f20', 'air_8c3175aa5e4fc569',\n",
              "       'air_8cc350fd70ee0757', 'air_8ce035ee1d8a56a6',\n",
              "       'air_8d50c64692322dff', 'air_8d61f49aa0373492',\n",
              "       'air_8e429650fcf7a0ae', 'air_8e4360a64dbd4c50',\n",
              "       'air_8e492076a1179383', 'air_8e8f42f047537154',\n",
              "       'air_8ec47c0f1e2c879e', 'air_8f13ef0f5e8c64dd',\n",
              "       'air_8f273fb9ad2fed6f', 'air_8f3b563416efc6ad',\n",
              "       'air_900d755ebd2f7bbd', 'air_901925b628677c2e',\n",
              "       'air_90213bcae4afa274', 'air_90bd5de52c166767',\n",
              "       'air_90ed0a2f24755533', 'air_90f0efbb702d77b7',\n",
              "       'air_9105a29b0eb250d2', 'air_91236b89d29567af',\n",
              "       'air_9152d9926e5c4a3a', 'air_915558a55c2bc56c',\n",
              "       'air_91beafbba9382b0a', 'air_91d72e16c4bcba55',\n",
              "       'air_9241121af22ff1d6', 'air_929d8513e3cdb423',\n",
              "       'air_931a8a4321b6e7d1', 'air_9352c401d5adb01b',\n",
              "       'air_9387ff95e886ebc7', 'air_938ef91ecdde6878',\n",
              "       'air_939964477035ef0b', 'air_93b9bb641f8fc982',\n",
              "       'air_93dd7070c9bf5453', 'air_93ebe490d4abb8e9',\n",
              "       'air_9438d67241c81314', 'air_947eb2cae4f3e8f2',\n",
              "       'air_9483d65e9cc9a6b7', 'air_950381108f839348',\n",
              "       'air_95d28905941fd4cb', 'air_95e917913cd988f3',\n",
              "       'air_96005f79124e12bf', 'air_965b2e0cf4119003',\n",
              "       'air_96743eee94114261', 'air_96773a6236d279b1',\n",
              "       'air_968d72c12eed09f0', 'air_96929a799b12a43e',\n",
              "       'air_96ec3cfe78cb0652', 'air_97159fc4e90053fe',\n",
              "       'air_97958e7fce98b6a3', 'air_97b2a9f975fc702c',\n",
              "       'air_97cf68dc1a9beac0', 'air_97e0f2feec4d577a',\n",
              "       'air_9828505fefc77d75', 'air_98b54e32ccddd896',\n",
              "       'air_990a642a3deb2903', 'air_99157b6163835eec',\n",
              "       'air_99a5183695b849f9', 'air_99b01136f451fc0e',\n",
              "       'air_99c3eae84130c1cb', 'air_9a30407764f4ff84',\n",
              "       'air_9a6f6e7f623003d2', 'air_9aa32b3db0fab3a5',\n",
              "       'air_9aa92007e3628dbc', 'air_9ae7081cb77dc51e',\n",
              "       'air_9b13c7feb0a0c431', 'air_9b6af3db40da4ae2',\n",
              "       'air_9bbc673495e23532', 'air_9bf0ccac497c4af3',\n",
              "       'air_9bf595ef095572fb', 'air_9c6787aa03a45586',\n",
              "       'air_9ca2767761efff4d', 'air_9cd5e310f488bced',\n",
              "       'air_9cf2f1ba86229773', 'air_9d3482b4680aee88',\n",
              "       'air_9d452a881f7f2bb7', 'air_9d474ec2448c700d',\n",
              "       'air_9d5a980b211e1795', 'air_9d93d95720f2e831',\n",
              "       'air_9dc9483f717d73ee', 'air_9dd7d38b0f1760c4',\n",
              "       'air_9e920b758503ef54', 'air_9efaa7ded03c5a71',\n",
              "       'air_9f277fb7a2c1d842', 'air_9fc607777ad76b26',\n",
              "       'air_a083834e7ffe187e', 'air_a11473cc1eb9a27f',\n",
              "       'air_a17f0778617c76e2', 'air_a1fe8c588c8d2f30',\n",
              "       'air_a218912784bf767d', 'air_a21ffca0bea1661a',\n",
              "       'air_a239a44805932bab', 'air_a24bf50c3e90d583',\n",
              "       'air_a2567267116a3b75', 'air_a257c9749d8d0ff6',\n",
              "       'air_a271c9ba19e81d17', 'air_a2b29aa7feb4e36f',\n",
              "       'air_a304330715435390', 'air_a33461f4392ec62c',\n",
              "       'air_a373500730e2a9e0', 'air_a38f25e3399d1b25',\n",
              "       'air_a41b032371a63427', 'air_a49f1cf0634f13e5',\n",
              "       'air_a510dcfe979f09eb', 'air_a546cbf478a8b6e4',\n",
              "       'air_a55d17bd3f3033cb', 'air_a563896da3777078',\n",
              "       'air_a678e5b144ca24ce', 'air_a7404a854919e990',\n",
              "       'air_a8533b7a992bb0ca', 'air_a85f0c0c889f6b7e',\n",
              "       'air_a85f8c0bfd61889f', 'air_a88ac559064dec08',\n",
              "       'air_a9133955abccf071', 'air_a9178f19da58fe99',\n",
              "       'air_a9a380530c1e121f', 'air_aa0049fe3cc6f4d6',\n",
              "       'air_ab3ae0e410b20069', 'air_ab9746a0f83084b7',\n",
              "       'air_abcdc8115988a010', 'air_abf06fcca748dca5',\n",
              "       'air_ac7a7427c9ae12a5', 'air_ad13e71e21235131',\n",
              "       'air_ad60f6b76c9df7ed', 'air_ad7777590c884721',\n",
              "       'air_add9a575623726c8', 'air_ade6e836ffd1da64',\n",
              "       'air_aed3a8b49abe4a48', 'air_af03c277a167b2bd',\n",
              "       'air_af24e3e817dea1e5', 'air_af63df35857b16e6',\n",
              "       'air_b0a6a4c5e95c74cf', 'air_b162fb07fbbdea33',\n",
              "       'air_b192fb5310436005', 'air_b1a72bf1ebf4b8ef',\n",
              "       'air_b1bb1fae86617d7a', 'air_b1d822f75c9fc615',\n",
              "       'air_b2395df0e874078d', 'air_b23d0f519291247d',\n",
              "       'air_b259b4e4a51a690d', 'air_b28bed4b2e7167b7',\n",
              "       'air_b2a639cc7e02edf1', 'air_b2d97bd2337c5ba7',\n",
              "       'air_b2dcec37b83e2494', 'air_b30fffd7ab1e75a5',\n",
              "       'air_b3180b74332ba886', 'air_b3a824511477a4ed',\n",
              "       'air_b439391e72899756', 'air_b45b8e456f53942a',\n",
              "       'air_b4f32bcc399da2b9', 'air_b5598d12d1b84890',\n",
              "       'air_b5bdd318005d9aa4', 'air_b60cc7d6aee68194',\n",
              "       'air_b711b43ae472cb6b', 'air_b7fa3d2fca744dd2',\n",
              "       'air_b80fed1a07c817d2', 'air_b88192b35ac03c24',\n",
              "       'air_b8925441167c3152', 'air_b8a5ee69e5fdcc5b',\n",
              "       'air_b8d9e1624baaadc2', 'air_b9e27558fb8bd5c4',\n",
              "       'air_ba495cccc8f0f237', 'air_ba937bf13d40fb24',\n",
              "       'air_bac5f4441db21db9', 'air_baf28ac9f13a307d',\n",
              "       'air_bb09595bab7d5cfb', 'air_bb26d6d079594414',\n",
              "       'air_bb4ff06cd661ee9b', 'air_bbe1c1a47e09f161',\n",
              "       'air_bc991c51d6613745', 'air_bc9a129e11a2efe0',\n",
              "       'air_bcce1ea4350b7b72', 'air_bd74a9222edfdfe1',\n",
              "       'air_bdd32aa407c16335', 'air_bebd55ed63ab2422',\n",
              "       'air_bed603c423b7d9d4', 'air_bedd35489e666605',\n",
              "       'air_bf13014b6e3e60ca', 'air_bf21b8350771879b',\n",
              "       'air_bf617aa68d5f1cfa', 'air_bf7591560077332d',\n",
              "       'air_bfafaed35e213fd7', 'air_bfda7731a6c6fc61',\n",
              "       'air_c027e2b560442808', 'air_c0385db498b391e5',\n",
              "       'air_c1d5d165c055b866', 'air_c1ff20617c54fee7',\n",
              "       'air_c225148c0fcc5c72', 'air_c2626f5f86d57342',\n",
              "       'air_c26f027b5bc1f081', 'air_c28983412a7eefcf',\n",
              "       'air_c2c8435bdb3516d4', 'air_c31472d14e29cee8',\n",
              "       'air_c3585b0fba3998d0', 'air_c3bc011cca3bec65',\n",
              "       'air_c3dcaf3aeb18e20e', 'air_c47aa7493b15f297',\n",
              "       'air_c4fa5c562d5409ca', 'air_c52c63c781fe48f6',\n",
              "       'air_c5459218282bedd5', 'air_c66dbd2c37832d00',\n",
              "       'air_c6a164dd4060e960', 'air_c6aa2efba0ffc8eb',\n",
              "       'air_c6ffd6a93e6b68d6', 'air_c73d319ffabf287a',\n",
              "       'air_c759b6abeb552160', 'air_c77ee2b7d36da265',\n",
              "       'air_c7d30ab0e07f31d5', 'air_c7f78b4f3cba33ff',\n",
              "       'air_c8265ecc116f2284', 'air_c88467d88b2c8ecd',\n",
              "       'air_c8a657c8c5c93d69', 'air_c8c0ef02ed72053f',\n",
              "       'air_c8fe396d6c46275d', 'air_c92745dfdd2ec68a',\n",
              "       'air_c9ed65554b6edffb', 'air_c9f6de13be8b8f25',\n",
              "       'air_ca1315af9e073bd1', 'air_ca6ae8d49a2f1eaf',\n",
              "       'air_ca957d3a1529fbd3', 'air_cadf9cfb510a1d78',\n",
              "       'air_caf996ac27206301', 'air_cb25551c4cd8d9f3',\n",
              "       'air_cb7467aed805e7fe', 'air_cb935ff8610ba3d3',\n",
              "       'air_cbe139af83feb388', 'air_cbe867adcf44e14f',\n",
              "       'air_cc1a0e985ce63711', 'air_cc35590cd1da8554',\n",
              "       'air_ccd19a5bc5573ae5', 'air_cd4b301d5d3918d8',\n",
              "       'air_cd5f54969be9ed08', 'air_ced6297e5bdf5130',\n",
              "       'air_cf2229e64408d9fe', 'air_cf5ab75a0afb8af9',\n",
              "       'air_cfcc94797d2b5d3d', 'air_cfdeb326418194ff',\n",
              "       'air_d00161e19f08290b', 'air_d00a15343325e5f7',\n",
              "       'air_d07e57b21109304a', 'air_d0a1e69685259c92',\n",
              "       'air_d0e8a085d8dc83aa', 'air_d138b593ebda55cc',\n",
              "       'air_d1418d6fd6d634f2', 'air_d186b2cb0b9ce022',\n",
              "       'air_d1f20424f76cc78e', 'air_d34c0861a2be94cb',\n",
              "       'air_d3e7b5952cd09ccb', 'air_d44d210d2994f01b',\n",
              "       'air_d473620754bf9fc2', 'air_d477b6339b8ce69f',\n",
              "       'air_d4981cdde163b172', 'air_d4b5a4b04c5f2d04',\n",
              "       'air_d4d218b451f82c3d', 'air_d500b48a8735fbd3',\n",
              "       'air_d54d6fcb116fbed3', 'air_d5e0a20370c325c7',\n",
              "       'air_d69b08a175bc0387', 'air_d6b3e67261f07646',\n",
              "       'air_d8abb9e490abf94f', 'air_d97dabf7aae60da5',\n",
              "       'air_d98380a4aeb0290b', 'air_daa7947e1c47f5ed',\n",
              "       'air_dabfbd0ec951925a', 'air_dad0b6a36138f309',\n",
              "       'air_db1233ad855b34d5', 'air_db4b38ebe7a7ceff',\n",
              "       'air_db80363d35f10926', 'air_dbf64f1ce38c7442',\n",
              "       'air_dc0e080ba0a5e5af', 'air_dc71c6cc06cd1aa2',\n",
              "       'air_de692863bb2dd758', 'air_de803f7e324936b8',\n",
              "       'air_de88770300008624', 'air_dea0655f96947922',\n",
              "       'air_df507aec929ce5f6', 'air_df554c4527a1cfe6',\n",
              "       'air_df5cf5cd03eb68d0', 'air_df843e6b22e8d540',\n",
              "       'air_df9355c47c5df9d3', 'air_dfad598ff642dab7',\n",
              "       'air_dfe068a1bf85f395', 'air_e00fe7853c0100d6',\n",
              "       'air_e0118664da63a2d0', 'air_e01d99390355408d',\n",
              "       'air_e053c561f32acc28', 'air_e08b9cf82057a170',\n",
              "       'air_e0aee25b56a069f2', 'air_e0e69668214ff972',\n",
              "       'air_e0f241bd406810c0', 'air_e1b76fcb5208fb6b',\n",
              "       'air_e2208a79e2678432', 'air_e270aff84ac7e4c8',\n",
              "       'air_e3020992d5fe5dfd', 'air_e34c631c766f2766',\n",
              "       'air_e42bdc3377d1eee7', 'air_e483f5b3c4f310e0',\n",
              "       'air_e524c6a9e06cc3a1', 'air_e55abd740f93ecc4',\n",
              "       'air_e57dd6884595f60d', 'air_e58f669b6f1a08ce',\n",
              "       'air_e5cf003abcc5febb', 'air_e64de0a6bf0739af',\n",
              "       'air_e657ca554b0c008c', 'air_e700e390226d9985',\n",
              "       'air_e76a668009c5dabc', 'air_e7d2ac6d53d1b744',\n",
              "       'air_e7fbee4e3cfe65c5', 'air_e88bbe2ede3467aa',\n",
              "       'air_e89735e80d614a7e', 'air_e8ed9335d0c38333',\n",
              "       'air_e9ebf7fc520ac76a', 'air_ea6d0c3acf00b22a',\n",
              "       'air_ea7c16131980c837', 'air_eb120e6d384a17a8',\n",
              "       'air_eb20a89bba7dd3d0', 'air_eb2d2653586315dd',\n",
              "       'air_eb5788dba285e725', 'air_ebd31e812960f517',\n",
              "       'air_ebe02c3090271fa9', 'air_ec0fad2def4dcff0',\n",
              "       'air_eca4a5a191e8d993', 'air_eca5e0064dc9314a',\n",
              "       'air_ecab54b57a71b10d', 'air_eceb97ad6a7d4c07',\n",
              "       'air_ecf7f141339f1d57', 'air_eda179770dfa9f91',\n",
              "       'air_edd5e3d696a5811b', 'air_ee3a01f0c71a769f',\n",
              "       'air_ee3ba9af184c6c82', 'air_eec5e572b9eb9c23',\n",
              "       'air_eeeadee005c006a2', 'air_ef47430bcd6f6a89',\n",
              "       'air_ef789667e2e6fe96', 'air_ef920fa6f4b085f6',\n",
              "       'air_efc80d3f96b3aff7', 'air_efd70b04de878f25',\n",
              "       'air_efef1e3daecce07e', 'air_f068442ebb6c246c',\n",
              "       'air_f0c7272956e62f12', 'air_f0fb0975bdc2cdf9',\n",
              "       'air_f1094dbf2aef85d9', 'air_f180301886c21375',\n",
              "       'air_f183a514cb8ff4fa', 'air_f1f9027d4fa8f653',\n",
              "       'air_f267dd70a6a6b5d3', 'air_f26f36ec4dc5adb0',\n",
              "       'air_f2985de32bb792e0', 'air_f2c5a1f24279c531',\n",
              "       'air_f3602e4fa2f12993', 'air_f3f9824b7d70c3cf',\n",
              "       'air_f4936b91c9addbf0', 'air_f593fa60ac3541e2',\n",
              "       'air_f690c42545146e0a', 'air_f6b2489ccf873c3b',\n",
              "       'air_f6bfd27e2e174d16', 'air_f6cdaf7b7fdc6d78',\n",
              "       'air_f8233ad00755c35c', 'air_f85e21e543cf44f2',\n",
              "       'air_f88898cd09f40496', 'air_f911308e19d64236',\n",
              "       'air_f9168b23fdfc1e52', 'air_f927b2da69a82341',\n",
              "       'air_f957c6d6467d4d90', 'air_f96765e800907c77',\n",
              "       'air_fa12b40b02fecfd8', 'air_fa4ffc9057812fa2',\n",
              "       'air_fab092c35776a9b1', 'air_fb44f566d4f64a4e',\n",
              "       'air_fbadf737162a5ce3', 'air_fc477473134e9ae5',\n",
              "       'air_fcd4492c83f1c6b9', 'air_fcfbdcf7b1f82c6e',\n",
              "       'air_fd154088b1de6fa7', 'air_fd6aac1043520e83',\n",
              "       'air_fdc02ec4a3d21ea4', 'air_fdcfef8bd859f650',\n",
              "       'air_fe22ef5a9cbef123', 'air_fe58c074ec1445ea',\n",
              "       'air_fea5dc9594450608', 'air_fee8dcf4d619598e',\n",
              "       'air_fef9ccb3ba0da2f7', 'air_ffcc2d5087e1b476',\n",
              "       'air_fff68b929994bfbd'], dtype=object)"
            ]
          },
          "metadata": {
            "tags": []
          },
          "execution_count": 14
        }
      ]
    },
    {
      "cell_type": "code",
      "metadata": {
        "id": "uaHjwfnei8ue"
      },
      "source": [
        "unique_stores = data['tes']['air_store_id'].unique()"
      ],
      "execution_count": null,
      "outputs": []
    },
    {
      "cell_type": "code",
      "metadata": {
        "colab": {
          "base_uri": "https://localhost:8080/"
        },
        "id": "NHcr7Ex6jh5a",
        "outputId": "13e2e57e-0901-4834-8361-1a471859db16"
      },
      "source": [
        "len(unique_stores)"
      ],
      "execution_count": null,
      "outputs": [
        {
          "output_type": "execute_result",
          "data": {
            "text/plain": [
              "821"
            ]
          },
          "metadata": {
            "tags": []
          },
          "execution_count": 16
        }
      ]
    },
    {
      "cell_type": "code",
      "metadata": {
        "id": "HhX16AjGjGUN"
      },
      "source": [
        "stores = pd.concat(\n",
        "    [\n",
        "        pd.DataFrame({\n",
        "            'air_store_id': unique_stores,\n",
        "            'dow': [i] * len(unique_stores)\n",
        "        }) for i in range(7)\n",
        "    ],\n",
        "    axis=0,\n",
        "    ignore_index=True).reset_index(drop=True)"
      ],
      "execution_count": null,
      "outputs": []
    },
    {
      "cell_type": "code",
      "metadata": {
        "colab": {
          "base_uri": "https://localhost:8080/",
          "height": 204
        },
        "id": "wVsqAo4OjRD-",
        "outputId": "14739947-bc51-4ee3-8be8-d08bf6154c2b"
      },
      "source": [
        "stores.head()"
      ],
      "execution_count": null,
      "outputs": [
        {
          "output_type": "execute_result",
          "data": {
            "text/html": [
              "<div>\n",
              "<style scoped>\n",
              "    .dataframe tbody tr th:only-of-type {\n",
              "        vertical-align: middle;\n",
              "    }\n",
              "\n",
              "    .dataframe tbody tr th {\n",
              "        vertical-align: top;\n",
              "    }\n",
              "\n",
              "    .dataframe thead th {\n",
              "        text-align: right;\n",
              "    }\n",
              "</style>\n",
              "<table border=\"1\" class=\"dataframe\">\n",
              "  <thead>\n",
              "    <tr style=\"text-align: right;\">\n",
              "      <th></th>\n",
              "      <th>air_store_id</th>\n",
              "      <th>dow</th>\n",
              "    </tr>\n",
              "  </thead>\n",
              "  <tbody>\n",
              "    <tr>\n",
              "      <th>0</th>\n",
              "      <td>air_00a91d42b08b08d9</td>\n",
              "      <td>0</td>\n",
              "    </tr>\n",
              "    <tr>\n",
              "      <th>1</th>\n",
              "      <td>air_0164b9927d20bcc3</td>\n",
              "      <td>0</td>\n",
              "    </tr>\n",
              "    <tr>\n",
              "      <th>2</th>\n",
              "      <td>air_0241aa3964b7f861</td>\n",
              "      <td>0</td>\n",
              "    </tr>\n",
              "    <tr>\n",
              "      <th>3</th>\n",
              "      <td>air_0328696196e46f18</td>\n",
              "      <td>0</td>\n",
              "    </tr>\n",
              "    <tr>\n",
              "      <th>4</th>\n",
              "      <td>air_034a3d5b40d5b1b1</td>\n",
              "      <td>0</td>\n",
              "    </tr>\n",
              "  </tbody>\n",
              "</table>\n",
              "</div>"
            ],
            "text/plain": [
              "           air_store_id  dow\n",
              "0  air_00a91d42b08b08d9    0\n",
              "1  air_0164b9927d20bcc3    0\n",
              "2  air_0241aa3964b7f861    0\n",
              "3  air_0328696196e46f18    0\n",
              "4  air_034a3d5b40d5b1b1    0"
            ]
          },
          "metadata": {
            "tags": []
          },
          "execution_count": 18
        }
      ]
    },
    {
      "cell_type": "code",
      "metadata": {
        "colab": {
          "base_uri": "https://localhost:8080/",
          "height": 296
        },
        "id": "lGYDiJnIjSnp",
        "outputId": "84aa6714-e1c7-4bc9-d8c3-369357611e1f"
      },
      "source": [
        "import seaborn as sns\n",
        "sns.countplot(x='dow', data=stores)"
      ],
      "execution_count": null,
      "outputs": [
        {
          "output_type": "execute_result",
          "data": {
            "text/plain": [
              "<matplotlib.axes._subplots.AxesSubplot at 0x7f5ff2702650>"
            ]
          },
          "metadata": {
            "tags": []
          },
          "execution_count": 19
        },
        {
          "output_type": "display_data",
          "data": {
            "image/png": "[encoded data removed]",
            "text/plain": [
              "<Figure size 432x288 with 1 Axes>"
            ]
          },
          "metadata": {
            "tags": [],
            "needs_background": "light"
          }
        }
      ]
    },
    {
      "cell_type": "code",
      "metadata": {
        "colab": {
          "base_uri": "https://localhost:8080/"
        },
        "id": "3Y0HYoxLjzld",
        "outputId": "4a82cda4-e251-4c4e-cb4a-d11f899c0e61"
      },
      "source": [
        "stores['dow'].value_counts"
      ],
      "execution_count": null,
      "outputs": [
        {
          "output_type": "execute_result",
          "data": {
            "text/plain": [
              "<bound method IndexOpsMixin.value_counts of 0       0\n",
              "1       0\n",
              "2       0\n",
              "3       0\n",
              "4       0\n",
              "       ..\n",
              "5742    6\n",
              "5743    6\n",
              "5744    6\n",
              "5745    6\n",
              "5746    6\n",
              "Name: dow, Length: 5747, dtype: int64>"
            ]
          },
          "metadata": {
            "tags": []
          },
          "execution_count": 20
        }
      ]
    },
    {
      "cell_type": "code",
      "metadata": {
        "id": "sjiis1a3j9m9"
      },
      "source": [
        "tmp = data['tra'].groupby(\n",
        "    ['air_store_id', 'dow'],\n",
        "    as_index=False)['visitors'].min().rename(columns={\n",
        "        'visitors': 'min_visitors'\n",
        "    })"
      ],
      "execution_count": null,
      "outputs": []
    },
    {
      "cell_type": "code",
      "metadata": {
        "id": "2x9KzMbykLbl"
      },
      "source": [
        "stores = pd.merge(stores, tmp, how='left', on=['air_store_id', 'dow'])"
      ],
      "execution_count": null,
      "outputs": []
    },
    {
      "cell_type": "code",
      "metadata": {
        "id": "WKyjTz2xkmmT"
      },
      "source": [
        "tmp = data['tra'].groupby(\n",
        "    ['air_store_id', 'dow'],\n",
        "    as_index=False)['visitors'].mean().rename(columns={\n",
        "        'visitors': 'mean_visitors'\n",
        "    })\n",
        "stores = pd.merge(stores, tmp, how='left', on=['air_store_id', 'dow'])\n",
        "\n",
        "tmp = data['tra'].groupby(\n",
        "    ['air_store_id', 'dow'],\n",
        "    as_index=False)['visitors'].median().rename(columns={\n",
        "        'visitors': 'median_visitors'\n",
        "    })\n",
        "stores = pd.merge(stores, tmp, how='left', on=['air_store_id', 'dow'])\n",
        "\n",
        "tmp = data['tra'].groupby(\n",
        "    ['air_store_id', 'dow'],\n",
        "    as_index=False)['visitors'].max().rename(columns={\n",
        "        'visitors': 'max_visitors'\n",
        "    })\n",
        "stores = pd.merge(stores, tmp, how='left', on=['air_store_id', 'dow'])"
      ],
      "execution_count": null,
      "outputs": []
    },
    {
      "cell_type": "code",
      "metadata": {
        "colab": {
          "base_uri": "https://localhost:8080/",
          "height": 224
        },
        "id": "xw-cbjpKlHVc",
        "outputId": "c19e9d38-0264-4e38-d575-6b2bc1a2a94b"
      },
      "source": [
        "tmp = data['tra'].groupby(\n",
        "    ['air_store_id', 'dow'],\n",
        "    as_index=False)['visitors'].count().rename(columns={\n",
        "        'visitors': 'count_observations'\n",
        "    })\n",
        "stores = pd.merge(stores, tmp, how='left', on=['air_store_id', 'dow'])\n",
        "stores.head()"
      ],
      "execution_count": null,
      "outputs": [
        {
          "output_type": "execute_result",
          "data": {
            "text/html": [
              "<div>\n",
              "<style scoped>\n",
              "    .dataframe tbody tr th:only-of-type {\n",
              "        vertical-align: middle;\n",
              "    }\n",
              "\n",
              "    .dataframe tbody tr th {\n",
              "        vertical-align: top;\n",
              "    }\n",
              "\n",
              "    .dataframe thead th {\n",
              "        text-align: right;\n",
              "    }\n",
              "</style>\n",
              "<table border=\"1\" class=\"dataframe\">\n",
              "  <thead>\n",
              "    <tr style=\"text-align: right;\">\n",
              "      <th></th>\n",
              "      <th>air_store_id</th>\n",
              "      <th>dow</th>\n",
              "      <th>min_visitors</th>\n",
              "      <th>mean_visitors</th>\n",
              "      <th>median_visitors</th>\n",
              "      <th>max_visitors</th>\n",
              "      <th>count_observations</th>\n",
              "    </tr>\n",
              "  </thead>\n",
              "  <tbody>\n",
              "    <tr>\n",
              "      <th>0</th>\n",
              "      <td>air_00a91d42b08b08d9</td>\n",
              "      <td>0</td>\n",
              "      <td>1.0</td>\n",
              "      <td>22.457143</td>\n",
              "      <td>19.0</td>\n",
              "      <td>47.0</td>\n",
              "      <td>35.0</td>\n",
              "    </tr>\n",
              "    <tr>\n",
              "      <th>1</th>\n",
              "      <td>air_0164b9927d20bcc3</td>\n",
              "      <td>0</td>\n",
              "      <td>2.0</td>\n",
              "      <td>7.500000</td>\n",
              "      <td>6.0</td>\n",
              "      <td>19.0</td>\n",
              "      <td>20.0</td>\n",
              "    </tr>\n",
              "    <tr>\n",
              "      <th>2</th>\n",
              "      <td>air_0241aa3964b7f861</td>\n",
              "      <td>0</td>\n",
              "      <td>2.0</td>\n",
              "      <td>8.920635</td>\n",
              "      <td>8.0</td>\n",
              "      <td>23.0</td>\n",
              "      <td>63.0</td>\n",
              "    </tr>\n",
              "    <tr>\n",
              "      <th>3</th>\n",
              "      <td>air_0328696196e46f18</td>\n",
              "      <td>0</td>\n",
              "      <td>2.0</td>\n",
              "      <td>6.416667</td>\n",
              "      <td>4.0</td>\n",
              "      <td>27.0</td>\n",
              "      <td>12.0</td>\n",
              "    </tr>\n",
              "    <tr>\n",
              "      <th>4</th>\n",
              "      <td>air_034a3d5b40d5b1b1</td>\n",
              "      <td>0</td>\n",
              "      <td>1.0</td>\n",
              "      <td>11.864865</td>\n",
              "      <td>10.0</td>\n",
              "      <td>66.0</td>\n",
              "      <td>37.0</td>\n",
              "    </tr>\n",
              "  </tbody>\n",
              "</table>\n",
              "</div>"
            ],
            "text/plain": [
              "           air_store_id  dow  ...  max_visitors  count_observations\n",
              "0  air_00a91d42b08b08d9    0  ...          47.0                35.0\n",
              "1  air_0164b9927d20bcc3    0  ...          19.0                20.0\n",
              "2  air_0241aa3964b7f861    0  ...          23.0                63.0\n",
              "3  air_0328696196e46f18    0  ...          27.0                12.0\n",
              "4  air_034a3d5b40d5b1b1    0  ...          66.0                37.0\n",
              "\n",
              "[5 rows x 7 columns]"
            ]
          },
          "metadata": {
            "tags": []
          },
          "execution_count": 24
        }
      ]
    },
    {
      "cell_type": "code",
      "metadata": {
        "id": "eEcF4XwDlOWH"
      },
      "source": [
        "stores = pd.merge(stores, data['as'], how='left', on=['air_store_id'])"
      ],
      "execution_count": null,
      "outputs": []
    },
    {
      "cell_type": "code",
      "metadata": {
        "id": "bpeGPwailfml"
      },
      "source": [
        "lbl = preprocessing.LabelEncoder() # 왜 label encoder를 해야하나? 수치형 데이터처럼 인식이 되는거라서\n",
        "# 수치 관계가 없는데 label encoder를 쓰면 문제가 될 수도 있음.\n",
        "# one hot encoding하면 열이 많아짐"
      ],
      "execution_count": null,
      "outputs": []
    },
    {
      "cell_type": "code",
      "metadata": {
        "id": "0rdAIzRFl4n0"
      },
      "source": [
        "stores['air_genre_name'] = lbl.fit_transform(stores['air_genre_name'])"
      ],
      "execution_count": null,
      "outputs": []
    },
    {
      "cell_type": "code",
      "metadata": {
        "id": "qSbpAOAYl-Vx"
      },
      "source": [
        "stores['air_area_name'] = lbl.fit_transform(stores['air_area_name'])"
      ],
      "execution_count": null,
      "outputs": []
    },
    {
      "cell_type": "code",
      "metadata": {
        "colab": {
          "base_uri": "https://localhost:8080/",
          "height": 224
        },
        "id": "SnNTy0LPmAy3",
        "outputId": "77f038f6-5d9e-42c4-e03a-50979eedc508"
      },
      "source": [
        "stores.head()"
      ],
      "execution_count": null,
      "outputs": [
        {
          "output_type": "execute_result",
          "data": {
            "text/html": [
              "<div>\n",
              "<style scoped>\n",
              "    .dataframe tbody tr th:only-of-type {\n",
              "        vertical-align: middle;\n",
              "    }\n",
              "\n",
              "    .dataframe tbody tr th {\n",
              "        vertical-align: top;\n",
              "    }\n",
              "\n",
              "    .dataframe thead th {\n",
              "        text-align: right;\n",
              "    }\n",
              "</style>\n",
              "<table border=\"1\" class=\"dataframe\">\n",
              "  <thead>\n",
              "    <tr style=\"text-align: right;\">\n",
              "      <th></th>\n",
              "      <th>air_store_id</th>\n",
              "      <th>dow</th>\n",
              "      <th>min_visitors</th>\n",
              "      <th>mean_visitors</th>\n",
              "      <th>median_visitors</th>\n",
              "      <th>max_visitors</th>\n",
              "      <th>count_observations</th>\n",
              "      <th>air_genre_name</th>\n",
              "      <th>air_area_name</th>\n",
              "      <th>latitude</th>\n",
              "      <th>longitude</th>\n",
              "    </tr>\n",
              "  </thead>\n",
              "  <tbody>\n",
              "    <tr>\n",
              "      <th>0</th>\n",
              "      <td>air_00a91d42b08b08d9</td>\n",
              "      <td>0</td>\n",
              "      <td>1.0</td>\n",
              "      <td>22.457143</td>\n",
              "      <td>19.0</td>\n",
              "      <td>47.0</td>\n",
              "      <td>35.0</td>\n",
              "      <td>6</td>\n",
              "      <td>44</td>\n",
              "      <td>35.694003</td>\n",
              "      <td>139.753595</td>\n",
              "    </tr>\n",
              "    <tr>\n",
              "      <th>1</th>\n",
              "      <td>air_0164b9927d20bcc3</td>\n",
              "      <td>0</td>\n",
              "      <td>2.0</td>\n",
              "      <td>7.500000</td>\n",
              "      <td>6.0</td>\n",
              "      <td>19.0</td>\n",
              "      <td>20.0</td>\n",
              "      <td>6</td>\n",
              "      <td>62</td>\n",
              "      <td>35.658068</td>\n",
              "      <td>139.751599</td>\n",
              "    </tr>\n",
              "    <tr>\n",
              "      <th>2</th>\n",
              "      <td>air_0241aa3964b7f861</td>\n",
              "      <td>0</td>\n",
              "      <td>2.0</td>\n",
              "      <td>8.920635</td>\n",
              "      <td>8.0</td>\n",
              "      <td>23.0</td>\n",
              "      <td>63.0</td>\n",
              "      <td>7</td>\n",
              "      <td>82</td>\n",
              "      <td>35.712607</td>\n",
              "      <td>139.779996</td>\n",
              "    </tr>\n",
              "    <tr>\n",
              "      <th>3</th>\n",
              "      <td>air_0328696196e46f18</td>\n",
              "      <td>0</td>\n",
              "      <td>2.0</td>\n",
              "      <td>6.416667</td>\n",
              "      <td>4.0</td>\n",
              "      <td>27.0</td>\n",
              "      <td>12.0</td>\n",
              "      <td>4</td>\n",
              "      <td>98</td>\n",
              "      <td>34.701279</td>\n",
              "      <td>135.528090</td>\n",
              "    </tr>\n",
              "    <tr>\n",
              "      <th>4</th>\n",
              "      <td>air_034a3d5b40d5b1b1</td>\n",
              "      <td>0</td>\n",
              "      <td>1.0</td>\n",
              "      <td>11.864865</td>\n",
              "      <td>10.0</td>\n",
              "      <td>66.0</td>\n",
              "      <td>37.0</td>\n",
              "      <td>2</td>\n",
              "      <td>102</td>\n",
              "      <td>34.692337</td>\n",
              "      <td>135.472229</td>\n",
              "    </tr>\n",
              "  </tbody>\n",
              "</table>\n",
              "</div>"
            ],
            "text/plain": [
              "           air_store_id  dow  ...   latitude   longitude\n",
              "0  air_00a91d42b08b08d9    0  ...  35.694003  139.753595\n",
              "1  air_0164b9927d20bcc3    0  ...  35.658068  139.751599\n",
              "2  air_0241aa3964b7f861    0  ...  35.712607  139.779996\n",
              "3  air_0328696196e46f18    0  ...  34.701279  135.528090\n",
              "4  air_034a3d5b40d5b1b1    0  ...  34.692337  135.472229\n",
              "\n",
              "[5 rows x 11 columns]"
            ]
          },
          "metadata": {
            "tags": []
          },
          "execution_count": 29
        }
      ]
    },
    {
      "cell_type": "code",
      "metadata": {
        "id": "Z1YcUNU7mChZ"
      },
      "source": [
        "data['hol']['visit_date'] =pd.to_datetime(data['hol']['visit_date'])"
      ],
      "execution_count": null,
      "outputs": []
    },
    {
      "cell_type": "code",
      "metadata": {
        "id": "Qk1e4-Gpmfks"
      },
      "source": [
        "data['hol']['day_of_week'] = lbl.fit_transform(data['hol']['day_of_week'])"
      ],
      "execution_count": null,
      "outputs": []
    },
    {
      "cell_type": "code",
      "metadata": {
        "colab": {
          "base_uri": "https://localhost:8080/",
          "height": 204
        },
        "id": "MvFv4pjBmv0j",
        "outputId": "0b5f6431-8534-4ffb-ad55-f4a8d099efdb"
      },
      "source": [
        "data['hol']['visit_date'] = data['hol']['visit_date'].dt.date\n",
        "data['hol'].head()"
      ],
      "execution_count": null,
      "outputs": [
        {
          "output_type": "execute_result",
          "data": {
            "text/html": [
              "<div>\n",
              "<style scoped>\n",
              "    .dataframe tbody tr th:only-of-type {\n",
              "        vertical-align: middle;\n",
              "    }\n",
              "\n",
              "    .dataframe tbody tr th {\n",
              "        vertical-align: top;\n",
              "    }\n",
              "\n",
              "    .dataframe thead th {\n",
              "        text-align: right;\n",
              "    }\n",
              "</style>\n",
              "<table border=\"1\" class=\"dataframe\">\n",
              "  <thead>\n",
              "    <tr style=\"text-align: right;\">\n",
              "      <th></th>\n",
              "      <th>visit_date</th>\n",
              "      <th>day_of_week</th>\n",
              "      <th>holiday_flg</th>\n",
              "    </tr>\n",
              "  </thead>\n",
              "  <tbody>\n",
              "    <tr>\n",
              "      <th>0</th>\n",
              "      <td>2016-01-01</td>\n",
              "      <td>0</td>\n",
              "      <td>1</td>\n",
              "    </tr>\n",
              "    <tr>\n",
              "      <th>1</th>\n",
              "      <td>2016-01-02</td>\n",
              "      <td>2</td>\n",
              "      <td>1</td>\n",
              "    </tr>\n",
              "    <tr>\n",
              "      <th>2</th>\n",
              "      <td>2016-01-03</td>\n",
              "      <td>3</td>\n",
              "      <td>1</td>\n",
              "    </tr>\n",
              "    <tr>\n",
              "      <th>3</th>\n",
              "      <td>2016-01-04</td>\n",
              "      <td>1</td>\n",
              "      <td>0</td>\n",
              "    </tr>\n",
              "    <tr>\n",
              "      <th>4</th>\n",
              "      <td>2016-01-05</td>\n",
              "      <td>5</td>\n",
              "      <td>0</td>\n",
              "    </tr>\n",
              "  </tbody>\n",
              "</table>\n",
              "</div>"
            ],
            "text/plain": [
              "   visit_date  day_of_week  holiday_flg\n",
              "0  2016-01-01            0            1\n",
              "1  2016-01-02            2            1\n",
              "2  2016-01-03            3            1\n",
              "3  2016-01-04            1            0\n",
              "4  2016-01-05            5            0"
            ]
          },
          "metadata": {
            "tags": []
          },
          "execution_count": 32
        }
      ]
    },
    {
      "cell_type": "code",
      "metadata": {
        "colab": {
          "base_uri": "https://localhost:8080/"
        },
        "id": "bAoOV6FJmy2r",
        "outputId": "973b7d7e-a120-4ec1-ea3d-aaae66dd0dd3"
      },
      "source": [
        "pd.merge(data['tra'], data['hol'], how='left', on=['visit_date']).columns"
      ],
      "execution_count": null,
      "outputs": [
        {
          "output_type": "execute_result",
          "data": {
            "text/plain": [
              "Index(['air_store_id', 'visit_date', 'visitors', 'dow', 'year', 'month',\n",
              "       'day_of_week', 'holiday_flg'],\n",
              "      dtype='object')"
            ]
          },
          "metadata": {
            "tags": []
          },
          "execution_count": 33
        }
      ]
    },
    {
      "cell_type": "code",
      "metadata": {
        "colab": {
          "base_uri": "https://localhost:8080/"
        },
        "id": "4CfiSLamm3tv",
        "outputId": "cdc33cda-1837-49e0-d7c0-9fea41ea6ee1"
      },
      "source": [
        "data['tra'].columns"
      ],
      "execution_count": null,
      "outputs": [
        {
          "output_type": "execute_result",
          "data": {
            "text/plain": [
              "Index(['air_store_id', 'visit_date', 'visitors', 'dow', 'year', 'month'], dtype='object')"
            ]
          },
          "metadata": {
            "tags": []
          },
          "execution_count": 34
        }
      ]
    },
    {
      "cell_type": "code",
      "metadata": {
        "id": "TM2wcE5vm9yg"
      },
      "source": [
        "train = pd.merge(data['tra'], data['hol'], how='left', on=['visit_date'])\n",
        "test = pd.merge(data['tes'], data['hol'], how='left', on=['visit_date'])"
      ],
      "execution_count": null,
      "outputs": []
    },
    {
      "cell_type": "code",
      "metadata": {
        "id": "OEUh5My7nMNN"
      },
      "source": [
        "train = pd.merge(data['tra'], stores, how='left', on=['air_store_id', 'dow'])\n",
        "test = pd.merge(data['tes'], stores, how='left', on=['air_store_id', 'dow'])"
      ],
      "execution_count": null,
      "outputs": []
    },
    {
      "cell_type": "code",
      "metadata": {
        "colab": {
          "base_uri": "https://localhost:8080/"
        },
        "id": "6TTpXkAunTie",
        "outputId": "75ffb61b-e53f-4f9b-e32a-2e27e8097967"
      },
      "source": [
        "train.columns"
      ],
      "execution_count": null,
      "outputs": [
        {
          "output_type": "execute_result",
          "data": {
            "text/plain": [
              "Index(['air_store_id', 'visit_date', 'visitors', 'dow', 'year', 'month',\n",
              "       'min_visitors', 'mean_visitors', 'median_visitors', 'max_visitors',\n",
              "       'count_observations', 'air_genre_name', 'air_area_name', 'latitude',\n",
              "       'longitude'],\n",
              "      dtype='object')"
            ]
          },
          "metadata": {
            "tags": []
          },
          "execution_count": 37
        }
      ]
    },
    {
      "cell_type": "code",
      "metadata": {
        "id": "nkdAvCeXnjtU"
      },
      "source": [
        "for df in ['ar', 'hr']:\n",
        "    train = pd.merge(\n",
        "        train, data[df], how='left', on=['air_store_id', 'visit_date'])\n",
        "    test = pd.merge(\n",
        "        test, data[df], how='left', on=['air_store_id', 'visit_date'])"
      ],
      "execution_count": null,
      "outputs": []
    },
    {
      "cell_type": "code",
      "metadata": {
        "id": "YAEtBSNQodSH"
      },
      "source": [
        "col = [\n",
        "    c for c in train\n",
        "    if c not in ['id', 'air_store_id', 'visit_date', 'visitors']\n",
        "]"
      ],
      "execution_count": null,
      "outputs": []
    },
    {
      "cell_type": "code",
      "metadata": {
        "colab": {
          "base_uri": "https://localhost:8080/"
        },
        "id": "r6HWjh3ypIFa",
        "outputId": "e50612d6-272b-41ad-98bd-5364261d829d"
      },
      "source": [
        "print(col)"
      ],
      "execution_count": null,
      "outputs": [
        {
          "output_type": "stream",
          "text": [
            "['dow', 'year', 'month', 'min_visitors', 'mean_visitors', 'median_visitors', 'max_visitors', 'count_observations', 'air_genre_name', 'air_area_name', 'latitude', 'longitude', 'reserve_datetime_diff_x', 'reserve_visitors_x', 'reserve_datetime_diff_y', 'reserve_visitors_y']\n"
          ],
          "name": "stdout"
        }
      ]
    },
    {
      "cell_type": "code",
      "metadata": {
        "colab": {
          "base_uri": "https://localhost:8080/"
        },
        "id": "cztf2d7HpVcz",
        "outputId": "f50cb246-6e3c-4652-ac35-faff81dc6529"
      },
      "source": [
        "train.isnull().sum()"
      ],
      "execution_count": null,
      "outputs": [
        {
          "output_type": "execute_result",
          "data": {
            "text/plain": [
              "air_store_id               0\n",
              "visit_date                 0\n",
              "visitors                   0\n",
              "dow                        0\n",
              "year                       0\n",
              "month                      0\n",
              "min_visitors               0\n",
              "mean_visitors              0\n",
              "median_visitors            0\n",
              "max_visitors               0\n",
              "count_observations         0\n",
              "air_genre_name             0\n",
              "air_area_name              0\n",
              "latitude                   0\n",
              "longitude                  0\n",
              "reserve_datetime_diff_x    0\n",
              "reserve_visitors_x         0\n",
              "reserve_datetime_diff_y    0\n",
              "reserve_visitors_y         0\n",
              "dtype: int64"
            ]
          },
          "metadata": {
            "tags": []
          },
          "execution_count": 44
        }
      ]
    },
    {
      "cell_type": "code",
      "metadata": {
        "id": "hI_M-lSMpJPC"
      },
      "source": [
        "# 결측값 ??\n",
        "train = train.fillna(-1)\n",
        "test = test.fillna(-1)"
      ],
      "execution_count": null,
      "outputs": []
    },
    {
      "cell_type": "code",
      "metadata": {
        "colab": {
          "base_uri": "https://localhost:8080/"
        },
        "id": "3_UB9zbFpdg6",
        "outputId": "7b159c41-66b9-49f1-bc04-09d1612d7047"
      },
      "source": [
        "print('Binding to float32')\n"
      ],
      "execution_count": null,
      "outputs": [
        {
          "output_type": "stream",
          "text": [
            "Binding to float32\n"
          ],
          "name": "stdout"
        }
      ]
    },
    {
      "cell_type": "code",
      "metadata": {
        "id": "bhKqZ0LRpn49"
      },
      "source": [
        "for c, dtype in zip(train.columns, train.dtypes):\n",
        "    if dtype == np.float64:\n",
        "        train[c] = train[c].astype(np.float32)\n",
        "\n",
        "for c, dtype in zip(test.columns, test.dtypes):\n",
        "    if dtype == np.float64:\n",
        "        test[c] = test[c].astype(np.float32)"
      ],
      "execution_count": null,
      "outputs": []
    },
    {
      "cell_type": "code",
      "metadata": {
        "colab": {
          "base_uri": "https://localhost:8080/",
          "height": 513
        },
        "id": "Cv23XXGzpv04",
        "outputId": "e60fd02d-55c0-46c6-dabd-394a214984ac"
      },
      "source": [
        "print(train.shape, test.shape)\n",
        "display(train.head())\n",
        "display(test.head())"
      ],
      "execution_count": null,
      "outputs": [
        {
          "output_type": "stream",
          "text": [
            "(252108, 19) (32019, 20)\n"
          ],
          "name": "stdout"
        },
        {
          "output_type": "display_data",
          "data": {
            "text/html": [
              "<div>\n",
              "<style scoped>\n",
              "    .dataframe tbody tr th:only-of-type {\n",
              "        vertical-align: middle;\n",
              "    }\n",
              "\n",
              "    .dataframe tbody tr th {\n",
              "        vertical-align: top;\n",
              "    }\n",
              "\n",
              "    .dataframe thead th {\n",
              "        text-align: right;\n",
              "    }\n",
              "</style>\n",
              "<table border=\"1\" class=\"dataframe\">\n",
              "  <thead>\n",
              "    <tr style=\"text-align: right;\">\n",
              "      <th></th>\n",
              "      <th>air_store_id</th>\n",
              "      <th>visit_date</th>\n",
              "      <th>visitors</th>\n",
              "      <th>dow</th>\n",
              "      <th>year</th>\n",
              "      <th>month</th>\n",
              "      <th>min_visitors</th>\n",
              "      <th>mean_visitors</th>\n",
              "      <th>median_visitors</th>\n",
              "      <th>max_visitors</th>\n",
              "      <th>count_observations</th>\n",
              "      <th>air_genre_name</th>\n",
              "      <th>air_area_name</th>\n",
              "      <th>latitude</th>\n",
              "      <th>longitude</th>\n",
              "      <th>reserve_datetime_diff_x</th>\n",
              "      <th>reserve_visitors_x</th>\n",
              "      <th>reserve_datetime_diff_y</th>\n",
              "      <th>reserve_visitors_y</th>\n",
              "    </tr>\n",
              "  </thead>\n",
              "  <tbody>\n",
              "    <tr>\n",
              "      <th>0</th>\n",
              "      <td>air_ba937bf13d40fb24</td>\n",
              "      <td>2016-01-13</td>\n",
              "      <td>25</td>\n",
              "      <td>2</td>\n",
              "      <td>2016</td>\n",
              "      <td>1</td>\n",
              "      <td>7.0</td>\n",
              "      <td>23.843750</td>\n",
              "      <td>25.0</td>\n",
              "      <td>57.0</td>\n",
              "      <td>64.0</td>\n",
              "      <td>4.0</td>\n",
              "      <td>62.0</td>\n",
              "      <td>35.65807</td>\n",
              "      <td>139.751602</td>\n",
              "      <td>-1.0</td>\n",
              "      <td>-1.0</td>\n",
              "      <td>-1.0</td>\n",
              "      <td>-1.0</td>\n",
              "    </tr>\n",
              "    <tr>\n",
              "      <th>1</th>\n",
              "      <td>air_ba937bf13d40fb24</td>\n",
              "      <td>2016-01-14</td>\n",
              "      <td>32</td>\n",
              "      <td>3</td>\n",
              "      <td>2016</td>\n",
              "      <td>1</td>\n",
              "      <td>2.0</td>\n",
              "      <td>20.292307</td>\n",
              "      <td>21.0</td>\n",
              "      <td>54.0</td>\n",
              "      <td>65.0</td>\n",
              "      <td>4.0</td>\n",
              "      <td>62.0</td>\n",
              "      <td>35.65807</td>\n",
              "      <td>139.751602</td>\n",
              "      <td>-1.0</td>\n",
              "      <td>-1.0</td>\n",
              "      <td>-1.0</td>\n",
              "      <td>-1.0</td>\n",
              "    </tr>\n",
              "    <tr>\n",
              "      <th>2</th>\n",
              "      <td>air_ba937bf13d40fb24</td>\n",
              "      <td>2016-01-15</td>\n",
              "      <td>29</td>\n",
              "      <td>4</td>\n",
              "      <td>2016</td>\n",
              "      <td>1</td>\n",
              "      <td>4.0</td>\n",
              "      <td>34.738461</td>\n",
              "      <td>35.0</td>\n",
              "      <td>61.0</td>\n",
              "      <td>65.0</td>\n",
              "      <td>4.0</td>\n",
              "      <td>62.0</td>\n",
              "      <td>35.65807</td>\n",
              "      <td>139.751602</td>\n",
              "      <td>-1.0</td>\n",
              "      <td>-1.0</td>\n",
              "      <td>-1.0</td>\n",
              "      <td>-1.0</td>\n",
              "    </tr>\n",
              "    <tr>\n",
              "      <th>3</th>\n",
              "      <td>air_ba937bf13d40fb24</td>\n",
              "      <td>2016-01-16</td>\n",
              "      <td>22</td>\n",
              "      <td>5</td>\n",
              "      <td>2016</td>\n",
              "      <td>1</td>\n",
              "      <td>6.0</td>\n",
              "      <td>27.651516</td>\n",
              "      <td>27.0</td>\n",
              "      <td>53.0</td>\n",
              "      <td>66.0</td>\n",
              "      <td>4.0</td>\n",
              "      <td>62.0</td>\n",
              "      <td>35.65807</td>\n",
              "      <td>139.751602</td>\n",
              "      <td>-1.0</td>\n",
              "      <td>-1.0</td>\n",
              "      <td>-1.0</td>\n",
              "      <td>-1.0</td>\n",
              "    </tr>\n",
              "    <tr>\n",
              "      <th>4</th>\n",
              "      <td>air_ba937bf13d40fb24</td>\n",
              "      <td>2016-01-18</td>\n",
              "      <td>6</td>\n",
              "      <td>0</td>\n",
              "      <td>2016</td>\n",
              "      <td>1</td>\n",
              "      <td>2.0</td>\n",
              "      <td>13.754386</td>\n",
              "      <td>12.0</td>\n",
              "      <td>34.0</td>\n",
              "      <td>57.0</td>\n",
              "      <td>4.0</td>\n",
              "      <td>62.0</td>\n",
              "      <td>35.65807</td>\n",
              "      <td>139.751602</td>\n",
              "      <td>-1.0</td>\n",
              "      <td>-1.0</td>\n",
              "      <td>-1.0</td>\n",
              "      <td>-1.0</td>\n",
              "    </tr>\n",
              "  </tbody>\n",
              "</table>\n",
              "</div>"
            ],
            "text/plain": [
              "           air_store_id  ... reserve_visitors_y\n",
              "0  air_ba937bf13d40fb24  ...               -1.0\n",
              "1  air_ba937bf13d40fb24  ...               -1.0\n",
              "2  air_ba937bf13d40fb24  ...               -1.0\n",
              "3  air_ba937bf13d40fb24  ...               -1.0\n",
              "4  air_ba937bf13d40fb24  ...               -1.0\n",
              "\n",
              "[5 rows x 19 columns]"
            ]
          },
          "metadata": {
            "tags": []
          }
        },
        {
          "output_type": "display_data",
          "data": {
            "text/html": [
              "<div>\n",
              "<style scoped>\n",
              "    .dataframe tbody tr th:only-of-type {\n",
              "        vertical-align: middle;\n",
              "    }\n",
              "\n",
              "    .dataframe tbody tr th {\n",
              "        vertical-align: top;\n",
              "    }\n",
              "\n",
              "    .dataframe thead th {\n",
              "        text-align: right;\n",
              "    }\n",
              "</style>\n",
              "<table border=\"1\" class=\"dataframe\">\n",
              "  <thead>\n",
              "    <tr style=\"text-align: right;\">\n",
              "      <th></th>\n",
              "      <th>id</th>\n",
              "      <th>visitors</th>\n",
              "      <th>visit_date</th>\n",
              "      <th>air_store_id</th>\n",
              "      <th>dow</th>\n",
              "      <th>year</th>\n",
              "      <th>month</th>\n",
              "      <th>min_visitors</th>\n",
              "      <th>mean_visitors</th>\n",
              "      <th>median_visitors</th>\n",
              "      <th>max_visitors</th>\n",
              "      <th>count_observations</th>\n",
              "      <th>air_genre_name</th>\n",
              "      <th>air_area_name</th>\n",
              "      <th>latitude</th>\n",
              "      <th>longitude</th>\n",
              "      <th>reserve_datetime_diff_x</th>\n",
              "      <th>reserve_visitors_x</th>\n",
              "      <th>reserve_datetime_diff_y</th>\n",
              "      <th>reserve_visitors_y</th>\n",
              "    </tr>\n",
              "  </thead>\n",
              "  <tbody>\n",
              "    <tr>\n",
              "      <th>0</th>\n",
              "      <td>air_00a91d42b08b08d9_2017-04-23</td>\n",
              "      <td>0</td>\n",
              "      <td>2017-04-23</td>\n",
              "      <td>air_00a91d42b08b08d9</td>\n",
              "      <td>6</td>\n",
              "      <td>2017</td>\n",
              "      <td>4</td>\n",
              "      <td>2.0</td>\n",
              "      <td>2.000000</td>\n",
              "      <td>2.0</td>\n",
              "      <td>2.0</td>\n",
              "      <td>1.0</td>\n",
              "      <td>6</td>\n",
              "      <td>44</td>\n",
              "      <td>35.694004</td>\n",
              "      <td>139.753601</td>\n",
              "      <td>-1.0</td>\n",
              "      <td>-1.0</td>\n",
              "      <td>-1.0</td>\n",
              "      <td>-1.0</td>\n",
              "    </tr>\n",
              "    <tr>\n",
              "      <th>1</th>\n",
              "      <td>air_00a91d42b08b08d9_2017-04-24</td>\n",
              "      <td>0</td>\n",
              "      <td>2017-04-24</td>\n",
              "      <td>air_00a91d42b08b08d9</td>\n",
              "      <td>0</td>\n",
              "      <td>2017</td>\n",
              "      <td>4</td>\n",
              "      <td>1.0</td>\n",
              "      <td>22.457144</td>\n",
              "      <td>19.0</td>\n",
              "      <td>47.0</td>\n",
              "      <td>35.0</td>\n",
              "      <td>6</td>\n",
              "      <td>44</td>\n",
              "      <td>35.694004</td>\n",
              "      <td>139.753601</td>\n",
              "      <td>-1.0</td>\n",
              "      <td>-1.0</td>\n",
              "      <td>-1.0</td>\n",
              "      <td>-1.0</td>\n",
              "    </tr>\n",
              "    <tr>\n",
              "      <th>2</th>\n",
              "      <td>air_00a91d42b08b08d9_2017-04-25</td>\n",
              "      <td>0</td>\n",
              "      <td>2017-04-25</td>\n",
              "      <td>air_00a91d42b08b08d9</td>\n",
              "      <td>1</td>\n",
              "      <td>2017</td>\n",
              "      <td>4</td>\n",
              "      <td>1.0</td>\n",
              "      <td>24.350000</td>\n",
              "      <td>24.5</td>\n",
              "      <td>43.0</td>\n",
              "      <td>40.0</td>\n",
              "      <td>6</td>\n",
              "      <td>44</td>\n",
              "      <td>35.694004</td>\n",
              "      <td>139.753601</td>\n",
              "      <td>-1.0</td>\n",
              "      <td>-1.0</td>\n",
              "      <td>-1.0</td>\n",
              "      <td>-1.0</td>\n",
              "    </tr>\n",
              "    <tr>\n",
              "      <th>3</th>\n",
              "      <td>air_00a91d42b08b08d9_2017-04-26</td>\n",
              "      <td>0</td>\n",
              "      <td>2017-04-26</td>\n",
              "      <td>air_00a91d42b08b08d9</td>\n",
              "      <td>2</td>\n",
              "      <td>2017</td>\n",
              "      <td>4</td>\n",
              "      <td>15.0</td>\n",
              "      <td>28.125000</td>\n",
              "      <td>28.0</td>\n",
              "      <td>52.0</td>\n",
              "      <td>40.0</td>\n",
              "      <td>6</td>\n",
              "      <td>44</td>\n",
              "      <td>35.694004</td>\n",
              "      <td>139.753601</td>\n",
              "      <td>-1.0</td>\n",
              "      <td>-1.0</td>\n",
              "      <td>-1.0</td>\n",
              "      <td>-1.0</td>\n",
              "    </tr>\n",
              "    <tr>\n",
              "      <th>4</th>\n",
              "      <td>air_00a91d42b08b08d9_2017-04-27</td>\n",
              "      <td>0</td>\n",
              "      <td>2017-04-27</td>\n",
              "      <td>air_00a91d42b08b08d9</td>\n",
              "      <td>3</td>\n",
              "      <td>2017</td>\n",
              "      <td>4</td>\n",
              "      <td>15.0</td>\n",
              "      <td>29.868422</td>\n",
              "      <td>30.0</td>\n",
              "      <td>47.0</td>\n",
              "      <td>38.0</td>\n",
              "      <td>6</td>\n",
              "      <td>44</td>\n",
              "      <td>35.694004</td>\n",
              "      <td>139.753601</td>\n",
              "      <td>-1.0</td>\n",
              "      <td>-1.0</td>\n",
              "      <td>-1.0</td>\n",
              "      <td>-1.0</td>\n",
              "    </tr>\n",
              "  </tbody>\n",
              "</table>\n",
              "</div>"
            ],
            "text/plain": [
              "                                id  ...  reserve_visitors_y\n",
              "0  air_00a91d42b08b08d9_2017-04-23  ...                -1.0\n",
              "1  air_00a91d42b08b08d9_2017-04-24  ...                -1.0\n",
              "2  air_00a91d42b08b08d9_2017-04-25  ...                -1.0\n",
              "3  air_00a91d42b08b08d9_2017-04-26  ...                -1.0\n",
              "4  air_00a91d42b08b08d9_2017-04-27  ...                -1.0\n",
              "\n",
              "[5 rows x 20 columns]"
            ]
          },
          "metadata": {
            "tags": []
          }
        }
      ]
    },
    {
      "cell_type": "code",
      "metadata": {
        "colab": {
          "base_uri": "https://localhost:8080/"
        },
        "id": "iBTBYyZ9pyl0",
        "outputId": "94b49be5-6141-4a62-a8f8-749cefa07987"
      },
      "source": [
        "train_ids = list(train['air_store_id'])\n",
        "test_ids = list(test['air_store_id'])\n",
        "common_ids = sorted(list(set(train_ids).intersection(test_ids)))\n",
        "print(len(train_ids), len(test_ids), len(common_ids))"
      ],
      "execution_count": null,
      "outputs": [
        {
          "output_type": "stream",
          "text": [
            "252108 32019 821\n"
          ],
          "name": "stdout"
        }
      ]
    },
    {
      "cell_type": "code",
      "metadata": {
        "colab": {
          "base_uri": "https://localhost:8080/",
          "height": 368
        },
        "id": "2-_L5LFWqdBc",
        "outputId": "2e55a6a8-3a43-42f2-b803-cfebf616b4ba"
      },
      "source": [
        "store_id = common_ids[0]\n",
        "plt.figure(figsize=(15,7))\n",
        "plt.plot(train.loc[train['air_store_id'] == store_id, 'visit_date'], train.loc[train['air_store_id'] == store_id, 'visitors'])\n",
        "plt.title(\"Visitors for = {}\".format(store_id))\n",
        "plt.xlabel(\"date\")\n",
        "plt.ylabel(\"visitors\")\n",
        "plt.show()"
      ],
      "execution_count": null,
      "outputs": [
        {
          "output_type": "display_data",
          "data": {
            "image/png": "[encoded data removed]",
            "text/plain": [
              "<Figure size 1080x504 with 1 Axes>"
            ]
          },
          "metadata": {
            "tags": [],
            "needs_background": "light"
          }
        }
      ]
    },
    {
      "cell_type": "code",
      "metadata": {
        "colab": {
          "base_uri": "https://localhost:8080/"
        },
        "id": "EBxtN80oqn1H",
        "outputId": "16df22a3-92fb-42c7-e701-fcef7164072f"
      },
      "source": [
        "train_x = train.drop(['air_store_id', 'visit_date', 'visitors'], axis=1)\n",
        "train_y = np.log1p(train['visitors'].values)\n",
        "test_x = test.drop(['id', 'air_store_id', 'visit_date', 'visitors'], axis=1)\n",
        "print(train_x.shape, train_y.shape, test_x.shape)"
      ],
      "execution_count": null,
      "outputs": [
        {
          "output_type": "stream",
          "text": [
            "(252108, 16) (252108,) (32019, 16)\n"
          ],
          "name": "stdout"
        }
      ]
    },
    {
      "cell_type": "code",
      "metadata": {
        "colab": {
          "base_uri": "https://localhost:8080/"
        },
        "id": "xjyDBQhwqxgg",
        "outputId": "658dd080-e979-4bbe-ccc1-0b742fe6d5e6"
      },
      "source": [
        "%%time\n",
        "# fitting the model\n",
        "gbm0 = lgb.LGBMRegressor(\n",
        "    objective='regression',\n",
        "    num_leaves=60,\n",
        "    learning_rate=0.01,\n",
        "    n_estimators=10000)\n",
        "\n",
        "gbm0.fit(train_x, train_y, eval_metric='rmse', verbose=100)"
      ],
      "execution_count": null,
      "outputs": [
        {
          "output_type": "stream",
          "text": [
            "CPU times: user 5min 15s, sys: 2.84 s, total: 5min 18s\n",
            "Wall time: 2min 42s\n"
          ],
          "name": "stdout"
        }
      ]
    },
    {
      "cell_type": "code",
      "metadata": {
        "colab": {
          "base_uri": "https://localhost:8080/",
          "height": 309
        },
        "id": "dlIypUp4q779",
        "outputId": "77b9d022-739d-455a-f3b1-bbb7caeea936"
      },
      "source": [
        "predict_y = gbm0.predict(test_x)\n",
        "test['visitors'] = np.expm1(predict_y)\n",
        "test.head()"
      ],
      "execution_count": null,
      "outputs": [
        {
          "output_type": "execute_result",
          "data": {
            "text/html": [
              "<div>\n",
              "<style scoped>\n",
              "    .dataframe tbody tr th:only-of-type {\n",
              "        vertical-align: middle;\n",
              "    }\n",
              "\n",
              "    .dataframe tbody tr th {\n",
              "        vertical-align: top;\n",
              "    }\n",
              "\n",
              "    .dataframe thead th {\n",
              "        text-align: right;\n",
              "    }\n",
              "</style>\n",
              "<table border=\"1\" class=\"dataframe\">\n",
              "  <thead>\n",
              "    <tr style=\"text-align: right;\">\n",
              "      <th></th>\n",
              "      <th>id</th>\n",
              "      <th>visitors</th>\n",
              "      <th>visit_date</th>\n",
              "      <th>air_store_id</th>\n",
              "      <th>dow</th>\n",
              "      <th>year</th>\n",
              "      <th>month</th>\n",
              "      <th>min_visitors</th>\n",
              "      <th>mean_visitors</th>\n",
              "      <th>median_visitors</th>\n",
              "      <th>max_visitors</th>\n",
              "      <th>count_observations</th>\n",
              "      <th>air_genre_name</th>\n",
              "      <th>air_area_name</th>\n",
              "      <th>latitude</th>\n",
              "      <th>longitude</th>\n",
              "      <th>reserve_datetime_diff_x</th>\n",
              "      <th>reserve_visitors_x</th>\n",
              "      <th>reserve_datetime_diff_y</th>\n",
              "      <th>reserve_visitors_y</th>\n",
              "    </tr>\n",
              "  </thead>\n",
              "  <tbody>\n",
              "    <tr>\n",
              "      <th>0</th>\n",
              "      <td>air_00a91d42b08b08d9_2017-04-23</td>\n",
              "      <td>1.949772</td>\n",
              "      <td>2017-04-23</td>\n",
              "      <td>air_00a91d42b08b08d9</td>\n",
              "      <td>6</td>\n",
              "      <td>2017</td>\n",
              "      <td>4</td>\n",
              "      <td>2.0</td>\n",
              "      <td>2.000000</td>\n",
              "      <td>2.0</td>\n",
              "      <td>2.0</td>\n",
              "      <td>1.0</td>\n",
              "      <td>6</td>\n",
              "      <td>44</td>\n",
              "      <td>35.694004</td>\n",
              "      <td>139.753601</td>\n",
              "      <td>-1.0</td>\n",
              "      <td>-1.0</td>\n",
              "      <td>-1.0</td>\n",
              "      <td>-1.0</td>\n",
              "    </tr>\n",
              "    <tr>\n",
              "      <th>1</th>\n",
              "      <td>air_00a91d42b08b08d9_2017-04-24</td>\n",
              "      <td>18.949070</td>\n",
              "      <td>2017-04-24</td>\n",
              "      <td>air_00a91d42b08b08d9</td>\n",
              "      <td>0</td>\n",
              "      <td>2017</td>\n",
              "      <td>4</td>\n",
              "      <td>1.0</td>\n",
              "      <td>22.457144</td>\n",
              "      <td>19.0</td>\n",
              "      <td>47.0</td>\n",
              "      <td>35.0</td>\n",
              "      <td>6</td>\n",
              "      <td>44</td>\n",
              "      <td>35.694004</td>\n",
              "      <td>139.753601</td>\n",
              "      <td>-1.0</td>\n",
              "      <td>-1.0</td>\n",
              "      <td>-1.0</td>\n",
              "      <td>-1.0</td>\n",
              "    </tr>\n",
              "    <tr>\n",
              "      <th>2</th>\n",
              "      <td>air_00a91d42b08b08d9_2017-04-25</td>\n",
              "      <td>23.865264</td>\n",
              "      <td>2017-04-25</td>\n",
              "      <td>air_00a91d42b08b08d9</td>\n",
              "      <td>1</td>\n",
              "      <td>2017</td>\n",
              "      <td>4</td>\n",
              "      <td>1.0</td>\n",
              "      <td>24.350000</td>\n",
              "      <td>24.5</td>\n",
              "      <td>43.0</td>\n",
              "      <td>40.0</td>\n",
              "      <td>6</td>\n",
              "      <td>44</td>\n",
              "      <td>35.694004</td>\n",
              "      <td>139.753601</td>\n",
              "      <td>-1.0</td>\n",
              "      <td>-1.0</td>\n",
              "      <td>-1.0</td>\n",
              "      <td>-1.0</td>\n",
              "    </tr>\n",
              "    <tr>\n",
              "      <th>3</th>\n",
              "      <td>air_00a91d42b08b08d9_2017-04-26</td>\n",
              "      <td>27.781386</td>\n",
              "      <td>2017-04-26</td>\n",
              "      <td>air_00a91d42b08b08d9</td>\n",
              "      <td>2</td>\n",
              "      <td>2017</td>\n",
              "      <td>4</td>\n",
              "      <td>15.0</td>\n",
              "      <td>28.125000</td>\n",
              "      <td>28.0</td>\n",
              "      <td>52.0</td>\n",
              "      <td>40.0</td>\n",
              "      <td>6</td>\n",
              "      <td>44</td>\n",
              "      <td>35.694004</td>\n",
              "      <td>139.753601</td>\n",
              "      <td>-1.0</td>\n",
              "      <td>-1.0</td>\n",
              "      <td>-1.0</td>\n",
              "      <td>-1.0</td>\n",
              "    </tr>\n",
              "    <tr>\n",
              "      <th>4</th>\n",
              "      <td>air_00a91d42b08b08d9_2017-04-27</td>\n",
              "      <td>29.641800</td>\n",
              "      <td>2017-04-27</td>\n",
              "      <td>air_00a91d42b08b08d9</td>\n",
              "      <td>3</td>\n",
              "      <td>2017</td>\n",
              "      <td>4</td>\n",
              "      <td>15.0</td>\n",
              "      <td>29.868422</td>\n",
              "      <td>30.0</td>\n",
              "      <td>47.0</td>\n",
              "      <td>38.0</td>\n",
              "      <td>6</td>\n",
              "      <td>44</td>\n",
              "      <td>35.694004</td>\n",
              "      <td>139.753601</td>\n",
              "      <td>-1.0</td>\n",
              "      <td>-1.0</td>\n",
              "      <td>-1.0</td>\n",
              "      <td>-1.0</td>\n",
              "    </tr>\n",
              "  </tbody>\n",
              "</table>\n",
              "</div>"
            ],
            "text/plain": [
              "                                id  ...  reserve_visitors_y\n",
              "0  air_00a91d42b08b08d9_2017-04-23  ...                -1.0\n",
              "1  air_00a91d42b08b08d9_2017-04-24  ...                -1.0\n",
              "2  air_00a91d42b08b08d9_2017-04-25  ...                -1.0\n",
              "3  air_00a91d42b08b08d9_2017-04-26  ...                -1.0\n",
              "4  air_00a91d42b08b08d9_2017-04-27  ...                -1.0\n",
              "\n",
              "[5 rows x 20 columns]"
            ]
          },
          "metadata": {
            "tags": []
          },
          "execution_count": 52
        }
      ]
    },
    {
      "cell_type": "code",
      "metadata": {
        "colab": {
          "base_uri": "https://localhost:8080/",
          "height": 1000
        },
        "id": "Ab5SoBL6r4Nt",
        "outputId": "1b39e28f-a1f8-41c1-b7e8-7b938bf3a6cf"
      },
      "source": [
        "store_id = common_ids[41]\n",
        "plt.figure(figsize=(15,7))\n",
        "plt.plot(train.loc[train['air_store_id'] == store_id, 'visit_date'], train.loc[train['air_store_id'] == store_id, 'visitors'], label='train')\n",
        "plt.plot(test.loc[test['air_store_id'] == store_id, 'visit_date'], test.loc[test['air_store_id'] == store_id, 'visitors'], label='forecast')\n",
        "plt.title(\"Visitors for = {}\".format(store_id))\n",
        "plt.xlabel(\"date\")\n",
        "plt.ylabel(\"visitors\")\n",
        "plt.legend()\n",
        "plt.show()\n",
        "\n",
        "print(\"For store = {}\".format(store_id))\n",
        "display(train.loc[train['air_store_id'] == store_id, ['visit_date', 'visitors']].tail(10))\n",
        "print(\"Forecast for future dates\")\n",
        "display(test.loc[test['air_store_id'] == store_id, ['visit_date', 'visitors']].head(10))"
      ],
      "execution_count": null,
      "outputs": [
        {
          "output_type": "display_data",
          "data": {
            "image/png": "[encoded data removed]",
            "text/plain": [
              "<Figure size 1080x504 with 1 Axes>"
            ]
          },
          "metadata": {
            "tags": [],
            "needs_background": "light"
          }
        },
        {
          "output_type": "stream",
          "text": [
            "For store = air_0f0cdeee6c9bf3d7\n"
          ],
          "name": "stdout"
        },
        {
          "output_type": "display_data",
          "data": {
            "text/html": [
              "<div>\n",
              "<style scoped>\n",
              "    .dataframe tbody tr th:only-of-type {\n",
              "        vertical-align: middle;\n",
              "    }\n",
              "\n",
              "    .dataframe tbody tr th {\n",
              "        vertical-align: top;\n",
              "    }\n",
              "\n",
              "    .dataframe thead th {\n",
              "        text-align: right;\n",
              "    }\n",
              "</style>\n",
              "<table border=\"1\" class=\"dataframe\">\n",
              "  <thead>\n",
              "    <tr style=\"text-align: right;\">\n",
              "      <th></th>\n",
              "      <th>visit_date</th>\n",
              "      <th>visitors</th>\n",
              "    </tr>\n",
              "  </thead>\n",
              "  <tbody>\n",
              "    <tr>\n",
              "      <th>36696</th>\n",
              "      <td>2017-04-12</td>\n",
              "      <td>27</td>\n",
              "    </tr>\n",
              "    <tr>\n",
              "      <th>36697</th>\n",
              "      <td>2017-04-13</td>\n",
              "      <td>19</td>\n",
              "    </tr>\n",
              "    <tr>\n",
              "      <th>36698</th>\n",
              "      <td>2017-04-14</td>\n",
              "      <td>20</td>\n",
              "    </tr>\n",
              "    <tr>\n",
              "      <th>36699</th>\n",
              "      <td>2017-04-15</td>\n",
              "      <td>43</td>\n",
              "    </tr>\n",
              "    <tr>\n",
              "      <th>36700</th>\n",
              "      <td>2017-04-16</td>\n",
              "      <td>10</td>\n",
              "    </tr>\n",
              "    <tr>\n",
              "      <th>36701</th>\n",
              "      <td>2017-04-17</td>\n",
              "      <td>5</td>\n",
              "    </tr>\n",
              "    <tr>\n",
              "      <th>36702</th>\n",
              "      <td>2017-04-19</td>\n",
              "      <td>18</td>\n",
              "    </tr>\n",
              "    <tr>\n",
              "      <th>36703</th>\n",
              "      <td>2017-04-20</td>\n",
              "      <td>18</td>\n",
              "    </tr>\n",
              "    <tr>\n",
              "      <th>36704</th>\n",
              "      <td>2017-04-21</td>\n",
              "      <td>26</td>\n",
              "    </tr>\n",
              "    <tr>\n",
              "      <th>36705</th>\n",
              "      <td>2017-04-22</td>\n",
              "      <td>59</td>\n",
              "    </tr>\n",
              "  </tbody>\n",
              "</table>\n",
              "</div>"
            ],
            "text/plain": [
              "       visit_date  visitors\n",
              "36696  2017-04-12        27\n",
              "36697  2017-04-13        19\n",
              "36698  2017-04-14        20\n",
              "36699  2017-04-15        43\n",
              "36700  2017-04-16        10\n",
              "36701  2017-04-17         5\n",
              "36702  2017-04-19        18\n",
              "36703  2017-04-20        18\n",
              "36704  2017-04-21        26\n",
              "36705  2017-04-22        59"
            ]
          },
          "metadata": {
            "tags": []
          }
        },
        {
          "output_type": "stream",
          "text": [
            "Forecast for future dates\n"
          ],
          "name": "stdout"
        },
        {
          "output_type": "display_data",
          "data": {
            "text/html": [
              "<div>\n",
              "<style scoped>\n",
              "    .dataframe tbody tr th:only-of-type {\n",
              "        vertical-align: middle;\n",
              "    }\n",
              "\n",
              "    .dataframe tbody tr th {\n",
              "        vertical-align: top;\n",
              "    }\n",
              "\n",
              "    .dataframe thead th {\n",
              "        text-align: right;\n",
              "    }\n",
              "</style>\n",
              "<table border=\"1\" class=\"dataframe\">\n",
              "  <thead>\n",
              "    <tr style=\"text-align: right;\">\n",
              "      <th></th>\n",
              "      <th>visit_date</th>\n",
              "      <th>visitors</th>\n",
              "    </tr>\n",
              "  </thead>\n",
              "  <tbody>\n",
              "    <tr>\n",
              "      <th>1599</th>\n",
              "      <td>2017-04-23</td>\n",
              "      <td>40.637753</td>\n",
              "    </tr>\n",
              "    <tr>\n",
              "      <th>1600</th>\n",
              "      <td>2017-04-24</td>\n",
              "      <td>30.631283</td>\n",
              "    </tr>\n",
              "    <tr>\n",
              "      <th>1601</th>\n",
              "      <td>2017-04-25</td>\n",
              "      <td>9.924194</td>\n",
              "    </tr>\n",
              "    <tr>\n",
              "      <th>1602</th>\n",
              "      <td>2017-04-26</td>\n",
              "      <td>28.176028</td>\n",
              "    </tr>\n",
              "    <tr>\n",
              "      <th>1603</th>\n",
              "      <td>2017-04-27</td>\n",
              "      <td>19.902324</td>\n",
              "    </tr>\n",
              "    <tr>\n",
              "      <th>1604</th>\n",
              "      <td>2017-04-28</td>\n",
              "      <td>34.082850</td>\n",
              "    </tr>\n",
              "    <tr>\n",
              "      <th>1605</th>\n",
              "      <td>2017-04-29</td>\n",
              "      <td>41.073400</td>\n",
              "    </tr>\n",
              "    <tr>\n",
              "      <th>1606</th>\n",
              "      <td>2017-04-30</td>\n",
              "      <td>26.795974</td>\n",
              "    </tr>\n",
              "    <tr>\n",
              "      <th>1607</th>\n",
              "      <td>2017-05-01</td>\n",
              "      <td>10.659379</td>\n",
              "    </tr>\n",
              "    <tr>\n",
              "      <th>1608</th>\n",
              "      <td>2017-05-02</td>\n",
              "      <td>10.968624</td>\n",
              "    </tr>\n",
              "  </tbody>\n",
              "</table>\n",
              "</div>"
            ],
            "text/plain": [
              "      visit_date   visitors\n",
              "1599  2017-04-23  40.637753\n",
              "1600  2017-04-24  30.631283\n",
              "1601  2017-04-25   9.924194\n",
              "1602  2017-04-26  28.176028\n",
              "1603  2017-04-27  19.902324\n",
              "1604  2017-04-28  34.082850\n",
              "1605  2017-04-29  41.073400\n",
              "1606  2017-04-30  26.795974\n",
              "1607  2017-05-01  10.659379\n",
              "1608  2017-05-02  10.968624"
            ]
          },
          "metadata": {
            "tags": []
          }
        }
      ]
    },
    {
      "cell_type": "code",
      "metadata": {
        "id": "xYJIxAYpsHdF"
      },
      "source": [
        ""
      ],
      "execution_count": null,
      "outputs": []
    }
  ]
}