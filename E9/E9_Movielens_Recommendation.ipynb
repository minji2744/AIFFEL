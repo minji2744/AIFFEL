{
  "nbformat": 4,
  "nbformat_minor": 0,
  "metadata": {
    "colab": {
      "name": "E9_Movielens_Recommendation.ipynb",
      "provenance": []
    },
    "kernelspec": {
      "name": "python3",
      "display_name": "Python 3"
    },
    "language_info": {
      "name": "python"
    },
    "accelerator": "GPU",
    "widgets": {
      "application/vnd.jupyter.widget-state+json": {
        "5c29b6fa4e1349739ba4b4e04294a872": {
          "model_module": "@jupyter-widgets/controls",
          "model_name": "HBoxModel",
          "model_module_version": "1.5.0",
          "state": {
            "_view_name": "HBoxView",
            "_dom_classes": [],
            "_model_name": "HBoxModel",
            "_view_module": "@jupyter-widgets/controls",
            "_model_module_version": "1.5.0",
            "_view_count": null,
            "_view_module_version": "1.5.0",
            "box_style": "",
            "layout": "IPY_MODEL_c89ad29bfe2243be9d2e5937a7855b50",
            "_model_module": "@jupyter-widgets/controls",
            "children": [
              "IPY_MODEL_3bd60b6feeb44aa2b5316b75eeb45d6d",
              "IPY_MODEL_3d6d0605a4fe4280b4f2912c4da2ec25",
              "IPY_MODEL_a8601f15d593446e894d8d190e457138"
            ]
          }
        },
        "c89ad29bfe2243be9d2e5937a7855b50": {
          "model_module": "@jupyter-widgets/base",
          "model_name": "LayoutModel",
          "model_module_version": "1.2.0",
          "state": {
            "_view_name": "LayoutView",
            "grid_template_rows": null,
            "right": null,
            "justify_content": null,
            "_view_module": "@jupyter-widgets/base",
            "overflow": null,
            "_model_module_version": "1.2.0",
            "_view_count": null,
            "flex_flow": null,
            "width": null,
            "min_width": null,
            "border": null,
            "align_items": null,
            "bottom": null,
            "_model_module": "@jupyter-widgets/base",
            "top": null,
            "grid_column": null,
            "overflow_y": null,
            "overflow_x": null,
            "grid_auto_flow": null,
            "grid_area": null,
            "grid_template_columns": null,
            "flex": null,
            "_model_name": "LayoutModel",
            "justify_items": null,
            "grid_row": null,
            "max_height": null,
            "align_content": null,
            "visibility": null,
            "align_self": null,
            "height": null,
            "min_height": null,
            "padding": null,
            "grid_auto_rows": null,
            "grid_gap": null,
            "max_width": null,
            "order": null,
            "_view_module_version": "1.2.0",
            "grid_template_areas": null,
            "object_position": null,
            "object_fit": null,
            "grid_auto_columns": null,
            "margin": null,
            "display": null,
            "left": null
          }
        },
        "3bd60b6feeb44aa2b5316b75eeb45d6d": {
          "model_module": "@jupyter-widgets/controls",
          "model_name": "HTMLModel",
          "model_module_version": "1.5.0",
          "state": {
            "_view_name": "HTMLView",
            "style": "IPY_MODEL_f012079c9f6343a886f01497f42421f5",
            "_dom_classes": [],
            "description": "",
            "_model_name": "HTMLModel",
            "placeholder": "​",
            "_view_module": "@jupyter-widgets/controls",
            "_model_module_version": "1.5.0",
            "value": "100%",
            "_view_count": null,
            "_view_module_version": "1.5.0",
            "description_tooltip": null,
            "_model_module": "@jupyter-widgets/controls",
            "layout": "IPY_MODEL_26b4db6a65ed4535a7f1db9f3e1bdc5a"
          }
        },
        "3d6d0605a4fe4280b4f2912c4da2ec25": {
          "model_module": "@jupyter-widgets/controls",
          "model_name": "FloatProgressModel",
          "model_module_version": "1.5.0",
          "state": {
            "_view_name": "ProgressView",
            "style": "IPY_MODEL_f8cf98166fcc4ddf82bde00bef3a5042",
            "_dom_classes": [],
            "description": "",
            "_model_name": "FloatProgressModel",
            "bar_style": "success",
            "max": 15,
            "_view_module": "@jupyter-widgets/controls",
            "_model_module_version": "1.5.0",
            "value": 15,
            "_view_count": null,
            "_view_module_version": "1.5.0",
            "orientation": "horizontal",
            "min": 0,
            "description_tooltip": null,
            "_model_module": "@jupyter-widgets/controls",
            "layout": "IPY_MODEL_80299d2ea3dd42688771264c42cfa485"
          }
        },
        "a8601f15d593446e894d8d190e457138": {
          "model_module": "@jupyter-widgets/controls",
          "model_name": "HTMLModel",
          "model_module_version": "1.5.0",
          "state": {
            "_view_name": "HTMLView",
            "style": "IPY_MODEL_623edf32e39d47b6af0974529c68ba6e",
            "_dom_classes": [],
            "description": "",
            "_model_name": "HTMLModel",
            "placeholder": "​",
            "_view_module": "@jupyter-widgets/controls",
            "_model_module_version": "1.5.0",
            "value": " 15/15 [00:32&lt;00:00,  2.07s/it]",
            "_view_count": null,
            "_view_module_version": "1.5.0",
            "description_tooltip": null,
            "_model_module": "@jupyter-widgets/controls",
            "layout": "IPY_MODEL_112d07b79f9040999fc49d31662bac6a"
          }
        },
        "f012079c9f6343a886f01497f42421f5": {
          "model_module": "@jupyter-widgets/controls",
          "model_name": "DescriptionStyleModel",
          "model_module_version": "1.5.0",
          "state": {
            "_view_name": "StyleView",
            "_model_name": "DescriptionStyleModel",
            "description_width": "",
            "_view_module": "@jupyter-widgets/base",
            "_model_module_version": "1.5.0",
            "_view_count": null,
            "_view_module_version": "1.2.0",
            "_model_module": "@jupyter-widgets/controls"
          }
        },
        "26b4db6a65ed4535a7f1db9f3e1bdc5a": {
          "model_module": "@jupyter-widgets/base",
          "model_name": "LayoutModel",
          "model_module_version": "1.2.0",
          "state": {
            "_view_name": "LayoutView",
            "grid_template_rows": null,
            "right": null,
            "justify_content": null,
            "_view_module": "@jupyter-widgets/base",
            "overflow": null,
            "_model_module_version": "1.2.0",
            "_view_count": null,
            "flex_flow": null,
            "width": null,
            "min_width": null,
            "border": null,
            "align_items": null,
            "bottom": null,
            "_model_module": "@jupyter-widgets/base",
            "top": null,
            "grid_column": null,
            "overflow_y": null,
            "overflow_x": null,
            "grid_auto_flow": null,
            "grid_area": null,
            "grid_template_columns": null,
            "flex": null,
            "_model_name": "LayoutModel",
            "justify_items": null,
            "grid_row": null,
            "max_height": null,
            "align_content": null,
            "visibility": null,
            "align_self": null,
            "height": null,
            "min_height": null,
            "padding": null,
            "grid_auto_rows": null,
            "grid_gap": null,
            "max_width": null,
            "order": null,
            "_view_module_version": "1.2.0",
            "grid_template_areas": null,
            "object_position": null,
            "object_fit": null,
            "grid_auto_columns": null,
            "margin": null,
            "display": null,
            "left": null
          }
        },
        "f8cf98166fcc4ddf82bde00bef3a5042": {
          "model_module": "@jupyter-widgets/controls",
          "model_name": "ProgressStyleModel",
          "model_module_version": "1.5.0",
          "state": {
            "_view_name": "StyleView",
            "_model_name": "ProgressStyleModel",
            "description_width": "",
            "_view_module": "@jupyter-widgets/base",
            "_model_module_version": "1.5.0",
            "_view_count": null,
            "_view_module_version": "1.2.0",
            "bar_color": null,
            "_model_module": "@jupyter-widgets/controls"
          }
        },
        "80299d2ea3dd42688771264c42cfa485": {
          "model_module": "@jupyter-widgets/base",
          "model_name": "LayoutModel",
          "model_module_version": "1.2.0",
          "state": {
            "_view_name": "LayoutView",
            "grid_template_rows": null,
            "right": null,
            "justify_content": null,
            "_view_module": "@jupyter-widgets/base",
            "overflow": null,
            "_model_module_version": "1.2.0",
            "_view_count": null,
            "flex_flow": null,
            "width": null,
            "min_width": null,
            "border": null,
            "align_items": null,
            "bottom": null,
            "_model_module": "@jupyter-widgets/base",
            "top": null,
            "grid_column": null,
            "overflow_y": null,
            "overflow_x": null,
            "grid_auto_flow": null,
            "grid_area": null,
            "grid_template_columns": null,
            "flex": null,
            "_model_name": "LayoutModel",
            "justify_items": null,
            "grid_row": null,
            "max_height": null,
            "align_content": null,
            "visibility": null,
            "align_self": null,
            "height": null,
            "min_height": null,
            "padding": null,
            "grid_auto_rows": null,
            "grid_gap": null,
            "max_width": null,
            "order": null,
            "_view_module_version": "1.2.0",
            "grid_template_areas": null,
            "object_position": null,
            "object_fit": null,
            "grid_auto_columns": null,
            "margin": null,
            "display": null,
            "left": null
          }
        },
        "623edf32e39d47b6af0974529c68ba6e": {
          "model_module": "@jupyter-widgets/controls",
          "model_name": "DescriptionStyleModel",
          "model_module_version": "1.5.0",
          "state": {
            "_view_name": "StyleView",
            "_model_name": "DescriptionStyleModel",
            "description_width": "",
            "_view_module": "@jupyter-widgets/base",
            "_model_module_version": "1.5.0",
            "_view_count": null,
            "_view_module_version": "1.2.0",
            "_model_module": "@jupyter-widgets/controls"
          }
        },
        "112d07b79f9040999fc49d31662bac6a": {
          "model_module": "@jupyter-widgets/base",
          "model_name": "LayoutModel",
          "model_module_version": "1.2.0",
          "state": {
            "_view_name": "LayoutView",
            "grid_template_rows": null,
            "right": null,
            "justify_content": null,
            "_view_module": "@jupyter-widgets/base",
            "overflow": null,
            "_model_module_version": "1.2.0",
            "_view_count": null,
            "flex_flow": null,
            "width": null,
            "min_width": null,
            "border": null,
            "align_items": null,
            "bottom": null,
            "_model_module": "@jupyter-widgets/base",
            "top": null,
            "grid_column": null,
            "overflow_y": null,
            "overflow_x": null,
            "grid_auto_flow": null,
            "grid_area": null,
            "grid_template_columns": null,
            "flex": null,
            "_model_name": "LayoutModel",
            "justify_items": null,
            "grid_row": null,
            "max_height": null,
            "align_content": null,
            "visibility": null,
            "align_self": null,
            "height": null,
            "min_height": null,
            "padding": null,
            "grid_auto_rows": null,
            "grid_gap": null,
            "max_width": null,
            "order": null,
            "_view_module_version": "1.2.0",
            "grid_template_areas": null,
            "object_position": null,
            "object_fit": null,
            "grid_auto_columns": null,
            "margin": null,
            "display": null,
            "left": null
          }
        },
        "3b8b26576bda45e0953751d1e22c0388": {
          "model_module": "@jupyter-widgets/controls",
          "model_name": "HBoxModel",
          "model_module_version": "1.5.0",
          "state": {
            "_view_name": "HBoxView",
            "_dom_classes": [],
            "_model_name": "HBoxModel",
            "_view_module": "@jupyter-widgets/controls",
            "_model_module_version": "1.5.0",
            "_view_count": null,
            "_view_module_version": "1.5.0",
            "box_style": "",
            "layout": "IPY_MODEL_d772abf2730f4e23846a7f1a2d62bb83",
            "_model_module": "@jupyter-widgets/controls",
            "children": [
              "IPY_MODEL_480955cd50df480f800af6e321fa9622",
              "IPY_MODEL_2cb7e56729e94d05a956921265c755a7",
              "IPY_MODEL_4df93d7c981f4ee3a93f09a94b2e75b8"
            ]
          }
        },
        "d772abf2730f4e23846a7f1a2d62bb83": {
          "model_module": "@jupyter-widgets/base",
          "model_name": "LayoutModel",
          "model_module_version": "1.2.0",
          "state": {
            "_view_name": "LayoutView",
            "grid_template_rows": null,
            "right": null,
            "justify_content": null,
            "_view_module": "@jupyter-widgets/base",
            "overflow": null,
            "_model_module_version": "1.2.0",
            "_view_count": null,
            "flex_flow": null,
            "width": null,
            "min_width": null,
            "border": null,
            "align_items": null,
            "bottom": null,
            "_model_module": "@jupyter-widgets/base",
            "top": null,
            "grid_column": null,
            "overflow_y": null,
            "overflow_x": null,
            "grid_auto_flow": null,
            "grid_area": null,
            "grid_template_columns": null,
            "flex": null,
            "_model_name": "LayoutModel",
            "justify_items": null,
            "grid_row": null,
            "max_height": null,
            "align_content": null,
            "visibility": null,
            "align_self": null,
            "height": null,
            "min_height": null,
            "padding": null,
            "grid_auto_rows": null,
            "grid_gap": null,
            "max_width": null,
            "order": null,
            "_view_module_version": "1.2.0",
            "grid_template_areas": null,
            "object_position": null,
            "object_fit": null,
            "grid_auto_columns": null,
            "margin": null,
            "display": null,
            "left": null
          }
        },
        "480955cd50df480f800af6e321fa9622": {
          "model_module": "@jupyter-widgets/controls",
          "model_name": "HTMLModel",
          "model_module_version": "1.5.0",
          "state": {
            "_view_name": "HTMLView",
            "style": "IPY_MODEL_3f11f926a9d54fadbee09d9f8060920c",
            "_dom_classes": [],
            "description": "",
            "_model_name": "HTMLModel",
            "placeholder": "​",
            "_view_module": "@jupyter-widgets/controls",
            "_model_module_version": "1.5.0",
            "value": "100%",
            "_view_count": null,
            "_view_module_version": "1.5.0",
            "description_tooltip": null,
            "_model_module": "@jupyter-widgets/controls",
            "layout": "IPY_MODEL_575117c9d49c4174b52136fa46952b7d"
          }
        },
        "2cb7e56729e94d05a956921265c755a7": {
          "model_module": "@jupyter-widgets/controls",
          "model_name": "FloatProgressModel",
          "model_module_version": "1.5.0",
          "state": {
            "_view_name": "ProgressView",
            "style": "IPY_MODEL_bd399a852a8c4fba8b2640115ef45284",
            "_dom_classes": [],
            "description": "",
            "_model_name": "FloatProgressModel",
            "bar_style": "success",
            "max": 50,
            "_view_module": "@jupyter-widgets/controls",
            "_model_module_version": "1.5.0",
            "value": 50,
            "_view_count": null,
            "_view_module_version": "1.5.0",
            "orientation": "horizontal",
            "min": 0,
            "description_tooltip": null,
            "_model_module": "@jupyter-widgets/controls",
            "layout": "IPY_MODEL_6325182d23af46b9a19c0e52a4a6201c"
          }
        },
        "4df93d7c981f4ee3a93f09a94b2e75b8": {
          "model_module": "@jupyter-widgets/controls",
          "model_name": "HTMLModel",
          "model_module_version": "1.5.0",
          "state": {
            "_view_name": "HTMLView",
            "style": "IPY_MODEL_c5c6e10446994f419004c3bf63f5f705",
            "_dom_classes": [],
            "description": "",
            "_model_name": "HTMLModel",
            "placeholder": "​",
            "_view_module": "@jupyter-widgets/controls",
            "_model_module_version": "1.5.0",
            "value": " 50/50 [02:39&lt;00:00,  2.98s/it]",
            "_view_count": null,
            "_view_module_version": "1.5.0",
            "description_tooltip": null,
            "_model_module": "@jupyter-widgets/controls",
            "layout": "IPY_MODEL_847b670c34904647a42237b1a62e635d"
          }
        },
        "3f11f926a9d54fadbee09d9f8060920c": {
          "model_module": "@jupyter-widgets/controls",
          "model_name": "DescriptionStyleModel",
          "model_module_version": "1.5.0",
          "state": {
            "_view_name": "StyleView",
            "_model_name": "DescriptionStyleModel",
            "description_width": "",
            "_view_module": "@jupyter-widgets/base",
            "_model_module_version": "1.5.0",
            "_view_count": null,
            "_view_module_version": "1.2.0",
            "_model_module": "@jupyter-widgets/controls"
          }
        },
        "575117c9d49c4174b52136fa46952b7d": {
          "model_module": "@jupyter-widgets/base",
          "model_name": "LayoutModel",
          "model_module_version": "1.2.0",
          "state": {
            "_view_name": "LayoutView",
            "grid_template_rows": null,
            "right": null,
            "justify_content": null,
            "_view_module": "@jupyter-widgets/base",
            "overflow": null,
            "_model_module_version": "1.2.0",
            "_view_count": null,
            "flex_flow": null,
            "width": null,
            "min_width": null,
            "border": null,
            "align_items": null,
            "bottom": null,
            "_model_module": "@jupyter-widgets/base",
            "top": null,
            "grid_column": null,
            "overflow_y": null,
            "overflow_x": null,
            "grid_auto_flow": null,
            "grid_area": null,
            "grid_template_columns": null,
            "flex": null,
            "_model_name": "LayoutModel",
            "justify_items": null,
            "grid_row": null,
            "max_height": null,
            "align_content": null,
            "visibility": null,
            "align_self": null,
            "height": null,
            "min_height": null,
            "padding": null,
            "grid_auto_rows": null,
            "grid_gap": null,
            "max_width": null,
            "order": null,
            "_view_module_version": "1.2.0",
            "grid_template_areas": null,
            "object_position": null,
            "object_fit": null,
            "grid_auto_columns": null,
            "margin": null,
            "display": null,
            "left": null
          }
        },
        "bd399a852a8c4fba8b2640115ef45284": {
          "model_module": "@jupyter-widgets/controls",
          "model_name": "ProgressStyleModel",
          "model_module_version": "1.5.0",
          "state": {
            "_view_name": "StyleView",
            "_model_name": "ProgressStyleModel",
            "description_width": "",
            "_view_module": "@jupyter-widgets/base",
            "_model_module_version": "1.5.0",
            "_view_count": null,
            "_view_module_version": "1.2.0",
            "bar_color": null,
            "_model_module": "@jupyter-widgets/controls"
          }
        },
        "6325182d23af46b9a19c0e52a4a6201c": {
          "model_module": "@jupyter-widgets/base",
          "model_name": "LayoutModel",
          "model_module_version": "1.2.0",
          "state": {
            "_view_name": "LayoutView",
            "grid_template_rows": null,
            "right": null,
            "justify_content": null,
            "_view_module": "@jupyter-widgets/base",
            "overflow": null,
            "_model_module_version": "1.2.0",
            "_view_count": null,
            "flex_flow": null,
            "width": null,
            "min_width": null,
            "border": null,
            "align_items": null,
            "bottom": null,
            "_model_module": "@jupyter-widgets/base",
            "top": null,
            "grid_column": null,
            "overflow_y": null,
            "overflow_x": null,
            "grid_auto_flow": null,
            "grid_area": null,
            "grid_template_columns": null,
            "flex": null,
            "_model_name": "LayoutModel",
            "justify_items": null,
            "grid_row": null,
            "max_height": null,
            "align_content": null,
            "visibility": null,
            "align_self": null,
            "height": null,
            "min_height": null,
            "padding": null,
            "grid_auto_rows": null,
            "grid_gap": null,
            "max_width": null,
            "order": null,
            "_view_module_version": "1.2.0",
            "grid_template_areas": null,
            "object_position": null,
            "object_fit": null,
            "grid_auto_columns": null,
            "margin": null,
            "display": null,
            "left": null
          }
        },
        "c5c6e10446994f419004c3bf63f5f705": {
          "model_module": "@jupyter-widgets/controls",
          "model_name": "DescriptionStyleModel",
          "model_module_version": "1.5.0",
          "state": {
            "_view_name": "StyleView",
            "_model_name": "DescriptionStyleModel",
            "description_width": "",
            "_view_module": "@jupyter-widgets/base",
            "_model_module_version": "1.5.0",
            "_view_count": null,
            "_view_module_version": "1.2.0",
            "_model_module": "@jupyter-widgets/controls"
          }
        },
        "847b670c34904647a42237b1a62e635d": {
          "model_module": "@jupyter-widgets/base",
          "model_name": "LayoutModel",
          "model_module_version": "1.2.0",
          "state": {
            "_view_name": "LayoutView",
            "grid_template_rows": null,
            "right": null,
            "justify_content": null,
            "_view_module": "@jupyter-widgets/base",
            "overflow": null,
            "_model_module_version": "1.2.0",
            "_view_count": null,
            "flex_flow": null,
            "width": null,
            "min_width": null,
            "border": null,
            "align_items": null,
            "bottom": null,
            "_model_module": "@jupyter-widgets/base",
            "top": null,
            "grid_column": null,
            "overflow_y": null,
            "overflow_x": null,
            "grid_auto_flow": null,
            "grid_area": null,
            "grid_template_columns": null,
            "flex": null,
            "_model_name": "LayoutModel",
            "justify_items": null,
            "grid_row": null,
            "max_height": null,
            "align_content": null,
            "visibility": null,
            "align_self": null,
            "height": null,
            "min_height": null,
            "padding": null,
            "grid_auto_rows": null,
            "grid_gap": null,
            "max_width": null,
            "order": null,
            "_view_module_version": "1.2.0",
            "grid_template_areas": null,
            "object_position": null,
            "object_fit": null,
            "grid_auto_columns": null,
            "margin": null,
            "display": null,
            "left": null
          }
        }
      }
    }
  },
  "cells": [
    {
      "cell_type": "markdown",
      "metadata": {
        "id": "nAr08CIJ4imr"
      },
      "source": [
        "# E9. Movielens 영화 추천"
      ]
    },
    {
      "cell_type": "markdown",
      "metadata": {
        "id": "qwSbNYvK5Xrz"
      },
      "source": [
        "### 실습 목차\n",
        "1. 데이터 로드, 전처리, EDA\n",
        "2. CSR Matrix\n",
        "3. 영화 추천 (AlternatingLeastSquares)\n",
        "4. 영화 추천 (Singular Value Decomposition)\n",
        "5. 회고"
      ]
    },
    {
      "cell_type": "markdown",
      "metadata": {
        "id": "ujUTXDRj5Xzd"
      },
      "source": [
        "## 1. 데이터 로드, 전처리, EDA"
      ]
    },
    {
      "cell_type": "code",
      "metadata": {
        "colab": {
          "base_uri": "https://localhost:8080/"
        },
        "id": "ozSv3IPR5X2G",
        "outputId": "6d7d218e-52b1-452b-d97f-e2dda3f32a1f"
      },
      "source": [
        "!ls"
      ],
      "execution_count": 1,
      "outputs": [
        {
          "output_type": "stream",
          "text": [
            "drive  sample_data\n"
          ],
          "name": "stdout"
        }
      ]
    },
    {
      "cell_type": "code",
      "metadata": {
        "colab": {
          "base_uri": "https://localhost:8080/"
        },
        "id": "6rzR85-E-cvf",
        "outputId": "489cbd14-f275-4bae-eb09-642ebff19796"
      },
      "source": [
        "!pip install implicit"
      ],
      "execution_count": 2,
      "outputs": [
        {
          "output_type": "stream",
          "text": [
            "Collecting implicit\n",
            "  Downloading implicit-0.4.4.tar.gz (1.1 MB)\n",
            "\u001b[?25l\r\u001b[K     |▎                               | 10 kB 23.8 MB/s eta 0:00:01\r\u001b[K     |▋                               | 20 kB 26.7 MB/s eta 0:00:01\r\u001b[K     |▉                               | 30 kB 12.0 MB/s eta 0:00:01\r\u001b[K     |█▏                              | 40 kB 9.3 MB/s eta 0:00:01\r\u001b[K     |█▌                              | 51 kB 5.3 MB/s eta 0:00:01\r\u001b[K     |█▊                              | 61 kB 5.8 MB/s eta 0:00:01\r\u001b[K     |██                              | 71 kB 6.2 MB/s eta 0:00:01\r\u001b[K     |██▍                             | 81 kB 6.4 MB/s eta 0:00:01\r\u001b[K     |██▋                             | 92 kB 4.8 MB/s eta 0:00:01\r\u001b[K     |███                             | 102 kB 5.3 MB/s eta 0:00:01\r\u001b[K     |███▎                            | 112 kB 5.3 MB/s eta 0:00:01\r\u001b[K     |███▌                            | 122 kB 5.3 MB/s eta 0:00:01\r\u001b[K     |███▉                            | 133 kB 5.3 MB/s eta 0:00:01\r\u001b[K     |████▏                           | 143 kB 5.3 MB/s eta 0:00:01\r\u001b[K     |████▍                           | 153 kB 5.3 MB/s eta 0:00:01\r\u001b[K     |████▊                           | 163 kB 5.3 MB/s eta 0:00:01\r\u001b[K     |█████                           | 174 kB 5.3 MB/s eta 0:00:01\r\u001b[K     |█████▎                          | 184 kB 5.3 MB/s eta 0:00:01\r\u001b[K     |█████▋                          | 194 kB 5.3 MB/s eta 0:00:01\r\u001b[K     |██████                          | 204 kB 5.3 MB/s eta 0:00:01\r\u001b[K     |██████▏                         | 215 kB 5.3 MB/s eta 0:00:01\r\u001b[K     |██████▌                         | 225 kB 5.3 MB/s eta 0:00:01\r\u001b[K     |██████▉                         | 235 kB 5.3 MB/s eta 0:00:01\r\u001b[K     |███████                         | 245 kB 5.3 MB/s eta 0:00:01\r\u001b[K     |███████▍                        | 256 kB 5.3 MB/s eta 0:00:01\r\u001b[K     |███████▊                        | 266 kB 5.3 MB/s eta 0:00:01\r\u001b[K     |████████                        | 276 kB 5.3 MB/s eta 0:00:01\r\u001b[K     |████████▎                       | 286 kB 5.3 MB/s eta 0:00:01\r\u001b[K     |████████▋                       | 296 kB 5.3 MB/s eta 0:00:01\r\u001b[K     |████████▉                       | 307 kB 5.3 MB/s eta 0:00:01\r\u001b[K     |█████████▏                      | 317 kB 5.3 MB/s eta 0:00:01\r\u001b[K     |█████████▌                      | 327 kB 5.3 MB/s eta 0:00:01\r\u001b[K     |█████████▊                      | 337 kB 5.3 MB/s eta 0:00:01\r\u001b[K     |██████████                      | 348 kB 5.3 MB/s eta 0:00:01\r\u001b[K     |██████████▍                     | 358 kB 5.3 MB/s eta 0:00:01\r\u001b[K     |██████████▋                     | 368 kB 5.3 MB/s eta 0:00:01\r\u001b[K     |███████████                     | 378 kB 5.3 MB/s eta 0:00:01\r\u001b[K     |███████████▏                    | 389 kB 5.3 MB/s eta 0:00:01\r\u001b[K     |███████████▌                    | 399 kB 5.3 MB/s eta 0:00:01\r\u001b[K     |███████████▉                    | 409 kB 5.3 MB/s eta 0:00:01\r\u001b[K     |████████████                    | 419 kB 5.3 MB/s eta 0:00:01\r\u001b[K     |████████████▍                   | 430 kB 5.3 MB/s eta 0:00:01\r\u001b[K     |████████████▊                   | 440 kB 5.3 MB/s eta 0:00:01\r\u001b[K     |█████████████                   | 450 kB 5.3 MB/s eta 0:00:01\r\u001b[K     |█████████████▎                  | 460 kB 5.3 MB/s eta 0:00:01\r\u001b[K     |█████████████▋                  | 471 kB 5.3 MB/s eta 0:00:01\r\u001b[K     |█████████████▉                  | 481 kB 5.3 MB/s eta 0:00:01\r\u001b[K     |██████████████▏                 | 491 kB 5.3 MB/s eta 0:00:01\r\u001b[K     |██████████████▌                 | 501 kB 5.3 MB/s eta 0:00:01\r\u001b[K     |██████████████▊                 | 512 kB 5.3 MB/s eta 0:00:01\r\u001b[K     |███████████████                 | 522 kB 5.3 MB/s eta 0:00:01\r\u001b[K     |███████████████▍                | 532 kB 5.3 MB/s eta 0:00:01\r\u001b[K     |███████████████▋                | 542 kB 5.3 MB/s eta 0:00:01\r\u001b[K     |████████████████                | 552 kB 5.3 MB/s eta 0:00:01\r\u001b[K     |████████████████▎               | 563 kB 5.3 MB/s eta 0:00:01\r\u001b[K     |████████████████▌               | 573 kB 5.3 MB/s eta 0:00:01\r\u001b[K     |████████████████▉               | 583 kB 5.3 MB/s eta 0:00:01\r\u001b[K     |█████████████████▏              | 593 kB 5.3 MB/s eta 0:00:01\r\u001b[K     |█████████████████▍              | 604 kB 5.3 MB/s eta 0:00:01\r\u001b[K     |█████████████████▊              | 614 kB 5.3 MB/s eta 0:00:01\r\u001b[K     |██████████████████              | 624 kB 5.3 MB/s eta 0:00:01\r\u001b[K     |██████████████████▎             | 634 kB 5.3 MB/s eta 0:00:01\r\u001b[K     |██████████████████▋             | 645 kB 5.3 MB/s eta 0:00:01\r\u001b[K     |███████████████████             | 655 kB 5.3 MB/s eta 0:00:01\r\u001b[K     |███████████████████▏            | 665 kB 5.3 MB/s eta 0:00:01\r\u001b[K     |███████████████████▌            | 675 kB 5.3 MB/s eta 0:00:01\r\u001b[K     |███████████████████▉            | 686 kB 5.3 MB/s eta 0:00:01\r\u001b[K     |████████████████████            | 696 kB 5.3 MB/s eta 0:00:01\r\u001b[K     |████████████████████▍           | 706 kB 5.3 MB/s eta 0:00:01\r\u001b[K     |████████████████████▊           | 716 kB 5.3 MB/s eta 0:00:01\r\u001b[K     |█████████████████████           | 727 kB 5.3 MB/s eta 0:00:01\r\u001b[K     |█████████████████████▎          | 737 kB 5.3 MB/s eta 0:00:01\r\u001b[K     |█████████████████████▋          | 747 kB 5.3 MB/s eta 0:00:01\r\u001b[K     |█████████████████████▉          | 757 kB 5.3 MB/s eta 0:00:01\r\u001b[K     |██████████████████████▏         | 768 kB 5.3 MB/s eta 0:00:01\r\u001b[K     |██████████████████████▍         | 778 kB 5.3 MB/s eta 0:00:01\r\u001b[K     |██████████████████████▊         | 788 kB 5.3 MB/s eta 0:00:01\r\u001b[K     |███████████████████████         | 798 kB 5.3 MB/s eta 0:00:01\r\u001b[K     |███████████████████████▎        | 808 kB 5.3 MB/s eta 0:00:01\r\u001b[K     |███████████████████████▋        | 819 kB 5.3 MB/s eta 0:00:01\r\u001b[K     |████████████████████████        | 829 kB 5.3 MB/s eta 0:00:01\r\u001b[K     |████████████████████████▏       | 839 kB 5.3 MB/s eta 0:00:01\r\u001b[K     |████████████████████████▌       | 849 kB 5.3 MB/s eta 0:00:01\r\u001b[K     |████████████████████████▉       | 860 kB 5.3 MB/s eta 0:00:01\r\u001b[K     |█████████████████████████       | 870 kB 5.3 MB/s eta 0:00:01\r\u001b[K     |█████████████████████████▍      | 880 kB 5.3 MB/s eta 0:00:01\r\u001b[K     |█████████████████████████▊      | 890 kB 5.3 MB/s eta 0:00:01\r\u001b[K     |██████████████████████████      | 901 kB 5.3 MB/s eta 0:00:01\r\u001b[K     |██████████████████████████▎     | 911 kB 5.3 MB/s eta 0:00:01\r\u001b[K     |██████████████████████████▋     | 921 kB 5.3 MB/s eta 0:00:01\r\u001b[K     |██████████████████████████▉     | 931 kB 5.3 MB/s eta 0:00:01\r\u001b[K     |███████████████████████████▏    | 942 kB 5.3 MB/s eta 0:00:01\r\u001b[K     |███████████████████████████▌    | 952 kB 5.3 MB/s eta 0:00:01\r\u001b[K     |███████████████████████████▊    | 962 kB 5.3 MB/s eta 0:00:01\r\u001b[K     |████████████████████████████    | 972 kB 5.3 MB/s eta 0:00:01\r\u001b[K     |████████████████████████████▍   | 983 kB 5.3 MB/s eta 0:00:01\r\u001b[K     |████████████████████████████▋   | 993 kB 5.3 MB/s eta 0:00:01\r\u001b[K     |█████████████████████████████   | 1.0 MB 5.3 MB/s eta 0:00:01\r\u001b[K     |█████████████████████████████▎  | 1.0 MB 5.3 MB/s eta 0:00:01\r\u001b[K     |█████████████████████████████▌  | 1.0 MB 5.3 MB/s eta 0:00:01\r\u001b[K     |█████████████████████████████▉  | 1.0 MB 5.3 MB/s eta 0:00:01\r\u001b[K     |██████████████████████████████▏ | 1.0 MB 5.3 MB/s eta 0:00:01\r\u001b[K     |██████████████████████████████▍ | 1.1 MB 5.3 MB/s eta 0:00:01\r\u001b[K     |██████████████████████████████▊ | 1.1 MB 5.3 MB/s eta 0:00:01\r\u001b[K     |███████████████████████████████ | 1.1 MB 5.3 MB/s eta 0:00:01\r\u001b[K     |███████████████████████████████▎| 1.1 MB 5.3 MB/s eta 0:00:01\r\u001b[K     |███████████████████████████████▋| 1.1 MB 5.3 MB/s eta 0:00:01\r\u001b[K     |████████████████████████████████| 1.1 MB 5.3 MB/s eta 0:00:01\r\u001b[K     |████████████████████████████████| 1.1 MB 5.3 MB/s \n",
            "\u001b[?25hRequirement already satisfied: numpy in /usr/local/lib/python3.7/dist-packages (from implicit) (1.19.5)\n",
            "Requirement already satisfied: scipy>=0.16 in /usr/local/lib/python3.7/dist-packages (from implicit) (1.4.1)\n",
            "Requirement already satisfied: tqdm>=4.27 in /usr/local/lib/python3.7/dist-packages (from implicit) (4.62.0)\n",
            "Building wheels for collected packages: implicit\n",
            "  Building wheel for implicit (setup.py) ... \u001b[?25l\u001b[?25hdone\n",
            "  Created wheel for implicit: filename=implicit-0.4.4-cp37-cp37m-linux_x86_64.whl size=3409590 sha256=22a4a60bc77e0dc37c9777224633d4b8b51dc811eb63986589b24bbc2ccc1de3\n",
            "  Stored in directory: /root/.cache/pip/wheels/44/7e/7d/a17324ea207cfbe76aca878b5b8ca0aa932cf55d163329be37\n",
            "Successfully built implicit\n",
            "Installing collected packages: implicit\n",
            "Successfully installed implicit-0.4.4\n"
          ],
          "name": "stdout"
        }
      ]
    },
    {
      "cell_type": "code",
      "metadata": {
        "id": "uynBfrpd1rBs"
      },
      "source": [
        "# 필요한 모듈 import\n",
        "import os\n",
        "import pandas as pd\n",
        "import numpy as np\n",
        "from scipy.sparse import csr_matrix\n",
        "import matplotlib.pyplot as plt"
      ],
      "execution_count": 3,
      "outputs": []
    },
    {
      "cell_type": "code",
      "metadata": {
        "colab": {
          "base_uri": "https://localhost:8080/",
          "height": 204
        },
        "id": "fCF_I4xo5X4s",
        "outputId": "6705ccfa-5f0e-40cb-ec44-b66524f83f69"
      },
      "source": [
        "# 영화 rating data\n",
        "rating_file_path = '/content/drive/MyDrive/data/e9_movielens/ratings.dat'\n",
        "ratings_cols = ['user_id','movie_id','rating','timestamp']\n",
        "ratings = pd.read_csv(rating_file_path, sep='::', names = ratings_cols,engine='python', encoding=\"ISO-8859-1\")\n",
        "original_data_size = len(ratings)\n",
        "ratings.head()"
      ],
      "execution_count": 4,
      "outputs": [
        {
          "output_type": "execute_result",
          "data": {
            "text/html": [
              "<div>\n",
              "<style scoped>\n",
              "    .dataframe tbody tr th:only-of-type {\n",
              "        vertical-align: middle;\n",
              "    }\n",
              "\n",
              "    .dataframe tbody tr th {\n",
              "        vertical-align: top;\n",
              "    }\n",
              "\n",
              "    .dataframe thead th {\n",
              "        text-align: right;\n",
              "    }\n",
              "</style>\n",
              "<table border=\"1\" class=\"dataframe\">\n",
              "  <thead>\n",
              "    <tr style=\"text-align: right;\">\n",
              "      <th></th>\n",
              "      <th>user_id</th>\n",
              "      <th>movie_id</th>\n",
              "      <th>rating</th>\n",
              "      <th>timestamp</th>\n",
              "    </tr>\n",
              "  </thead>\n",
              "  <tbody>\n",
              "    <tr>\n",
              "      <th>0</th>\n",
              "      <td>1</td>\n",
              "      <td>1193</td>\n",
              "      <td>5</td>\n",
              "      <td>978300760</td>\n",
              "    </tr>\n",
              "    <tr>\n",
              "      <th>1</th>\n",
              "      <td>1</td>\n",
              "      <td>661</td>\n",
              "      <td>3</td>\n",
              "      <td>978302109</td>\n",
              "    </tr>\n",
              "    <tr>\n",
              "      <th>2</th>\n",
              "      <td>1</td>\n",
              "      <td>914</td>\n",
              "      <td>3</td>\n",
              "      <td>978301968</td>\n",
              "    </tr>\n",
              "    <tr>\n",
              "      <th>3</th>\n",
              "      <td>1</td>\n",
              "      <td>3408</td>\n",
              "      <td>4</td>\n",
              "      <td>978300275</td>\n",
              "    </tr>\n",
              "    <tr>\n",
              "      <th>4</th>\n",
              "      <td>1</td>\n",
              "      <td>2355</td>\n",
              "      <td>5</td>\n",
              "      <td>978824291</td>\n",
              "    </tr>\n",
              "  </tbody>\n",
              "</table>\n",
              "</div>"
            ],
            "text/plain": [
              "   user_id  movie_id  rating  timestamp\n",
              "0        1      1193       5  978300760\n",
              "1        1       661       3  978302109\n",
              "2        1       914       3  978301968\n",
              "3        1      3408       4  978300275\n",
              "4        1      2355       5  978824291"
            ]
          },
          "metadata": {
            "tags": []
          },
          "execution_count": 4
        }
      ]
    },
    {
      "cell_type": "code",
      "metadata": {
        "colab": {
          "base_uri": "https://localhost:8080/",
          "height": 359
        },
        "id": "3OQCYPhFJ0zw",
        "outputId": "dbe1df53-be54-4337-94b4-590d1c359256"
      },
      "source": [
        "# 학습에 필요한 열만 남겨둡니다.\n",
        "using_cols = ['user_id','movie_id','rating']\n",
        "ratings = ratings[using_cols]\n",
        "ratings.head(10)"
      ],
      "execution_count": 5,
      "outputs": [
        {
          "output_type": "execute_result",
          "data": {
            "text/html": [
              "<div>\n",
              "<style scoped>\n",
              "    .dataframe tbody tr th:only-of-type {\n",
              "        vertical-align: middle;\n",
              "    }\n",
              "\n",
              "    .dataframe tbody tr th {\n",
              "        vertical-align: top;\n",
              "    }\n",
              "\n",
              "    .dataframe thead th {\n",
              "        text-align: right;\n",
              "    }\n",
              "</style>\n",
              "<table border=\"1\" class=\"dataframe\">\n",
              "  <thead>\n",
              "    <tr style=\"text-align: right;\">\n",
              "      <th></th>\n",
              "      <th>user_id</th>\n",
              "      <th>movie_id</th>\n",
              "      <th>rating</th>\n",
              "    </tr>\n",
              "  </thead>\n",
              "  <tbody>\n",
              "    <tr>\n",
              "      <th>0</th>\n",
              "      <td>1</td>\n",
              "      <td>1193</td>\n",
              "      <td>5</td>\n",
              "    </tr>\n",
              "    <tr>\n",
              "      <th>1</th>\n",
              "      <td>1</td>\n",
              "      <td>661</td>\n",
              "      <td>3</td>\n",
              "    </tr>\n",
              "    <tr>\n",
              "      <th>2</th>\n",
              "      <td>1</td>\n",
              "      <td>914</td>\n",
              "      <td>3</td>\n",
              "    </tr>\n",
              "    <tr>\n",
              "      <th>3</th>\n",
              "      <td>1</td>\n",
              "      <td>3408</td>\n",
              "      <td>4</td>\n",
              "    </tr>\n",
              "    <tr>\n",
              "      <th>4</th>\n",
              "      <td>1</td>\n",
              "      <td>2355</td>\n",
              "      <td>5</td>\n",
              "    </tr>\n",
              "    <tr>\n",
              "      <th>5</th>\n",
              "      <td>1</td>\n",
              "      <td>1197</td>\n",
              "      <td>3</td>\n",
              "    </tr>\n",
              "    <tr>\n",
              "      <th>6</th>\n",
              "      <td>1</td>\n",
              "      <td>1287</td>\n",
              "      <td>5</td>\n",
              "    </tr>\n",
              "    <tr>\n",
              "      <th>7</th>\n",
              "      <td>1</td>\n",
              "      <td>2804</td>\n",
              "      <td>5</td>\n",
              "    </tr>\n",
              "    <tr>\n",
              "      <th>8</th>\n",
              "      <td>1</td>\n",
              "      <td>594</td>\n",
              "      <td>4</td>\n",
              "    </tr>\n",
              "    <tr>\n",
              "      <th>9</th>\n",
              "      <td>1</td>\n",
              "      <td>919</td>\n",
              "      <td>4</td>\n",
              "    </tr>\n",
              "  </tbody>\n",
              "</table>\n",
              "</div>"
            ],
            "text/plain": [
              "   user_id  movie_id  rating\n",
              "0        1      1193       5\n",
              "1        1       661       3\n",
              "2        1       914       3\n",
              "3        1      3408       4\n",
              "4        1      2355       5\n",
              "5        1      1197       3\n",
              "6        1      1287       5\n",
              "7        1      2804       5\n",
              "8        1       594       4\n",
              "9        1       919       4"
            ]
          },
          "metadata": {
            "tags": []
          },
          "execution_count": 5
        }
      ]
    },
    {
      "cell_type": "code",
      "metadata": {
        "colab": {
          "base_uri": "https://localhost:8080/"
        },
        "id": "Jqn4XQHg5X8d",
        "outputId": "74ac409d-9e3d-4d0f-beec-fbb9ce9e32e1"
      },
      "source": [
        "# 평점이 3 이상인 영화들을 선호한다고 간주하고, 평점 3 이상인 행만 남깁니다.\n",
        "ratings = ratings[ratings['rating']>=3]\n",
        "filtered_data_size = len(ratings)\n",
        "\n",
        "print(f'original_data_size: {original_data_size}, filtered_data_size: {filtered_data_size}')\n",
        "print(f'Ratio of Remaining data is {filtered_data_size / original_data_size:.2%}')"
      ],
      "execution_count": 6,
      "outputs": [
        {
          "output_type": "stream",
          "text": [
            "original_data_size: 1000209, filtered_data_size: 836478\n",
            "Ratio of Remaining data is 83.63%\n"
          ],
          "name": "stdout"
        }
      ]
    },
    {
      "cell_type": "code",
      "metadata": {
        "colab": {
          "base_uri": "https://localhost:8080/",
          "height": 419
        },
        "id": "cX6RSQr85YCd",
        "outputId": "c5640f39-37fe-4dcd-d388-91173cb6d706"
      },
      "source": [
        "movie_file_path = '/content/drive/MyDrive/data/e9_movielens/movies.dat'\n",
        "cols = ['movie_id', 'title', 'genre']\n",
        "movies = pd.read_csv(movie_file_path, sep='::', names=cols, engine='python', encoding='ISO-8859-1')\n",
        "display(movies)"
      ],
      "execution_count": 7,
      "outputs": [
        {
          "output_type": "display_data",
          "data": {
            "text/html": [
              "<div>\n",
              "<style scoped>\n",
              "    .dataframe tbody tr th:only-of-type {\n",
              "        vertical-align: middle;\n",
              "    }\n",
              "\n",
              "    .dataframe tbody tr th {\n",
              "        vertical-align: top;\n",
              "    }\n",
              "\n",
              "    .dataframe thead th {\n",
              "        text-align: right;\n",
              "    }\n",
              "</style>\n",
              "<table border=\"1\" class=\"dataframe\">\n",
              "  <thead>\n",
              "    <tr style=\"text-align: right;\">\n",
              "      <th></th>\n",
              "      <th>movie_id</th>\n",
              "      <th>title</th>\n",
              "      <th>genre</th>\n",
              "    </tr>\n",
              "  </thead>\n",
              "  <tbody>\n",
              "    <tr>\n",
              "      <th>0</th>\n",
              "      <td>1</td>\n",
              "      <td>Toy Story (1995)</td>\n",
              "      <td>Animation|Children's|Comedy</td>\n",
              "    </tr>\n",
              "    <tr>\n",
              "      <th>1</th>\n",
              "      <td>2</td>\n",
              "      <td>Jumanji (1995)</td>\n",
              "      <td>Adventure|Children's|Fantasy</td>\n",
              "    </tr>\n",
              "    <tr>\n",
              "      <th>2</th>\n",
              "      <td>3</td>\n",
              "      <td>Grumpier Old Men (1995)</td>\n",
              "      <td>Comedy|Romance</td>\n",
              "    </tr>\n",
              "    <tr>\n",
              "      <th>3</th>\n",
              "      <td>4</td>\n",
              "      <td>Waiting to Exhale (1995)</td>\n",
              "      <td>Comedy|Drama</td>\n",
              "    </tr>\n",
              "    <tr>\n",
              "      <th>4</th>\n",
              "      <td>5</td>\n",
              "      <td>Father of the Bride Part II (1995)</td>\n",
              "      <td>Comedy</td>\n",
              "    </tr>\n",
              "    <tr>\n",
              "      <th>...</th>\n",
              "      <td>...</td>\n",
              "      <td>...</td>\n",
              "      <td>...</td>\n",
              "    </tr>\n",
              "    <tr>\n",
              "      <th>3878</th>\n",
              "      <td>3948</td>\n",
              "      <td>Meet the Parents (2000)</td>\n",
              "      <td>Comedy</td>\n",
              "    </tr>\n",
              "    <tr>\n",
              "      <th>3879</th>\n",
              "      <td>3949</td>\n",
              "      <td>Requiem for a Dream (2000)</td>\n",
              "      <td>Drama</td>\n",
              "    </tr>\n",
              "    <tr>\n",
              "      <th>3880</th>\n",
              "      <td>3950</td>\n",
              "      <td>Tigerland (2000)</td>\n",
              "      <td>Drama</td>\n",
              "    </tr>\n",
              "    <tr>\n",
              "      <th>3881</th>\n",
              "      <td>3951</td>\n",
              "      <td>Two Family House (2000)</td>\n",
              "      <td>Drama</td>\n",
              "    </tr>\n",
              "    <tr>\n",
              "      <th>3882</th>\n",
              "      <td>3952</td>\n",
              "      <td>Contender, The (2000)</td>\n",
              "      <td>Drama|Thriller</td>\n",
              "    </tr>\n",
              "  </tbody>\n",
              "</table>\n",
              "<p>3883 rows × 3 columns</p>\n",
              "</div>"
            ],
            "text/plain": [
              "      movie_id  ...                         genre\n",
              "0            1  ...   Animation|Children's|Comedy\n",
              "1            2  ...  Adventure|Children's|Fantasy\n",
              "2            3  ...                Comedy|Romance\n",
              "3            4  ...                  Comedy|Drama\n",
              "4            5  ...                        Comedy\n",
              "...        ...  ...                           ...\n",
              "3878      3948  ...                        Comedy\n",
              "3879      3949  ...                         Drama\n",
              "3880      3950  ...                         Drama\n",
              "3881      3951  ...                         Drama\n",
              "3882      3952  ...                Drama|Thriller\n",
              "\n",
              "[3883 rows x 3 columns]"
            ]
          },
          "metadata": {
            "tags": []
          }
        }
      ]
    },
    {
      "cell_type": "code",
      "metadata": {
        "colab": {
          "base_uri": "https://localhost:8080/",
          "height": 419
        },
        "id": "GEa_jtXwDmTh",
        "outputId": "b2ecf0b7-a7bb-4bfb-8fc6-b63522f7f3ab"
      },
      "source": [
        "user_file_path = '/content/drive/MyDrive/data/e9_movielens/users.dat'\n",
        "cols = ['user_id','Gender','Age','Occupation','Zip-code']\n",
        "users = pd.read_csv(user_file_path, sep='::', names = cols, engine = 'python', encoding = 'ISO-8859-1')\n",
        "display(users)"
      ],
      "execution_count": 8,
      "outputs": [
        {
          "output_type": "display_data",
          "data": {
            "text/html": [
              "<div>\n",
              "<style scoped>\n",
              "    .dataframe tbody tr th:only-of-type {\n",
              "        vertical-align: middle;\n",
              "    }\n",
              "\n",
              "    .dataframe tbody tr th {\n",
              "        vertical-align: top;\n",
              "    }\n",
              "\n",
              "    .dataframe thead th {\n",
              "        text-align: right;\n",
              "    }\n",
              "</style>\n",
              "<table border=\"1\" class=\"dataframe\">\n",
              "  <thead>\n",
              "    <tr style=\"text-align: right;\">\n",
              "      <th></th>\n",
              "      <th>user_id</th>\n",
              "      <th>Gender</th>\n",
              "      <th>Age</th>\n",
              "      <th>Occupation</th>\n",
              "      <th>Zip-code</th>\n",
              "    </tr>\n",
              "  </thead>\n",
              "  <tbody>\n",
              "    <tr>\n",
              "      <th>0</th>\n",
              "      <td>1</td>\n",
              "      <td>F</td>\n",
              "      <td>1</td>\n",
              "      <td>10</td>\n",
              "      <td>48067</td>\n",
              "    </tr>\n",
              "    <tr>\n",
              "      <th>1</th>\n",
              "      <td>2</td>\n",
              "      <td>M</td>\n",
              "      <td>56</td>\n",
              "      <td>16</td>\n",
              "      <td>70072</td>\n",
              "    </tr>\n",
              "    <tr>\n",
              "      <th>2</th>\n",
              "      <td>3</td>\n",
              "      <td>M</td>\n",
              "      <td>25</td>\n",
              "      <td>15</td>\n",
              "      <td>55117</td>\n",
              "    </tr>\n",
              "    <tr>\n",
              "      <th>3</th>\n",
              "      <td>4</td>\n",
              "      <td>M</td>\n",
              "      <td>45</td>\n",
              "      <td>7</td>\n",
              "      <td>02460</td>\n",
              "    </tr>\n",
              "    <tr>\n",
              "      <th>4</th>\n",
              "      <td>5</td>\n",
              "      <td>M</td>\n",
              "      <td>25</td>\n",
              "      <td>20</td>\n",
              "      <td>55455</td>\n",
              "    </tr>\n",
              "    <tr>\n",
              "      <th>...</th>\n",
              "      <td>...</td>\n",
              "      <td>...</td>\n",
              "      <td>...</td>\n",
              "      <td>...</td>\n",
              "      <td>...</td>\n",
              "    </tr>\n",
              "    <tr>\n",
              "      <th>6035</th>\n",
              "      <td>6036</td>\n",
              "      <td>F</td>\n",
              "      <td>25</td>\n",
              "      <td>15</td>\n",
              "      <td>32603</td>\n",
              "    </tr>\n",
              "    <tr>\n",
              "      <th>6036</th>\n",
              "      <td>6037</td>\n",
              "      <td>F</td>\n",
              "      <td>45</td>\n",
              "      <td>1</td>\n",
              "      <td>76006</td>\n",
              "    </tr>\n",
              "    <tr>\n",
              "      <th>6037</th>\n",
              "      <td>6038</td>\n",
              "      <td>F</td>\n",
              "      <td>56</td>\n",
              "      <td>1</td>\n",
              "      <td>14706</td>\n",
              "    </tr>\n",
              "    <tr>\n",
              "      <th>6038</th>\n",
              "      <td>6039</td>\n",
              "      <td>F</td>\n",
              "      <td>45</td>\n",
              "      <td>0</td>\n",
              "      <td>01060</td>\n",
              "    </tr>\n",
              "    <tr>\n",
              "      <th>6039</th>\n",
              "      <td>6040</td>\n",
              "      <td>M</td>\n",
              "      <td>25</td>\n",
              "      <td>6</td>\n",
              "      <td>11106</td>\n",
              "    </tr>\n",
              "  </tbody>\n",
              "</table>\n",
              "<p>6040 rows × 5 columns</p>\n",
              "</div>"
            ],
            "text/plain": [
              "      user_id Gender  Age  Occupation Zip-code\n",
              "0           1      F    1          10    48067\n",
              "1           2      M   56          16    70072\n",
              "2           3      M   25          15    55117\n",
              "3           4      M   45           7    02460\n",
              "4           5      M   25          20    55455\n",
              "...       ...    ...  ...         ...      ...\n",
              "6035     6036      F   25          15    32603\n",
              "6036     6037      F   45           1    76006\n",
              "6037     6038      F   56           1    14706\n",
              "6038     6039      F   45           0    01060\n",
              "6039     6040      M   25           6    11106\n",
              "\n",
              "[6040 rows x 5 columns]"
            ]
          },
          "metadata": {
            "tags": []
          }
        }
      ]
    },
    {
      "cell_type": "code",
      "metadata": {
        "colab": {
          "base_uri": "https://localhost:8080/",
          "height": 204
        },
        "id": "eraJfWDbegg9",
        "outputId": "c8a8c4bb-3053-4551-b195-e200761473d7"
      },
      "source": [
        "# movies dataframe에서 title 영화 제작 연도를 분리\n",
        "movies['year'] = movies['title'].apply(lambda x: x[-5:-1]).astype(int)\n",
        "movies['title'] = movies['title'].apply(lambda x: x[:-7])\n",
        "movies.head(5)"
      ],
      "execution_count": 9,
      "outputs": [
        {
          "output_type": "execute_result",
          "data": {
            "text/html": [
              "<div>\n",
              "<style scoped>\n",
              "    .dataframe tbody tr th:only-of-type {\n",
              "        vertical-align: middle;\n",
              "    }\n",
              "\n",
              "    .dataframe tbody tr th {\n",
              "        vertical-align: top;\n",
              "    }\n",
              "\n",
              "    .dataframe thead th {\n",
              "        text-align: right;\n",
              "    }\n",
              "</style>\n",
              "<table border=\"1\" class=\"dataframe\">\n",
              "  <thead>\n",
              "    <tr style=\"text-align: right;\">\n",
              "      <th></th>\n",
              "      <th>movie_id</th>\n",
              "      <th>title</th>\n",
              "      <th>genre</th>\n",
              "      <th>year</th>\n",
              "    </tr>\n",
              "  </thead>\n",
              "  <tbody>\n",
              "    <tr>\n",
              "      <th>0</th>\n",
              "      <td>1</td>\n",
              "      <td>Toy Story</td>\n",
              "      <td>Animation|Children's|Comedy</td>\n",
              "      <td>1995</td>\n",
              "    </tr>\n",
              "    <tr>\n",
              "      <th>1</th>\n",
              "      <td>2</td>\n",
              "      <td>Jumanji</td>\n",
              "      <td>Adventure|Children's|Fantasy</td>\n",
              "      <td>1995</td>\n",
              "    </tr>\n",
              "    <tr>\n",
              "      <th>2</th>\n",
              "      <td>3</td>\n",
              "      <td>Grumpier Old Men</td>\n",
              "      <td>Comedy|Romance</td>\n",
              "      <td>1995</td>\n",
              "    </tr>\n",
              "    <tr>\n",
              "      <th>3</th>\n",
              "      <td>4</td>\n",
              "      <td>Waiting to Exhale</td>\n",
              "      <td>Comedy|Drama</td>\n",
              "      <td>1995</td>\n",
              "    </tr>\n",
              "    <tr>\n",
              "      <th>4</th>\n",
              "      <td>5</td>\n",
              "      <td>Father of the Bride Part II</td>\n",
              "      <td>Comedy</td>\n",
              "      <td>1995</td>\n",
              "    </tr>\n",
              "  </tbody>\n",
              "</table>\n",
              "</div>"
            ],
            "text/plain": [
              "   movie_id                        title                         genre  year\n",
              "0         1                    Toy Story   Animation|Children's|Comedy  1995\n",
              "1         2                      Jumanji  Adventure|Children's|Fantasy  1995\n",
              "2         3             Grumpier Old Men                Comedy|Romance  1995\n",
              "3         4            Waiting to Exhale                  Comedy|Drama  1995\n",
              "4         5  Father of the Bride Part II                        Comedy  1995"
            ]
          },
          "metadata": {
            "tags": []
          },
          "execution_count": 9
        }
      ]
    },
    {
      "cell_type": "code",
      "metadata": {
        "colab": {
          "base_uri": "https://localhost:8080/",
          "height": 419
        },
        "id": "dUmar_ANDVkH",
        "outputId": "992c607b-0b6b-4b04-93b4-8093b0a3fb6f"
      },
      "source": [
        "# 데이터 시각화를 위한 full 데이터프레임 생성\n",
        "full = pd.merge(ratings, movies, how='inner', on='movie_id')\n",
        "display(full)"
      ],
      "execution_count": 10,
      "outputs": [
        {
          "output_type": "display_data",
          "data": {
            "text/html": [
              "<div>\n",
              "<style scoped>\n",
              "    .dataframe tbody tr th:only-of-type {\n",
              "        vertical-align: middle;\n",
              "    }\n",
              "\n",
              "    .dataframe tbody tr th {\n",
              "        vertical-align: top;\n",
              "    }\n",
              "\n",
              "    .dataframe thead th {\n",
              "        text-align: right;\n",
              "    }\n",
              "</style>\n",
              "<table border=\"1\" class=\"dataframe\">\n",
              "  <thead>\n",
              "    <tr style=\"text-align: right;\">\n",
              "      <th></th>\n",
              "      <th>user_id</th>\n",
              "      <th>movie_id</th>\n",
              "      <th>rating</th>\n",
              "      <th>title</th>\n",
              "      <th>genre</th>\n",
              "      <th>year</th>\n",
              "    </tr>\n",
              "  </thead>\n",
              "  <tbody>\n",
              "    <tr>\n",
              "      <th>0</th>\n",
              "      <td>1</td>\n",
              "      <td>1193</td>\n",
              "      <td>5</td>\n",
              "      <td>One Flew Over the Cuckoo's Nest</td>\n",
              "      <td>Drama</td>\n",
              "      <td>1975</td>\n",
              "    </tr>\n",
              "    <tr>\n",
              "      <th>1</th>\n",
              "      <td>2</td>\n",
              "      <td>1193</td>\n",
              "      <td>5</td>\n",
              "      <td>One Flew Over the Cuckoo's Nest</td>\n",
              "      <td>Drama</td>\n",
              "      <td>1975</td>\n",
              "    </tr>\n",
              "    <tr>\n",
              "      <th>2</th>\n",
              "      <td>12</td>\n",
              "      <td>1193</td>\n",
              "      <td>4</td>\n",
              "      <td>One Flew Over the Cuckoo's Nest</td>\n",
              "      <td>Drama</td>\n",
              "      <td>1975</td>\n",
              "    </tr>\n",
              "    <tr>\n",
              "      <th>3</th>\n",
              "      <td>15</td>\n",
              "      <td>1193</td>\n",
              "      <td>4</td>\n",
              "      <td>One Flew Over the Cuckoo's Nest</td>\n",
              "      <td>Drama</td>\n",
              "      <td>1975</td>\n",
              "    </tr>\n",
              "    <tr>\n",
              "      <th>4</th>\n",
              "      <td>17</td>\n",
              "      <td>1193</td>\n",
              "      <td>5</td>\n",
              "      <td>One Flew Over the Cuckoo's Nest</td>\n",
              "      <td>Drama</td>\n",
              "      <td>1975</td>\n",
              "    </tr>\n",
              "    <tr>\n",
              "      <th>...</th>\n",
              "      <td>...</td>\n",
              "      <td>...</td>\n",
              "      <td>...</td>\n",
              "      <td>...</td>\n",
              "      <td>...</td>\n",
              "      <td>...</td>\n",
              "    </tr>\n",
              "    <tr>\n",
              "      <th>836473</th>\n",
              "      <td>5851</td>\n",
              "      <td>3607</td>\n",
              "      <td>5</td>\n",
              "      <td>One Little Indian</td>\n",
              "      <td>Comedy|Drama|Western</td>\n",
              "      <td>1973</td>\n",
              "    </tr>\n",
              "    <tr>\n",
              "      <th>836474</th>\n",
              "      <td>5854</td>\n",
              "      <td>3026</td>\n",
              "      <td>4</td>\n",
              "      <td>Slaughterhouse</td>\n",
              "      <td>Horror</td>\n",
              "      <td>1987</td>\n",
              "    </tr>\n",
              "    <tr>\n",
              "      <th>836475</th>\n",
              "      <td>5854</td>\n",
              "      <td>690</td>\n",
              "      <td>3</td>\n",
              "      <td>Promise, The (Versprechen, Das)</td>\n",
              "      <td>Romance</td>\n",
              "      <td>1994</td>\n",
              "    </tr>\n",
              "    <tr>\n",
              "      <th>836476</th>\n",
              "      <td>5938</td>\n",
              "      <td>2909</td>\n",
              "      <td>4</td>\n",
              "      <td>Five Wives, Three Secretaries and Me</td>\n",
              "      <td>Documentary</td>\n",
              "      <td>1998</td>\n",
              "    </tr>\n",
              "    <tr>\n",
              "      <th>836477</th>\n",
              "      <td>5948</td>\n",
              "      <td>1360</td>\n",
              "      <td>5</td>\n",
              "      <td>Identification of a Woman (Identificazione di ...</td>\n",
              "      <td>Drama</td>\n",
              "      <td>1982</td>\n",
              "    </tr>\n",
              "  </tbody>\n",
              "</table>\n",
              "<p>836478 rows × 6 columns</p>\n",
              "</div>"
            ],
            "text/plain": [
              "        user_id  movie_id  ...                 genre  year\n",
              "0             1      1193  ...                 Drama  1975\n",
              "1             2      1193  ...                 Drama  1975\n",
              "2            12      1193  ...                 Drama  1975\n",
              "3            15      1193  ...                 Drama  1975\n",
              "4            17      1193  ...                 Drama  1975\n",
              "...         ...       ...  ...                   ...   ...\n",
              "836473     5851      3607  ...  Comedy|Drama|Western  1973\n",
              "836474     5854      3026  ...                Horror  1987\n",
              "836475     5854       690  ...               Romance  1994\n",
              "836476     5938      2909  ...           Documentary  1998\n",
              "836477     5948      1360  ...                 Drama  1982\n",
              "\n",
              "[836478 rows x 6 columns]"
            ]
          },
          "metadata": {
            "tags": []
          }
        }
      ]
    },
    {
      "cell_type": "code",
      "metadata": {
        "colab": {
          "base_uri": "https://localhost:8080/"
        },
        "id": "sR4_PWWwEzHh",
        "outputId": "d77eaa4d-6f9d-4e9e-e134-53a176cd806a"
      },
      "source": [
        "# rating이 많이 된 영화 30개\n",
        "movie_count = full.groupby('title')['user_id'].count()\n",
        "movie_count.sort_values(ascending=False).head(30)"
      ],
      "execution_count": 11,
      "outputs": [
        {
          "output_type": "execute_result",
          "data": {
            "text/plain": [
              "title\n",
              "American Beauty                                   3211\n",
              "Star Wars: Episode IV - A New Hope                2910\n",
              "Star Wars: Episode V - The Empire Strikes Back    2885\n",
              "Star Wars: Episode VI - Return of the Jedi        2716\n",
              "Saving Private Ryan                               2561\n",
              "Terminator 2: Judgment Day                        2509\n",
              "Silence of the Lambs, The                         2498\n",
              "Raiders of the Lost Ark                           2473\n",
              "Back to the Future                                2460\n",
              "Matrix, The                                       2434\n",
              "Jurassic Park                                     2413\n",
              "Sixth Sense, The                                  2385\n",
              "Fargo                                             2371\n",
              "Braveheart                                        2314\n",
              "Men in Black                                      2297\n",
              "Schindler's List                                  2257\n",
              "Princess Bride, The                               2252\n",
              "Shakespeare in Love                               2213\n",
              "L.A. Confidential                                 2210\n",
              "Shawshank Redemption, The                         2194\n",
              "Godfather, The                                    2167\n",
              "Groundhog Day                                     2121\n",
              "E.T. the Extra-Terrestrial                        2102\n",
              "Being John Malkovich                              2066\n",
              "Ghostbusters                                      2051\n",
              "Pulp Fiction                                      2030\n",
              "Forrest Gump                                      2022\n",
              "Terminator, The                                   2019\n",
              "Toy Story                                         2000\n",
              "Fugitive, The                                     1941\n",
              "Name: user_id, dtype: int64"
            ]
          },
          "metadata": {
            "tags": []
          },
          "execution_count": 11
        }
      ]
    },
    {
      "cell_type": "code",
      "metadata": {
        "colab": {
          "base_uri": "https://localhost:8080/"
        },
        "id": "dSWzq701BnXX",
        "outputId": "0d74971c-8ed0-4f46-e614-575ec842c7cb"
      },
      "source": [
        "# rating이 각각 5점인 영화 순위\n",
        "x = full[full['rating']==5]\n",
        "movie_count = x.groupby('title')['user_id'].count()\n",
        "print(\"rating이 5점인 영화 순위\")\n",
        "print(movie_count.sort_values(ascending=False).head(5))\n",
        "print(\"------------------------------------------------\")"
      ],
      "execution_count": 12,
      "outputs": [
        {
          "output_type": "stream",
          "text": [
            "rating이 5점인 영화 순위\n",
            "title\n",
            "American Beauty                                   1963\n",
            "Star Wars: Episode IV - A New Hope                1826\n",
            "Raiders of the Lost Ark                           1500\n",
            "Star Wars: Episode V - The Empire Strikes Back    1483\n",
            "Schindler's List                                  1475\n",
            "Name: user_id, dtype: int64\n",
            "------------------------------------------------\n"
          ],
          "name": "stdout"
        }
      ]
    },
    {
      "cell_type": "markdown",
      "metadata": {
        "id": "vNzd9PLVFZqh"
      },
      "source": [
        "- 어떤 영화가 인기가 많을까? American Beauty (1999) 영화를 rating한 사용자들이 가장 많습니다."
      ]
    },
    {
      "cell_type": "code",
      "metadata": {
        "colab": {
          "base_uri": "https://localhost:8080/",
          "height": 472
        },
        "id": "QqbQLd8XwU_M",
        "outputId": "191fa336-3469-41f5-baae-b3b925ecf21d"
      },
      "source": [
        "# 영화별 평균 평점 분포\n",
        "rating_average = full.groupby('title')['rating'].mean()\n",
        "plt.figure(figsize=(12, 8))\n",
        "rating_average.plot.bar()\n",
        "ax = plt.gca()\n",
        "ax.axes.xaxis.set_visible(False)\n",
        "plt.show()"
      ],
      "execution_count": 13,
      "outputs": [
        {
          "output_type": "display_data",
          "data": {
            "image/png": "[encoded data removed]",
            "text/plain": [
              "<Figure size 864x576 with 1 Axes>"
            ]
          },
          "metadata": {
            "tags": [],
            "needs_background": "light"
          }
        }
      ]
    },
    {
      "cell_type": "markdown",
      "metadata": {
        "id": "MDdDSu65yIYM"
      },
      "source": [
        "- rating이 3점 이상인 영화만 필터링했더니 평균 rating은 주로 3~4 사이에 분포해있습니다."
      ]
    },
    {
      "cell_type": "code",
      "metadata": {
        "colab": {
          "base_uri": "https://localhost:8080/"
        },
        "id": "Xbfj5_qgxy6j",
        "outputId": "01e24711-42ef-473b-d4bf-f3cc8ce41864"
      },
      "source": [
        "# 평균 rating 점수가 높은 순위\n",
        "rating_average.sort_values(ascending=False).head(30)"
      ],
      "execution_count": 14,
      "outputs": [
        {
          "output_type": "execute_result",
          "data": {
            "text/plain": [
              "title\n",
              "Country Life                                                    5.000000\n",
              "Gate of Heavenly Peace, The                                     5.000000\n",
              "Schlafes Bruder (Brother of Sleep)                              5.000000\n",
              "Ulysses (Ulisse)                                                5.000000\n",
              "Black Sunday (La Maschera Del Demonio)                          5.000000\n",
              "Bittersweet Motel                                               5.000000\n",
              "Lured                                                           5.000000\n",
              "Criminal Lovers (Les Amants Criminels)                          5.000000\n",
              "Foreign Student                                                 5.000000\n",
              "Song of Freedom                                                 5.000000\n",
              "One Little Indian                                               5.000000\n",
              "Message to Love: The Isle of Wight Festival                     5.000000\n",
              "Identification of a Woman (Identificazione di una donna)        5.000000\n",
              "Smashing Time                                                   5.000000\n",
              "Paralyzing Fear: The Story of Polio in America, A               5.000000\n",
              "Zachariah                                                       5.000000\n",
              "Late Bloomers                                                   5.000000\n",
              "Follow the Bitch                                                5.000000\n",
              "Baby, The                                                       5.000000\n",
              "I Am Cuba (Soy Cuba/Ya Kuba)                                    4.800000\n",
              "Seven Chances                                                   4.750000\n",
              "Lamerica                                                        4.750000\n",
              "Firelight                                                       4.666667\n",
              "Apple, The (Sib)                                                4.666667\n",
              "Sunset Strip                                                    4.666667\n",
              "Sanjuro                                                         4.647059\n",
              "Seven Samurai (The Magnificent Seven) (Shichinin no samurai)    4.629690\n",
              "World of Apu, The (Apur Sansar)                                 4.603774\n",
              "Godfather, The                                                  4.598523\n",
              "Shawshank Redemption, The                                       4.596627\n",
              "Name: rating, dtype: float64"
            ]
          },
          "metadata": {
            "tags": []
          },
          "execution_count": 14
        }
      ]
    },
    {
      "cell_type": "code",
      "metadata": {
        "colab": {
          "base_uri": "https://localhost:8080/",
          "height": 472
        },
        "id": "q-2u7xOhZXk8",
        "outputId": "ea5e1493-abee-4fd5-e951-23ab02cdca86"
      },
      "source": [
        "# genre별 영화 개수 분포 시각화\n",
        "movie_genre = movies.groupby('genre')['title'].count()\n",
        "\n",
        "plt.figure(figsize=(12, 8))\n",
        "movie_genre.plot.bar()\n",
        "ax = plt.gca()\n",
        "ax.axes.xaxis.set_visible(False)\n",
        "plt.grid(True)\n",
        "plt.show()"
      ],
      "execution_count": 15,
      "outputs": [
        {
          "output_type": "display_data",
          "data": {
            "image/png": "[encoded data removed]",
            "text/plain": [
              "<Figure size 864x576 with 1 Axes>"
            ]
          },
          "metadata": {
            "tags": [],
            "needs_background": "light"
          }
        }
      ]
    },
    {
      "cell_type": "markdown",
      "metadata": {
        "id": "Rg5B64ord1Ie"
      },
      "source": [
        "- 영화 genre의 분포를 보니 몇몇 gnere 들이 눈에 띄게 많은 것을 볼 수 있습니다."
      ]
    },
    {
      "cell_type": "code",
      "metadata": {
        "colab": {
          "base_uri": "https://localhost:8080/"
        },
        "id": "A5j8bteHbGjg",
        "outputId": "ae91fbfd-6474-4d8d-b247-eee63caa004b"
      },
      "source": [
        "# genre 개수가 많은 순 10위\n",
        "movie_genre.sort_values(ascending=False).head(10)"
      ],
      "execution_count": 16,
      "outputs": [
        {
          "output_type": "execute_result",
          "data": {
            "text/plain": [
              "genre\n",
              "Drama             843\n",
              "Comedy            521\n",
              "Horror            178\n",
              "Comedy|Drama      162\n",
              "Comedy|Romance    142\n",
              "Drama|Romance     134\n",
              "Documentary       116\n",
              "Thriller          101\n",
              "Action             65\n",
              "Drama|Thriller     63\n",
              "Name: title, dtype: int64"
            ]
          },
          "metadata": {
            "tags": []
          },
          "execution_count": 16
        }
      ]
    },
    {
      "cell_type": "code",
      "metadata": {
        "colab": {
          "base_uri": "https://localhost:8080/",
          "height": 404
        },
        "id": "KkOfPyfDfxsO",
        "outputId": "4110ac4c-41d8-4853-a9b3-ec4758f2bd1b"
      },
      "source": [
        "# 연도별 영화 분포\n",
        "movie_year = movies.groupby('year')['title'].count()\n",
        "plt.figure(figsize= (18, 6))\n",
        "movie_year.plot.bar()"
      ],
      "execution_count": 17,
      "outputs": [
        {
          "output_type": "execute_result",
          "data": {
            "text/plain": [
              "<matplotlib.axes._subplots.AxesSubplot at 0x7ff1ff8d9150>"
            ]
          },
          "metadata": {
            "tags": []
          },
          "execution_count": 17
        },
        {
          "output_type": "display_data",
          "data": {
            "image/png": "[encoded data removed]",
            "text/plain": [
              "<Figure size 1296x432 with 1 Axes>"
            ]
          },
          "metadata": {
            "tags": [],
            "needs_background": "light"
          }
        }
      ]
    },
    {
      "cell_type": "markdown",
      "metadata": {
        "id": "dt6LmIjkgxOh"
      },
      "source": [
        "- 데이터셋에는 90년대 영화가 많네요."
      ]
    },
    {
      "cell_type": "code",
      "metadata": {
        "colab": {
          "base_uri": "https://localhost:8080/",
          "height": 299
        },
        "id": "Uq94kQDshEp4",
        "outputId": "a5697703-0735-4e77-d53f-0f40823bd985"
      },
      "source": [
        "users.groupby('Age')['user_id'].count().plot.bar()"
      ],
      "execution_count": 18,
      "outputs": [
        {
          "output_type": "execute_result",
          "data": {
            "text/plain": [
              "<matplotlib.axes._subplots.AxesSubplot at 0x7ff1ff6b6890>"
            ]
          },
          "metadata": {
            "tags": []
          },
          "execution_count": 18
        },
        {
          "output_type": "display_data",
          "data": {
            "image/png": "[encoded data removed]",
            "text/plain": [
              "<Figure size 432x288 with 1 Axes>"
            ]
          },
          "metadata": {
            "tags": [],
            "needs_background": "light"
          }
        }
      ]
    },
    {
      "cell_type": "markdown",
      "metadata": {
        "id": "vRNw5K0OirKi"
      },
      "source": [
        "- user의 나이대는 20대가 가장 많습니다."
      ]
    },
    {
      "cell_type": "code",
      "metadata": {
        "colab": {
          "base_uri": "https://localhost:8080/",
          "height": 295
        },
        "id": "kosFa5BIhSXK",
        "outputId": "b52c6010-4246-4748-9709-0d0cdb13b51e"
      },
      "source": [
        "users.groupby('Gender')['user_id'].count().plot.bar()"
      ],
      "execution_count": 19,
      "outputs": [
        {
          "output_type": "execute_result",
          "data": {
            "text/plain": [
              "<matplotlib.axes._subplots.AxesSubplot at 0x7ff1ff629090>"
            ]
          },
          "metadata": {
            "tags": []
          },
          "execution_count": 19
        },
        {
          "output_type": "display_data",
          "data": {
            "image/png": "[encoded data removed]",
            "text/plain": [
              "<Figure size 432x288 with 1 Axes>"
            ]
          },
          "metadata": {
            "tags": [],
            "needs_background": "light"
          }
        }
      ]
    },
    {
      "cell_type": "markdown",
      "metadata": {
        "id": "-8mKUPQViyc9"
      },
      "source": [
        "- user의 성별은 남성이 여성보다 2배 이상 많은 것 같습니다."
      ]
    },
    {
      "cell_type": "code",
      "metadata": {
        "colab": {
          "base_uri": "https://localhost:8080/"
        },
        "id": "f6fcd02ZFpI0",
        "outputId": "004d3a80-ef4b-441a-9069-1dcc8c715f9a"
      },
      "source": [
        "# 유저 별로 영화 rating을 얼마나 했는지 통계\n",
        "user_count = ratings.groupby('user_id')['movie_id'].count()\n",
        "user_count.describe()"
      ],
      "execution_count": 20,
      "outputs": [
        {
          "output_type": "execute_result",
          "data": {
            "text/plain": [
              "count    6039.000000\n",
              "mean      138.512668\n",
              "std       156.241599\n",
              "min         1.000000\n",
              "25%        38.000000\n",
              "50%        81.000000\n",
              "75%       177.000000\n",
              "max      1968.000000\n",
              "Name: movie_id, dtype: float64"
            ]
          },
          "metadata": {
            "tags": []
          },
          "execution_count": 20
        }
      ]
    },
    {
      "cell_type": "code",
      "metadata": {
        "colab": {
          "base_uri": "https://localhost:8080/"
        },
        "id": "8Epeh04xH-AR",
        "outputId": "80c71fdd-2bfb-49e3-d983-fb39805fae92"
      },
      "source": [
        "print(\"고유한 movie_id 개수:\", movies[\"movie_id\"].nunique())\n",
        "print(\"고유한 user_id 개수:\", users[\"user_id\"].nunique())"
      ],
      "execution_count": 21,
      "outputs": [
        {
          "output_type": "stream",
          "text": [
            "고유한 movie_id 개수: 3883\n",
            "고유한 user_id 개수: 6040\n"
          ],
          "name": "stdout"
        }
      ]
    },
    {
      "cell_type": "code",
      "metadata": {
        "colab": {
          "base_uri": "https://localhost:8080/",
          "height": 376
        },
        "id": "ZxOluUP0G6Is",
        "outputId": "1ab43d3f-1c44-42d8-8265-b831dc617851"
      },
      "source": [
        "# 제가 좋아하는 영화를 6개 추가합니다. movie_id로 바꿔서 추가할 것입니다.\n",
        "my_favorite = ['Jurassic Park' , 'Back to the Future' ,\n",
        "               'Schindler\\'s List' ,'Shawshank Redemption, The' ,\n",
        "               'Toy Story', 'Jumanji']\n",
        "\n",
        "index = movies['movie_id'].where(movies['title'].isin(my_favorite))\n",
        "index = index.dropna().astype(int)\n",
        "my_favorite = [id for id in index]\n",
        "print(my_favorite)\n",
        "\n",
        "# 'Minji'이라는 user_id가 위 영화 평점을 5로 주었다고 가정합니다.\n",
        "my_playlist = pd.DataFrame({'user_id': ['Minji']*6, 'movie_id': my_favorite, 'rating':[5]*6})\n",
        "\n",
        "if not ratings.isin({'user_id':['Minji']})['user_id'].any():  # user_id에 'Minji'이라는 데이터가 없다면\n",
        "    ratings = ratings.append(my_playlist)                           # 위에 임의로 만든 my_favorite 데이터를 추가해 줍니다. \n",
        "\n",
        "ratings.tail(10)       # 잘 추가되었는지 확인해 봅시다."
      ],
      "execution_count": 22,
      "outputs": [
        {
          "output_type": "stream",
          "text": [
            "[1, 2, 318, 480, 527, 1270]\n"
          ],
          "name": "stdout"
        },
        {
          "output_type": "execute_result",
          "data": {
            "text/html": [
              "<div>\n",
              "<style scoped>\n",
              "    .dataframe tbody tr th:only-of-type {\n",
              "        vertical-align: middle;\n",
              "    }\n",
              "\n",
              "    .dataframe tbody tr th {\n",
              "        vertical-align: top;\n",
              "    }\n",
              "\n",
              "    .dataframe thead th {\n",
              "        text-align: right;\n",
              "    }\n",
              "</style>\n",
              "<table border=\"1\" class=\"dataframe\">\n",
              "  <thead>\n",
              "    <tr style=\"text-align: right;\">\n",
              "      <th></th>\n",
              "      <th>user_id</th>\n",
              "      <th>movie_id</th>\n",
              "      <th>rating</th>\n",
              "    </tr>\n",
              "  </thead>\n",
              "  <tbody>\n",
              "    <tr>\n",
              "      <th>1000205</th>\n",
              "      <td>6040</td>\n",
              "      <td>1094</td>\n",
              "      <td>5</td>\n",
              "    </tr>\n",
              "    <tr>\n",
              "      <th>1000206</th>\n",
              "      <td>6040</td>\n",
              "      <td>562</td>\n",
              "      <td>5</td>\n",
              "    </tr>\n",
              "    <tr>\n",
              "      <th>1000207</th>\n",
              "      <td>6040</td>\n",
              "      <td>1096</td>\n",
              "      <td>4</td>\n",
              "    </tr>\n",
              "    <tr>\n",
              "      <th>1000208</th>\n",
              "      <td>6040</td>\n",
              "      <td>1097</td>\n",
              "      <td>4</td>\n",
              "    </tr>\n",
              "    <tr>\n",
              "      <th>0</th>\n",
              "      <td>Minji</td>\n",
              "      <td>1</td>\n",
              "      <td>5</td>\n",
              "    </tr>\n",
              "    <tr>\n",
              "      <th>1</th>\n",
              "      <td>Minji</td>\n",
              "      <td>2</td>\n",
              "      <td>5</td>\n",
              "    </tr>\n",
              "    <tr>\n",
              "      <th>2</th>\n",
              "      <td>Minji</td>\n",
              "      <td>318</td>\n",
              "      <td>5</td>\n",
              "    </tr>\n",
              "    <tr>\n",
              "      <th>3</th>\n",
              "      <td>Minji</td>\n",
              "      <td>480</td>\n",
              "      <td>5</td>\n",
              "    </tr>\n",
              "    <tr>\n",
              "      <th>4</th>\n",
              "      <td>Minji</td>\n",
              "      <td>527</td>\n",
              "      <td>5</td>\n",
              "    </tr>\n",
              "    <tr>\n",
              "      <th>5</th>\n",
              "      <td>Minji</td>\n",
              "      <td>1270</td>\n",
              "      <td>5</td>\n",
              "    </tr>\n",
              "  </tbody>\n",
              "</table>\n",
              "</div>"
            ],
            "text/plain": [
              "        user_id  movie_id  rating\n",
              "1000205    6040      1094       5\n",
              "1000206    6040       562       5\n",
              "1000207    6040      1096       4\n",
              "1000208    6040      1097       4\n",
              "0         Minji         1       5\n",
              "1         Minji         2       5\n",
              "2         Minji       318       5\n",
              "3         Minji       480       5\n",
              "4         Minji       527       5\n",
              "5         Minji      1270       5"
            ]
          },
          "metadata": {
            "tags": []
          },
          "execution_count": 22
        }
      ]
    },
    {
      "cell_type": "code",
      "metadata": {
        "id": "b_DF_BEJJgqS"
      },
      "source": [
        "ratings['user_id'].replace({'Minji': 6041}, inplace = True)"
      ],
      "execution_count": 23,
      "outputs": []
    },
    {
      "cell_type": "code",
      "metadata": {
        "colab": {
          "base_uri": "https://localhost:8080/",
          "height": 359
        },
        "id": "3xykfl4dv4A9",
        "outputId": "eda62e7f-cb14-464c-8a8e-0b18bed1ca44"
      },
      "source": [
        "ratings.tail(10)"
      ],
      "execution_count": 24,
      "outputs": [
        {
          "output_type": "execute_result",
          "data": {
            "text/html": [
              "<div>\n",
              "<style scoped>\n",
              "    .dataframe tbody tr th:only-of-type {\n",
              "        vertical-align: middle;\n",
              "    }\n",
              "\n",
              "    .dataframe tbody tr th {\n",
              "        vertical-align: top;\n",
              "    }\n",
              "\n",
              "    .dataframe thead th {\n",
              "        text-align: right;\n",
              "    }\n",
              "</style>\n",
              "<table border=\"1\" class=\"dataframe\">\n",
              "  <thead>\n",
              "    <tr style=\"text-align: right;\">\n",
              "      <th></th>\n",
              "      <th>user_id</th>\n",
              "      <th>movie_id</th>\n",
              "      <th>rating</th>\n",
              "    </tr>\n",
              "  </thead>\n",
              "  <tbody>\n",
              "    <tr>\n",
              "      <th>1000205</th>\n",
              "      <td>6040</td>\n",
              "      <td>1094</td>\n",
              "      <td>5</td>\n",
              "    </tr>\n",
              "    <tr>\n",
              "      <th>1000206</th>\n",
              "      <td>6040</td>\n",
              "      <td>562</td>\n",
              "      <td>5</td>\n",
              "    </tr>\n",
              "    <tr>\n",
              "      <th>1000207</th>\n",
              "      <td>6040</td>\n",
              "      <td>1096</td>\n",
              "      <td>4</td>\n",
              "    </tr>\n",
              "    <tr>\n",
              "      <th>1000208</th>\n",
              "      <td>6040</td>\n",
              "      <td>1097</td>\n",
              "      <td>4</td>\n",
              "    </tr>\n",
              "    <tr>\n",
              "      <th>0</th>\n",
              "      <td>6041</td>\n",
              "      <td>1</td>\n",
              "      <td>5</td>\n",
              "    </tr>\n",
              "    <tr>\n",
              "      <th>1</th>\n",
              "      <td>6041</td>\n",
              "      <td>2</td>\n",
              "      <td>5</td>\n",
              "    </tr>\n",
              "    <tr>\n",
              "      <th>2</th>\n",
              "      <td>6041</td>\n",
              "      <td>318</td>\n",
              "      <td>5</td>\n",
              "    </tr>\n",
              "    <tr>\n",
              "      <th>3</th>\n",
              "      <td>6041</td>\n",
              "      <td>480</td>\n",
              "      <td>5</td>\n",
              "    </tr>\n",
              "    <tr>\n",
              "      <th>4</th>\n",
              "      <td>6041</td>\n",
              "      <td>527</td>\n",
              "      <td>5</td>\n",
              "    </tr>\n",
              "    <tr>\n",
              "      <th>5</th>\n",
              "      <td>6041</td>\n",
              "      <td>1270</td>\n",
              "      <td>5</td>\n",
              "    </tr>\n",
              "  </tbody>\n",
              "</table>\n",
              "</div>"
            ],
            "text/plain": [
              "         user_id  movie_id  rating\n",
              "1000205     6040      1094       5\n",
              "1000206     6040       562       5\n",
              "1000207     6040      1096       4\n",
              "1000208     6040      1097       4\n",
              "0           6041         1       5\n",
              "1           6041         2       5\n",
              "2           6041       318       5\n",
              "3           6041       480       5\n",
              "4           6041       527       5\n",
              "5           6041      1270       5"
            ]
          },
          "metadata": {
            "tags": []
          },
          "execution_count": 24
        }
      ]
    },
    {
      "cell_type": "markdown",
      "metadata": {
        "id": "taNODNQloBYh"
      },
      "source": [
        "## 2. CF(Collaborative Filtering)을 하기 위해 CSR Matrix 생성"
      ]
    },
    {
      "cell_type": "code",
      "metadata": {
        "colab": {
          "base_uri": "https://localhost:8080/"
        },
        "id": "polWnlnG5YHE",
        "outputId": "d83e3c77-be41-4eef-e72c-07d34fb2445b"
      },
      "source": [
        "# compressed sparse row matrix를 만들고자 합니다.\n",
        "# 앞에서 ratings 3 이상인 것들로 filtering 해주었으므로 movie id와 user id 인덱싱이 일부 사라졌습니다.\n",
        "# 그래서 최댓값을 구해주고, 번호가 1부터 시작하기 때문에 1을 더해주었습니다.\n",
        "num_user = ratings[\"user_id\"].max() + 1\n",
        "num_movies = ratings['movie_id'].max() + 1\n",
        "print(num_user)\n",
        "print(num_movies)"
      ],
      "execution_count": 25,
      "outputs": [
        {
          "output_type": "stream",
          "text": [
            "6042\n",
            "3953\n"
          ],
          "name": "stdout"
        }
      ]
    },
    {
      "cell_type": "code",
      "metadata": {
        "colab": {
          "base_uri": "https://localhost:8080/"
        },
        "id": "1Q8A5IZ75YMX",
        "outputId": "87fc1c0d-6ea1-4375-b305-2678e5c25609"
      },
      "source": [
        "csr_ratings = csr_matrix((ratings.rating, (ratings.user_id, ratings.movie_id)), shape=(num_user, num_movies))\n",
        "csr_ratings"
      ],
      "execution_count": 26,
      "outputs": [
        {
          "output_type": "execute_result",
          "data": {
            "text/plain": [
              "<6042x3953 sparse matrix of type '<class 'numpy.longlong'>'\n",
              "\twith 836484 stored elements in Compressed Sparse Row format>"
            ]
          },
          "metadata": {
            "tags": []
          },
          "execution_count": 26
        }
      ]
    },
    {
      "cell_type": "markdown",
      "metadata": {
        "id": "OQv-FNR2n5HX"
      },
      "source": [
        "## 3. implicit의 AlternatingLeastSquares를 활용한 영화 추천"
      ]
    },
    {
      "cell_type": "code",
      "metadata": {
        "id": "zQsnU3nh5YFG"
      },
      "source": [
        "# implicit 패키지를 활용해서 matrix factorization 학습하기\n",
        "from implicit.als import AlternatingLeastSquares\n",
        "\n",
        "# implicit 라이브러리에서 권장하고 있는 부분입니다. 학습 내용과는 무관합니다.\n",
        "os.environ['OPENBLAS_NUM_THREADS']='1'\n",
        "os.environ['KMP_DUPLICATE_LIB_OK']='True'\n",
        "os.environ['MKL_NUM_THREADS']='1'"
      ],
      "execution_count": 27,
      "outputs": []
    },
    {
      "cell_type": "code",
      "metadata": {
        "id": "Ts9FeKlf5YPi"
      },
      "source": [
        "# alternating least squares 모델 정의\n",
        "als_model = AlternatingLeastSquares(factors=128, regularization=0.01, use_gpu=False, iterations=15, dtype=np.float32)"
      ],
      "execution_count": 28,
      "outputs": []
    },
    {
      "cell_type": "code",
      "metadata": {
        "colab": {
          "base_uri": "https://localhost:8080/",
          "height": 49,
          "referenced_widgets": [
            "5c29b6fa4e1349739ba4b4e04294a872",
            "c89ad29bfe2243be9d2e5937a7855b50",
            "3bd60b6feeb44aa2b5316b75eeb45d6d",
            "3d6d0605a4fe4280b4f2912c4da2ec25",
            "a8601f15d593446e894d8d190e457138",
            "f012079c9f6343a886f01497f42421f5",
            "26b4db6a65ed4535a7f1db9f3e1bdc5a",
            "f8cf98166fcc4ddf82bde00bef3a5042",
            "80299d2ea3dd42688771264c42cfa485",
            "623edf32e39d47b6af0974529c68ba6e",
            "112d07b79f9040999fc49d31662bac6a"
          ]
        },
        "id": "nqdspxyB2Blb",
        "outputId": "031cf79b-1695-432c-bc09-90ad2997cff2"
      },
      "source": [
        "# input으로 (item * user) 형태로 바꾸어줍니다.\n",
        "csr_ratings_transpose = csr_ratings.T\n",
        "\n",
        "# 모델 훈련\n",
        "als_model.fit(csr_ratings_transpose)"
      ],
      "execution_count": 29,
      "outputs": [
        {
          "output_type": "display_data",
          "data": {
            "application/vnd.jupyter.widget-view+json": {
              "model_id": "5c29b6fa4e1349739ba4b4e04294a872",
              "version_minor": 0,
              "version_major": 2
            },
            "text/plain": [
              "  0%|          | 0/15 [00:00<?, ?it/s]"
            ]
          },
          "metadata": {
            "tags": []
          }
        }
      ]
    },
    {
      "cell_type": "code",
      "metadata": {
        "id": "h5-7XCQr2hVs"
      },
      "source": [
        "# 영화 제목을 입력하면, movies 데이터프레임에서 movie_id를 찾아 반환해주는 함수\n",
        "def movie_id(str):\n",
        "  return movies['movie_id'].where(movies['title'] == str).dropna().astype(int).values[0]\n",
        "\n",
        "Minji_id = 6041\n",
        "jurassic_park = movie_id(\"Jurassic Park\")"
      ],
      "execution_count": 30,
      "outputs": []
    },
    {
      "cell_type": "code",
      "metadata": {
        "colab": {
          "base_uri": "https://localhost:8080/"
        },
        "id": "9icD_oG_2hkS",
        "outputId": "4a1d9f17-ef11-4f7d-fe8d-cd459878f48f"
      },
      "source": [
        "Minji_vector, jurassic_park_vector = als_model.user_factors[Minji_id], als_model.item_factors[jurassic_park]\n",
        "np.dot(Minji_vector, jurassic_park_vector)"
      ],
      "execution_count": 31,
      "outputs": [
        {
          "output_type": "execute_result",
          "data": {
            "text/plain": [
              "0.5517075"
            ]
          },
          "metadata": {
            "tags": []
          },
          "execution_count": 31
        }
      ]
    },
    {
      "cell_type": "markdown",
      "metadata": {
        "id": "A-ksTXli6jSH"
      },
      "source": [
        "- Minji 벡터와 rating을 5점 준 영화(jurassic park)의 벡터 내적이 1 과 가까운 값이 나오고 있습니다. 선호할수록 1과 가까운 값이 나옵니다."
      ]
    },
    {
      "cell_type": "code",
      "metadata": {
        "colab": {
          "base_uri": "https://localhost:8080/",
          "height": 66,
          "referenced_widgets": [
            "3b8b26576bda45e0953751d1e22c0388",
            "d772abf2730f4e23846a7f1a2d62bb83",
            "480955cd50df480f800af6e321fa9622",
            "2cb7e56729e94d05a956921265c755a7",
            "4df93d7c981f4ee3a93f09a94b2e75b8",
            "3f11f926a9d54fadbee09d9f8060920c",
            "575117c9d49c4174b52136fa46952b7d",
            "bd399a852a8c4fba8b2640115ef45284",
            "6325182d23af46b9a19c0e52a4a6201c",
            "c5c6e10446994f419004c3bf63f5f705",
            "847b670c34904647a42237b1a62e635d"
          ]
        },
        "id": "UE1nfrx-7FO8",
        "outputId": "927b4780-7723-4237-fa7c-5ff5f41633a4"
      },
      "source": [
        "als_model = AlternatingLeastSquares(factors=256, regularization=0.01, use_gpu=False, iterations=50, dtype=np.float32)\n",
        "\n",
        "# 모델 훈련\n",
        "als_model.fit(csr_ratings_transpose)\n",
        "\n",
        "Minji_vector, jurassic_park_vector = als_model.user_factors[Minji_id], als_model.item_factors[jurassic_park]\n",
        "np.dot(Minji_vector, jurassic_park_vector)"
      ],
      "execution_count": 32,
      "outputs": [
        {
          "output_type": "display_data",
          "data": {
            "application/vnd.jupyter.widget-view+json": {
              "model_id": "3b8b26576bda45e0953751d1e22c0388",
              "version_minor": 0,
              "version_major": 2
            },
            "text/plain": [
              "  0%|          | 0/50 [00:00<?, ?it/s]"
            ]
          },
          "metadata": {
            "tags": []
          }
        },
        {
          "output_type": "execute_result",
          "data": {
            "text/plain": [
              "0.81316435"
            ]
          },
          "metadata": {
            "tags": []
          },
          "execution_count": 32
        }
      ]
    },
    {
      "cell_type": "markdown",
      "metadata": {
        "id": "DokrTf45IYEW"
      },
      "source": [
        "- 내적이 1과 더 가까워졌네요."
      ]
    },
    {
      "cell_type": "code",
      "metadata": {
        "colab": {
          "base_uri": "https://localhost:8080/"
        },
        "id": "3mQUe_m77Paf",
        "outputId": "f8bc71f1-65dc-4958-9608-2f3b60a9da93"
      },
      "source": [
        "# 제가 5점을 rating한 영화 Toy Story 벡터와 내적을 구해보겠습니다.\n",
        "toy_story = movie_id(\"Toy Story\")\n",
        "toy_story_vector = als_model.item_factors[toy_story]\n",
        "np.dot(Minji_vector, toy_story_vector)"
      ],
      "execution_count": 33,
      "outputs": [
        {
          "output_type": "execute_result",
          "data": {
            "text/plain": [
              "0.7709216"
            ]
          },
          "metadata": {
            "tags": []
          },
          "execution_count": 33
        }
      ]
    },
    {
      "cell_type": "markdown",
      "metadata": {
        "id": "IQ0KWy9sIcw4"
      },
      "source": [
        "- 선호하는 영화는 내적이 1과 가깝게 나오네요."
      ]
    },
    {
      "cell_type": "code",
      "metadata": {
        "colab": {
          "base_uri": "https://localhost:8080/"
        },
        "id": "K_Oiu_cX9sDe",
        "outputId": "093bff7f-0a46-42cd-a92d-9183fbe1712b"
      },
      "source": [
        "# 제가 rating하지 않은 영화 벡터와 내적을 구해보겠습니다.\n",
        "toy_story_2 = movie_id(\"Toy Story 2\")\n",
        "vector = als_model.item_factors[toy_story_2]\n",
        "np.dot(Minji_vector, vector)"
      ],
      "execution_count": 34,
      "outputs": [
        {
          "output_type": "execute_result",
          "data": {
            "text/plain": [
              "0.33467975"
            ]
          },
          "metadata": {
            "tags": []
          },
          "execution_count": 34
        }
      ]
    },
    {
      "cell_type": "markdown",
      "metadata": {
        "id": "gq-ZuyrgImzG"
      },
      "source": [
        "- 0.5 이하의 값이 나왔네요!"
      ]
    },
    {
      "cell_type": "markdown",
      "metadata": {
        "id": "c_0Y9_KnTLLF"
      },
      "source": [
        "**내가 좋아하는 영화와 비슷한 영화 추천**"
      ]
    },
    {
      "cell_type": "code",
      "metadata": {
        "colab": {
          "base_uri": "https://localhost:8080/"
        },
        "id": "qVP0pdcKKNwF",
        "outputId": "aa786d29-b96d-4c04-b113-7c7fef1ed1b8"
      },
      "source": [
        "# movies dataframe 에서 movie_id 를 받아서, 영화 제목을 반환하는 함수\n",
        "def movie_title(index):\n",
        "  return movies['title'].where(movies['movie_id'] == index).dropna().values[0]\n",
        "\n",
        "# 영화 제목을 입력으로 받으면, 비슷한 영화를 추천해줍니다.\n",
        "def get_similar_movie(movie_name: str):\n",
        "  id = movie_id(movie_name)\n",
        "  similar_movie = als_model.similar_items(id)   # als_model 의 메서드 사용\n",
        "  similar_movie = [movie_title(i[0]) for i in similar_movie]\n",
        "  return similar_movie\n",
        "\n",
        "get_similar_movie('Toy Story')"
      ],
      "execution_count": 35,
      "outputs": [
        {
          "output_type": "execute_result",
          "data": {
            "text/plain": [
              "['Toy Story',\n",
              " 'Toy Story 2',\n",
              " 'Aladdin',\n",
              " \"Bug's Life, A\",\n",
              " 'Nobody Loves Me (Keiner liebt mich)',\n",
              " 'Amityville: Dollhouse',\n",
              " 'Best Men',\n",
              " 'Falling in Love Again',\n",
              " 'Impact',\n",
              " 'Soft Toilet Seats']"
            ]
          },
          "metadata": {
            "tags": []
          },
          "execution_count": 35
        }
      ]
    },
    {
      "cell_type": "markdown",
      "metadata": {
        "id": "HKwzOYd0LuLU"
      },
      "source": [
        "- 상위에 toy story와 비슷한 애니메이션이 추천되고 있습니다."
      ]
    },
    {
      "cell_type": "code",
      "metadata": {
        "colab": {
          "base_uri": "https://localhost:8080/"
        },
        "id": "N6v6uAeKLbEQ",
        "outputId": "24f3d4ec-fed0-4824-b912-6834898d7964"
      },
      "source": [
        "# back to the future와 유사한 영화를 찾아보겠습니다.\n",
        "get_similar_movie('Back to the Future')"
      ],
      "execution_count": 36,
      "outputs": [
        {
          "output_type": "execute_result",
          "data": {
            "text/plain": [
              "['Back to the Future',\n",
              " 'Back to the Future Part II',\n",
              " \"Ferris Bueller's Day Off\",\n",
              " 'Cocoon',\n",
              " 'When Harry Met Sally...',\n",
              " 'Bull Durham',\n",
              " 'Back to the Future Part III',\n",
              " 'Big',\n",
              " 'Terminator, The',\n",
              " 'Anna Karenina']"
            ]
          },
          "metadata": {
            "tags": []
          },
          "execution_count": 36
        }
      ]
    },
    {
      "cell_type": "code",
      "metadata": {
        "colab": {
          "base_uri": "https://localhost:8080/"
        },
        "id": "u7ioO36VL_Qm",
        "outputId": "a32fbb46-c73f-4b19-da61-ef115813d6a8"
      },
      "source": [
        "# shawshank redemption 과 유사한 영화를 찾아보겠습니다.\n",
        "get_similar_movie('Shawshank Redemption, The')"
      ],
      "execution_count": 37,
      "outputs": [
        {
          "output_type": "execute_result",
          "data": {
            "text/plain": [
              "['Shawshank Redemption, The',\n",
              " 'Silence of the Lambs, The',\n",
              " 'Pulp Fiction',\n",
              " 'GoodFellas',\n",
              " 'Good Will Hunting',\n",
              " 'Brother Minister: The Assassination of Malcolm X',\n",
              " 'Blood, Guts, Bullets and Octane',\n",
              " 'Abominable Snowman, The',\n",
              " \"Schindler's List\",\n",
              " 'Skipped Parts']"
            ]
          },
          "metadata": {
            "tags": []
          },
          "execution_count": 37
        }
      ]
    },
    {
      "cell_type": "markdown",
      "metadata": {
        "id": "q1deDAHSMZuP"
      },
      "source": [
        "- 범죄와 관련된 영화가 많이 추천된 것 같습니다."
      ]
    },
    {
      "cell_type": "markdown",
      "metadata": {
        "id": "GnZpw-LBTPyl"
      },
      "source": [
        "**내가 좋아할만한 영화 추천**"
      ]
    },
    {
      "cell_type": "code",
      "metadata": {
        "colab": {
          "base_uri": "https://localhost:8080/"
        },
        "id": "5-XtsZPVMVk5",
        "outputId": "fe424caa-06de-42f9-f9dc-60eccde34f54"
      },
      "source": [
        "# user(Minji)에게 영화 20개 추천하기\n",
        "movie_recommended = als_model.recommend(Minji_id, csr_ratings, N=20, filter_already_liked_items=True)\n",
        "[movie_title(i[0]) for i in movie_recommended]"
      ],
      "execution_count": 38,
      "outputs": [
        {
          "output_type": "execute_result",
          "data": {
            "text/plain": [
              "['Toy Story 2',\n",
              " 'Silence of the Lambs, The',\n",
              " '12 Angry Men',\n",
              " 'Indian in the Cupboard, The',\n",
              " 'Groundhog Day',\n",
              " 'Good Will Hunting',\n",
              " 'Dances with Wolves',\n",
              " 'Firm, The',\n",
              " 'Beetlejuice',\n",
              " 'Big',\n",
              " 'Dragonheart',\n",
              " 'Hook',\n",
              " 'Terminator 2: Judgment Day',\n",
              " 'Fargo',\n",
              " 'Dead Man Walking',\n",
              " 'Titanic',\n",
              " 'Hoop Dreams',\n",
              " 'Shakespeare in Love',\n",
              " 'Nutty Professor, The',\n",
              " 'Braveheart']"
            ]
          },
          "metadata": {
            "tags": []
          },
          "execution_count": 38
        }
      ]
    },
    {
      "cell_type": "code",
      "metadata": {
        "id": "EuPSLyo-QxWJ"
      },
      "source": [
        "# 왜 'Good Will Hunting' 영화를 추천해주었을까? rating한 영화의 기여도를 알아보자.\n",
        "id = movie_id('Good Will Hunting')\n",
        "explain = als_model.explain(Minji_id, csr_ratings, itemid=id)\n",
        "explain = [(movie_title(i[0]), i[1]) for i in explain[1]]"
      ],
      "execution_count": 39,
      "outputs": []
    },
    {
      "cell_type": "code",
      "metadata": {
        "colab": {
          "base_uri": "https://localhost:8080/"
        },
        "id": "fVdwNmmcTqPg",
        "outputId": "b88b055e-194d-4f42-a1bc-099b35083c1c"
      },
      "source": [
        "explain"
      ],
      "execution_count": 40,
      "outputs": [
        {
          "output_type": "execute_result",
          "data": {
            "text/plain": [
              "[('Shawshank Redemption, The', 0.09797720532062548),\n",
              " (\"Schindler's List\", 0.029587560622631667),\n",
              " ('Jumanji', 0.026312353231894958),\n",
              " ('Jurassic Park', 0.02478343730045668),\n",
              " ('Back to the Future', 0.0180634674913706),\n",
              " ('Toy Story', -0.006046988911489913)]"
            ]
          },
          "metadata": {
            "tags": []
          },
          "execution_count": 40
        }
      ]
    },
    {
      "cell_type": "code",
      "metadata": {
        "colab": {
          "base_uri": "https://localhost:8080/"
        },
        "id": "pjNNJ2REQ7vS",
        "outputId": "2fb67f15-ae01-4d13-8535-d6ac6b7c7edf"
      },
      "source": [
        "print('가장 기여를 많이 한 영화: {} \\n점수: {}'.format(explain[0][0], explain[0][1]))"
      ],
      "execution_count": 41,
      "outputs": [
        {
          "output_type": "stream",
          "text": [
            "가장 기여를 많이 한 영화: Shawshank Redemption, The \n",
            "점수: 0.09797720532062548\n"
          ],
          "name": "stdout"
        }
      ]
    },
    {
      "cell_type": "markdown",
      "metadata": {
        "id": "H0h-8t-nRtUe"
      },
      "source": [
        "## 4. SVD(Singular Value Decomposition) 알고리즘을 활용한 추천시스템\n",
        "- 추천 시스템의 알고리즘을 구현할 때 surprise 라이브러리 활용\n",
        "- surprise에는 다양한 추천 알고리즘이 구현되어 추천에 활용할 수 있습니다. (basic, k-nn inspired, matrix factorization-based 등등)\n",
        "- 여기서 사용한 것은 SVD 알고리즘으로, \"The famous SVD algorithm, as popularized by Simon Funk during the Netflix Prize. When baselines are not used, this is equivalent to **Probabilistic Matrix Factorization**\"라고 설명하고 있다. 간단하게 표현하면, (user 수*item 수) 행렬을 두 개의 저차원 행렬 곱으로 쪼개는 방식으로 weight를 구하는 알고리즘이다.\n",
        "- https://dschloe.github.io/python/recommendation/recommendation_02/ 이 링크를 참고했습니다.\n",
        "-https://www.kaggle.com/rounakbanik/movie-recommender-systems 이 링크는 다양한 알고리즘에 대해서 확인해볼 수 있었습니다."
      ]
    },
    {
      "cell_type": "code",
      "metadata": {
        "colab": {
          "base_uri": "https://localhost:8080/"
        },
        "id": "G4y_W_ofpYvg",
        "outputId": "651651a0-f577-4a42-c406-cc84ea789308"
      },
      "source": [
        "!pip install surprise"
      ],
      "execution_count": 42,
      "outputs": [
        {
          "output_type": "stream",
          "text": [
            "Collecting surprise\n",
            "  Downloading surprise-0.1-py2.py3-none-any.whl (1.8 kB)\n",
            "Collecting scikit-surprise\n",
            "  Downloading scikit-surprise-1.1.1.tar.gz (11.8 MB)\n",
            "\u001b[K     |████████████████████████████████| 11.8 MB 4.5 MB/s \n",
            "\u001b[?25hRequirement already satisfied: joblib>=0.11 in /usr/local/lib/python3.7/dist-packages (from scikit-surprise->surprise) (1.0.1)\n",
            "Requirement already satisfied: numpy>=1.11.2 in /usr/local/lib/python3.7/dist-packages (from scikit-surprise->surprise) (1.19.5)\n",
            "Requirement already satisfied: scipy>=1.0.0 in /usr/local/lib/python3.7/dist-packages (from scikit-surprise->surprise) (1.4.1)\n",
            "Requirement already satisfied: six>=1.10.0 in /usr/local/lib/python3.7/dist-packages (from scikit-surprise->surprise) (1.15.0)\n",
            "Building wheels for collected packages: scikit-surprise\n",
            "  Building wheel for scikit-surprise (setup.py) ... \u001b[?25l\u001b[?25hdone\n",
            "  Created wheel for scikit-surprise: filename=scikit_surprise-1.1.1-cp37-cp37m-linux_x86_64.whl size=1619441 sha256=1509e65c2b0eaa4abe8f3f4a91eaf4bb46788296b3d8df755f5b768cfe9676eb\n",
            "  Stored in directory: /root/.cache/pip/wheels/76/44/74/b498c42be47b2406bd27994e16c5188e337c657025ab400c1c\n",
            "Successfully built scikit-surprise\n",
            "Installing collected packages: scikit-surprise, surprise\n",
            "Successfully installed scikit-surprise-1.1.1 surprise-0.1\n"
          ],
          "name": "stdout"
        }
      ]
    },
    {
      "cell_type": "code",
      "metadata": {
        "id": "LAZ7D5gqoSls"
      },
      "source": [
        "from surprise import Reader, Dataset, SVD, accuracy\n",
        "from surprise.model_selection import cross_validate\n",
        "from surprise.model_selection import train_test_split\n",
        "\n",
        "# 데이터 변환\n",
        "reader = Reader()\n",
        "data = Dataset.load_from_df(ratings[['user_id', 'movie_id', 'rating']], reader)"
      ],
      "execution_count": 68,
      "outputs": []
    },
    {
      "cell_type": "code",
      "metadata": {
        "colab": {
          "base_uri": "https://localhost:8080/"
        },
        "id": "5hZFv1z_qYdV",
        "outputId": "988dae17-022e-4283-c052-b569b6854196"
      },
      "source": [
        "# The cross_validate() function runs a cross-validation procedure according to the cv argument,\n",
        "# and computes some accuracy measures.\n",
        "svd = SVD()   # svd 알고리즘\n",
        "\n",
        "# 모델 훈련\n",
        "trainset = data.build_full_trainset()\n",
        "svd.fit(trainset)\n",
        "\n",
        "cross_validate(svd, data, measures=['RMSE', 'MAE'], cv=10, verbose=True)"
      ],
      "execution_count": 69,
      "outputs": [
        {
          "output_type": "stream",
          "text": [
            "Evaluating RMSE, MAE of algorithm SVD on 10 split(s).\n",
            "\n",
            "                  Fold 1  Fold 2  Fold 3  Fold 4  Fold 5  Fold 6  Fold 7  Fold 8  Fold 9  Fold 10 Mean    Std     \n",
            "RMSE (testset)    0.6588  0.6582  0.6575  0.6608  0.6566  0.6584  0.6600  0.6607  0.6578  0.6570  0.6586  0.0014  \n",
            "MAE (testset)     0.5441  0.5430  0.5420  0.5452  0.5414  0.5438  0.5449  0.5456  0.5418  0.5429  0.5435  0.0014  \n",
            "Fit time          46.83   47.42   47.28   46.44   46.74   46.43   47.09   46.58   46.15   46.00   46.70   0.45    \n",
            "Test time         1.82    1.32    1.65    1.46    1.21    1.74    1.16    1.69    1.21    1.66    1.49    0.24    \n"
          ],
          "name": "stdout"
        },
        {
          "output_type": "execute_result",
          "data": {
            "text/plain": [
              "{'fit_time': (46.82817196846008,\n",
              "  47.423728942871094,\n",
              "  47.28317856788635,\n",
              "  46.440207958221436,\n",
              "  46.74003195762634,\n",
              "  46.427019119262695,\n",
              "  47.09216547012329,\n",
              "  46.576980113983154,\n",
              "  46.14695167541504,\n",
              "  46.003376483917236),\n",
              " 'test_mae': array([0.54407807, 0.54304515, 0.54200574, 0.54515971, 0.54141061,\n",
              "        0.54384899, 0.54488227, 0.54564214, 0.54176822, 0.54293131]),\n",
              " 'test_rmse': array([0.65880885, 0.65815815, 0.65745625, 0.66075315, 0.65657764,\n",
              "        0.65838305, 0.65997302, 0.66069491, 0.65777591, 0.65702547]),\n",
              " 'test_time': (1.8220486640930176,\n",
              "  1.3190524578094482,\n",
              "  1.6491501331329346,\n",
              "  1.455087661743164,\n",
              "  1.2062575817108154,\n",
              "  1.7390964031219482,\n",
              "  1.1637487411499023,\n",
              "  1.6854276657104492,\n",
              "  1.2050459384918213,\n",
              "  1.6565847396850586)}"
            ]
          },
          "metadata": {
            "tags": []
          },
          "execution_count": 69
        }
      ]
    },
    {
      "cell_type": "markdown",
      "metadata": {
        "id": "j9WaGTaatUqO"
      },
      "source": [
        "훈련 결과, Mean RMSE는 0.6586로 나왔습니다."
      ]
    },
    {
      "cell_type": "code",
      "metadata": {
        "colab": {
          "base_uri": "https://localhost:8080/"
        },
        "id": "erAP-6SMqb6B",
        "outputId": "f8eb9ee4-ad70-4a90-d386-f0f7e20fc336"
      },
      "source": [
        "# 예측\n",
        "svd.predict(6041, 1, 5)"
      ],
      "execution_count": 70,
      "outputs": [
        {
          "output_type": "execute_result",
          "data": {
            "text/plain": [
              "Prediction(uid=6041, iid=1, r_ui=5, est=4.699956199570724, details={'was_impossible': False})"
            ]
          },
          "metadata": {
            "tags": []
          },
          "execution_count": 70
        }
      ]
    },
    {
      "cell_type": "code",
      "metadata": {
        "colab": {
          "base_uri": "https://localhost:8080/"
        },
        "id": "Lqti_CSgyDvt",
        "outputId": "937c2e1a-b66f-4cf8-d960-31bb6018f965"
      },
      "source": [
        "svd.predict(6041, 10)"
      ],
      "execution_count": 71,
      "outputs": [
        {
          "output_type": "execute_result",
          "data": {
            "text/plain": [
              "Prediction(uid=6041, iid=10, r_ui=None, est=4.209945962031295, details={'was_impossible': False})"
            ]
          },
          "metadata": {
            "tags": []
          },
          "execution_count": 71
        }
      ]
    },
    {
      "cell_type": "markdown",
      "metadata": {
        "id": "HucEyrH5232z"
      },
      "source": [
        "- uid는 사용자 아이디, iid는 item 아이디, r_ui 는 실제 평점, est는 예측 평점\n",
        "- 어떤 특정 사용자의 특정 영화에 대한 평점을 예측해주고 있습니다. 예측 값이 높을수록 사용자가 이 영화를 선호할 수 있습니다. 예측값이 높은 영화를 사용자에게 추천해주면 좋을 것 같습니다."
      ]
    },
    {
      "cell_type": "code",
      "metadata": {
        "colab": {
          "base_uri": "https://localhost:8080/"
        },
        "id": "TIfzCTmFvjNX",
        "outputId": "8d6b7d15-1eee-4386-a8a3-6b6753f655c9"
      },
      "source": [
        "# 내가 선호하는 영화 추천\n",
        "uid = 6041    # user id 를 6041(Minji)로 설정\n",
        "predictions={}\n",
        "\n",
        "# 모든 아이템에 대해 uid=6041 예측\n",
        "for i in range(1, movies['movie_id'].max()+1):\n",
        "  predict=svd.predict(uid, i)\n",
        "  predictions[f\"{predict[1]}\"]=predict[3]\n",
        "\n",
        "# estimation 점수 내림차순 정렬\n",
        "predictions = sorted(predictions.items(), reverse=True, key=lambda item:item[1])\n",
        "top_10 = predictions[:10]\n",
        "top_10"
      ],
      "execution_count": 72,
      "outputs": [
        {
          "output_type": "execute_result",
          "data": {
            "text/plain": [
              "[('260', 5),\n",
              " ('318', 5),\n",
              " ('527', 5),\n",
              " ('720', 5),\n",
              " ('2019', 5),\n",
              " ('2762', 5),\n",
              " ('1198', 4.998638342834991),\n",
              " ('670', 4.965494780588219),\n",
              " ('2905', 4.956384949779418),\n",
              " ('953', 4.951828003301749)]"
            ]
          },
          "metadata": {
            "tags": []
          },
          "execution_count": 72
        }
      ]
    },
    {
      "cell_type": "code",
      "metadata": {
        "colab": {
          "base_uri": "https://localhost:8080/"
        },
        "id": "mtfgPTrovyXJ",
        "outputId": "5e869e30-be0d-460e-d60d-1cc985666908"
      },
      "source": [
        "[movie_title(int(i[0])) for i in top_10]"
      ],
      "execution_count": 73,
      "outputs": [
        {
          "output_type": "execute_result",
          "data": {
            "text/plain": [
              "['Star Wars: Episode IV - A New Hope',\n",
              " 'Shawshank Redemption, The',\n",
              " \"Schindler's List\",\n",
              " 'Wallace & Gromit: The Best of Aardman Animation',\n",
              " 'Seven Samurai (The Magnificent Seven) (Shichinin no samurai)',\n",
              " 'Sixth Sense, The',\n",
              " 'Raiders of the Lost Ark',\n",
              " 'World of Apu, The (Apur Sansar)',\n",
              " 'Sanjuro',\n",
              " \"It's a Wonderful Life\"]"
            ]
          },
          "metadata": {
            "tags": []
          },
          "execution_count": 73
        }
      ]
    },
    {
      "cell_type": "markdown",
      "metadata": {
        "id": "ZbrMkq0AnZ-0"
      },
      "source": [
        "- 5점으로 rating한 영화 6개 중 2개가 상위 링크에 있습니다. (쇼생크 탈출, 쉰들러리스트)\n",
        "- 찾아보니까 상위 estimate된 영화들 중에는 일본 사무라이 영화가 있는데 왜 상위에 추천해주었는지 의문입니다."
      ]
    },
    {
      "cell_type": "markdown",
      "metadata": {
        "id": "LMD6BzWa8w0T"
      },
      "source": [
        "## 5. 회고\n",
        "영화, 상품 등을 이용자에게 추천해주는 알고리즘은 실제 적용이 많이 되고 있는 알고리즘이다. 대표적으로는 넷플릭스 같은 ott 플랫폼이 고객들에게 영화를 추천해주는 서비스를 제공한다. 이러한 추천 알고리즘을 어떻게 설계할 수 있을지 오늘 실습에서 배울 수 있었다. 크게 content based recommendation(아이템의 컨텐츠, 특징 등을 활용한 추천)과 collaborative filtering recommendation(이용자와 유사한 다른 이용자로부터 추천)으로 나눌 수 있는데, 이 중 cf 알고리즘을 활용해서 영화를 추천해봤다. 아쉬웠던 것은, 데이터셋이 90년대 영화 위주여서 최근 영화를 추천할 수 없었다는 것이고, 알고리즘의 수학적인 개념이 어려웠다는 것이다. matrix factorizaion 같은 개념과 계산하는 식이 어려웠고, 라이브러리에서 가져와서 구현하다보니 모델의 구조나 내부를 파악하지 못했다.    \n",
        "이번 실습에서는 cf 알고리즘으로 노드에서 배운 alternating least squares와 surprise 라이브러리의 svd 알고리즘을 활용했다. als는 내가 rating한 영화와 비슷한 영화를 꽤 잘 추천해주었다. 그런데 svd 알고리즘은 rating 점수를 예측하는 방식이었는데 예측점수가 높은 영화가 내가 점수를 높게 준 영화와는 관련이 없는 것도 있었다. 넷플릭스 대회에서 SVD 알고리즘이 유명해졌다고 하는데, 지금보다 수학적으로 이해를 더 해보고 다시 알고리즘을 적용해서 보완해야할 것 같다.    \n",
        "실습에서는 어찌됐든 als 알고리즘이 성능이 좋다고 평가된다."
      ]
    }
  ]
}